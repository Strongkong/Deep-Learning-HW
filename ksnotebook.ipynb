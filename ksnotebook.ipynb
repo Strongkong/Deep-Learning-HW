{
  "nbformat": 4,
  "nbformat_minor": 0,
  "metadata": {
    "colab": {
      "name": "ksnotebook.ipynb",
      "version": "0.3.2",
      "provenance": [],
      "collapsed_sections": [],
      "toc_visible": true
    },
    "kernelspec": {
      "display_name": "Python 3",
      "language": "python",
      "name": "python3"
    }
  },
  "cells": [
    {
      "metadata": {
        "id": "X5yRk3LJ8nZN",
        "colab_type": "text"
      },
      "cell_type": "markdown",
      "source": [
        "# Kickstarter project"
      ]
    },
    {
      "metadata": {
        "id": "E7oYiGdT8nZP",
        "colab_type": "code",
        "colab": {}
      },
      "cell_type": "code",
      "source": [
        "import numpy as np\n",
        "import pandas as pd\n",
        "%matplotlib inline\n",
        "import matplotlib.pyplot as plt"
      ],
      "execution_count": 0,
      "outputs": []
    },
    {
      "metadata": {
        "id": "DSb9IgeK82zx",
        "colab_type": "text"
      },
      "cell_type": "markdown",
      "source": [
        "## Only run if on Google Colab"
      ]
    },
    {
      "metadata": {
        "id": "oD-08RPR9ATU",
        "colab_type": "code",
        "colab": {
          "resources": {
            "http://localhost:8080/nbextensions/google.colab/files.js": {
              "data": "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",
              "ok": true,
              "headers": [
                [
                  "content-type",
                  "application/javascript"
                ]
              ],
              "status": 200,
              "status_text": ""
            }
          },
          "base_uri": "https://localhost:8080/",
          "height": 55
        },
        "outputId": "2c3c6039-52fd-41c1-de8b-34f5b77a4666"
      },
      "cell_type": "code",
      "source": [
        "#from google.colab import drive\n",
        "#drive.mount('/content/drive')\n",
        "\n",
        "#from google.colab import files\n",
        "#files.upload()"
      ],
      "execution_count": 67,
      "outputs": [
        {
          "output_type": "display_data",
          "data": {
            "text/html": [
              "\n",
              "     <input type=\"file\" id=\"files-372e55cd-6bfb-4490-8b32-df1fe151e58d\" name=\"files[]\" multiple disabled />\n",
              "     <output id=\"result-372e55cd-6bfb-4490-8b32-df1fe151e58d\">\n",
              "      Upload widget is only available when the cell has been executed in the\n",
              "      current browser session. Please rerun this cell to enable.\n",
              "      </output>\n",
              "      <script src=\"/nbextensions/google.colab/files.js\"></script> "
            ],
            "text/plain": [
              "<IPython.core.display.HTML object>"
            ]
          },
          "metadata": {
            "tags": []
          }
        },
        {
          "output_type": "execute_result",
          "data": {
            "text/plain": [
              "{}"
            ]
          },
          "metadata": {
            "tags": []
          },
          "execution_count": 67
        }
      ]
    },
    {
      "metadata": {
        "id": "kS89oWau8cXc",
        "colab_type": "text"
      },
      "cell_type": "markdown",
      "source": [
        "## Try 2.0 -> Using github clone, might be faster"
      ]
    },
    {
      "metadata": {
        "id": "V-B4fefI8ish",
        "colab_type": "code",
        "colab": {
          "base_uri": "https://localhost:8080/",
          "height": 34
        },
        "outputId": "7368b9f2-63f5-4aaa-8b14-a5b7fcfc0ff1"
      },
      "cell_type": "code",
      "source": [
        "!git clone https://github.com/Strongkong/cleaned_kickstarted_dataset"
      ],
      "execution_count": 68,
      "outputs": [
        {
          "output_type": "stream",
          "text": [
            "fatal: destination path 'cleaned_kickstarted_dataset' already exists and is not an empty directory.\n"
          ],
          "name": "stdout"
        }
      ]
    },
    {
      "metadata": {
        "id": "qPajLmYW8nSo",
        "colab_type": "code",
        "colab": {}
      },
      "cell_type": "code",
      "source": [
        "folder = \"./cleaned_kickstarted_dataset/\"\n",
        "filename = \"test_joined.csv\"\n",
        "fullpath = folder + filename"
      ],
      "execution_count": 0,
      "outputs": []
    },
    {
      "metadata": {
        "id": "k8x91cKU8nZS",
        "colab_type": "text"
      },
      "cell_type": "markdown",
      "source": [
        "## Load csv file"
      ]
    },
    {
      "metadata": {
        "id": "UL8JcRzM8nZT",
        "colab_type": "code",
        "colab": {}
      },
      "cell_type": "code",
      "source": [
        "df = pd.read_csv(fullpath, encoding='utf-8', sep=',')"
      ],
      "execution_count": 0,
      "outputs": []
    },
    {
      "metadata": {
        "id": "QRNurOT88nZV",
        "colab_type": "text"
      },
      "cell_type": "markdown",
      "source": [
        "## Remove whitespaces from header names"
      ]
    },
    {
      "metadata": {
        "id": "zMCu1kr38nZW",
        "colab_type": "code",
        "colab": {}
      },
      "cell_type": "code",
      "source": [
        "df = df.rename(columns=lambda x: x.strip())\n"
      ],
      "execution_count": 0,
      "outputs": []
    },
    {
      "metadata": {
        "id": "3w7mCo8d8nZZ",
        "colab_type": "text"
      },
      "cell_type": "markdown",
      "source": [
        "## Peak at head"
      ]
    },
    {
      "metadata": {
        "colab_type": "code",
        "colab": {
          "base_uri": "https://localhost:8080/",
          "height": 34
        },
        "id": "-biX_6SbwfVF",
        "outputId": "7ac8e895-9782-482f-f88b-0e3baa94f796"
      },
      "cell_type": "code",
      "source": [
        "print (df.blurb[3])"
      ],
      "execution_count": 72,
      "outputs": [
        {
          "output_type": "stream",
          "text": [
            "Für die Finanzierung der Veröffentlichung meiner Masterarbeit, die dann als eigenständiges Buch bei Turia&Kant erscheint.\n"
          ],
          "name": "stdout"
        }
      ]
    },
    {
      "metadata": {
        "id": "c9cyrQ908nZZ",
        "colab_type": "code",
        "colab": {
          "base_uri": "https://localhost:8080/",
          "height": 564
        },
        "outputId": "b3808a1e-4894-443e-9d26-304f1de54fd0"
      },
      "cell_type": "code",
      "source": [
        "df.head()"
      ],
      "execution_count": 73,
      "outputs": [
        {
          "output_type": "execute_result",
          "data": {
            "text/html": [
              "<div>\n",
              "<style scoped>\n",
              "    .dataframe tbody tr th:only-of-type {\n",
              "        vertical-align: middle;\n",
              "    }\n",
              "\n",
              "    .dataframe tbody tr th {\n",
              "        vertical-align: top;\n",
              "    }\n",
              "\n",
              "    .dataframe thead th {\n",
              "        text-align: right;\n",
              "    }\n",
              "</style>\n",
              "<table border=\"1\" class=\"dataframe\">\n",
              "  <thead>\n",
              "    <tr style=\"text-align: right;\">\n",
              "      <th></th>\n",
              "      <th>blurb</th>\n",
              "      <th>spotlight</th>\n",
              "      <th>staff_pick</th>\n",
              "      <th>ID</th>\n",
              "      <th>name</th>\n",
              "      <th>category</th>\n",
              "      <th>main_category</th>\n",
              "      <th>currency</th>\n",
              "      <th>deadline</th>\n",
              "      <th>goal</th>\n",
              "      <th>launched</th>\n",
              "      <th>pledged</th>\n",
              "      <th>state</th>\n",
              "      <th>backers</th>\n",
              "      <th>country</th>\n",
              "      <th>usd pledged</th>\n",
              "      <th>usd_pledged_real</th>\n",
              "      <th>usd_goal_real</th>\n",
              "    </tr>\n",
              "  </thead>\n",
              "  <tbody>\n",
              "    <tr>\n",
              "      <th>0</th>\n",
              "      <td>If you've ever been disheartened by how some p...</td>\n",
              "      <td>True</td>\n",
              "      <td>False</td>\n",
              "      <td>62545913</td>\n",
              "      <td>\"How We've Changed Jesus\" - Neal Samudre's Deb...</td>\n",
              "      <td>Nonfiction</td>\n",
              "      <td>Publishing</td>\n",
              "      <td>USD</td>\n",
              "      <td>2013-04-12</td>\n",
              "      <td>3500.0</td>\n",
              "      <td>2013-04-04 22:46:00</td>\n",
              "      <td>3651.0</td>\n",
              "      <td>successful</td>\n",
              "      <td>80</td>\n",
              "      <td>US</td>\n",
              "      <td>3651.00</td>\n",
              "      <td>3651.00</td>\n",
              "      <td>3500.00</td>\n",
              "    </tr>\n",
              "    <tr>\n",
              "      <th>1</th>\n",
              "      <td>This book will show you how to attract your id...</td>\n",
              "      <td>True</td>\n",
              "      <td>False</td>\n",
              "      <td>2031730466</td>\n",
              "      <td>Your Client Vision (Book) - How to sell withou...</td>\n",
              "      <td>Nonfiction</td>\n",
              "      <td>Publishing</td>\n",
              "      <td>GBP</td>\n",
              "      <td>2017-01-16</td>\n",
              "      <td>175.0</td>\n",
              "      <td>2016-12-18 20:09:14</td>\n",
              "      <td>271.0</td>\n",
              "      <td>successful</td>\n",
              "      <td>31</td>\n",
              "      <td>GB</td>\n",
              "      <td>94.80</td>\n",
              "      <td>332.73</td>\n",
              "      <td>214.86</td>\n",
              "    </tr>\n",
              "    <tr>\n",
              "      <th>2</th>\n",
              "      <td>I told my first lie when I was six and never s...</td>\n",
              "      <td>True</td>\n",
              "      <td>False</td>\n",
              "      <td>614137516</td>\n",
              "      <td>The Longest Lie I Ever Told</td>\n",
              "      <td>Nonfiction</td>\n",
              "      <td>Publishing</td>\n",
              "      <td>CAD</td>\n",
              "      <td>2016-11-08</td>\n",
              "      <td>3000.0</td>\n",
              "      <td>2016-10-09 18:32:56</td>\n",
              "      <td>3600.0</td>\n",
              "      <td>successful</td>\n",
              "      <td>74</td>\n",
              "      <td>CA</td>\n",
              "      <td>440.30</td>\n",
              "      <td>2668.45</td>\n",
              "      <td>2223.70</td>\n",
              "    </tr>\n",
              "    <tr>\n",
              "      <th>3</th>\n",
              "      <td>Für die Finanzierung der Veröffentlichung mein...</td>\n",
              "      <td>True</td>\n",
              "      <td>False</td>\n",
              "      <td>1164271753</td>\n",
              "      <td>Spurenlesen – Zur Philosophie der Human-Animal...</td>\n",
              "      <td>Nonfiction</td>\n",
              "      <td>Publishing</td>\n",
              "      <td>EUR</td>\n",
              "      <td>2016-08-14</td>\n",
              "      <td>1000.0</td>\n",
              "      <td>2016-07-15 14:17:36</td>\n",
              "      <td>1080.0</td>\n",
              "      <td>successful</td>\n",
              "      <td>12</td>\n",
              "      <td>DE</td>\n",
              "      <td>222.27</td>\n",
              "      <td>1223.21</td>\n",
              "      <td>1132.61</td>\n",
              "    </tr>\n",
              "    <tr>\n",
              "      <th>4</th>\n",
              "      <td>Six teens (age 13-15) are hiking VT's 272-mile...</td>\n",
              "      <td>True</td>\n",
              "      <td>False</td>\n",
              "      <td>384486589</td>\n",
              "      <td>Teens Hike VT's Long Trail and Write How-To an...</td>\n",
              "      <td>Nonfiction</td>\n",
              "      <td>Publishing</td>\n",
              "      <td>USD</td>\n",
              "      <td>2014-06-01</td>\n",
              "      <td>3700.0</td>\n",
              "      <td>2014-04-25 02:24:24</td>\n",
              "      <td>4051.2</td>\n",
              "      <td>successful</td>\n",
              "      <td>44</td>\n",
              "      <td>US</td>\n",
              "      <td>4051.20</td>\n",
              "      <td>4051.20</td>\n",
              "      <td>3700.00</td>\n",
              "    </tr>\n",
              "  </tbody>\n",
              "</table>\n",
              "</div>"
            ],
            "text/plain": [
              "                                               blurb  spotlight  staff_pick  \\\n",
              "0  If you've ever been disheartened by how some p...       True       False   \n",
              "1  This book will show you how to attract your id...       True       False   \n",
              "2  I told my first lie when I was six and never s...       True       False   \n",
              "3  Für die Finanzierung der Veröffentlichung mein...       True       False   \n",
              "4  Six teens (age 13-15) are hiking VT's 272-mile...       True       False   \n",
              "\n",
              "           ID                                               name    category  \\\n",
              "0    62545913  \"How We've Changed Jesus\" - Neal Samudre's Deb...  Nonfiction   \n",
              "1  2031730466  Your Client Vision (Book) - How to sell withou...  Nonfiction   \n",
              "2   614137516                        The Longest Lie I Ever Told  Nonfiction   \n",
              "3  1164271753  Spurenlesen – Zur Philosophie der Human-Animal...  Nonfiction   \n",
              "4   384486589  Teens Hike VT's Long Trail and Write How-To an...  Nonfiction   \n",
              "\n",
              "  main_category currency    deadline    goal             launched  pledged  \\\n",
              "0    Publishing      USD  2013-04-12  3500.0  2013-04-04 22:46:00   3651.0   \n",
              "1    Publishing      GBP  2017-01-16   175.0  2016-12-18 20:09:14    271.0   \n",
              "2    Publishing      CAD  2016-11-08  3000.0  2016-10-09 18:32:56   3600.0   \n",
              "3    Publishing      EUR  2016-08-14  1000.0  2016-07-15 14:17:36   1080.0   \n",
              "4    Publishing      USD  2014-06-01  3700.0  2014-04-25 02:24:24   4051.2   \n",
              "\n",
              "        state  backers country  usd pledged  usd_pledged_real  usd_goal_real  \n",
              "0  successful       80      US      3651.00           3651.00        3500.00  \n",
              "1  successful       31      GB        94.80            332.73         214.86  \n",
              "2  successful       74      CA       440.30           2668.45        2223.70  \n",
              "3  successful       12      DE       222.27           1223.21        1132.61  \n",
              "4  successful       44      US      4051.20           4051.20        3700.00  "
            ]
          },
          "metadata": {
            "tags": []
          },
          "execution_count": 73
        }
      ]
    },
    {
      "metadata": {
        "id": "Bl-ma1O78nZg",
        "colab_type": "text"
      },
      "cell_type": "markdown",
      "source": [
        "## Main categorical features"
      ]
    },
    {
      "metadata": {
        "id": "CvF2Gjh28nZg",
        "colab_type": "text"
      },
      "cell_type": "markdown",
      "source": [
        "### Categories"
      ]
    },
    {
      "metadata": {
        "id": "diJTk7eL8nZh",
        "colab_type": "code",
        "colab": {
          "base_uri": "https://localhost:8080/",
          "height": 510
        },
        "outputId": "9a82b65a-ce02-44bd-e865-226df1314bb4"
      },
      "cell_type": "code",
      "source": [
        "categories = df.category.unique()\n",
        "print(categories)"
      ],
      "execution_count": 74,
      "outputs": [
        {
          "output_type": "stream",
          "text": [
            "['Nonfiction' 'Publishing' 'Mixed Media' 'Web' 'People' 'Comic Books'\n",
            " 'Comedy' 'Punk' 'Technology' 'Theater' 'Jazz' 'Software' 'Anthologies'\n",
            " 'Science Fiction' 'Illustration' 'Gadgets' 'Product Design' 'Farms'\n",
            " 'Workshops' 'Footwear' 'Weaving' 'Sculpture' 'Experimental' 'Pet Fashion'\n",
            " 'Art' 'Graphic Design' 'Civic Design' 'Tabletop Games' 'Calendars'\n",
            " 'Design' 'Electronic Music' 'Installations' 'Family' 'Festivals'\n",
            " 'Conceptual Art' 'Performance Art' 'Glass' 'Painting' 'Plays' 'Jewelry'\n",
            " 'Letterpress' 'Public Art' 'Accessories' 'DIY' 'Small Batch'\n",
            " 'Video Games' 'Fantasy' 'Music' 'Comics' 'Digital Art' 'Immersive'\n",
            " 'Hardware' 'Radio & Podcasts' \"Children's Books\" 'Flight' 'Fine Art'\n",
            " 'Musical' 'Rock' 'Apparel' 'Nature' 'Games' 'Crafts' 'Robots'\n",
            " 'Stationery' 'DIY Electronics' 'Space Exploration' 'Apps'\n",
            " 'Movie Theaters' 'Woodworking' 'Printing' 'Knitting' 'Crochet'\n",
            " 'Camera Equipment' 'Wearables' 'Makerspaces' 'Pottery' 'Photography'\n",
            " 'Fashion' 'Candles' 'Embroidery' 'Photobooks' 'Art Books' '3D Printing'\n",
            " 'Sound' 'Quilts' 'Puzzles' 'Country & Folk' 'Drama' 'Academic'\n",
            " 'Classical Music' 'Drinks' 'Playing Cards' 'Periodicals' 'Graphic Novels'\n",
            " 'Narrative Film' 'Thrillers' 'Literary Journals' 'Childrenswear' 'Audio'\n",
            " 'Webcomics' 'Events' 'Print' 'Poetry' 'Spaces' 'Blues'\n",
            " 'Interactive Design' 'Fiction' 'Romance' 'Animals' 'Places' 'Chiptune'\n",
            " 'Shorts' 'Horror' 'Couture' 'Film & Video' 'Food' 'Typography'\n",
            " 'Architecture' 'Fabrication Tools' 'Webseries' 'Hip-Hop' 'Performances'\n",
            " 'Dance' 'Action' 'Young Adult' 'Gaming Hardware' 'Animation'\n",
            " 'Music Videos' 'Pop' 'Indie Rock' 'Television' 'Documentary' 'Kids'\n",
            " \"Farmer's Markets\" 'Cookbooks' 'Residencies' 'Textiles' 'World Music'\n",
            " 'Literary Spaces' 'Ready-to-wear' 'Zines' 'Faith' 'Video' 'Vegan'\n",
            " 'Food Trucks' 'Bacon' 'Metal' 'R&B' 'Community Gardens' 'Restaurants'\n",
            " 'Photo' 'Journalism' 'Live Games' 'Translations' 'Video Art' 'Latin'\n",
            " 'Mobile Games' 'Ceramics' 'Taxidermy']\n"
          ],
          "name": "stdout"
        }
      ]
    },
    {
      "metadata": {
        "id": "d3D3pfju8nZk",
        "colab_type": "text"
      },
      "cell_type": "markdown",
      "source": [
        "### Main categories"
      ]
    },
    {
      "metadata": {
        "id": "UlJQUbeG8nZl",
        "colab_type": "code",
        "colab": {
          "base_uri": "https://localhost:8080/",
          "height": 68
        },
        "outputId": "19551829-df28-455d-8a81-649633247c74"
      },
      "cell_type": "code",
      "source": [
        "main_categories = df.main_category.unique()\n",
        "print(main_categories)"
      ],
      "execution_count": 75,
      "outputs": [
        {
          "output_type": "stream",
          "text": [
            "['Publishing' 'Art' 'Journalism' 'Photography' 'Comics' 'Film & Video'\n",
            " 'Music' 'Technology' 'Theater' 'Design' 'Food' 'Dance' 'Fashion' 'Crafts'\n",
            " 'Games']\n"
          ],
          "name": "stdout"
        }
      ]
    },
    {
      "metadata": {
        "id": "68EH_5tl8nZp",
        "colab_type": "text"
      },
      "cell_type": "markdown",
      "source": [
        "### Currencies"
      ]
    },
    {
      "metadata": {
        "id": "tz-yLtK28nZq",
        "colab_type": "code",
        "colab": {
          "base_uri": "https://localhost:8080/",
          "height": 51
        },
        "outputId": "4f91995a-57be-40eb-b505-3b991cb0b5cb"
      },
      "cell_type": "code",
      "source": [
        "currencies = df.currency.unique()\n",
        "print(currencies)"
      ],
      "execution_count": 76,
      "outputs": [
        {
          "output_type": "stream",
          "text": [
            "['USD' 'GBP' 'CAD' 'EUR' 'AUD' 'NZD' 'SEK' 'NOK' 'DKK' 'MXN' 'HKD' 'SGD'\n",
            " 'CHF' 'JPY']\n"
          ],
          "name": "stdout"
        }
      ]
    },
    {
      "metadata": {
        "id": "NrAfcOjY8nZu",
        "colab_type": "text"
      },
      "cell_type": "markdown",
      "source": [
        "### States"
      ]
    },
    {
      "metadata": {
        "id": "ksWG1Pb68nZu",
        "colab_type": "code",
        "colab": {
          "base_uri": "https://localhost:8080/",
          "height": 34
        },
        "outputId": "35df3f19-5e91-4d70-d428-237eab60deaf"
      },
      "cell_type": "code",
      "source": [
        "states = df.state.unique()\n",
        "print(states)"
      ],
      "execution_count": 77,
      "outputs": [
        {
          "output_type": "stream",
          "text": [
            "['successful' 'live' 'failed' 'canceled' 'suspended']\n"
          ],
          "name": "stdout"
        }
      ]
    },
    {
      "metadata": {
        "id": "LrOHz__x8nZx",
        "colab_type": "text"
      },
      "cell_type": "markdown",
      "source": [
        "### Country"
      ]
    },
    {
      "metadata": {
        "id": "8018H5cp8nZy",
        "colab_type": "code",
        "colab": {
          "base_uri": "https://localhost:8080/",
          "height": 51
        },
        "outputId": "b87e88b5-0a29-473c-faec-c62c064ddf94"
      },
      "cell_type": "code",
      "source": [
        "countries = df.country.unique()\n",
        "print(countries)"
      ],
      "execution_count": 78,
      "outputs": [
        {
          "output_type": "stream",
          "text": [
            "['US' 'GB' 'CA' 'DE' 'AU' 'BE' 'FR' 'ES' 'NZ' 'SE' 'LU' 'NL' 'NO' 'AT'\n",
            " 'DK' 'MX' 'IE' 'IT' 'HK' 'SG' 'CH' 'JP']\n"
          ],
          "name": "stdout"
        }
      ]
    },
    {
      "metadata": {
        "id": "XCGEBG8i8nZ3",
        "colab_type": "text"
      },
      "cell_type": "markdown",
      "source": [
        "## Data visualization"
      ]
    },
    {
      "metadata": {
        "id": "TURL-x388nZ5",
        "colab_type": "text"
      },
      "cell_type": "markdown",
      "source": [
        "### Categorical features"
      ]
    },
    {
      "metadata": {
        "id": "b9q-Vcwk8nZ7",
        "colab_type": "code",
        "colab": {}
      },
      "cell_type": "code",
      "source": [
        "categorical_features = ['category', 'main_category', 'state', 'country', 'currency']\n",
        "from copy import deepcopy\n",
        "data = deepcopy(df)\n",
        "n_items = len(data)"
      ],
      "execution_count": 0,
      "outputs": []
    },
    {
      "metadata": {
        "id": "MplKhVX_8nZ_",
        "colab_type": "text"
      },
      "cell_type": "markdown",
      "source": [
        "### COMMENTED OUT Only display common ones (source: laboratory 1)"
      ]
    },
    {
      "metadata": {
        "id": "rbubHLlx8naA",
        "colab_type": "text"
      },
      "cell_type": "markdown",
      "source": [
        "index_ = 1\n",
        "\n",
        "plt.subplots_adjust(hspace=3.5)\n",
        "for feat in categorical_features:\n",
        "  fig = plt.figure(figsize=(11,12), dpi=100)\n",
        "  ax = fig.add_subplot(1,1,1)\n",
        "  plt.subplots_adjust(hspace=0.5)\n",
        "  uniques = data[feat].nunique()\n",
        "  print(\"Processing {}. Unique count: {}.\".format(feat, uniques))\n",
        "  if uniques < 160:\n",
        "    print(data[feat].unique())\n",
        "    for feat_value in data[feat].unique():\n",
        "      if (len(data[data[feat]==feat_value])) / n_items < 0.015:\n",
        "        print(\"Adding {} category to OTHER...\".format(feat_value))\n",
        "        data[feat] = data[feat].apply(lambda x: \"OTHER\" if x==feat_value else x, 1)\n",
        "  counts = data.groupby(feat).count()\n",
        "  plt.subplot(len(categorical_features), 1, index_)\n",
        "  index_ += 1\n",
        "  counts.iloc[:,0].plot(kind='bar', ax=ax, figsize=(11,12), title='feat', grid=True)\n",
        "  plt.grid(b=True, which='major', color='b', linestyle='--', axis='y')\n",
        "  plt.show()\n",
        "  print(type(counts.iloc[:,0]))\n",
        "plt.show()"
      ]
    },
    {
      "metadata": {
        "id": "fg1uICVb8naF",
        "colab_type": "text"
      },
      "cell_type": "markdown",
      "source": [
        "## Feature Engineering"
      ]
    },
    {
      "metadata": {
        "id": "nRmON66l8naG",
        "colab_type": "code",
        "colab": {}
      },
      "cell_type": "code",
      "source": [
        "from sklearn.preprocessing import LabelEncoder"
      ],
      "execution_count": 0,
      "outputs": []
    },
    {
      "metadata": {
        "id": "nkpH6lBO8naI",
        "colab_type": "code",
        "colab": {}
      },
      "cell_type": "code",
      "source": [
        "categories_le = LabelEncoder()\n",
        "df.category = categories_le.fit_transform(df.category)\n",
        "\n",
        "\n",
        "maincategories_le = LabelEncoder()\n",
        "df.main_category = maincategories_le.fit_transform(df.main_category)\n",
        "\n",
        "\n",
        "state_le = LabelEncoder()\n",
        "df.state = state_le.fit_transform(df.state)\n",
        "\n",
        "\n",
        "country_le = LabelEncoder()\n",
        "df.country = country_le.fit_transform(df.country)\n",
        "\n",
        "\n",
        "currency_le = LabelEncoder()\n",
        "df.currency = currency_le.fit_transform(df.currency)\n"
      ],
      "execution_count": 0,
      "outputs": []
    },
    {
      "metadata": {
        "id": "upBMQLtWKcyl",
        "colab_type": "text"
      },
      "cell_type": "markdown",
      "source": [
        "### Transform / Inverse transform test"
      ]
    },
    {
      "metadata": {
        "id": "FuJIHMEF8naM",
        "colab_type": "code",
        "colab": {
          "base_uri": "https://localhost:8080/",
          "height": 34
        },
        "outputId": "33f2fcc8-ca49-4b17-9cfb-a805536a5630"
      },
      "cell_type": "code",
      "source": [
        "currency_le.transform(['CHF'])"
      ],
      "execution_count": 82,
      "outputs": [
        {
          "output_type": "execute_result",
          "data": {
            "text/plain": [
              "array([2])"
            ]
          },
          "metadata": {
            "tags": []
          },
          "execution_count": 82
        }
      ]
    },
    {
      "metadata": {
        "id": "pitL3Le1kfHV",
        "colab_type": "code",
        "colab": {
          "base_uri": "https://localhost:8080/",
          "height": 88
        },
        "outputId": "5b59ebab-26aa-4efa-9471-bd91531916d9"
      },
      "cell_type": "code",
      "source": [
        "currency_le.inverse_transform([1])"
      ],
      "execution_count": 83,
      "outputs": [
        {
          "output_type": "stream",
          "text": [
            "/usr/local/lib/python3.6/dist-packages/sklearn/preprocessing/label.py:151: DeprecationWarning: The truth value of an empty array is ambiguous. Returning False, but in future this will result in an error. Use `array.size > 0` to check that an array is not empty.\n",
            "  if diff:\n"
          ],
          "name": "stderr"
        },
        {
          "output_type": "execute_result",
          "data": {
            "text/plain": [
              "array(['CAD'], dtype=object)"
            ]
          },
          "metadata": {
            "tags": []
          },
          "execution_count": 83
        }
      ]
    },
    {
      "metadata": {
        "id": "s37ypzryP_i2",
        "colab_type": "text"
      },
      "cell_type": "markdown",
      "source": [
        "### Drop ID, we dont need it now"
      ]
    },
    {
      "metadata": {
        "id": "VSjXonqH8naU",
        "colab_type": "code",
        "colab": {}
      },
      "cell_type": "code",
      "source": [
        "df = df.drop('ID', axis=1)"
      ],
      "execution_count": 0,
      "outputs": []
    },
    {
      "metadata": {
        "id": "QpylykIeMomF",
        "colab_type": "code",
        "colab": {
          "base_uri": "https://localhost:8080/",
          "height": 564
        },
        "outputId": "143f8dc8-f7bd-47c6-c789-b1e5711c234b"
      },
      "cell_type": "code",
      "source": [
        "df.head()"
      ],
      "execution_count": 85,
      "outputs": [
        {
          "output_type": "execute_result",
          "data": {
            "text/html": [
              "<div>\n",
              "<style scoped>\n",
              "    .dataframe tbody tr th:only-of-type {\n",
              "        vertical-align: middle;\n",
              "    }\n",
              "\n",
              "    .dataframe tbody tr th {\n",
              "        vertical-align: top;\n",
              "    }\n",
              "\n",
              "    .dataframe thead th {\n",
              "        text-align: right;\n",
              "    }\n",
              "</style>\n",
              "<table border=\"1\" class=\"dataframe\">\n",
              "  <thead>\n",
              "    <tr style=\"text-align: right;\">\n",
              "      <th></th>\n",
              "      <th>blurb</th>\n",
              "      <th>spotlight</th>\n",
              "      <th>staff_pick</th>\n",
              "      <th>name</th>\n",
              "      <th>category</th>\n",
              "      <th>main_category</th>\n",
              "      <th>currency</th>\n",
              "      <th>deadline</th>\n",
              "      <th>goal</th>\n",
              "      <th>launched</th>\n",
              "      <th>pledged</th>\n",
              "      <th>state</th>\n",
              "      <th>backers</th>\n",
              "      <th>country</th>\n",
              "      <th>usd pledged</th>\n",
              "      <th>usd_pledged_real</th>\n",
              "      <th>usd_goal_real</th>\n",
              "    </tr>\n",
              "  </thead>\n",
              "  <tbody>\n",
              "    <tr>\n",
              "      <th>0</th>\n",
              "      <td>If you've ever been disheartened by how some p...</td>\n",
              "      <td>True</td>\n",
              "      <td>False</td>\n",
              "      <td>\"How We've Changed Jesus\" - Neal Samudre's Deb...</td>\n",
              "      <td>95</td>\n",
              "      <td>12</td>\n",
              "      <td>13</td>\n",
              "      <td>2013-04-12</td>\n",
              "      <td>3500.0</td>\n",
              "      <td>2013-04-04 22:46:00</td>\n",
              "      <td>3651.0</td>\n",
              "      <td>3</td>\n",
              "      <td>80</td>\n",
              "      <td>21</td>\n",
              "      <td>3651.00</td>\n",
              "      <td>3651.00</td>\n",
              "      <td>3500.00</td>\n",
              "    </tr>\n",
              "    <tr>\n",
              "      <th>1</th>\n",
              "      <td>This book will show you how to attract your id...</td>\n",
              "      <td>True</td>\n",
              "      <td>False</td>\n",
              "      <td>Your Client Vision (Book) - How to sell withou...</td>\n",
              "      <td>95</td>\n",
              "      <td>12</td>\n",
              "      <td>5</td>\n",
              "      <td>2017-01-16</td>\n",
              "      <td>175.0</td>\n",
              "      <td>2016-12-18 20:09:14</td>\n",
              "      <td>271.0</td>\n",
              "      <td>3</td>\n",
              "      <td>31</td>\n",
              "      <td>9</td>\n",
              "      <td>94.80</td>\n",
              "      <td>332.73</td>\n",
              "      <td>214.86</td>\n",
              "    </tr>\n",
              "    <tr>\n",
              "      <th>2</th>\n",
              "      <td>I told my first lie when I was six and never s...</td>\n",
              "      <td>True</td>\n",
              "      <td>False</td>\n",
              "      <td>The Longest Lie I Ever Told</td>\n",
              "      <td>95</td>\n",
              "      <td>12</td>\n",
              "      <td>1</td>\n",
              "      <td>2016-11-08</td>\n",
              "      <td>3000.0</td>\n",
              "      <td>2016-10-09 18:32:56</td>\n",
              "      <td>3600.0</td>\n",
              "      <td>3</td>\n",
              "      <td>74</td>\n",
              "      <td>3</td>\n",
              "      <td>440.30</td>\n",
              "      <td>2668.45</td>\n",
              "      <td>2223.70</td>\n",
              "    </tr>\n",
              "    <tr>\n",
              "      <th>3</th>\n",
              "      <td>Für die Finanzierung der Veröffentlichung mein...</td>\n",
              "      <td>True</td>\n",
              "      <td>False</td>\n",
              "      <td>Spurenlesen – Zur Philosophie der Human-Animal...</td>\n",
              "      <td>95</td>\n",
              "      <td>12</td>\n",
              "      <td>4</td>\n",
              "      <td>2016-08-14</td>\n",
              "      <td>1000.0</td>\n",
              "      <td>2016-07-15 14:17:36</td>\n",
              "      <td>1080.0</td>\n",
              "      <td>3</td>\n",
              "      <td>12</td>\n",
              "      <td>5</td>\n",
              "      <td>222.27</td>\n",
              "      <td>1223.21</td>\n",
              "      <td>1132.61</td>\n",
              "    </tr>\n",
              "    <tr>\n",
              "      <th>4</th>\n",
              "      <td>Six teens (age 13-15) are hiking VT's 272-mile...</td>\n",
              "      <td>True</td>\n",
              "      <td>False</td>\n",
              "      <td>Teens Hike VT's Long Trail and Write How-To an...</td>\n",
              "      <td>95</td>\n",
              "      <td>12</td>\n",
              "      <td>13</td>\n",
              "      <td>2014-06-01</td>\n",
              "      <td>3700.0</td>\n",
              "      <td>2014-04-25 02:24:24</td>\n",
              "      <td>4051.2</td>\n",
              "      <td>3</td>\n",
              "      <td>44</td>\n",
              "      <td>21</td>\n",
              "      <td>4051.20</td>\n",
              "      <td>4051.20</td>\n",
              "      <td>3700.00</td>\n",
              "    </tr>\n",
              "  </tbody>\n",
              "</table>\n",
              "</div>"
            ],
            "text/plain": [
              "                                               blurb  spotlight  staff_pick  \\\n",
              "0  If you've ever been disheartened by how some p...       True       False   \n",
              "1  This book will show you how to attract your id...       True       False   \n",
              "2  I told my first lie when I was six and never s...       True       False   \n",
              "3  Für die Finanzierung der Veröffentlichung mein...       True       False   \n",
              "4  Six teens (age 13-15) are hiking VT's 272-mile...       True       False   \n",
              "\n",
              "                                                name  category  main_category  \\\n",
              "0  \"How We've Changed Jesus\" - Neal Samudre's Deb...        95             12   \n",
              "1  Your Client Vision (Book) - How to sell withou...        95             12   \n",
              "2                        The Longest Lie I Ever Told        95             12   \n",
              "3  Spurenlesen – Zur Philosophie der Human-Animal...        95             12   \n",
              "4  Teens Hike VT's Long Trail and Write How-To an...        95             12   \n",
              "\n",
              "   currency    deadline    goal             launched  pledged  state  backers  \\\n",
              "0        13  2013-04-12  3500.0  2013-04-04 22:46:00   3651.0      3       80   \n",
              "1         5  2017-01-16   175.0  2016-12-18 20:09:14    271.0      3       31   \n",
              "2         1  2016-11-08  3000.0  2016-10-09 18:32:56   3600.0      3       74   \n",
              "3         4  2016-08-14  1000.0  2016-07-15 14:17:36   1080.0      3       12   \n",
              "4        13  2014-06-01  3700.0  2014-04-25 02:24:24   4051.2      3       44   \n",
              "\n",
              "   country  usd pledged  usd_pledged_real  usd_goal_real  \n",
              "0       21      3651.00           3651.00        3500.00  \n",
              "1        9        94.80            332.73         214.86  \n",
              "2        3       440.30           2668.45        2223.70  \n",
              "3        5       222.27           1223.21        1132.61  \n",
              "4       21      4051.20           4051.20        3700.00  "
            ]
          },
          "metadata": {
            "tags": []
          },
          "execution_count": 85
        }
      ]
    },
    {
      "metadata": {
        "id": "c2f5vvvBQEKu",
        "colab_type": "text"
      },
      "cell_type": "markdown",
      "source": [
        "### Calculate length of funding"
      ]
    },
    {
      "metadata": {
        "id": "lBuJozcXM5kx",
        "colab_type": "code",
        "colab": {}
      },
      "cell_type": "code",
      "source": [
        "diff = (pd.to_datetime(df.deadline) - pd.to_datetime(df.launched)).map(lambda x: x.days)\n"
      ],
      "execution_count": 0,
      "outputs": []
    },
    {
      "metadata": {
        "id": "t0f9-UTGNPcC",
        "colab_type": "code",
        "colab": {
          "base_uri": "https://localhost:8080/",
          "height": 119
        },
        "outputId": "df78a2a6-7490-4045-d55a-a9e9478d35a8"
      },
      "cell_type": "code",
      "source": [
        "print(diff.head())"
      ],
      "execution_count": 87,
      "outputs": [
        {
          "output_type": "stream",
          "text": [
            "0     7\n",
            "1    28\n",
            "2    29\n",
            "3    29\n",
            "4    36\n",
            "dtype: int64\n"
          ],
          "name": "stdout"
        }
      ]
    },
    {
      "metadata": {
        "id": "ziah2O7nQKTx",
        "colab_type": "text"
      },
      "cell_type": "markdown",
      "source": [
        "### Drop date times"
      ]
    },
    {
      "metadata": {
        "id": "ar6lS246PuqC",
        "colab_type": "code",
        "colab": {}
      },
      "cell_type": "code",
      "source": [
        "df = df.drop(['deadline', 'launched'], axis=1)\n"
      ],
      "execution_count": 0,
      "outputs": []
    },
    {
      "metadata": {
        "id": "Jur5yJuBQO9w",
        "colab_type": "text"
      },
      "cell_type": "markdown",
      "source": [
        "### Add duration to the dataframe"
      ]
    },
    {
      "metadata": {
        "id": "uhPlH3zGQV4l",
        "colab_type": "code",
        "colab": {}
      },
      "cell_type": "code",
      "source": [
        "df['duration'] = diff"
      ],
      "execution_count": 0,
      "outputs": []
    },
    {
      "metadata": {
        "id": "Jl9MzVfSQajE",
        "colab_type": "code",
        "colab": {
          "base_uri": "https://localhost:8080/",
          "height": 493
        },
        "outputId": "444b7df4-9b4e-4fb1-df17-a7d25f302ff9"
      },
      "cell_type": "code",
      "source": [
        "df.head()"
      ],
      "execution_count": 90,
      "outputs": [
        {
          "output_type": "execute_result",
          "data": {
            "text/html": [
              "<div>\n",
              "<style scoped>\n",
              "    .dataframe tbody tr th:only-of-type {\n",
              "        vertical-align: middle;\n",
              "    }\n",
              "\n",
              "    .dataframe tbody tr th {\n",
              "        vertical-align: top;\n",
              "    }\n",
              "\n",
              "    .dataframe thead th {\n",
              "        text-align: right;\n",
              "    }\n",
              "</style>\n",
              "<table border=\"1\" class=\"dataframe\">\n",
              "  <thead>\n",
              "    <tr style=\"text-align: right;\">\n",
              "      <th></th>\n",
              "      <th>blurb</th>\n",
              "      <th>spotlight</th>\n",
              "      <th>staff_pick</th>\n",
              "      <th>name</th>\n",
              "      <th>category</th>\n",
              "      <th>main_category</th>\n",
              "      <th>currency</th>\n",
              "      <th>goal</th>\n",
              "      <th>pledged</th>\n",
              "      <th>state</th>\n",
              "      <th>backers</th>\n",
              "      <th>country</th>\n",
              "      <th>usd pledged</th>\n",
              "      <th>usd_pledged_real</th>\n",
              "      <th>usd_goal_real</th>\n",
              "      <th>duration</th>\n",
              "    </tr>\n",
              "  </thead>\n",
              "  <tbody>\n",
              "    <tr>\n",
              "      <th>0</th>\n",
              "      <td>If you've ever been disheartened by how some p...</td>\n",
              "      <td>True</td>\n",
              "      <td>False</td>\n",
              "      <td>\"How We've Changed Jesus\" - Neal Samudre's Deb...</td>\n",
              "      <td>95</td>\n",
              "      <td>12</td>\n",
              "      <td>13</td>\n",
              "      <td>3500.0</td>\n",
              "      <td>3651.0</td>\n",
              "      <td>3</td>\n",
              "      <td>80</td>\n",
              "      <td>21</td>\n",
              "      <td>3651.00</td>\n",
              "      <td>3651.00</td>\n",
              "      <td>3500.00</td>\n",
              "      <td>7</td>\n",
              "    </tr>\n",
              "    <tr>\n",
              "      <th>1</th>\n",
              "      <td>This book will show you how to attract your id...</td>\n",
              "      <td>True</td>\n",
              "      <td>False</td>\n",
              "      <td>Your Client Vision (Book) - How to sell withou...</td>\n",
              "      <td>95</td>\n",
              "      <td>12</td>\n",
              "      <td>5</td>\n",
              "      <td>175.0</td>\n",
              "      <td>271.0</td>\n",
              "      <td>3</td>\n",
              "      <td>31</td>\n",
              "      <td>9</td>\n",
              "      <td>94.80</td>\n",
              "      <td>332.73</td>\n",
              "      <td>214.86</td>\n",
              "      <td>28</td>\n",
              "    </tr>\n",
              "    <tr>\n",
              "      <th>2</th>\n",
              "      <td>I told my first lie when I was six and never s...</td>\n",
              "      <td>True</td>\n",
              "      <td>False</td>\n",
              "      <td>The Longest Lie I Ever Told</td>\n",
              "      <td>95</td>\n",
              "      <td>12</td>\n",
              "      <td>1</td>\n",
              "      <td>3000.0</td>\n",
              "      <td>3600.0</td>\n",
              "      <td>3</td>\n",
              "      <td>74</td>\n",
              "      <td>3</td>\n",
              "      <td>440.30</td>\n",
              "      <td>2668.45</td>\n",
              "      <td>2223.70</td>\n",
              "      <td>29</td>\n",
              "    </tr>\n",
              "    <tr>\n",
              "      <th>3</th>\n",
              "      <td>Für die Finanzierung der Veröffentlichung mein...</td>\n",
              "      <td>True</td>\n",
              "      <td>False</td>\n",
              "      <td>Spurenlesen – Zur Philosophie der Human-Animal...</td>\n",
              "      <td>95</td>\n",
              "      <td>12</td>\n",
              "      <td>4</td>\n",
              "      <td>1000.0</td>\n",
              "      <td>1080.0</td>\n",
              "      <td>3</td>\n",
              "      <td>12</td>\n",
              "      <td>5</td>\n",
              "      <td>222.27</td>\n",
              "      <td>1223.21</td>\n",
              "      <td>1132.61</td>\n",
              "      <td>29</td>\n",
              "    </tr>\n",
              "    <tr>\n",
              "      <th>4</th>\n",
              "      <td>Six teens (age 13-15) are hiking VT's 272-mile...</td>\n",
              "      <td>True</td>\n",
              "      <td>False</td>\n",
              "      <td>Teens Hike VT's Long Trail and Write How-To an...</td>\n",
              "      <td>95</td>\n",
              "      <td>12</td>\n",
              "      <td>13</td>\n",
              "      <td>3700.0</td>\n",
              "      <td>4051.2</td>\n",
              "      <td>3</td>\n",
              "      <td>44</td>\n",
              "      <td>21</td>\n",
              "      <td>4051.20</td>\n",
              "      <td>4051.20</td>\n",
              "      <td>3700.00</td>\n",
              "      <td>36</td>\n",
              "    </tr>\n",
              "  </tbody>\n",
              "</table>\n",
              "</div>"
            ],
            "text/plain": [
              "                                               blurb  spotlight  staff_pick  \\\n",
              "0  If you've ever been disheartened by how some p...       True       False   \n",
              "1  This book will show you how to attract your id...       True       False   \n",
              "2  I told my first lie when I was six and never s...       True       False   \n",
              "3  Für die Finanzierung der Veröffentlichung mein...       True       False   \n",
              "4  Six teens (age 13-15) are hiking VT's 272-mile...       True       False   \n",
              "\n",
              "                                                name  category  main_category  \\\n",
              "0  \"How We've Changed Jesus\" - Neal Samudre's Deb...        95             12   \n",
              "1  Your Client Vision (Book) - How to sell withou...        95             12   \n",
              "2                        The Longest Lie I Ever Told        95             12   \n",
              "3  Spurenlesen – Zur Philosophie der Human-Animal...        95             12   \n",
              "4  Teens Hike VT's Long Trail and Write How-To an...        95             12   \n",
              "\n",
              "   currency    goal  pledged  state  backers  country  usd pledged  \\\n",
              "0        13  3500.0   3651.0      3       80       21      3651.00   \n",
              "1         5   175.0    271.0      3       31        9        94.80   \n",
              "2         1  3000.0   3600.0      3       74        3       440.30   \n",
              "3         4  1000.0   1080.0      3       12        5       222.27   \n",
              "4        13  3700.0   4051.2      3       44       21      4051.20   \n",
              "\n",
              "   usd_pledged_real  usd_goal_real  duration  \n",
              "0           3651.00        3500.00         7  \n",
              "1            332.73         214.86        28  \n",
              "2           2668.45        2223.70        29  \n",
              "3           1223.21        1132.61        29  \n",
              "4           4051.20        3700.00        36  "
            ]
          },
          "metadata": {
            "tags": []
          },
          "execution_count": 90
        }
      ]
    },
    {
      "metadata": {
        "id": "n009XcI2QbzD",
        "colab_type": "text"
      },
      "cell_type": "markdown",
      "source": [
        "TODELETE: Delete columns \"Unnamed: 13\"-\"Unnamed: 16\""
      ]
    },
    {
      "metadata": {
        "colab_type": "code",
        "colab": {},
        "id": "wSJKXu4kwfBt"
      },
      "cell_type": "code",
      "source": [
        "#unnecessary_columns = [\"Unnamed: {}\".format(i) for i in range(13,17)]"
      ],
      "execution_count": 0,
      "outputs": []
    },
    {
      "metadata": {
        "colab_type": "code",
        "colab": {},
        "id": "jDdVBZtBweqn"
      },
      "cell_type": "code",
      "source": [
        "#df = df.drop(unnecessary_columns, axis=1)"
      ],
      "execution_count": 0,
      "outputs": []
    },
    {
      "metadata": {
        "colab_type": "code",
        "colab": {},
        "id": "3-yoB0WOweG5"
      },
      "cell_type": "code",
      "source": [
        "#df.head()"
      ],
      "execution_count": 0,
      "outputs": []
    },
    {
      "metadata": {
        "id": "hp4u1RcdWzMb",
        "colab_type": "text"
      },
      "cell_type": "markdown",
      "source": [
        "### Clean text, only keep whitespaces and letters"
      ]
    },
    {
      "metadata": {
        "id": "pyyL2UqiRpYW",
        "colab_type": "code",
        "colab": {
          "base_uri": "https://localhost:8080/",
          "height": 119
        },
        "outputId": "7ecf0542-0e0a-40e2-c6ab-09d556585d23"
      },
      "cell_type": "code",
      "source": [
        "import re\n",
        "regex = re.compile('[^a-zA-Z\\s]')\n",
        "\n",
        "name = df.name\n",
        "name = name.map(lambda x: regex.sub('', str(x)).lower())\n",
        "print(name.head())"
      ],
      "execution_count": 94,
      "outputs": [
        {
          "output_type": "stream",
          "text": [
            "0     how weve changed jesus  neal samudres debut book\n",
            "1    your client vision book  how to sell without s...\n",
            "2                          the longest lie i ever told\n",
            "3    spurenlesen  zur philosophie der humananimalst...\n",
            "4    teens hike vts long trail and write howto and ...\n",
            "Name: name, dtype: object\n"
          ],
          "name": "stdout"
        }
      ]
    },
    {
      "metadata": {
        "id": "j5q7OYpiUGJZ",
        "colab_type": "code",
        "colab": {}
      },
      "cell_type": "code",
      "source": [
        "name2 = name.apply(lambda x: x.split())"
      ],
      "execution_count": 0,
      "outputs": []
    },
    {
      "metadata": {
        "id": "9e6qJq_NV3ii",
        "colab_type": "code",
        "colab": {
          "base_uri": "https://localhost:8080/",
          "height": 119
        },
        "outputId": "f781b171-aaa0-4bb5-8b75-1a9746d986a8"
      },
      "cell_type": "code",
      "source": [
        "name2.head()"
      ],
      "execution_count": 96,
      "outputs": [
        {
          "output_type": "execute_result",
          "data": {
            "text/plain": [
              "0    [how, weve, changed, jesus, neal, samudres, de...\n",
              "1    [your, client, vision, book, how, to, sell, wi...\n",
              "2                   [the, longest, lie, i, ever, told]\n",
              "3    [spurenlesen, zur, philosophie, der, humananim...\n",
              "4    [teens, hike, vts, long, trail, and, write, ho...\n",
              "Name: name, dtype: object"
            ]
          },
          "metadata": {
            "tags": []
          },
          "execution_count": 96
        }
      ]
    },
    {
      "metadata": {
        "id": "7Z5NXApeV5E5",
        "colab_type": "code",
        "colab": {
          "base_uri": "https://localhost:8080/",
          "height": 119
        },
        "outputId": "ba3d3385-4605-4f51-e19e-82a18a704bc8"
      },
      "cell_type": "code",
      "source": [
        "name.head()"
      ],
      "execution_count": 97,
      "outputs": [
        {
          "output_type": "execute_result",
          "data": {
            "text/plain": [
              "0     how weve changed jesus  neal samudres debut book\n",
              "1    your client vision book  how to sell without s...\n",
              "2                          the longest lie i ever told\n",
              "3    spurenlesen  zur philosophie der humananimalst...\n",
              "4    teens hike vts long trail and write howto and ...\n",
              "Name: name, dtype: object"
            ]
          },
          "metadata": {
            "tags": []
          },
          "execution_count": 97
        }
      ]
    },
    {
      "metadata": {
        "id": "V4O96wS4W6MR",
        "colab_type": "text"
      },
      "cell_type": "markdown",
      "source": [
        "### Remove stop words -> might give better results"
      ]
    },
    {
      "metadata": {
        "id": "Aj7lZUP7V6qZ",
        "colab_type": "code",
        "colab": {
          "base_uri": "https://localhost:8080/",
          "height": 51
        },
        "outputId": "1a69d1ad-8220-42c7-d346-3f189e6d26d7"
      },
      "cell_type": "code",
      "source": [
        "import nltk\n",
        "nltk.download('stopwords')\n",
        "from nltk.corpus import stopwords"
      ],
      "execution_count": 98,
      "outputs": [
        {
          "output_type": "stream",
          "text": [
            "[nltk_data] Downloading package stopwords to /root/nltk_data...\n",
            "[nltk_data]   Package stopwords is already up-to-date!\n"
          ],
          "name": "stdout"
        }
      ]
    },
    {
      "metadata": {
        "id": "-wYDBPcUWKDq",
        "colab_type": "code",
        "colab": {}
      },
      "cell_type": "code",
      "source": [
        "s = set(stopwords.words('english'))"
      ],
      "execution_count": 0,
      "outputs": []
    },
    {
      "metadata": {
        "id": "jU8TsOmTWMkT",
        "colab_type": "code",
        "colab": {}
      },
      "cell_type": "code",
      "source": [
        "name2 = name2.apply(lambda x: [y for y in x if y not in s])"
      ],
      "execution_count": 0,
      "outputs": []
    },
    {
      "metadata": {
        "id": "KH52Ld73Wsyh",
        "colab_type": "code",
        "colab": {
          "base_uri": "https://localhost:8080/",
          "height": 204
        },
        "outputId": "b1b235de-731b-412b-c57c-a16fd396cd34"
      },
      "cell_type": "code",
      "source": [
        "name2.head(10)"
      ],
      "execution_count": 101,
      "outputs": [
        {
          "output_type": "execute_result",
          "data": {
            "text/plain": [
              "0    [weve, changed, jesus, neal, samudres, debut, ...\n",
              "1       [client, vision, book, sell, without, selling]\n",
              "2                           [longest, lie, ever, told]\n",
              "3    [spurenlesen, zur, philosophie, der, humananim...\n",
              "4    [teens, hike, vts, long, trail, write, howto, ...\n",
              "5             [ako, ay, pilipino, coffee, table, book]\n",
              "6                                        [truth, book]\n",
              "7    [forks, three, years, five, continents, one, m...\n",
              "8                                [mysterious, letters]\n",
              "9          [motorcycle, adventures, farlap, max, book]\n",
              "Name: name, dtype: object"
            ]
          },
          "metadata": {
            "tags": []
          },
          "execution_count": 101
        }
      ]
    },
    {
      "metadata": {
        "id": "eASsaMjsWusD",
        "colab_type": "text"
      },
      "cell_type": "markdown",
      "source": [
        "### Create bag of words\n",
        "Using HashingVectorizer, because there are a lot of words"
      ]
    },
    {
      "metadata": {
        "id": "NZyGaVhNXMXP",
        "colab_type": "code",
        "colab": {
          "base_uri": "https://localhost:8080/",
          "height": 153
        },
        "outputId": "64c6836d-2464-4a36-ed00-9e306407380a"
      },
      "cell_type": "code",
      "source": [
        "from sklearn.feature_extraction.text import HashingVectorizer\n",
        "\n",
        "vectorizer = HashingVectorizer(n_features=2**8, lowercase=False, tokenizer = lambda doc: doc)\n",
        "hashed_name = vectorizer.transform(name2)\n",
        "print(hashed_name.shape)\n",
        "print(hashed_name[0])"
      ],
      "execution_count": 102,
      "outputs": [
        {
          "output_type": "stream",
          "text": [
            "(160317, 256)\n",
            "  (0, 14)\t0.3779644730092272\n",
            "  (0, 24)\t0.3779644730092272\n",
            "  (0, 89)\t0.3779644730092272\n",
            "  (0, 96)\t-0.3779644730092272\n",
            "  (0, 132)\t-0.3779644730092272\n",
            "  (0, 159)\t-0.3779644730092272\n",
            "  (0, 161)\t-0.3779644730092272\n"
          ],
          "name": "stdout"
        }
      ]
    },
    {
      "metadata": {
        "id": "Dank4m3ZXbvP",
        "colab_type": "code",
        "colab": {
          "base_uri": "https://localhost:8080/",
          "height": 136
        },
        "outputId": "46a5b88f-f70b-4428-9c54-253d0b2a7927"
      },
      "cell_type": "code",
      "source": [
        "print(hashed_name[0])"
      ],
      "execution_count": 103,
      "outputs": [
        {
          "output_type": "stream",
          "text": [
            "  (0, 14)\t0.3779644730092272\n",
            "  (0, 24)\t0.3779644730092272\n",
            "  (0, 89)\t0.3779644730092272\n",
            "  (0, 96)\t-0.3779644730092272\n",
            "  (0, 132)\t-0.3779644730092272\n",
            "  (0, 159)\t-0.3779644730092272\n",
            "  (0, 161)\t-0.3779644730092272\n"
          ],
          "name": "stdout"
        }
      ]
    },
    {
      "metadata": {
        "id": "BGWZDMuDa0sn",
        "colab_type": "code",
        "colab": {
          "base_uri": "https://localhost:8080/",
          "height": 34
        },
        "outputId": "951b8352-5299-4ca8-e86c-39c894371f9b"
      },
      "cell_type": "code",
      "source": [
        "print(type(hashed_name))"
      ],
      "execution_count": 104,
      "outputs": [
        {
          "output_type": "stream",
          "text": [
            "<class 'scipy.sparse.csr.csr_matrix'>\n"
          ],
          "name": "stdout"
        }
      ]
    },
    {
      "metadata": {
        "id": "z0sNM6PgbjkV",
        "colab_type": "code",
        "colab": {
          "base_uri": "https://localhost:8080/",
          "height": 34
        },
        "outputId": "4e5cbb31-2892-4392-a9e4-826f8eebb092"
      },
      "cell_type": "code",
      "source": [
        "print(hashed_name.todense().shape)"
      ],
      "execution_count": 105,
      "outputs": [
        {
          "output_type": "stream",
          "text": [
            "(160317, 256)\n"
          ],
          "name": "stdout"
        }
      ]
    },
    {
      "metadata": {
        "id": "FLcjcD-tdJd-",
        "colab_type": "text"
      },
      "cell_type": "markdown",
      "source": [
        "### Create dataframe from scipy sparse matrix"
      ]
    },
    {
      "metadata": {
        "id": "0fpv9RXwcniV",
        "colab_type": "code",
        "colab": {}
      },
      "cell_type": "code",
      "source": [
        "df_hashed_name = pd.DataFrame(hashed_name.todense())"
      ],
      "execution_count": 0,
      "outputs": []
    },
    {
      "metadata": {
        "id": "EP1hJ17RdDZT",
        "colab_type": "code",
        "colab": {
          "base_uri": "https://localhost:8080/",
          "height": 233
        },
        "outputId": "7e4d219e-bf89-4cf5-be48-cab79a532a54"
      },
      "cell_type": "code",
      "source": [
        "df_hashed_name.head()"
      ],
      "execution_count": 107,
      "outputs": [
        {
          "output_type": "execute_result",
          "data": {
            "text/html": [
              "<div>\n",
              "<style scoped>\n",
              "    .dataframe tbody tr th:only-of-type {\n",
              "        vertical-align: middle;\n",
              "    }\n",
              "\n",
              "    .dataframe tbody tr th {\n",
              "        vertical-align: top;\n",
              "    }\n",
              "\n",
              "    .dataframe thead th {\n",
              "        text-align: right;\n",
              "    }\n",
              "</style>\n",
              "<table border=\"1\" class=\"dataframe\">\n",
              "  <thead>\n",
              "    <tr style=\"text-align: right;\">\n",
              "      <th></th>\n",
              "      <th>0</th>\n",
              "      <th>1</th>\n",
              "      <th>2</th>\n",
              "      <th>3</th>\n",
              "      <th>4</th>\n",
              "      <th>5</th>\n",
              "      <th>6</th>\n",
              "      <th>7</th>\n",
              "      <th>8</th>\n",
              "      <th>9</th>\n",
              "      <th>...</th>\n",
              "      <th>246</th>\n",
              "      <th>247</th>\n",
              "      <th>248</th>\n",
              "      <th>249</th>\n",
              "      <th>250</th>\n",
              "      <th>251</th>\n",
              "      <th>252</th>\n",
              "      <th>253</th>\n",
              "      <th>254</th>\n",
              "      <th>255</th>\n",
              "    </tr>\n",
              "  </thead>\n",
              "  <tbody>\n",
              "    <tr>\n",
              "      <th>0</th>\n",
              "      <td>0.0</td>\n",
              "      <td>0.0</td>\n",
              "      <td>0.0</td>\n",
              "      <td>0.0</td>\n",
              "      <td>0.0</td>\n",
              "      <td>0.0</td>\n",
              "      <td>0.000000</td>\n",
              "      <td>0.0</td>\n",
              "      <td>0.0</td>\n",
              "      <td>0.0</td>\n",
              "      <td>...</td>\n",
              "      <td>0.0</td>\n",
              "      <td>0.0</td>\n",
              "      <td>0.0</td>\n",
              "      <td>0.0</td>\n",
              "      <td>0.0</td>\n",
              "      <td>0.0</td>\n",
              "      <td>0.0</td>\n",
              "      <td>0.0</td>\n",
              "      <td>0.0</td>\n",
              "      <td>0.0</td>\n",
              "    </tr>\n",
              "    <tr>\n",
              "      <th>1</th>\n",
              "      <td>0.0</td>\n",
              "      <td>0.0</td>\n",
              "      <td>0.0</td>\n",
              "      <td>0.0</td>\n",
              "      <td>0.0</td>\n",
              "      <td>0.0</td>\n",
              "      <td>0.000000</td>\n",
              "      <td>0.0</td>\n",
              "      <td>0.0</td>\n",
              "      <td>0.0</td>\n",
              "      <td>...</td>\n",
              "      <td>0.0</td>\n",
              "      <td>0.0</td>\n",
              "      <td>0.0</td>\n",
              "      <td>0.0</td>\n",
              "      <td>0.0</td>\n",
              "      <td>0.0</td>\n",
              "      <td>0.0</td>\n",
              "      <td>0.0</td>\n",
              "      <td>0.0</td>\n",
              "      <td>0.0</td>\n",
              "    </tr>\n",
              "    <tr>\n",
              "      <th>2</th>\n",
              "      <td>0.0</td>\n",
              "      <td>0.0</td>\n",
              "      <td>0.0</td>\n",
              "      <td>0.0</td>\n",
              "      <td>0.0</td>\n",
              "      <td>0.0</td>\n",
              "      <td>0.000000</td>\n",
              "      <td>0.0</td>\n",
              "      <td>0.0</td>\n",
              "      <td>0.0</td>\n",
              "      <td>...</td>\n",
              "      <td>0.0</td>\n",
              "      <td>0.0</td>\n",
              "      <td>0.0</td>\n",
              "      <td>0.0</td>\n",
              "      <td>0.0</td>\n",
              "      <td>0.0</td>\n",
              "      <td>0.0</td>\n",
              "      <td>0.0</td>\n",
              "      <td>0.0</td>\n",
              "      <td>0.0</td>\n",
              "    </tr>\n",
              "    <tr>\n",
              "      <th>3</th>\n",
              "      <td>0.0</td>\n",
              "      <td>0.0</td>\n",
              "      <td>0.0</td>\n",
              "      <td>0.0</td>\n",
              "      <td>0.0</td>\n",
              "      <td>0.0</td>\n",
              "      <td>0.000000</td>\n",
              "      <td>0.0</td>\n",
              "      <td>0.0</td>\n",
              "      <td>0.0</td>\n",
              "      <td>...</td>\n",
              "      <td>0.0</td>\n",
              "      <td>0.0</td>\n",
              "      <td>0.0</td>\n",
              "      <td>0.0</td>\n",
              "      <td>0.0</td>\n",
              "      <td>0.0</td>\n",
              "      <td>0.0</td>\n",
              "      <td>0.0</td>\n",
              "      <td>0.0</td>\n",
              "      <td>0.0</td>\n",
              "    </tr>\n",
              "    <tr>\n",
              "      <th>4</th>\n",
              "      <td>0.0</td>\n",
              "      <td>0.0</td>\n",
              "      <td>0.0</td>\n",
              "      <td>0.0</td>\n",
              "      <td>0.0</td>\n",
              "      <td>0.0</td>\n",
              "      <td>-0.333333</td>\n",
              "      <td>0.0</td>\n",
              "      <td>0.0</td>\n",
              "      <td>0.0</td>\n",
              "      <td>...</td>\n",
              "      <td>0.0</td>\n",
              "      <td>0.0</td>\n",
              "      <td>0.0</td>\n",
              "      <td>0.0</td>\n",
              "      <td>0.0</td>\n",
              "      <td>0.0</td>\n",
              "      <td>0.0</td>\n",
              "      <td>0.0</td>\n",
              "      <td>0.0</td>\n",
              "      <td>0.0</td>\n",
              "    </tr>\n",
              "  </tbody>\n",
              "</table>\n",
              "<p>5 rows × 256 columns</p>\n",
              "</div>"
            ],
            "text/plain": [
              "   0    1    2    3    4    5         6    7    8    9   ...   246  247  248  \\\n",
              "0  0.0  0.0  0.0  0.0  0.0  0.0  0.000000  0.0  0.0  0.0 ...   0.0  0.0  0.0   \n",
              "1  0.0  0.0  0.0  0.0  0.0  0.0  0.000000  0.0  0.0  0.0 ...   0.0  0.0  0.0   \n",
              "2  0.0  0.0  0.0  0.0  0.0  0.0  0.000000  0.0  0.0  0.0 ...   0.0  0.0  0.0   \n",
              "3  0.0  0.0  0.0  0.0  0.0  0.0  0.000000  0.0  0.0  0.0 ...   0.0  0.0  0.0   \n",
              "4  0.0  0.0  0.0  0.0  0.0  0.0 -0.333333  0.0  0.0  0.0 ...   0.0  0.0  0.0   \n",
              "\n",
              "   249  250  251  252  253  254  255  \n",
              "0  0.0  0.0  0.0  0.0  0.0  0.0  0.0  \n",
              "1  0.0  0.0  0.0  0.0  0.0  0.0  0.0  \n",
              "2  0.0  0.0  0.0  0.0  0.0  0.0  0.0  \n",
              "3  0.0  0.0  0.0  0.0  0.0  0.0  0.0  \n",
              "4  0.0  0.0  0.0  0.0  0.0  0.0  0.0  \n",
              "\n",
              "[5 rows x 256 columns]"
            ]
          },
          "metadata": {
            "tags": []
          },
          "execution_count": 107
        }
      ]
    },
    {
      "metadata": {
        "id": "EPIlewE9dFcV",
        "colab_type": "text"
      },
      "cell_type": "markdown",
      "source": [
        "### Concat original matrix and hashed name matrix"
      ]
    },
    {
      "metadata": {
        "id": "DWc3oaNjdTmd",
        "colab_type": "code",
        "colab": {}
      },
      "cell_type": "code",
      "source": [
        "df = df.join(df_hashed_name)"
      ],
      "execution_count": 0,
      "outputs": []
    },
    {
      "metadata": {
        "id": "IENh7mKIemXG",
        "colab_type": "code",
        "colab": {
          "base_uri": "https://localhost:8080/",
          "height": 34
        },
        "outputId": "34f19dfd-95cf-4283-ad87-a520ba211116"
      },
      "cell_type": "code",
      "source": [
        "print(df.shape)"
      ],
      "execution_count": 109,
      "outputs": [
        {
          "output_type": "stream",
          "text": [
            "(160317, 272)\n"
          ],
          "name": "stdout"
        }
      ]
    },
    {
      "metadata": {
        "id": "R8Gf3pGqgIgr",
        "colab_type": "text"
      },
      "cell_type": "markdown",
      "source": [
        "### Dropping name column, name is stored now in bag"
      ]
    },
    {
      "metadata": {
        "id": "XPVWbAlFgA3B",
        "colab_type": "code",
        "colab": {}
      },
      "cell_type": "code",
      "source": [
        "df = df.drop('name', axis=1)"
      ],
      "execution_count": 0,
      "outputs": []
    },
    {
      "metadata": {
        "id": "WAZDQIfbdbTE",
        "colab_type": "text"
      },
      "cell_type": "markdown",
      "source": [
        "### Split into input and output"
      ]
    },
    {
      "metadata": {
        "id": "d7L4zve_djcI",
        "colab_type": "code",
        "colab": {}
      },
      "cell_type": "code",
      "source": [
        "input_columns = ['category', 'main_category', 'currency', 'goal', 'duration', 'country']\n",
        "output_columns = ['state', 'backers', 'usd pledged']\n",
        "\n",
        "X = df.drop(output_columns, axis=1)\n",
        "Y = df[df.columns.intersection(output_columns)]"
      ],
      "execution_count": 0,
      "outputs": []
    },
    {
      "metadata": {
        "id": "bSGsOSbteJFi",
        "colab_type": "code",
        "colab": {
          "base_uri": "https://localhost:8080/",
          "height": 510
        },
        "outputId": "d9fa8ec9-bb83-4c7c-f9d5-c7a82504e0d6"
      },
      "cell_type": "code",
      "source": [
        "print(X.head())\n",
        "\n",
        "print()\n",
        "\n",
        "print(Y.head())"
      ],
      "execution_count": 112,
      "outputs": [
        {
          "output_type": "stream",
          "text": [
            "                                               blurb  spotlight  staff_pick  \\\n",
            "0  If you've ever been disheartened by how some p...       True       False   \n",
            "1  This book will show you how to attract your id...       True       False   \n",
            "2  I told my first lie when I was six and never s...       True       False   \n",
            "3  Für die Finanzierung der Veröffentlichung mein...       True       False   \n",
            "4  Six teens (age 13-15) are hiking VT's 272-mile...       True       False   \n",
            "\n",
            "   category  main_category  currency    goal  pledged  country  \\\n",
            "0        95             12        13  3500.0   3651.0       21   \n",
            "1        95             12         5   175.0    271.0        9   \n",
            "2        95             12         1  3000.0   3600.0        3   \n",
            "3        95             12         4  1000.0   1080.0        5   \n",
            "4        95             12        13  3700.0   4051.2       21   \n",
            "\n",
            "   usd_pledged_real ...   246  247  248  249  250  251  252  253  254  255  \n",
            "0           3651.00 ...   0.0  0.0  0.0  0.0  0.0  0.0  0.0  0.0  0.0  0.0  \n",
            "1            332.73 ...   0.0  0.0  0.0  0.0  0.0  0.0  0.0  0.0  0.0  0.0  \n",
            "2           2668.45 ...   0.0  0.0  0.0  0.0  0.0  0.0  0.0  0.0  0.0  0.0  \n",
            "3           1223.21 ...   0.0  0.0  0.0  0.0  0.0  0.0  0.0  0.0  0.0  0.0  \n",
            "4           4051.20 ...   0.0  0.0  0.0  0.0  0.0  0.0  0.0  0.0  0.0  0.0  \n",
            "\n",
            "[5 rows x 268 columns]\n",
            "\n",
            "   state  backers  usd pledged\n",
            "0      3       80      3651.00\n",
            "1      3       31        94.80\n",
            "2      3       74       440.30\n",
            "3      3       12       222.27\n",
            "4      3       44      4051.20\n"
          ],
          "name": "stdout"
        }
      ]
    },
    {
      "metadata": {
        "id": "bdQ7JPiWgP1b",
        "colab_type": "text"
      },
      "cell_type": "markdown",
      "source": [
        "## Preparation for teaching - DONT RUN YET"
      ]
    },
    {
      "metadata": {
        "id": "xjX6D4a1lNJF",
        "colab_type": "text"
      },
      "cell_type": "markdown",
      "source": [
        "### Imports"
      ]
    },
    {
      "metadata": {
        "id": "vs-w035hlPdN",
        "colab_type": "code",
        "colab": {
          "base_uri": "https://localhost:8080/",
          "height": 34
        },
        "outputId": "dcd25715-74cf-4c3d-a439-2dfa33a5438e"
      },
      "cell_type": "code",
      "source": [
        "import numpy as np\n",
        "from keras.models import Sequential\n",
        "from keras.layers import Dense, Dropout, Activation\n",
        "from keras.callbacks import EarlyStopping, ModelCheckpoint\n",
        "import copy\n",
        "import pandas as pd\n",
        "from keras.optimizers import SGD\n",
        "from sklearn.preprocessing import StandardScaler\n",
        "from tensorflow import set_random_seed\n",
        "set_random_seed(123)\n",
        "np.random.seed(123)"
      ],
      "execution_count": 53,
      "outputs": [
        {
          "output_type": "stream",
          "text": [
            "Using TensorFlow backend.\n"
          ],
          "name": "stderr"
        }
      ]
    },
    {
      "metadata": {
        "id": "AtTHixhslJzl",
        "colab_type": "text"
      },
      "cell_type": "markdown",
      "source": [
        "### Splitting into train test valid"
      ]
    },
    {
      "metadata": {
        "id": "Xf-k9Ls-k8QU",
        "colab_type": "code",
        "colab": {
          "base_uri": "https://localhost:8080/",
          "height": 608
        },
        "outputId": "0a4e81be-b3ab-4521-9936-38b58bacc80a"
      },
      "cell_type": "code",
      "source": [
        "test_split = 0.1\n",
        "valid_split = 0.2\n",
        "\n",
        "v_index = int(X.shape[0] * (1-valid_split-test_split))\n",
        "t_index = int(X.shape[0] * (1-test_split))\n",
        "\n",
        "X_test = X[t_index:]\n",
        "Y_test = Y[t_index:]\n",
        "\n",
        "X_valid = X[v_index:t_index]\n",
        "Y_valid = Y[v_index:t_index]\n",
        "X_train = X[:v_index]\n",
        "Y_train = Y[:v_index]\n",
        "\n",
        "scaler = StandardScaler().fit(X_train)\n",
        "\n",
        "X_train = scaler.transform(X_train)\n",
        "X_valid = scaler.transform(X_valid)\n",
        "X_test = scaler.transform(X_test)"
      ],
      "execution_count": 54,
      "outputs": [
        {
          "output_type": "error",
          "ename": "ValueError",
          "evalue": "ignored",
          "traceback": [
            "\u001b[0;31m---------------------------------------------------------------------------\u001b[0m",
            "\u001b[0;31mValueError\u001b[0m                                Traceback (most recent call last)",
            "\u001b[0;32m<ipython-input-54-90a2913c0b41>\u001b[0m in \u001b[0;36m<module>\u001b[0;34m()\u001b[0m\n\u001b[1;32m     13\u001b[0m \u001b[0mY_train\u001b[0m \u001b[0;34m=\u001b[0m \u001b[0mY\u001b[0m\u001b[0;34m[\u001b[0m\u001b[0;34m:\u001b[0m\u001b[0mv_index\u001b[0m\u001b[0;34m]\u001b[0m\u001b[0;34m\u001b[0m\u001b[0m\n\u001b[1;32m     14\u001b[0m \u001b[0;34m\u001b[0m\u001b[0m\n\u001b[0;32m---> 15\u001b[0;31m \u001b[0mscaler\u001b[0m \u001b[0;34m=\u001b[0m \u001b[0mStandardScaler\u001b[0m\u001b[0;34m(\u001b[0m\u001b[0;34m)\u001b[0m\u001b[0;34m.\u001b[0m\u001b[0mfit\u001b[0m\u001b[0;34m(\u001b[0m\u001b[0mX_train\u001b[0m\u001b[0;34m)\u001b[0m\u001b[0;34m\u001b[0m\u001b[0m\n\u001b[0m\u001b[1;32m     16\u001b[0m \u001b[0;34m\u001b[0m\u001b[0m\n\u001b[1;32m     17\u001b[0m \u001b[0mX_train\u001b[0m \u001b[0;34m=\u001b[0m \u001b[0mscaler\u001b[0m\u001b[0;34m.\u001b[0m\u001b[0mtransform\u001b[0m\u001b[0;34m(\u001b[0m\u001b[0mX_train\u001b[0m\u001b[0;34m)\u001b[0m\u001b[0;34m\u001b[0m\u001b[0m\n",
            "\u001b[0;32m/usr/local/lib/python3.6/dist-packages/sklearn/preprocessing/data.py\u001b[0m in \u001b[0;36mfit\u001b[0;34m(self, X, y)\u001b[0m\n\u001b[1;32m    588\u001b[0m         \u001b[0;31m# Reset internal state before fitting\u001b[0m\u001b[0;34m\u001b[0m\u001b[0;34m\u001b[0m\u001b[0m\n\u001b[1;32m    589\u001b[0m         \u001b[0mself\u001b[0m\u001b[0;34m.\u001b[0m\u001b[0m_reset\u001b[0m\u001b[0;34m(\u001b[0m\u001b[0;34m)\u001b[0m\u001b[0;34m\u001b[0m\u001b[0m\n\u001b[0;32m--> 590\u001b[0;31m         \u001b[0;32mreturn\u001b[0m \u001b[0mself\u001b[0m\u001b[0;34m.\u001b[0m\u001b[0mpartial_fit\u001b[0m\u001b[0;34m(\u001b[0m\u001b[0mX\u001b[0m\u001b[0;34m,\u001b[0m \u001b[0my\u001b[0m\u001b[0;34m)\u001b[0m\u001b[0;34m\u001b[0m\u001b[0m\n\u001b[0m\u001b[1;32m    591\u001b[0m \u001b[0;34m\u001b[0m\u001b[0m\n\u001b[1;32m    592\u001b[0m     \u001b[0;32mdef\u001b[0m \u001b[0mpartial_fit\u001b[0m\u001b[0;34m(\u001b[0m\u001b[0mself\u001b[0m\u001b[0;34m,\u001b[0m \u001b[0mX\u001b[0m\u001b[0;34m,\u001b[0m \u001b[0my\u001b[0m\u001b[0;34m=\u001b[0m\u001b[0;32mNone\u001b[0m\u001b[0;34m)\u001b[0m\u001b[0;34m:\u001b[0m\u001b[0;34m\u001b[0m\u001b[0m\n",
            "\u001b[0;32m/usr/local/lib/python3.6/dist-packages/sklearn/preprocessing/data.py\u001b[0m in \u001b[0;36mpartial_fit\u001b[0;34m(self, X, y)\u001b[0m\n\u001b[1;32m    610\u001b[0m         \"\"\"\n\u001b[1;32m    611\u001b[0m         X = check_array(X, accept_sparse=('csr', 'csc'), copy=self.copy,\n\u001b[0;32m--> 612\u001b[0;31m                         warn_on_dtype=True, estimator=self, dtype=FLOAT_DTYPES)\n\u001b[0m\u001b[1;32m    613\u001b[0m \u001b[0;34m\u001b[0m\u001b[0m\n\u001b[1;32m    614\u001b[0m         \u001b[0;31m# Even in the case of `with_mean=False`, we update the mean anyway\u001b[0m\u001b[0;34m\u001b[0m\u001b[0;34m\u001b[0m\u001b[0m\n",
            "\u001b[0;32m/usr/local/lib/python3.6/dist-packages/sklearn/utils/validation.py\u001b[0m in \u001b[0;36mcheck_array\u001b[0;34m(array, accept_sparse, dtype, order, copy, force_all_finite, ensure_2d, allow_nd, ensure_min_samples, ensure_min_features, warn_on_dtype, estimator)\u001b[0m\n\u001b[1;32m    431\u001b[0m                                       force_all_finite)\n\u001b[1;32m    432\u001b[0m     \u001b[0;32melse\u001b[0m\u001b[0;34m:\u001b[0m\u001b[0;34m\u001b[0m\u001b[0m\n\u001b[0;32m--> 433\u001b[0;31m         \u001b[0marray\u001b[0m \u001b[0;34m=\u001b[0m \u001b[0mnp\u001b[0m\u001b[0;34m.\u001b[0m\u001b[0marray\u001b[0m\u001b[0;34m(\u001b[0m\u001b[0marray\u001b[0m\u001b[0;34m,\u001b[0m \u001b[0mdtype\u001b[0m\u001b[0;34m=\u001b[0m\u001b[0mdtype\u001b[0m\u001b[0;34m,\u001b[0m \u001b[0morder\u001b[0m\u001b[0;34m=\u001b[0m\u001b[0morder\u001b[0m\u001b[0;34m,\u001b[0m \u001b[0mcopy\u001b[0m\u001b[0;34m=\u001b[0m\u001b[0mcopy\u001b[0m\u001b[0;34m)\u001b[0m\u001b[0;34m\u001b[0m\u001b[0m\n\u001b[0m\u001b[1;32m    434\u001b[0m \u001b[0;34m\u001b[0m\u001b[0m\n\u001b[1;32m    435\u001b[0m         \u001b[0;32mif\u001b[0m \u001b[0mensure_2d\u001b[0m\u001b[0;34m:\u001b[0m\u001b[0;34m\u001b[0m\u001b[0m\n",
            "\u001b[0;31mValueError\u001b[0m: could not convert string to float: 'We wish to create six tiny idols of our landLORD T.E. to be spread throughout this abode.'"
          ]
        }
      ]
    },
    {
      "metadata": {
        "id": "L6QmvjeolE5x",
        "colab_type": "text"
      },
      "cell_type": "markdown",
      "source": [
        "### Creating model"
      ]
    },
    {
      "metadata": {
        "id": "glS27lThlW80",
        "colab_type": "code",
        "colab": {
          "base_uri": "https://localhost:8080/",
          "height": 2618
        },
        "outputId": "17443a8e-bc7b-440e-9d6f-2fafac9395e5"
      },
      "cell_type": "code",
      "source": [
        "es = EarlyStopping(patience=10)\n",
        "mcp = ModelCheckpoint(filepath='weights.hdf5', verbose=1, save_best_only=True)\n",
        "\n",
        "model = Sequential()\n",
        "model.add(Dense(276, input_shape=(X_train.shape[1],)))\n",
        "model.add(Activation('sigmoid'))\n",
        "model.add(Dropout(0.3))\n",
        "model.add(Dense(Y_train.shape[1], activation='linear'))\n",
        "\n",
        "sgd = SGD(lr=1e-3, decay=1e-6, momentum=0.9, nesterov=True)\n",
        "model.compile(loss='mse', optimizer=sgd)\n",
        "\n",
        "history = model.fit(X_train, Y_train, epochs=100000, batch_size=256,\n",
        "                    verbose=2, validation_data=(X_valid,Y_valid),\n",
        "                   callbacks=[mcp, es])"
      ],
      "execution_count": 293,
      "outputs": [
        {
          "output_type": "stream",
          "text": [
            "Train on 208761 samples, validate on 59646 samples\n",
            "Epoch 1/100000\n",
            " - 7s - loss: 1525003996.1892 - val_loss: 2113103641.6656\n",
            "\n",
            "Epoch 00001: val_loss improved from inf to 2113103641.66556, saving model to weights.hdf5\n",
            "Epoch 2/100000\n",
            " - 7s - loss: 1495636853.5889 - val_loss: 2089401925.3510\n",
            "\n",
            "Epoch 00002: val_loss improved from 2113103641.66556 to 2089401925.35104, saving model to weights.hdf5\n",
            "Epoch 3/100000\n",
            " - 7s - loss: 1482824073.5110 - val_loss: 2072122294.0123\n",
            "\n",
            "Epoch 00003: val_loss improved from 2089401925.35104 to 2072122294.01227, saving model to weights.hdf5\n",
            "Epoch 4/100000\n",
            " - 7s - loss: 1478227224.7791 - val_loss: 2058185866.4682\n",
            "\n",
            "Epoch 00004: val_loss improved from 2072122294.01227 to 2058185866.46816, saving model to weights.hdf5\n",
            "Epoch 5/100000\n",
            " - 7s - loss: 1466802995.4491 - val_loss: 2060145036.1560\n",
            "\n",
            "Epoch 00005: val_loss did not improve from 2058185866.46816\n",
            "Epoch 6/100000\n",
            " - 7s - loss: 1463354981.1764 - val_loss: 2045504113.8112\n",
            "\n",
            "Epoch 00006: val_loss improved from 2058185866.46816 to 2045504113.81122, saving model to weights.hdf5\n",
            "Epoch 7/100000\n",
            " - 7s - loss: 1458555723.9719 - val_loss: 2030384609.6200\n",
            "\n",
            "Epoch 00007: val_loss improved from 2045504113.81122 to 2030384609.61996, saving model to weights.hdf5\n",
            "Epoch 8/100000\n",
            " - 7s - loss: 1452900287.5743 - val_loss: 2016773637.7843\n",
            "\n",
            "Epoch 00008: val_loss improved from 2030384609.61996 to 2016773637.78426, saving model to weights.hdf5\n",
            "Epoch 9/100000\n",
            " - 7s - loss: 1449254822.7849 - val_loss: 2013348481.2911\n",
            "\n",
            "Epoch 00009: val_loss improved from 2016773637.78426 to 2013348481.29108, saving model to weights.hdf5\n",
            "Epoch 10/100000\n",
            " - 7s - loss: 1442873820.5582 - val_loss: 2016455110.5254\n",
            "\n",
            "Epoch 00010: val_loss did not improve from 2013348481.29108\n",
            "Epoch 11/100000\n",
            " - 7s - loss: 1441196006.7913 - val_loss: 2011108459.9140\n",
            "\n",
            "Epoch 00011: val_loss improved from 2013348481.29108 to 2011108459.91403, saving model to weights.hdf5\n",
            "Epoch 12/100000\n",
            " - 7s - loss: 1438689020.3040 - val_loss: 2001648337.6953\n",
            "\n",
            "Epoch 00012: val_loss improved from 2011108459.91403 to 2001648337.69534, saving model to weights.hdf5\n",
            "Epoch 13/100000\n",
            " - 7s - loss: 1430291569.9456 - val_loss: 2015219918.3779\n",
            "\n",
            "Epoch 00013: val_loss did not improve from 2001648337.69534\n",
            "Epoch 14/100000\n",
            " - 7s - loss: 1434440603.4669 - val_loss: 2005863669.5241\n",
            "\n",
            "Epoch 00014: val_loss did not improve from 2001648337.69534\n",
            "Epoch 15/100000\n",
            " - 7s - loss: 1432845651.6352 - val_loss: 2006758396.4545\n",
            "\n",
            "Epoch 00015: val_loss did not improve from 2001648337.69534\n",
            "Epoch 16/100000\n",
            " - 7s - loss: 1428452555.4821 - val_loss: 1997451122.0500\n",
            "\n",
            "Epoch 00016: val_loss improved from 2001648337.69534 to 1997451122.04996, saving model to weights.hdf5\n",
            "Epoch 17/100000\n",
            " - 7s - loss: 1423840727.8176 - val_loss: 1993822671.5153\n",
            "\n",
            "Epoch 00017: val_loss improved from 1997451122.04996 to 1993822671.51527, saving model to weights.hdf5\n",
            "Epoch 18/100000\n",
            " - 7s - loss: 1426363232.2542 - val_loss: 1986278243.3064\n",
            "\n",
            "Epoch 00018: val_loss improved from 1993822671.51527 to 1986278243.30644, saving model to weights.hdf5\n",
            "Epoch 19/100000\n",
            " - 7s - loss: 1424256412.3016 - val_loss: 1995305919.0297\n",
            "\n",
            "Epoch 00019: val_loss did not improve from 1986278243.30644\n",
            "Epoch 20/100000\n",
            " - 7s - loss: 1426567634.0676 - val_loss: 2006026202.1948\n",
            "\n",
            "Epoch 00020: val_loss did not improve from 1986278243.30644\n",
            "Epoch 21/100000\n",
            " - 7s - loss: 1420563799.3852 - val_loss: 1983901971.6120\n",
            "\n",
            "Epoch 00021: val_loss improved from 1986278243.30644 to 1983901971.61198, saving model to weights.hdf5\n",
            "Epoch 22/100000\n",
            " - 7s - loss: 1415241005.0136 - val_loss: 1988928249.9456\n",
            "\n",
            "Epoch 00022: val_loss did not improve from 1983901971.61198\n",
            "Epoch 23/100000\n",
            " - 7s - loss: 1416913403.2285 - val_loss: 1982056265.0051\n",
            "\n",
            "Epoch 00023: val_loss improved from 1983901971.61198 to 1982056265.00513, saving model to weights.hdf5\n",
            "Epoch 24/100000\n",
            " - 7s - loss: 1417008626.7347 - val_loss: 1986929745.8845\n",
            "\n",
            "Epoch 00024: val_loss did not improve from 1982056265.00513\n",
            "Epoch 25/100000\n",
            " - 7s - loss: 1417013431.0502 - val_loss: 1974007382.7014\n",
            "\n",
            "Epoch 00025: val_loss improved from 1982056265.00513 to 1974007382.70141, saving model to weights.hdf5\n",
            "Epoch 26/100000\n",
            " - 7s - loss: 1411736552.1606 - val_loss: 1980367494.5692\n",
            "\n",
            "Epoch 00026: val_loss did not improve from 1974007382.70141\n",
            "Epoch 27/100000\n",
            " - 7s - loss: 1413504156.0944 - val_loss: 1963855398.8905\n",
            "\n",
            "Epoch 00027: val_loss improved from 1974007382.70141 to 1963855398.89052, saving model to weights.hdf5\n",
            "Epoch 28/100000\n",
            " - 7s - loss: 1410919611.5875 - val_loss: 1951409761.7777\n",
            "\n",
            "Epoch 00028: val_loss improved from 1963855398.89052 to 1951409761.77769, saving model to weights.hdf5\n",
            "Epoch 29/100000\n",
            " - 7s - loss: 1416281422.6182 - val_loss: 1969423509.5160\n",
            "\n",
            "Epoch 00029: val_loss did not improve from 1951409761.77769\n",
            "Epoch 30/100000\n",
            " - 7s - loss: 1413309937.3753 - val_loss: 1976213695.7881\n",
            "\n",
            "Epoch 00030: val_loss did not improve from 1951409761.77769\n",
            "Epoch 31/100000\n",
            " - 7s - loss: 1412864000.2413 - val_loss: 1967684504.2446\n",
            "\n",
            "Epoch 00031: val_loss did not improve from 1951409761.77769\n",
            "Epoch 32/100000\n",
            " - 7s - loss: 1409217428.0359 - val_loss: 1962996084.5833\n",
            "\n",
            "Epoch 00032: val_loss did not improve from 1951409761.77769\n",
            "Epoch 33/100000\n",
            " - 7s - loss: 1407072170.9729 - val_loss: 1952648608.9332\n",
            "\n",
            "Epoch 00033: val_loss did not improve from 1951409761.77769\n",
            "Epoch 34/100000\n",
            " - 7s - loss: 1407341361.1240 - val_loss: 1971923285.3285\n",
            "\n",
            "Epoch 00034: val_loss did not improve from 1951409761.77769\n",
            "Epoch 35/100000\n",
            " - 7s - loss: 1406398890.1890 - val_loss: 1965862252.2161\n",
            "\n",
            "Epoch 00035: val_loss did not improve from 1951409761.77769\n",
            "Epoch 36/100000\n",
            " - 7s - loss: 1404737199.0387 - val_loss: 1972622314.8088\n",
            "\n",
            "Epoch 00036: val_loss did not improve from 1951409761.77769\n",
            "Epoch 37/100000\n",
            " - 7s - loss: 1409389191.4285 - val_loss: 1954674923.5176\n",
            "\n",
            "Epoch 00037: val_loss did not improve from 1951409761.77769\n",
            "Epoch 38/100000\n",
            " - 7s - loss: 1409397165.1822 - val_loss: 1963649774.0579\n",
            "\n",
            "Epoch 00038: val_loss did not improve from 1951409761.77769\n"
          ],
          "name": "stdout"
        }
      ]
    },
    {
      "metadata": {
        "id": "R6_c16zKlvlx",
        "colab_type": "code",
        "colab": {}
      },
      "cell_type": "code",
      "source": [
        "from keras.models import load_model\n",
        "\n",
        "model = load_model('weights.hdf5')"
      ],
      "execution_count": 0,
      "outputs": []
    },
    {
      "metadata": {
        "id": "dGyGMk11wns5",
        "colab_type": "code",
        "colab": {
          "base_uri": "https://localhost:8080/",
          "height": 34
        },
        "outputId": "9689da7c-88ef-4a86-f105-9709a98564b5"
      },
      "cell_type": "code",
      "source": [
        "from sklearn.metrics import mean_squared_error\n",
        "preds = model.predict(X_test)\n",
        "err = mean_squared_error(Y_test, preds)\n",
        "\n",
        "print(\"Error on test data: {}\".format(err))"
      ],
      "execution_count": 295,
      "outputs": [
        {
          "output_type": "stream",
          "text": [
            "Error on test data: 1202461271.5459595\n"
          ],
          "name": "stdout"
        }
      ]
    },
    {
      "metadata": {
        "id": "g3u3zbU0wqFr",
        "colab_type": "code",
        "colab": {
          "base_uri": "https://localhost:8080/",
          "height": 68
        },
        "outputId": "e8cf8959-8a27-4cdb-ae83-fa69eb0dbff6"
      },
      "cell_type": "code",
      "source": [
        "print(preds[0][:4])\n",
        "print(type(preds))\n",
        "print(type(Y_test))"
      ],
      "execution_count": 296,
      "outputs": [
        {
          "output_type": "stream",
          "text": [
            "[1.8545226e+00 1.4313721e+02 1.2102148e+04]\n",
            "<class 'numpy.ndarray'>\n",
            "<class 'pandas.core.frame.DataFrame'>\n"
          ],
          "name": "stdout"
        }
      ]
    },
    {
      "metadata": {
        "id": "w-GaNpjRxM5g",
        "colab_type": "code",
        "colab": {
          "base_uri": "https://localhost:8080/",
          "height": 51
        },
        "outputId": "72195595-da49-4ee4-c878-6122cfe68249"
      },
      "cell_type": "code",
      "source": [
        "print(preds.shape)\n",
        "print(Y_test.shape)"
      ],
      "execution_count": 297,
      "outputs": [
        {
          "output_type": "stream",
          "text": [
            "(29824, 3)\n",
            "(29824, 3)\n"
          ],
          "name": "stdout"
        }
      ]
    },
    {
      "metadata": {
        "id": "4NFxZTZ4yUqb",
        "colab_type": "code",
        "colab": {}
      },
      "cell_type": "code",
      "source": [
        "pred_df = pd.DataFrame(data=preds)"
      ],
      "execution_count": 0,
      "outputs": []
    },
    {
      "metadata": {
        "id": "XE1ibbbyysTi",
        "colab_type": "code",
        "colab": {
          "base_uri": "https://localhost:8080/",
          "height": 204
        },
        "outputId": "a0ad22ae-ba55-4faa-9cbf-d7bee1b674a9"
      },
      "cell_type": "code",
      "source": [
        "pred_df.head()"
      ],
      "execution_count": 299,
      "outputs": [
        {
          "output_type": "execute_result",
          "data": {
            "text/html": [
              "<div>\n",
              "<style scoped>\n",
              "    .dataframe tbody tr th:only-of-type {\n",
              "        vertical-align: middle;\n",
              "    }\n",
              "\n",
              "    .dataframe tbody tr th {\n",
              "        vertical-align: top;\n",
              "    }\n",
              "\n",
              "    .dataframe thead th {\n",
              "        text-align: right;\n",
              "    }\n",
              "</style>\n",
              "<table border=\"1\" class=\"dataframe\">\n",
              "  <thead>\n",
              "    <tr style=\"text-align: right;\">\n",
              "      <th></th>\n",
              "      <th>0</th>\n",
              "      <th>1</th>\n",
              "      <th>2</th>\n",
              "    </tr>\n",
              "  </thead>\n",
              "  <tbody>\n",
              "    <tr>\n",
              "      <th>0</th>\n",
              "      <td>1.854523</td>\n",
              "      <td>143.137207</td>\n",
              "      <td>12102.148438</td>\n",
              "    </tr>\n",
              "    <tr>\n",
              "      <th>1</th>\n",
              "      <td>1.234310</td>\n",
              "      <td>45.287964</td>\n",
              "      <td>3239.476562</td>\n",
              "    </tr>\n",
              "    <tr>\n",
              "      <th>2</th>\n",
              "      <td>1.476785</td>\n",
              "      <td>-86.171631</td>\n",
              "      <td>-9614.062500</td>\n",
              "    </tr>\n",
              "    <tr>\n",
              "      <th>3</th>\n",
              "      <td>1.154954</td>\n",
              "      <td>-172.237183</td>\n",
              "      <td>-14926.867188</td>\n",
              "    </tr>\n",
              "    <tr>\n",
              "      <th>4</th>\n",
              "      <td>1.768590</td>\n",
              "      <td>-140.093506</td>\n",
              "      <td>-12001.695312</td>\n",
              "    </tr>\n",
              "  </tbody>\n",
              "</table>\n",
              "</div>"
            ],
            "text/plain": [
              "          0           1             2\n",
              "0  1.854523  143.137207  12102.148438\n",
              "1  1.234310   45.287964   3239.476562\n",
              "2  1.476785  -86.171631  -9614.062500\n",
              "3  1.154954 -172.237183 -14926.867188\n",
              "4  1.768590 -140.093506 -12001.695312"
            ]
          },
          "metadata": {
            "tags": []
          },
          "execution_count": 299
        }
      ]
    },
    {
      "metadata": {
        "id": "0Ufv8XeFyvVM",
        "colab_type": "code",
        "colab": {
          "base_uri": "https://localhost:8080/",
          "height": 204
        },
        "outputId": "420e6372-828b-4f53-d313-18d89b5945f5"
      },
      "cell_type": "code",
      "source": [
        "Y_test.head()"
      ],
      "execution_count": 302,
      "outputs": [
        {
          "output_type": "execute_result",
          "data": {
            "text/html": [
              "<div>\n",
              "<style scoped>\n",
              "    .dataframe tbody tr th:only-of-type {\n",
              "        vertical-align: middle;\n",
              "    }\n",
              "\n",
              "    .dataframe tbody tr th {\n",
              "        vertical-align: top;\n",
              "    }\n",
              "\n",
              "    .dataframe thead th {\n",
              "        text-align: right;\n",
              "    }\n",
              "</style>\n",
              "<table border=\"1\" class=\"dataframe\">\n",
              "  <thead>\n",
              "    <tr style=\"text-align: right;\">\n",
              "      <th></th>\n",
              "      <th>state</th>\n",
              "      <th>backers</th>\n",
              "      <th>usd pledged</th>\n",
              "    </tr>\n",
              "  </thead>\n",
              "  <tbody>\n",
              "    <tr>\n",
              "      <th>268407</th>\n",
              "      <td>successful</td>\n",
              "      <td>121</td>\n",
              "      <td>8620.0</td>\n",
              "    </tr>\n",
              "    <tr>\n",
              "      <th>268408</th>\n",
              "      <td>failed</td>\n",
              "      <td>0</td>\n",
              "      <td>0.0</td>\n",
              "    </tr>\n",
              "    <tr>\n",
              "      <th>268409</th>\n",
              "      <td>successful</td>\n",
              "      <td>62</td>\n",
              "      <td>3406.0</td>\n",
              "    </tr>\n",
              "    <tr>\n",
              "      <th>268410</th>\n",
              "      <td>failed</td>\n",
              "      <td>4</td>\n",
              "      <td>86.0</td>\n",
              "    </tr>\n",
              "    <tr>\n",
              "      <th>268411</th>\n",
              "      <td>canceled</td>\n",
              "      <td>1</td>\n",
              "      <td>54.0</td>\n",
              "    </tr>\n",
              "  </tbody>\n",
              "</table>\n",
              "</div>"
            ],
            "text/plain": [
              "             state  backers  usd pledged\n",
              "268407  successful      121       8620.0\n",
              "268408      failed        0          0.0\n",
              "268409  successful       62       3406.0\n",
              "268410      failed        4         86.0\n",
              "268411    canceled        1         54.0"
            ]
          },
          "metadata": {
            "tags": []
          },
          "execution_count": 302
        }
      ]
    },
    {
      "metadata": {
        "id": "mvRyqICM1pVF",
        "colab_type": "code",
        "colab": {
          "base_uri": "https://localhost:8080/",
          "height": 173
        },
        "outputId": "bbbabf80-b7fa-438a-86d9-7f3025c158bb"
      },
      "cell_type": "code",
      "source": [
        "Y_test.state = state_le.inverse_transform(Y_test.state)"
      ],
      "execution_count": 301,
      "outputs": [
        {
          "output_type": "stream",
          "text": [
            "/usr/local/lib/python3.6/dist-packages/sklearn/preprocessing/label.py:151: DeprecationWarning: The truth value of an empty array is ambiguous. Returning False, but in future this will result in an error. Use `array.size > 0` to check that an array is not empty.\n",
            "  if diff:\n",
            "/usr/local/lib/python3.6/dist-packages/pandas/core/generic.py:3643: SettingWithCopyWarning: \n",
            "A value is trying to be set on a copy of a slice from a DataFrame.\n",
            "Try using .loc[row_indexer,col_indexer] = value instead\n",
            "\n",
            "See the caveats in the documentation: http://pandas.pydata.org/pandas-docs/stable/indexing.html#indexing-view-versus-copy\n",
            "  self[name] = value\n"
          ],
          "name": "stderr"
        }
      ]
    },
    {
      "metadata": {
        "id": "kOPL1mvH161n",
        "colab_type": "code",
        "colab": {
          "base_uri": "https://localhost:8080/",
          "height": 1071
        },
        "outputId": "fa49ab22-dfbe-4e8a-d6cc-06220263b13b"
      },
      "cell_type": "code",
      "source": [
        "pred_df[0]"
      ],
      "execution_count": 303,
      "outputs": [
        {
          "output_type": "execute_result",
          "data": {
            "text/plain": [
              "0        1.854523\n",
              "1        1.234310\n",
              "2        1.476785\n",
              "3        1.154954\n",
              "4        1.768590\n",
              "5        2.020177\n",
              "6        1.712959\n",
              "7        1.137712\n",
              "8        1.637320\n",
              "9        1.431555\n",
              "10       2.144732\n",
              "11       1.905660\n",
              "12       2.539652\n",
              "13       1.849550\n",
              "14       1.737180\n",
              "15       0.628774\n",
              "16       1.662036\n",
              "17       1.850657\n",
              "18       1.454541\n",
              "19       1.595048\n",
              "20       1.125447\n",
              "21       1.566085\n",
              "22       1.661106\n",
              "23       1.392544\n",
              "24       1.825468\n",
              "25       1.715683\n",
              "26       0.966332\n",
              "27       1.367498\n",
              "28       1.831913\n",
              "29       3.065158\n",
              "           ...   \n",
              "29794    1.367898\n",
              "29795    0.809116\n",
              "29796    1.963822\n",
              "29797    1.597848\n",
              "29798    1.696616\n",
              "29799    1.838276\n",
              "29800    1.561378\n",
              "29801    1.568236\n",
              "29802    1.906662\n",
              "29803    1.389450\n",
              "29804    1.700372\n",
              "29805    1.298922\n",
              "29806    1.398926\n",
              "29807    1.357550\n",
              "29808    1.213487\n",
              "29809    1.825180\n",
              "29810    1.381535\n",
              "29811    1.473561\n",
              "29812    1.693005\n",
              "29813    1.475507\n",
              "29814    1.516240\n",
              "29815    1.467871\n",
              "29816    1.952759\n",
              "29817    1.431612\n",
              "29818    0.805731\n",
              "29819    1.169000\n",
              "29820    1.432116\n",
              "29821    1.353778\n",
              "29822    1.907469\n",
              "29823    1.414396\n",
              "Name: 0, Length: 29824, dtype: float32"
            ]
          },
          "metadata": {
            "tags": []
          },
          "execution_count": 303
        }
      ]
    },
    {
      "metadata": {
        "id": "gcOXSrKY2Kcp",
        "colab_type": "code",
        "colab": {}
      },
      "cell_type": "code",
      "source": [
        "pred_df[0] = pred_df[0].apply(lambda x: int(np.round(x)) if x >= 0 else 0)"
      ],
      "execution_count": 0,
      "outputs": []
    },
    {
      "metadata": {
        "id": "PVt0lajF2Vcq",
        "colab_type": "code",
        "colab": {
          "base_uri": "https://localhost:8080/",
          "height": 1969
        },
        "outputId": "2815cdd0-88fc-44aa-a7dd-ae4bd7a78e21"
      },
      "cell_type": "code",
      "source": [
        "pred_df"
      ],
      "execution_count": 310,
      "outputs": [
        {
          "output_type": "execute_result",
          "data": {
            "text/html": [
              "<div>\n",
              "<style scoped>\n",
              "    .dataframe tbody tr th:only-of-type {\n",
              "        vertical-align: middle;\n",
              "    }\n",
              "\n",
              "    .dataframe tbody tr th {\n",
              "        vertical-align: top;\n",
              "    }\n",
              "\n",
              "    .dataframe thead th {\n",
              "        text-align: right;\n",
              "    }\n",
              "</style>\n",
              "<table border=\"1\" class=\"dataframe\">\n",
              "  <thead>\n",
              "    <tr style=\"text-align: right;\">\n",
              "      <th></th>\n",
              "      <th>0</th>\n",
              "      <th>1</th>\n",
              "      <th>2</th>\n",
              "    </tr>\n",
              "  </thead>\n",
              "  <tbody>\n",
              "    <tr>\n",
              "      <th>0</th>\n",
              "      <td>2</td>\n",
              "      <td>143.137207</td>\n",
              "      <td>12102.148438</td>\n",
              "    </tr>\n",
              "    <tr>\n",
              "      <th>1</th>\n",
              "      <td>1</td>\n",
              "      <td>45.287964</td>\n",
              "      <td>3239.476562</td>\n",
              "    </tr>\n",
              "    <tr>\n",
              "      <th>2</th>\n",
              "      <td>1</td>\n",
              "      <td>-86.171631</td>\n",
              "      <td>-9614.062500</td>\n",
              "    </tr>\n",
              "    <tr>\n",
              "      <th>3</th>\n",
              "      <td>1</td>\n",
              "      <td>-172.237183</td>\n",
              "      <td>-14926.867188</td>\n",
              "    </tr>\n",
              "    <tr>\n",
              "      <th>4</th>\n",
              "      <td>2</td>\n",
              "      <td>-140.093506</td>\n",
              "      <td>-12001.695312</td>\n",
              "    </tr>\n",
              "    <tr>\n",
              "      <th>5</th>\n",
              "      <td>2</td>\n",
              "      <td>127.593018</td>\n",
              "      <td>8610.632812</td>\n",
              "    </tr>\n",
              "    <tr>\n",
              "      <th>6</th>\n",
              "      <td>2</td>\n",
              "      <td>86.509155</td>\n",
              "      <td>7090.281250</td>\n",
              "    </tr>\n",
              "    <tr>\n",
              "      <th>7</th>\n",
              "      <td>1</td>\n",
              "      <td>-123.127991</td>\n",
              "      <td>-10050.539062</td>\n",
              "    </tr>\n",
              "    <tr>\n",
              "      <th>8</th>\n",
              "      <td>2</td>\n",
              "      <td>294.510498</td>\n",
              "      <td>20045.093750</td>\n",
              "    </tr>\n",
              "    <tr>\n",
              "      <th>9</th>\n",
              "      <td>1</td>\n",
              "      <td>-104.020752</td>\n",
              "      <td>-10256.656250</td>\n",
              "    </tr>\n",
              "    <tr>\n",
              "      <th>10</th>\n",
              "      <td>2</td>\n",
              "      <td>224.857910</td>\n",
              "      <td>16181.085938</td>\n",
              "    </tr>\n",
              "    <tr>\n",
              "      <th>11</th>\n",
              "      <td>2</td>\n",
              "      <td>-38.902466</td>\n",
              "      <td>-5866.273438</td>\n",
              "    </tr>\n",
              "    <tr>\n",
              "      <th>12</th>\n",
              "      <td>3</td>\n",
              "      <td>501.106934</td>\n",
              "      <td>39647.234375</td>\n",
              "    </tr>\n",
              "    <tr>\n",
              "      <th>13</th>\n",
              "      <td>2</td>\n",
              "      <td>42.892456</td>\n",
              "      <td>5237.593750</td>\n",
              "    </tr>\n",
              "    <tr>\n",
              "      <th>14</th>\n",
              "      <td>2</td>\n",
              "      <td>195.531006</td>\n",
              "      <td>14595.125000</td>\n",
              "    </tr>\n",
              "    <tr>\n",
              "      <th>15</th>\n",
              "      <td>1</td>\n",
              "      <td>-69.580566</td>\n",
              "      <td>-4410.609375</td>\n",
              "    </tr>\n",
              "    <tr>\n",
              "      <th>16</th>\n",
              "      <td>2</td>\n",
              "      <td>-67.481628</td>\n",
              "      <td>-9036.101562</td>\n",
              "    </tr>\n",
              "    <tr>\n",
              "      <th>17</th>\n",
              "      <td>2</td>\n",
              "      <td>-6.191711</td>\n",
              "      <td>-1608.679688</td>\n",
              "    </tr>\n",
              "    <tr>\n",
              "      <th>18</th>\n",
              "      <td>1</td>\n",
              "      <td>-157.088989</td>\n",
              "      <td>-17637.765625</td>\n",
              "    </tr>\n",
              "    <tr>\n",
              "      <th>19</th>\n",
              "      <td>2</td>\n",
              "      <td>127.224121</td>\n",
              "      <td>8370.421875</td>\n",
              "    </tr>\n",
              "    <tr>\n",
              "      <th>20</th>\n",
              "      <td>1</td>\n",
              "      <td>175.570312</td>\n",
              "      <td>14116.539062</td>\n",
              "    </tr>\n",
              "    <tr>\n",
              "      <th>21</th>\n",
              "      <td>2</td>\n",
              "      <td>-74.808289</td>\n",
              "      <td>-9229.648438</td>\n",
              "    </tr>\n",
              "    <tr>\n",
              "      <th>22</th>\n",
              "      <td>2</td>\n",
              "      <td>224.204346</td>\n",
              "      <td>17107.695312</td>\n",
              "    </tr>\n",
              "    <tr>\n",
              "      <th>23</th>\n",
              "      <td>1</td>\n",
              "      <td>-95.802673</td>\n",
              "      <td>-9541.632812</td>\n",
              "    </tr>\n",
              "    <tr>\n",
              "      <th>24</th>\n",
              "      <td>2</td>\n",
              "      <td>-42.431152</td>\n",
              "      <td>-5610.789062</td>\n",
              "    </tr>\n",
              "    <tr>\n",
              "      <th>25</th>\n",
              "      <td>2</td>\n",
              "      <td>168.544556</td>\n",
              "      <td>12032.476562</td>\n",
              "    </tr>\n",
              "    <tr>\n",
              "      <th>26</th>\n",
              "      <td>1</td>\n",
              "      <td>174.873413</td>\n",
              "      <td>14706.125000</td>\n",
              "    </tr>\n",
              "    <tr>\n",
              "      <th>27</th>\n",
              "      <td>1</td>\n",
              "      <td>-160.670776</td>\n",
              "      <td>-14418.109375</td>\n",
              "    </tr>\n",
              "    <tr>\n",
              "      <th>28</th>\n",
              "      <td>2</td>\n",
              "      <td>28.639160</td>\n",
              "      <td>-1510.039062</td>\n",
              "    </tr>\n",
              "    <tr>\n",
              "      <th>29</th>\n",
              "      <td>3</td>\n",
              "      <td>1269.906494</td>\n",
              "      <td>108620.007812</td>\n",
              "    </tr>\n",
              "    <tr>\n",
              "      <th>...</th>\n",
              "      <td>...</td>\n",
              "      <td>...</td>\n",
              "      <td>...</td>\n",
              "    </tr>\n",
              "    <tr>\n",
              "      <th>29794</th>\n",
              "      <td>1</td>\n",
              "      <td>161.805054</td>\n",
              "      <td>13494.210938</td>\n",
              "    </tr>\n",
              "    <tr>\n",
              "      <th>29795</th>\n",
              "      <td>1</td>\n",
              "      <td>118.101074</td>\n",
              "      <td>7293.070312</td>\n",
              "    </tr>\n",
              "    <tr>\n",
              "      <th>29796</th>\n",
              "      <td>2</td>\n",
              "      <td>229.553345</td>\n",
              "      <td>19998.210938</td>\n",
              "    </tr>\n",
              "    <tr>\n",
              "      <th>29797</th>\n",
              "      <td>2</td>\n",
              "      <td>235.111572</td>\n",
              "      <td>15065.148438</td>\n",
              "    </tr>\n",
              "    <tr>\n",
              "      <th>29798</th>\n",
              "      <td>2</td>\n",
              "      <td>169.891357</td>\n",
              "      <td>13166.257812</td>\n",
              "    </tr>\n",
              "    <tr>\n",
              "      <th>29799</th>\n",
              "      <td>2</td>\n",
              "      <td>337.224243</td>\n",
              "      <td>23943.921875</td>\n",
              "    </tr>\n",
              "    <tr>\n",
              "      <th>29800</th>\n",
              "      <td>2</td>\n",
              "      <td>-47.936279</td>\n",
              "      <td>-9412.734375</td>\n",
              "    </tr>\n",
              "    <tr>\n",
              "      <th>29801</th>\n",
              "      <td>2</td>\n",
              "      <td>-268.290649</td>\n",
              "      <td>-25628.171875</td>\n",
              "    </tr>\n",
              "    <tr>\n",
              "      <th>29802</th>\n",
              "      <td>2</td>\n",
              "      <td>58.143555</td>\n",
              "      <td>-991.765625</td>\n",
              "    </tr>\n",
              "    <tr>\n",
              "      <th>29803</th>\n",
              "      <td>1</td>\n",
              "      <td>16.169250</td>\n",
              "      <td>2429.945312</td>\n",
              "    </tr>\n",
              "    <tr>\n",
              "      <th>29804</th>\n",
              "      <td>2</td>\n",
              "      <td>170.765991</td>\n",
              "      <td>18407.414062</td>\n",
              "    </tr>\n",
              "    <tr>\n",
              "      <th>29805</th>\n",
              "      <td>1</td>\n",
              "      <td>130.791260</td>\n",
              "      <td>9575.914062</td>\n",
              "    </tr>\n",
              "    <tr>\n",
              "      <th>29806</th>\n",
              "      <td>1</td>\n",
              "      <td>97.712769</td>\n",
              "      <td>7093.226562</td>\n",
              "    </tr>\n",
              "    <tr>\n",
              "      <th>29807</th>\n",
              "      <td>1</td>\n",
              "      <td>149.301025</td>\n",
              "      <td>14356.093750</td>\n",
              "    </tr>\n",
              "    <tr>\n",
              "      <th>29808</th>\n",
              "      <td>1</td>\n",
              "      <td>65.449951</td>\n",
              "      <td>2509.304688</td>\n",
              "    </tr>\n",
              "    <tr>\n",
              "      <th>29809</th>\n",
              "      <td>2</td>\n",
              "      <td>265.881592</td>\n",
              "      <td>19545.460938</td>\n",
              "    </tr>\n",
              "    <tr>\n",
              "      <th>29810</th>\n",
              "      <td>1</td>\n",
              "      <td>-38.678833</td>\n",
              "      <td>-3179.632812</td>\n",
              "    </tr>\n",
              "    <tr>\n",
              "      <th>29811</th>\n",
              "      <td>1</td>\n",
              "      <td>21.167114</td>\n",
              "      <td>3737.929688</td>\n",
              "    </tr>\n",
              "    <tr>\n",
              "      <th>29812</th>\n",
              "      <td>2</td>\n",
              "      <td>-15.176880</td>\n",
              "      <td>-1819.257812</td>\n",
              "    </tr>\n",
              "    <tr>\n",
              "      <th>29813</th>\n",
              "      <td>1</td>\n",
              "      <td>172.640625</td>\n",
              "      <td>11443.507812</td>\n",
              "    </tr>\n",
              "    <tr>\n",
              "      <th>29814</th>\n",
              "      <td>2</td>\n",
              "      <td>24.286865</td>\n",
              "      <td>1252.132812</td>\n",
              "    </tr>\n",
              "    <tr>\n",
              "      <th>29815</th>\n",
              "      <td>1</td>\n",
              "      <td>17.891846</td>\n",
              "      <td>1164.835938</td>\n",
              "    </tr>\n",
              "    <tr>\n",
              "      <th>29816</th>\n",
              "      <td>2</td>\n",
              "      <td>388.000488</td>\n",
              "      <td>32071.476562</td>\n",
              "    </tr>\n",
              "    <tr>\n",
              "      <th>29817</th>\n",
              "      <td>1</td>\n",
              "      <td>-18.283936</td>\n",
              "      <td>-1213.765625</td>\n",
              "    </tr>\n",
              "    <tr>\n",
              "      <th>29818</th>\n",
              "      <td>1</td>\n",
              "      <td>-256.348450</td>\n",
              "      <td>-26281.371094</td>\n",
              "    </tr>\n",
              "    <tr>\n",
              "      <th>29819</th>\n",
              "      <td>1</td>\n",
              "      <td>-149.837952</td>\n",
              "      <td>-15829.570312</td>\n",
              "    </tr>\n",
              "    <tr>\n",
              "      <th>29820</th>\n",
              "      <td>1</td>\n",
              "      <td>75.603760</td>\n",
              "      <td>2537.414062</td>\n",
              "    </tr>\n",
              "    <tr>\n",
              "      <th>29821</th>\n",
              "      <td>1</td>\n",
              "      <td>170.692627</td>\n",
              "      <td>16790.468750</td>\n",
              "    </tr>\n",
              "    <tr>\n",
              "      <th>29822</th>\n",
              "      <td>2</td>\n",
              "      <td>170.115234</td>\n",
              "      <td>11333.375000</td>\n",
              "    </tr>\n",
              "    <tr>\n",
              "      <th>29823</th>\n",
              "      <td>1</td>\n",
              "      <td>213.766235</td>\n",
              "      <td>20114.703125</td>\n",
              "    </tr>\n",
              "  </tbody>\n",
              "</table>\n",
              "<p>29824 rows × 3 columns</p>\n",
              "</div>"
            ],
            "text/plain": [
              "       0            1              2\n",
              "0      2   143.137207   12102.148438\n",
              "1      1    45.287964    3239.476562\n",
              "2      1   -86.171631   -9614.062500\n",
              "3      1  -172.237183  -14926.867188\n",
              "4      2  -140.093506  -12001.695312\n",
              "5      2   127.593018    8610.632812\n",
              "6      2    86.509155    7090.281250\n",
              "7      1  -123.127991  -10050.539062\n",
              "8      2   294.510498   20045.093750\n",
              "9      1  -104.020752  -10256.656250\n",
              "10     2   224.857910   16181.085938\n",
              "11     2   -38.902466   -5866.273438\n",
              "12     3   501.106934   39647.234375\n",
              "13     2    42.892456    5237.593750\n",
              "14     2   195.531006   14595.125000\n",
              "15     1   -69.580566   -4410.609375\n",
              "16     2   -67.481628   -9036.101562\n",
              "17     2    -6.191711   -1608.679688\n",
              "18     1  -157.088989  -17637.765625\n",
              "19     2   127.224121    8370.421875\n",
              "20     1   175.570312   14116.539062\n",
              "21     2   -74.808289   -9229.648438\n",
              "22     2   224.204346   17107.695312\n",
              "23     1   -95.802673   -9541.632812\n",
              "24     2   -42.431152   -5610.789062\n",
              "25     2   168.544556   12032.476562\n",
              "26     1   174.873413   14706.125000\n",
              "27     1  -160.670776  -14418.109375\n",
              "28     2    28.639160   -1510.039062\n",
              "29     3  1269.906494  108620.007812\n",
              "...   ..          ...            ...\n",
              "29794  1   161.805054   13494.210938\n",
              "29795  1   118.101074    7293.070312\n",
              "29796  2   229.553345   19998.210938\n",
              "29797  2   235.111572   15065.148438\n",
              "29798  2   169.891357   13166.257812\n",
              "29799  2   337.224243   23943.921875\n",
              "29800  2   -47.936279   -9412.734375\n",
              "29801  2  -268.290649  -25628.171875\n",
              "29802  2    58.143555    -991.765625\n",
              "29803  1    16.169250    2429.945312\n",
              "29804  2   170.765991   18407.414062\n",
              "29805  1   130.791260    9575.914062\n",
              "29806  1    97.712769    7093.226562\n",
              "29807  1   149.301025   14356.093750\n",
              "29808  1    65.449951    2509.304688\n",
              "29809  2   265.881592   19545.460938\n",
              "29810  1   -38.678833   -3179.632812\n",
              "29811  1    21.167114    3737.929688\n",
              "29812  2   -15.176880   -1819.257812\n",
              "29813  1   172.640625   11443.507812\n",
              "29814  2    24.286865    1252.132812\n",
              "29815  1    17.891846    1164.835938\n",
              "29816  2   388.000488   32071.476562\n",
              "29817  1   -18.283936   -1213.765625\n",
              "29818  1  -256.348450  -26281.371094\n",
              "29819  1  -149.837952  -15829.570312\n",
              "29820  1    75.603760    2537.414062\n",
              "29821  1   170.692627   16790.468750\n",
              "29822  2   170.115234   11333.375000\n",
              "29823  1   213.766235   20114.703125\n",
              "\n",
              "[29824 rows x 3 columns]"
            ]
          },
          "metadata": {
            "tags": []
          },
          "execution_count": 310
        }
      ]
    },
    {
      "metadata": {
        "id": "qJS0JSF42W8y",
        "colab_type": "code",
        "colab": {
          "base_uri": "https://localhost:8080/",
          "height": 71
        },
        "outputId": "39abe183-bc2e-4ad3-8492-e01cf12b0463"
      },
      "cell_type": "code",
      "source": [
        "pred_df[0] = state_le.inverse_transform(pred_df[0])"
      ],
      "execution_count": 311,
      "outputs": [
        {
          "output_type": "stream",
          "text": [
            "/usr/local/lib/python3.6/dist-packages/sklearn/preprocessing/label.py:151: DeprecationWarning: The truth value of an empty array is ambiguous. Returning False, but in future this will result in an error. Use `array.size > 0` to check that an array is not empty.\n",
            "  if diff:\n"
          ],
          "name": "stderr"
        }
      ]
    },
    {
      "metadata": {
        "id": "R_20eNdr2iUw",
        "colab_type": "code",
        "colab": {
          "base_uri": "https://localhost:8080/",
          "height": 221
        },
        "outputId": "4d44e7a3-29a1-4730-882e-a8542100c2d1"
      },
      "cell_type": "code",
      "source": [
        "print(pred_df.head())\n",
        "print(Y_test.head())"
      ],
      "execution_count": 314,
      "outputs": [
        {
          "output_type": "stream",
          "text": [
            "        0           1             2\n",
            "0    live  143.137207  12102.148438\n",
            "1  failed   45.287964   3239.476562\n",
            "2  failed  -86.171631  -9614.062500\n",
            "3  failed -172.237183 -14926.867188\n",
            "4    live -140.093506 -12001.695312\n",
            "             state  backers  usd pledged\n",
            "268407  successful      121       8620.0\n",
            "268408      failed        0          0.0\n",
            "268409  successful       62       3406.0\n",
            "268410      failed        4         86.0\n",
            "268411    canceled        1         54.0\n"
          ],
          "name": "stdout"
        }
      ]
    },
    {
      "metadata": {
        "id": "bbIf0su-3Hs9",
        "colab_type": "code",
        "colab": {}
      },
      "cell_type": "code",
      "source": [
        ""
      ],
      "execution_count": 0,
      "outputs": []
    }
  ]
}