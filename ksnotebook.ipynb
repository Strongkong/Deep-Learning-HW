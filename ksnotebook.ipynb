{
  "nbformat": 4,
  "nbformat_minor": 0,
  "metadata": {
    "colab": {
      "name": "ksnotebook.ipynb",
      "version": "0.3.2",
      "provenance": [],
      "collapsed_sections": [],
      "toc_visible": true,
      "include_colab_link": true
    },
    "kernelspec": {
      "name": "python3",
      "display_name": "Python 3"
    },
    "accelerator": "GPU"
  },
  "cells": [
    {
      "cell_type": "markdown",
      "metadata": {
        "id": "view-in-github",
        "colab_type": "text"
      },
      "source": [
        "<a href=\"https://colab.research.google.com/github/Strongkong/Deep-Learning-HW/blob/master/ksnotebook.ipynb\" target=\"_parent\"><img src=\"https://colab.research.google.com/assets/colab-badge.svg\" alt=\"Open In Colab\"/></a>"
      ]
    },
    {
      "metadata": {
        "id": "X5yRk3LJ8nZN",
        "colab_type": "text"
      },
      "cell_type": "markdown",
      "source": [
        "# Kickstarter project"
      ]
    },
    {
      "metadata": {
        "id": "E7oYiGdT8nZP",
        "colab_type": "code",
        "colab": {}
      },
      "cell_type": "code",
      "source": [
        "import numpy as np\n",
        "import pandas as pd\n",
        "%matplotlib inline\n",
        "import matplotlib.pyplot as plt"
      ],
      "execution_count": 0,
      "outputs": []
    },
    {
      "metadata": {
        "id": "Pvz5Ll8k89Xv",
        "colab_type": "text"
      },
      "cell_type": "markdown",
      "source": [
        "## Preparation of data -> this was done offline, result is \"test_joined.csv\""
      ]
    },
    {
      "metadata": {
        "id": "sylEcU309NRi",
        "colab_type": "text"
      },
      "cell_type": "markdown",
      "source": [
        "### Cleaning the kaggle dataset"
      ]
    },
    {
      "metadata": {
        "id": "UpolHXDU-Ra5",
        "colab_type": "text"
      },
      "cell_type": "markdown",
      "source": [
        "Dataset 1: https://www.kaggle.com/kemical/kickstarter-projects#ks-projects-201801.csv"
      ]
    },
    {
      "metadata": {
        "id": "LXl8JAO3-sC1",
        "colab_type": "text"
      },
      "cell_type": "markdown",
      "source": [
        "Dataset 2: https://webrobots.io/kickstarter-datasets/"
      ]
    },
    {
      "metadata": {
        "id": "b5J5wLJU9q84",
        "colab_type": "code",
        "colab": {}
      },
      "cell_type": "code",
      "source": [
        "def cleankaggle():\n",
        "  data = []\n",
        "  linecnt = 0\n",
        "  with open(\"ks-projects-201801.csv\", encoding='latin1') as f:\n",
        "      for line in f.readlines():\n",
        "          split_ = line.split(',')\n",
        "          linecnt += 1\n",
        "          if linecnt % 10000 == 0:\n",
        "              print(linecnt)\n",
        "          if len(split_) == 15:\n",
        "              data.append(line)\n",
        "\n",
        "  print(\"Added {} to output\".format(len(data)))\n",
        "  with open(\"test_newer.csv\", 'w', encoding='latin1') as outf:\n",
        "      outf.writelines(data)"
      ],
      "execution_count": 0,
      "outputs": []
    },
    {
      "metadata": {
        "id": "ySNQZVDo9xfc",
        "colab_type": "text"
      },
      "cell_type": "markdown",
      "source": [
        "### Cleaning and joining the webcrawler dataset"
      ]
    },
    {
      "metadata": {
        "id": "ClApARI3968O",
        "colab_type": "code",
        "colab": {}
      },
      "cell_type": "code",
      "source": [
        "def cleanwebcrawler():\n",
        "  import os\n",
        "  from csv import reader, writer\n",
        "\n",
        "  inputfolder = r\"G:\\Deep Learning\"\n",
        "  csv_filetemplate = \"Kickstarter%03d.csv\"\n",
        "  first = True\n",
        "\n",
        "\n",
        "  def clean_columns(split2):\n",
        "      max_len = 37\n",
        "      keep = [1, 16, 29, 30]\n",
        "      temp = []\n",
        "      for i in range(0, max_len):\n",
        "          if i in keep:\n",
        "              temp.append(split2[i])\n",
        "\n",
        "      return temp\n",
        "\n",
        "\n",
        "  for i in range(0, 51):\n",
        "      linecnt = 0\n",
        "      data = []\n",
        "      fname = csv_filetemplate % i if i != 0 else \"Kickstarter.csv\"\n",
        "      fname = inputfolder + os.sep + fname\n",
        "      print(\"Opening and processing {}\".format(fname))\n",
        "      with open(fname, encoding='latin1') as f:\n",
        "          csvreader = reader(f)\n",
        "          for line in csvreader:\n",
        "              if first:\n",
        "                  split_ = line\n",
        "                  print(\"First line: {}\".format(split_))\n",
        "                  split_ = clean_columns(split_)\n",
        "                  print(\"Cleaned first line: {}\".format(split_))\n",
        "                  data.append(split_)\n",
        "                  first = False\n",
        "              else:\n",
        "                  split_ = line\n",
        "                  linecnt += 1\n",
        "                  if linecnt % 1000 == 0:\n",
        "                      print(linecnt)\n",
        "                      print(len(split_))\n",
        "                  if len(split_) == 37:\n",
        "                      split_ = clean_columns(split_)\n",
        "                      data.append(split_)\n",
        "      print(\"Added {} to output from file {}\".format(len(data), fname))\n",
        "      with open(\"test_dataset2.csv\", 'a', encoding='latin1', newline='') as outf:\n",
        "          csvwriter = writer(outf)\n",
        "          for row in data:\n",
        "              csvwriter.writerow(row)"
      ],
      "execution_count": 0,
      "outputs": []
    },
    {
      "metadata": {
        "id": "yQsTRAOu-KAk",
        "colab_type": "text"
      },
      "cell_type": "markdown",
      "source": [
        "### Joining the two datasets on ID"
      ]
    },
    {
      "metadata": {
        "id": "L1cUBvxr-nzr",
        "colab_type": "code",
        "colab": {}
      },
      "cell_type": "code",
      "source": [
        "def joinonids():\n",
        "  from csv import reader, writer\n",
        "\n",
        "  with open(\"test_newer.csv\", encoding='latin1') as f:\n",
        "      with open(\"test_dataset2.csv\", encoding='latin1') as second:\n",
        "          csvreader1 = reader(f)\n",
        "          csvreader2 = reader(second)\n",
        "          cache = dict()\n",
        "          firstrow = None\n",
        "          for row in csvreader1:\n",
        "              if firstrow is None:\n",
        "                  firstrow = row\n",
        "              else:\n",
        "                  cache[row[0]] = row\n",
        "\n",
        "          print(\"Done caching IDs from first file.\")\n",
        "          output = list()\n",
        "          for row in csvreader2:\n",
        "              if firstrow is not None:\n",
        "                  key = row.pop(1)\n",
        "                  row.extend(firstrow)\n",
        "                  output.append(row)\n",
        "                  firstrow = None\n",
        "              else:\n",
        "                  if row[1] in cache.keys():\n",
        "                      key = row.pop(1)\n",
        "                      row.extend(cache[key])\n",
        "                      del cache[key]\n",
        "                      output.append(row)\n",
        "\n",
        "  print(\"IDs found in test.csv = {}\".format(len(cache) + len(output)))\n",
        "  print(\"Matching IDs output = {}\".format(len(output)))\n",
        "  print(\"Writing out...\")\n",
        "  with open(\"test_joined.csv\", 'w', encoding='latin1', newline='') as outf:\n",
        "      csvwriter = writer(outf)\n",
        "      for row in output:\n",
        "          csvwriter.writerow(row)"
      ],
      "execution_count": 0,
      "outputs": []
    },
    {
      "metadata": {
        "id": "kS89oWau8cXc",
        "colab_type": "text"
      },
      "cell_type": "markdown",
      "source": [
        "## Github clone the dataset -> separate from normal github"
      ]
    },
    {
      "metadata": {
        "id": "V-B4fefI8ish",
        "colab_type": "code",
        "outputId": "371adc19-7faa-4e59-dfa5-e8fd67ebbd9c",
        "colab": {
          "base_uri": "https://localhost:8080/",
          "height": 34
        }
      },
      "cell_type": "code",
      "source": [
        "!git clone https://github.com/Strongkong/cleaned_kickstarted_dataset"
      ],
      "execution_count": 23,
      "outputs": [
        {
          "output_type": "stream",
          "text": [
            "fatal: destination path 'cleaned_kickstarted_dataset' already exists and is not an empty directory.\n"
          ],
          "name": "stdout"
        }
      ]
    },
    {
      "metadata": {
        "id": "qPajLmYW8nSo",
        "colab_type": "code",
        "colab": {}
      },
      "cell_type": "code",
      "source": [
        "folder = \"./cleaned_kickstarted_dataset/\"\n",
        "filename = \"test_joined.csv\"\n",
        "fullpath = folder + filename"
      ],
      "execution_count": 0,
      "outputs": []
    },
    {
      "metadata": {
        "id": "k8x91cKU8nZS",
        "colab_type": "text"
      },
      "cell_type": "markdown",
      "source": [
        "## Load csv file"
      ]
    },
    {
      "metadata": {
        "id": "UL8JcRzM8nZT",
        "colab_type": "code",
        "colab": {}
      },
      "cell_type": "code",
      "source": [
        "df = pd.read_csv(fullpath, encoding='utf-8', sep=',')"
      ],
      "execution_count": 0,
      "outputs": []
    },
    {
      "metadata": {
        "id": "QRNurOT88nZV",
        "colab_type": "text"
      },
      "cell_type": "markdown",
      "source": [
        "## Remove whitespaces from header names"
      ]
    },
    {
      "metadata": {
        "id": "zMCu1kr38nZW",
        "colab_type": "code",
        "colab": {}
      },
      "cell_type": "code",
      "source": [
        "df = df.rename(columns=lambda x: x.strip())\n"
      ],
      "execution_count": 0,
      "outputs": []
    },
    {
      "metadata": {
        "id": "qVUgVciBdiy_",
        "colab_type": "text"
      },
      "cell_type": "markdown",
      "source": [
        "## Get rid of unnecessary columns"
      ]
    },
    {
      "metadata": {
        "id": "q-5kTqwDdtmX",
        "colab_type": "code",
        "colab": {}
      },
      "cell_type": "code",
      "source": [
        "# not necessary: spotlight, staff_pick, goal, usd pledged, pledged\n",
        "df = df[['blurb', 'ID', 'name', 'category', 'main_category', 'currency', 'deadline', 'usd_goal_real', 'launched', 'usd_pledged_real', 'state', 'backers', 'country']]"
      ],
      "execution_count": 0,
      "outputs": []
    },
    {
      "metadata": {
        "id": "WQv0MxgeSdoF",
        "colab_type": "code",
        "colab": {}
      },
      "cell_type": "code",
      "source": [
        "# print(df.count()['ID'])\n",
        "# print(df.count()['blurb'])"
      ],
      "execution_count": 0,
      "outputs": []
    },
    {
      "metadata": {
        "id": "2urU1P06S45Q",
        "colab_type": "code",
        "outputId": "bf78c57b-cfdd-4adc-d581-000b999ea636",
        "colab": {
          "base_uri": "https://localhost:8080/",
          "height": 34
        }
      },
      "cell_type": "code",
      "source": [
        "# df[df.isnull().any(axis=1)]\n",
        "df = df[df.notnull().all(axis=1)].reset_index(drop=True)\n",
        "print(len(df))"
      ],
      "execution_count": 29,
      "outputs": [
        {
          "output_type": "stream",
          "text": [
            "160307\n"
          ],
          "name": "stdout"
        }
      ]
    },
    {
      "metadata": {
        "id": "3w7mCo8d8nZZ",
        "colab_type": "text"
      },
      "cell_type": "markdown",
      "source": [
        "## Peak at head"
      ]
    },
    {
      "metadata": {
        "colab_type": "code",
        "id": "-biX_6SbwfVF",
        "outputId": "fe794272-7cba-455d-d93b-053bd587cbcb",
        "colab": {
          "base_uri": "https://localhost:8080/",
          "height": 34
        }
      },
      "cell_type": "code",
      "source": [
        "print (df.blurb[3])"
      ],
      "execution_count": 30,
      "outputs": [
        {
          "output_type": "stream",
          "text": [
            "Für die Finanzierung der Veröffentlichung meiner Masterarbeit, die dann als eigenständiges Buch bei Turia&Kant erscheint.\n"
          ],
          "name": "stdout"
        }
      ]
    },
    {
      "metadata": {
        "id": "c9cyrQ908nZZ",
        "colab_type": "code",
        "colab": {}
      },
      "cell_type": "code",
      "source": [
        "# df.head()"
      ],
      "execution_count": 0,
      "outputs": []
    },
    {
      "metadata": {
        "id": "XQ3TzDP2hN5s",
        "colab_type": "code",
        "colab": {}
      },
      "cell_type": "code",
      "source": [
        "# df.tail()"
      ],
      "execution_count": 0,
      "outputs": []
    },
    {
      "metadata": {
        "id": "Bl-ma1O78nZg",
        "colab_type": "text"
      },
      "cell_type": "markdown",
      "source": [
        "## Main categorical features"
      ]
    },
    {
      "metadata": {
        "id": "CvF2Gjh28nZg",
        "colab_type": "text"
      },
      "cell_type": "markdown",
      "source": [
        "### Categories"
      ]
    },
    {
      "metadata": {
        "id": "diJTk7eL8nZh",
        "colab_type": "code",
        "colab": {}
      },
      "cell_type": "code",
      "source": [
        "categories = df.category.unique()\n",
        "# print(categories)"
      ],
      "execution_count": 0,
      "outputs": []
    },
    {
      "metadata": {
        "id": "d3D3pfju8nZk",
        "colab_type": "text"
      },
      "cell_type": "markdown",
      "source": [
        "### Main categories"
      ]
    },
    {
      "metadata": {
        "id": "UlJQUbeG8nZl",
        "colab_type": "code",
        "colab": {}
      },
      "cell_type": "code",
      "source": [
        "main_categories = df.main_category.unique()\n",
        "# print(main_categories)"
      ],
      "execution_count": 0,
      "outputs": []
    },
    {
      "metadata": {
        "id": "68EH_5tl8nZp",
        "colab_type": "text"
      },
      "cell_type": "markdown",
      "source": [
        "### Currencies"
      ]
    },
    {
      "metadata": {
        "id": "tz-yLtK28nZq",
        "colab_type": "code",
        "colab": {}
      },
      "cell_type": "code",
      "source": [
        "currencies = df.currency.unique()\n",
        "# print(currencies)"
      ],
      "execution_count": 0,
      "outputs": []
    },
    {
      "metadata": {
        "id": "NrAfcOjY8nZu",
        "colab_type": "text"
      },
      "cell_type": "markdown",
      "source": [
        "### States"
      ]
    },
    {
      "metadata": {
        "id": "ksWG1Pb68nZu",
        "colab_type": "code",
        "colab": {}
      },
      "cell_type": "code",
      "source": [
        "states = df.state.unique()\n",
        "# print(states)"
      ],
      "execution_count": 0,
      "outputs": []
    },
    {
      "metadata": {
        "id": "5SZGj4VjIlSo",
        "colab_type": "text"
      },
      "cell_type": "markdown",
      "source": [
        "#### Only keep failed and successful"
      ]
    },
    {
      "metadata": {
        "id": "-w2VTdsjTKs0",
        "colab_type": "code",
        "colab": {}
      },
      "cell_type": "code",
      "source": [
        "# df.groupby('state').count()[['ID']]"
      ],
      "execution_count": 0,
      "outputs": []
    },
    {
      "metadata": {
        "id": "UTIz7tQ2Oibe",
        "colab_type": "code",
        "colab": {}
      },
      "cell_type": "code",
      "source": [
        "df = df.loc[(df['state'] == 'failed') | (df['state'] == 'successful')].reset_index(drop=True)\n",
        "\n",
        "# df.count()['ID']"
      ],
      "execution_count": 0,
      "outputs": []
    },
    {
      "metadata": {
        "id": "HQOmV5QTPtrA",
        "colab_type": "code",
        "outputId": "a764c302-c73c-428e-9d77-4f861627ef74",
        "colab": {
          "base_uri": "https://localhost:8080/",
          "height": 142
        }
      },
      "cell_type": "code",
      "source": [
        "df.groupby('state').count()[['ID']]"
      ],
      "execution_count": 39,
      "outputs": [
        {
          "output_type": "execute_result",
          "data": {
            "text/html": [
              "<div>\n",
              "<style scoped>\n",
              "    .dataframe tbody tr th:only-of-type {\n",
              "        vertical-align: middle;\n",
              "    }\n",
              "\n",
              "    .dataframe tbody tr th {\n",
              "        vertical-align: top;\n",
              "    }\n",
              "\n",
              "    .dataframe thead th {\n",
              "        text-align: right;\n",
              "    }\n",
              "</style>\n",
              "<table border=\"1\" class=\"dataframe\">\n",
              "  <thead>\n",
              "    <tr style=\"text-align: right;\">\n",
              "      <th></th>\n",
              "      <th>ID</th>\n",
              "    </tr>\n",
              "    <tr>\n",
              "      <th>state</th>\n",
              "      <th></th>\n",
              "    </tr>\n",
              "  </thead>\n",
              "  <tbody>\n",
              "    <tr>\n",
              "      <th>failed</th>\n",
              "      <td>65918</td>\n",
              "    </tr>\n",
              "    <tr>\n",
              "      <th>successful</th>\n",
              "      <td>85646</td>\n",
              "    </tr>\n",
              "  </tbody>\n",
              "</table>\n",
              "</div>"
            ],
            "text/plain": [
              "               ID\n",
              "state            \n",
              "failed      65918\n",
              "successful  85646"
            ]
          },
          "metadata": {
            "tags": []
          },
          "execution_count": 39
        }
      ]
    },
    {
      "metadata": {
        "id": "LrOHz__x8nZx",
        "colab_type": "text"
      },
      "cell_type": "markdown",
      "source": [
        "### Country"
      ]
    },
    {
      "metadata": {
        "id": "8018H5cp8nZy",
        "colab_type": "code",
        "colab": {}
      },
      "cell_type": "code",
      "source": [
        "countries = df.country.unique()\n",
        "# print(countries)"
      ],
      "execution_count": 0,
      "outputs": []
    },
    {
      "metadata": {
        "id": "Yf7rXKRG9u7-",
        "colab_type": "text"
      },
      "cell_type": "markdown",
      "source": [
        "## Output scaling"
      ]
    },
    {
      "metadata": {
        "id": "8xjYYZC29zKX",
        "colab_type": "code",
        "colab": {}
      },
      "cell_type": "code",
      "source": [
        "df['usd_goal_real'] = df['usd_goal_real'].apply(lambda x: x/1000, 1)\n",
        "df['usd_pledged_real'] = df['usd_pledged_real'].apply(lambda x: x/1000, 1)"
      ],
      "execution_count": 0,
      "outputs": []
    },
    {
      "metadata": {
        "id": "XCGEBG8i8nZ3",
        "colab_type": "text"
      },
      "cell_type": "markdown",
      "source": [
        "## Data visualization"
      ]
    },
    {
      "metadata": {
        "id": "TURL-x388nZ5",
        "colab_type": "text"
      },
      "cell_type": "markdown",
      "source": [
        "### Categorical features"
      ]
    },
    {
      "metadata": {
        "id": "b9q-Vcwk8nZ7",
        "colab_type": "code",
        "colab": {}
      },
      "cell_type": "code",
      "source": [
        "categorical_features = ['category', 'main_category', 'state', 'country', 'currency']\n",
        "from copy import deepcopy\n",
        "data = deepcopy(df)\n",
        "n_items = len(data)"
      ],
      "execution_count": 0,
      "outputs": []
    },
    {
      "metadata": {
        "id": "MplKhVX_8nZ_",
        "colab_type": "text"
      },
      "cell_type": "markdown",
      "source": [
        "### COMMENTED OUT Only display common ones (source: laboratory 1)"
      ]
    },
    {
      "metadata": {
        "id": "rbubHLlx8naA",
        "colab_type": "code",
        "colab": {
          "base_uri": "https://localhost:8080/",
          "height": 6017
        },
        "outputId": "ca4160b7-3129-491e-facc-0fcee6751932"
      },
      "cell_type": "code",
      "source": [
        "index_ = 1\n",
        "\n",
        "#plt.subplots_adjust(hspace=3.5)\n",
        "for feat in categorical_features:\n",
        "  fig = plt.figure(figsize=(11,12), dpi=100)\n",
        "  ax = fig.add_subplot(1,1,1)\n",
        "  plt.subplots_adjust(hspace=0.5)\n",
        "  uniques = data[feat].nunique()\n",
        "  print(\"Processing {}. Unique count: {}.\".format(feat, uniques))\n",
        "  if uniques < 160:\n",
        "    print(data[feat].unique())\n",
        "    for feat_value in data[feat].unique():\n",
        "      if (len(data[data[feat]==feat_value])) / n_items < 0.015:\n",
        "        # print(\"Adding {} category to OTHER...\".format(feat_value))\n",
        "        data[feat] = data[feat].apply(lambda x: \"OTHER\" if x==feat_value else x, 1)\n",
        "  counts = data.groupby(feat).count()\n",
        "  #plt.subplot(len(categorical_features), 1, index_)\n",
        "  index_ += 1\n",
        "  counts.iloc[:,0].plot(kind='bar', ax=ax, figsize=(11,12), title='feat', grid=True)\n",
        "  plt.grid(b=True, which='major', color='b', linestyle='--', axis='y')\n",
        "  plt.show()\n",
        "  print(type(counts.iloc[:,0]))"
      ],
      "execution_count": 107,
      "outputs": [
        {
          "output_type": "stream",
          "text": [
            "Processing category. Unique count: 159.\n",
            "['Nonfiction' 'Publishing' 'Mixed Media' 'Web' 'People' 'Comic Books'\n",
            " 'Comedy' 'Punk' 'Technology' 'Theater' 'Jazz' 'Software' 'Anthologies'\n",
            " 'Science Fiction' 'Illustration' 'Gadgets' 'Product Design' 'Farms'\n",
            " 'Workshops' 'Footwear' 'Weaving' 'Sculpture' 'Experimental' 'Pet Fashion'\n",
            " 'Art' 'Graphic Design' 'Civic Design' 'Tabletop Games' 'Calendars'\n",
            " 'Design' 'Electronic Music' 'Installations' 'Family' 'Festivals'\n",
            " 'Conceptual Art' 'Performance Art' 'Glass' 'Painting' 'Plays'\n",
            " 'Letterpress' 'Public Art' 'Accessories' 'DIY' 'Small Batch'\n",
            " 'Video Games' 'Music' 'Comics' 'Digital Art' 'Immersive' 'Hardware'\n",
            " 'Radio & Podcasts' \"Children's Books\" 'Jewelry' 'Flight' 'Musical' 'Rock'\n",
            " 'Apparel' 'Nature' 'Games' 'Crafts' 'Robots' 'Stationery' 'Fine Art'\n",
            " 'DIY Electronics' 'Space Exploration' 'Apps' 'Movie Theaters'\n",
            " 'Woodworking' 'Printing' 'Knitting' 'Crochet' 'Camera Equipment'\n",
            " 'Wearables' 'Makerspaces' 'Pottery' 'Photography' 'Fashion' 'Candles'\n",
            " 'Embroidery' 'Photobooks' 'Art Books' '3D Printing' 'Sound' 'Quilts'\n",
            " 'Puzzles' 'Country & Folk' 'Academic' 'Drama' 'Classical Music' 'Drinks'\n",
            " 'Playing Cards' 'Periodicals' 'Graphic Novels' 'Narrative Film'\n",
            " 'Thrillers' 'Literary Journals' 'Childrenswear' 'Audio' 'Webcomics'\n",
            " 'Events' 'Print' 'Poetry' 'Spaces' 'Blues' 'Interactive Design' 'Fiction'\n",
            " 'Fantasy' 'Romance' 'Animals' 'Places' 'Chiptune' 'Horror' 'Couture'\n",
            " 'Film & Video' 'Food' 'Typography' 'Architecture' 'Fabrication Tools'\n",
            " 'Webseries' 'Hip-Hop' 'Performances' 'Dance' 'Shorts' 'Action'\n",
            " 'Young Adult' 'Gaming Hardware' 'Animation' 'Music Videos' 'Pop'\n",
            " 'Indie Rock' 'Television' 'Documentary' \"Farmer's Markets\" 'Cookbooks'\n",
            " 'Kids' 'Residencies' 'Textiles' 'World Music' 'Literary Spaces'\n",
            " 'Ready-to-wear' 'Zines' 'Faith' 'Video' 'Vegan' 'Food Trucks' 'Bacon'\n",
            " 'Metal' 'Community Gardens' 'R&B' 'Restaurants' 'Photo' 'Journalism'\n",
            " 'Live Games' 'Translations' 'Video Art' 'Latin' 'Mobile Games' 'Ceramics'\n",
            " 'Taxidermy']\n"
          ],
          "name": "stdout"
        },
        {
          "output_type": "display_data",
          "data": {
            "image/png": "[encoded data removed]",
            "text/plain": [
              "<matplotlib.figure.Figure at 0x7fc71a0be828>"
            ]
          },
          "metadata": {
            "tags": []
          }
        },
        {
          "output_type": "stream",
          "text": [
            "<class 'pandas.core.series.Series'>\n",
            "Processing main_category. Unique count: 15.\n",
            "['Publishing' 'Art' 'Journalism' 'Photography' 'Comics' 'Film & Video'\n",
            " 'Music' 'Technology' 'Theater' 'Design' 'Food' 'Dance' 'Fashion' 'Crafts'\n",
            " 'Games']\n"
          ],
          "name": "stdout"
        },
        {
          "output_type": "display_data",
          "data": {
            "image/png": "[encoded data removed]",
            "text/plain": [
              "<matplotlib.figure.Figure at 0x7fc71a1108d0>"
            ]
          },
          "metadata": {
            "tags": []
          }
        },
        {
          "output_type": "stream",
          "text": [
            "<class 'pandas.core.series.Series'>\n",
            "Processing state. Unique count: 2.\n",
            "['successful' 'failed']\n"
          ],
          "name": "stdout"
        },
        {
          "output_type": "display_data",
          "data": {
            "image/png": "[encoded data removed]",
            "text/plain": [
              "<matplotlib.figure.Figure at 0x7fc71a0e0048>"
            ]
          },
          "metadata": {
            "tags": []
          }
        },
        {
          "output_type": "stream",
          "text": [
            "<class 'pandas.core.series.Series'>\n",
            "Processing country. Unique count: 22.\n",
            "['US' 'GB' 'CA' 'DE' 'AU' 'BE' 'FR' 'ES' 'NZ' 'SE' 'LU' 'NL' 'NO' 'AT'\n",
            " 'DK' 'MX' 'IE' 'IT' 'HK' 'SG' 'CH' 'JP']\n"
          ],
          "name": "stdout"
        },
        {
          "output_type": "display_data",
          "data": {
            "image/png": "[encoded data removed]",
            "text/plain": [
              "<matplotlib.figure.Figure at 0x7fc71a135160>"
            ]
          },
          "metadata": {
            "tags": []
          }
        },
        {
          "output_type": "stream",
          "text": [
            "<class 'pandas.core.series.Series'>\n",
            "Processing currency. Unique count: 14.\n",
            "['USD' 'GBP' 'CAD' 'EUR' 'AUD' 'NZD' 'SEK' 'NOK' 'DKK' 'MXN' 'HKD' 'SGD'\n",
            " 'CHF' 'JPY']\n"
          ],
          "name": "stdout"
        },
        {
          "output_type": "display_data",
          "data": {
            "image/png": "[encoded data removed]",
            "text/plain": [
              "<matplotlib.figure.Figure at 0x7fc719f5d6a0>"
            ]
          },
          "metadata": {
            "tags": []
          }
        },
        {
          "output_type": "stream",
          "text": [
            "<class 'pandas.core.series.Series'>\n"
          ],
          "name": "stdout"
        }
      ]
    },
    {
      "metadata": {
        "id": "fg1uICVb8naF",
        "colab_type": "text"
      },
      "cell_type": "markdown",
      "source": [
        "## Feature Engineering"
      ]
    },
    {
      "metadata": {
        "id": "a7bsDUiye23l",
        "colab_type": "code",
        "outputId": "02bac34b-00a9-4b19-945f-387296b2958e",
        "colab": {
          "base_uri": "https://localhost:8080/",
          "height": 34
        }
      },
      "cell_type": "code",
      "source": [
        "df.state.unique()"
      ],
      "execution_count": 44,
      "outputs": [
        {
          "output_type": "execute_result",
          "data": {
            "text/plain": [
              "array(['successful', 'failed'], dtype=object)"
            ]
          },
          "metadata": {
            "tags": []
          },
          "execution_count": 44
        }
      ]
    },
    {
      "metadata": {
        "id": "3Hc46bgQhre5",
        "colab_type": "code",
        "outputId": "2196af1e-3fa2-4bb0-db7a-298a561ae286",
        "colab": {
          "base_uri": "https://localhost:8080/",
          "height": 374
        }
      },
      "cell_type": "code",
      "source": [
        "df.tail()"
      ],
      "execution_count": 45,
      "outputs": [
        {
          "output_type": "execute_result",
          "data": {
            "text/html": [
              "<div>\n",
              "<style scoped>\n",
              "    .dataframe tbody tr th:only-of-type {\n",
              "        vertical-align: middle;\n",
              "    }\n",
              "\n",
              "    .dataframe tbody tr th {\n",
              "        vertical-align: top;\n",
              "    }\n",
              "\n",
              "    .dataframe thead th {\n",
              "        text-align: right;\n",
              "    }\n",
              "</style>\n",
              "<table border=\"1\" class=\"dataframe\">\n",
              "  <thead>\n",
              "    <tr style=\"text-align: right;\">\n",
              "      <th></th>\n",
              "      <th>blurb</th>\n",
              "      <th>ID</th>\n",
              "      <th>name</th>\n",
              "      <th>category</th>\n",
              "      <th>main_category</th>\n",
              "      <th>currency</th>\n",
              "      <th>deadline</th>\n",
              "      <th>usd_goal_real</th>\n",
              "      <th>launched</th>\n",
              "      <th>usd_pledged_real</th>\n",
              "      <th>state</th>\n",
              "      <th>backers</th>\n",
              "      <th>country</th>\n",
              "    </tr>\n",
              "  </thead>\n",
              "  <tbody>\n",
              "    <tr>\n",
              "      <th>151559</th>\n",
              "      <td>A full-color book of my best robot themed sket...</td>\n",
              "      <td>1219087950</td>\n",
              "      <td>Mecha Zone Robot Sketches</td>\n",
              "      <td>Art Books</td>\n",
              "      <td>Publishing</td>\n",
              "      <td>USD</td>\n",
              "      <td>2016-11-03</td>\n",
              "      <td>1.00000</td>\n",
              "      <td>2016-10-03 13:19:32</td>\n",
              "      <td>3.83800</td>\n",
              "      <td>successful</td>\n",
              "      <td>100</td>\n",
              "      <td>US</td>\n",
              "    </tr>\n",
              "    <tr>\n",
              "      <th>151560</th>\n",
              "      <td>[Kickstarter Gold] A culinary love story with ...</td>\n",
              "      <td>1161973724</td>\n",
              "      <td>The Lotus and the Artichoke - INDIA vegan cook...</td>\n",
              "      <td>Vegan</td>\n",
              "      <td>Food</td>\n",
              "      <td>EUR</td>\n",
              "      <td>2017-08-03</td>\n",
              "      <td>11.86803</td>\n",
              "      <td>2017-07-04 14:36:49</td>\n",
              "      <td>37.21221</td>\n",
              "      <td>successful</td>\n",
              "      <td>1165</td>\n",
              "      <td>DE</td>\n",
              "    </tr>\n",
              "    <tr>\n",
              "      <th>151561</th>\n",
              "      <td>Creating a tourism promotional calendar of the...</td>\n",
              "      <td>362841351</td>\n",
              "      <td>Best of the 1000 Islands</td>\n",
              "      <td>Places</td>\n",
              "      <td>Photography</td>\n",
              "      <td>CAD</td>\n",
              "      <td>2014-07-27</td>\n",
              "      <td>0.22881</td>\n",
              "      <td>2014-06-27 01:59:06</td>\n",
              "      <td>0.06407</td>\n",
              "      <td>failed</td>\n",
              "      <td>4</td>\n",
              "      <td>CA</td>\n",
              "    </tr>\n",
              "    <tr>\n",
              "      <th>151562</th>\n",
              "      <td>Jesus has saved my life so I am creating this ...</td>\n",
              "      <td>672477562</td>\n",
              "      <td>St. Christopher - God Is Great</td>\n",
              "      <td>Faith</td>\n",
              "      <td>Music</td>\n",
              "      <td>USD</td>\n",
              "      <td>2015-01-11</td>\n",
              "      <td>1.00000</td>\n",
              "      <td>2014-11-12 18:43:56</td>\n",
              "      <td>0.00100</td>\n",
              "      <td>failed</td>\n",
              "      <td>1</td>\n",
              "      <td>US</td>\n",
              "    </tr>\n",
              "    <tr>\n",
              "      <th>151563</th>\n",
              "      <td>\"Bash\" is an action drama web series about a b...</td>\n",
              "      <td>782376245</td>\n",
              "      <td>Bash</td>\n",
              "      <td>Webseries</td>\n",
              "      <td>Film &amp; Video</td>\n",
              "      <td>USD</td>\n",
              "      <td>2013-11-01</td>\n",
              "      <td>2.00000</td>\n",
              "      <td>2013-10-11 01:27:57</td>\n",
              "      <td>2.11000</td>\n",
              "      <td>successful</td>\n",
              "      <td>27</td>\n",
              "      <td>US</td>\n",
              "    </tr>\n",
              "  </tbody>\n",
              "</table>\n",
              "</div>"
            ],
            "text/plain": [
              "                                                    blurb          ID  \\\n",
              "151559  A full-color book of my best robot themed sket...  1219087950   \n",
              "151560  [Kickstarter Gold] A culinary love story with ...  1161973724   \n",
              "151561  Creating a tourism promotional calendar of the...   362841351   \n",
              "151562  Jesus has saved my life so I am creating this ...   672477562   \n",
              "151563  \"Bash\" is an action drama web series about a b...   782376245   \n",
              "\n",
              "                                                     name   category  \\\n",
              "151559                          Mecha Zone Robot Sketches  Art Books   \n",
              "151560  The Lotus and the Artichoke - INDIA vegan cook...      Vegan   \n",
              "151561                           Best of the 1000 Islands     Places   \n",
              "151562                     St. Christopher - God Is Great      Faith   \n",
              "151563                                               Bash  Webseries   \n",
              "\n",
              "       main_category currency    deadline  usd_goal_real             launched  \\\n",
              "151559    Publishing      USD  2016-11-03        1.00000  2016-10-03 13:19:32   \n",
              "151560          Food      EUR  2017-08-03       11.86803  2017-07-04 14:36:49   \n",
              "151561   Photography      CAD  2014-07-27        0.22881  2014-06-27 01:59:06   \n",
              "151562         Music      USD  2015-01-11        1.00000  2014-11-12 18:43:56   \n",
              "151563  Film & Video      USD  2013-11-01        2.00000  2013-10-11 01:27:57   \n",
              "\n",
              "        usd_pledged_real       state  backers country  \n",
              "151559           3.83800  successful      100      US  \n",
              "151560          37.21221  successful     1165      DE  \n",
              "151561           0.06407      failed        4      CA  \n",
              "151562           0.00100      failed        1      US  \n",
              "151563           2.11000  successful       27      US  "
            ]
          },
          "metadata": {
            "tags": []
          },
          "execution_count": 45
        }
      ]
    },
    {
      "metadata": {
        "id": "4_vkSj6mfD8q",
        "colab_type": "text"
      },
      "cell_type": "markdown",
      "source": [
        "### Encode labels -> has to be changed to OneHotEncoder"
      ]
    },
    {
      "metadata": {
        "id": "HolR7UZhuSNn",
        "colab_type": "code",
        "outputId": "342fc57c-c1a6-4398-a40f-49580d2f302d",
        "colab": {
          "base_uri": "https://localhost:8080/",
          "height": 207
        }
      },
      "cell_type": "code",
      "source": [
        "!pip install -U scikit-learn"
      ],
      "execution_count": 46,
      "outputs": [
        {
          "output_type": "stream",
          "text": [
            "Collecting scikit-learn\n",
            "\u001b[?25l  Downloading https://files.pythonhosted.org/packages/0c/b2/05be9b6da9ae4a4c54f537be22e95833f722742a02b1e355fdc09363877c/scikit_learn-0.20.0-cp36-cp36m-manylinux1_x86_64.whl (5.3MB)\n",
            "\u001b[K    100% |████████████████████████████████| 5.3MB 1.2MB/s \n",
            "\u001b[?25hRequirement already satisfied, skipping upgrade: scipy>=0.13.3 in /usr/local/lib/python3.6/dist-packages (from scikit-learn) (0.19.1)\n",
            "Requirement already satisfied, skipping upgrade: numpy>=1.8.2 in /usr/local/lib/python3.6/dist-packages (from scikit-learn) (1.14.6)\n",
            "Installing collected packages: scikit-learn\n",
            "  Found existing installation: scikit-learn 0.19.2\n",
            "    Uninstalling scikit-learn-0.19.2:\n",
            "      Successfully uninstalled scikit-learn-0.19.2\n",
            "Successfully installed scikit-learn-0.20.0\n"
          ],
          "name": "stdout"
        }
      ]
    },
    {
      "metadata": {
        "id": "nRmON66l8naG",
        "colab_type": "code",
        "colab": {}
      },
      "cell_type": "code",
      "source": [
        "from sklearn.preprocessing import LabelEncoder\n",
        "from sklearn.preprocessing import OneHotEncoder"
      ],
      "execution_count": 0,
      "outputs": []
    },
    {
      "metadata": {
        "id": "dLExFoQ1twPN",
        "colab_type": "code",
        "outputId": "54a80040-85d0-4697-fc97-3918abfc19cb",
        "colab": {
          "base_uri": "https://localhost:8080/",
          "height": 105
        }
      },
      "cell_type": "code",
      "source": [
        "categories_le = LabelEncoder()\n",
        "categories_ohe = OneHotEncoder(sparse=False) # readable for humans\n",
        "\n",
        "categories_led = categories_le.fit_transform(df.category)\n",
        "categories_led = categories_led.reshape(-1, 1)\n",
        "\n",
        "df_category = pd.DataFrame(categories_ohe.fit_transform(categories_led))\n",
        "df_category = df_category.rename(columns=lambda x: 'category_' + str(x))\n",
        "df = df.join(df_category)"
      ],
      "execution_count": 48,
      "outputs": [
        {
          "output_type": "stream",
          "text": [
            "/usr/local/lib/python3.6/dist-packages/sklearn/preprocessing/_encoders.py:363: FutureWarning: The handling of integer data will change in version 0.22. Currently, the categories are determined based on the range [0, max(values)], while in the future they will be determined based on the unique values.\n",
            "If you want the future behaviour and silence this warning, you can specify \"categories='auto'\".\n",
            "In case you used a LabelEncoder before this OneHotEncoder to convert the categories to integers, then you can now use the OneHotEncoder directly.\n",
            "  warnings.warn(msg, FutureWarning)\n"
          ],
          "name": "stderr"
        }
      ]
    },
    {
      "metadata": {
        "id": "8ggz_6Smt0mk",
        "colab_type": "code",
        "outputId": "0188a8be-7567-4508-e4c7-174d1a248c40",
        "colab": {
          "base_uri": "https://localhost:8080/",
          "height": 105
        }
      },
      "cell_type": "code",
      "source": [
        "maincategories_le = LabelEncoder()\n",
        "maincategories_ohe = OneHotEncoder(sparse=False) # readable for humans\n",
        "\n",
        "maincategories_led = maincategories_le.fit_transform(df.main_category)\n",
        "maincategories_led = maincategories_led.reshape(-1, 1)\n",
        "\n",
        "df_main_category = pd.DataFrame(maincategories_ohe.fit_transform(maincategories_led))\n",
        "df_main_category = df_main_category.rename(columns=lambda x: 'maincategory_' + str(x))\n",
        "df = df.join(df_main_category)"
      ],
      "execution_count": 49,
      "outputs": [
        {
          "output_type": "stream",
          "text": [
            "/usr/local/lib/python3.6/dist-packages/sklearn/preprocessing/_encoders.py:363: FutureWarning: The handling of integer data will change in version 0.22. Currently, the categories are determined based on the range [0, max(values)], while in the future they will be determined based on the unique values.\n",
            "If you want the future behaviour and silence this warning, you can specify \"categories='auto'\".\n",
            "In case you used a LabelEncoder before this OneHotEncoder to convert the categories to integers, then you can now use the OneHotEncoder directly.\n",
            "  warnings.warn(msg, FutureWarning)\n"
          ],
          "name": "stderr"
        }
      ]
    },
    {
      "metadata": {
        "id": "IpWpc5EUt3Vo",
        "colab_type": "code",
        "outputId": "e83e0fa9-5854-4d22-8776-31c95c41c340",
        "colab": {
          "base_uri": "https://localhost:8080/",
          "height": 105
        }
      },
      "cell_type": "code",
      "source": [
        "state_le = LabelEncoder()\n",
        "state_ohe = OneHotEncoder(sparse=False) # readable for humans\n",
        "\n",
        "state_led = state_le.fit_transform(df.state)\n",
        "state_led = state_led.reshape(-1, 1)\n",
        "\n",
        "df_state = pd.DataFrame(state_ohe.fit_transform(state_led))\n",
        "df_state = df_state.rename(columns=lambda x: 'state_' + str(x))\n",
        "df = df.join(df_state)"
      ],
      "execution_count": 50,
      "outputs": [
        {
          "output_type": "stream",
          "text": [
            "/usr/local/lib/python3.6/dist-packages/sklearn/preprocessing/_encoders.py:363: FutureWarning: The handling of integer data will change in version 0.22. Currently, the categories are determined based on the range [0, max(values)], while in the future they will be determined based on the unique values.\n",
            "If you want the future behaviour and silence this warning, you can specify \"categories='auto'\".\n",
            "In case you used a LabelEncoder before this OneHotEncoder to convert the categories to integers, then you can now use the OneHotEncoder directly.\n",
            "  warnings.warn(msg, FutureWarning)\n"
          ],
          "name": "stderr"
        }
      ]
    },
    {
      "metadata": {
        "id": "nkrz9St3t5iv",
        "colab_type": "code",
        "outputId": "cf3e3f39-d047-40b7-f2bd-d39195617810",
        "colab": {
          "base_uri": "https://localhost:8080/",
          "height": 105
        }
      },
      "cell_type": "code",
      "source": [
        "country_le = LabelEncoder()\n",
        "country_ohe = OneHotEncoder(sparse=False) # readable for humans\n",
        "\n",
        "country_led = country_le.fit_transform(df.country)\n",
        "country_led = country_led.reshape(-1, 1)\n",
        "\n",
        "df_country = pd.DataFrame(country_ohe.fit_transform(country_led))\n",
        "df_country = df_country.rename(columns=lambda x: 'country_' + str(x))\n",
        "df = df.join(df_country)"
      ],
      "execution_count": 51,
      "outputs": [
        {
          "output_type": "stream",
          "text": [
            "/usr/local/lib/python3.6/dist-packages/sklearn/preprocessing/_encoders.py:363: FutureWarning: The handling of integer data will change in version 0.22. Currently, the categories are determined based on the range [0, max(values)], while in the future they will be determined based on the unique values.\n",
            "If you want the future behaviour and silence this warning, you can specify \"categories='auto'\".\n",
            "In case you used a LabelEncoder before this OneHotEncoder to convert the categories to integers, then you can now use the OneHotEncoder directly.\n",
            "  warnings.warn(msg, FutureWarning)\n"
          ],
          "name": "stderr"
        }
      ]
    },
    {
      "metadata": {
        "id": "jAo3RE-qt7Tr",
        "colab_type": "code",
        "outputId": "ac0e8f36-f0a8-4a48-8fa3-990652d84e53",
        "colab": {
          "base_uri": "https://localhost:8080/",
          "height": 105
        }
      },
      "cell_type": "code",
      "source": [
        "currency_le = LabelEncoder()\n",
        "currency_ohe = OneHotEncoder(sparse=False) # readable for humans\n",
        "\n",
        "currency_led = currency_le.fit_transform(df.currency)\n",
        "currency_led = currency_led.reshape(-1, 1)\n",
        "\n",
        "df_currency = pd.DataFrame(currency_ohe.fit_transform(currency_led))\n",
        "df_currency = df_currency.rename(columns=lambda x: 'currency_' + str(x))\n",
        "df = df.join(df_currency, rsuffix='_curr')"
      ],
      "execution_count": 52,
      "outputs": [
        {
          "output_type": "stream",
          "text": [
            "/usr/local/lib/python3.6/dist-packages/sklearn/preprocessing/_encoders.py:363: FutureWarning: The handling of integer data will change in version 0.22. Currently, the categories are determined based on the range [0, max(values)], while in the future they will be determined based on the unique values.\n",
            "If you want the future behaviour and silence this warning, you can specify \"categories='auto'\".\n",
            "In case you used a LabelEncoder before this OneHotEncoder to convert the categories to integers, then you can now use the OneHotEncoder directly.\n",
            "  warnings.warn(msg, FutureWarning)\n"
          ],
          "name": "stderr"
        }
      ]
    },
    {
      "metadata": {
        "id": "nkpH6lBO8naI",
        "colab_type": "text"
      },
      "cell_type": "markdown",
      "source": [
        "categories_le = LabelEncoder()\n",
        "df.category = categories_le.fit_transform(df.category)\n",
        "\n",
        "\n",
        "maincategories_le = LabelEncoder()\n",
        "df.main_category = maincategories_le.fit_transform(df.main_category)\n",
        "\n",
        "\n",
        "state_le = LabelEncoder()\n",
        "df.state = state_le.fit_transform(df.state)\n",
        "\n",
        "\n",
        "country_le = LabelEncoder()\n",
        "df.country = country_le.fit_transform(df.country)\n",
        "\n",
        "\n",
        "currency_le = LabelEncoder()\n",
        "df.currency = currency_le.fit_transform(df.currency)\n"
      ]
    },
    {
      "metadata": {
        "id": "rSF2pkEifQvf",
        "colab_type": "text"
      },
      "cell_type": "markdown",
      "source": [
        "### Change spotlight and staff pick to numeric values"
      ]
    },
    {
      "metadata": {
        "id": "WLdEpmh_fVmx",
        "colab_type": "code",
        "colab": {}
      },
      "cell_type": "code",
      "source": [
        "#df.spotlight = df.spotlight.astype(int)\n",
        "#df.staff_pick = df.staff_pick.astype(int)"
      ],
      "execution_count": 0,
      "outputs": []
    },
    {
      "metadata": {
        "id": "s37ypzryP_i2",
        "colab_type": "text"
      },
      "cell_type": "markdown",
      "source": [
        "### Drop ID, we dont need it anymore"
      ]
    },
    {
      "metadata": {
        "id": "VSjXonqH8naU",
        "colab_type": "code",
        "colab": {}
      },
      "cell_type": "code",
      "source": [
        "df = df.drop('ID', axis=1)"
      ],
      "execution_count": 0,
      "outputs": []
    },
    {
      "metadata": {
        "id": "QpylykIeMomF",
        "colab_type": "code",
        "colab": {}
      },
      "cell_type": "code",
      "source": [
        "# df.head()"
      ],
      "execution_count": 0,
      "outputs": []
    },
    {
      "metadata": {
        "id": "c2f5vvvBQEKu",
        "colab_type": "text"
      },
      "cell_type": "markdown",
      "source": [
        "### Calculate length of funding"
      ]
    },
    {
      "metadata": {
        "id": "lBuJozcXM5kx",
        "colab_type": "code",
        "colab": {}
      },
      "cell_type": "code",
      "source": [
        "diff = (pd.to_datetime(df.deadline) - pd.to_datetime(df.launched)).map(lambda x: x.days)\n"
      ],
      "execution_count": 0,
      "outputs": []
    },
    {
      "metadata": {
        "id": "t0f9-UTGNPcC",
        "colab_type": "code",
        "colab": {}
      },
      "cell_type": "code",
      "source": [
        "# print(diff.head())"
      ],
      "execution_count": 0,
      "outputs": []
    },
    {
      "metadata": {
        "id": "dmVzoARsjC7B",
        "colab_type": "code",
        "colab": {}
      },
      "cell_type": "code",
      "source": [
        "# diff.shape"
      ],
      "execution_count": 0,
      "outputs": []
    },
    {
      "metadata": {
        "id": "ziah2O7nQKTx",
        "colab_type": "text"
      },
      "cell_type": "markdown",
      "source": [
        "### Drop date times"
      ]
    },
    {
      "metadata": {
        "id": "ar6lS246PuqC",
        "colab_type": "code",
        "colab": {}
      },
      "cell_type": "code",
      "source": [
        "df = df.drop(['deadline', 'launched'], axis=1)\n"
      ],
      "execution_count": 0,
      "outputs": []
    },
    {
      "metadata": {
        "id": "RjWTHW6YjSlL",
        "colab_type": "code",
        "colab": {}
      },
      "cell_type": "code",
      "source": [
        "# df.shape"
      ],
      "execution_count": 0,
      "outputs": []
    },
    {
      "metadata": {
        "id": "Jur5yJuBQO9w",
        "colab_type": "text"
      },
      "cell_type": "markdown",
      "source": [
        "### Add duration to the dataframe"
      ]
    },
    {
      "metadata": {
        "id": "uhPlH3zGQV4l",
        "colab_type": "code",
        "colab": {}
      },
      "cell_type": "code",
      "source": [
        "df['duration'] = diff"
      ],
      "execution_count": 0,
      "outputs": []
    },
    {
      "metadata": {
        "id": "x9PoGQckjU7v",
        "colab_type": "code",
        "colab": {}
      },
      "cell_type": "code",
      "source": [
        "# df.shape"
      ],
      "execution_count": 0,
      "outputs": []
    },
    {
      "metadata": {
        "id": "Jl9MzVfSQajE",
        "colab_type": "code",
        "colab": {}
      },
      "cell_type": "code",
      "source": [
        "# df.head()"
      ],
      "execution_count": 0,
      "outputs": []
    },
    {
      "metadata": {
        "id": "hp4u1RcdWzMb",
        "colab_type": "text"
      },
      "cell_type": "markdown",
      "source": [
        "### Clean text, only keep whitespaces and letters"
      ]
    },
    {
      "metadata": {
        "id": "tvq_3xZqLShH",
        "colab_type": "code",
        "colab": {}
      },
      "cell_type": "code",
      "source": [
        "import re"
      ],
      "execution_count": 0,
      "outputs": []
    },
    {
      "metadata": {
        "id": "pyyL2UqiRpYW",
        "colab_type": "code",
        "colab": {}
      },
      "cell_type": "code",
      "source": [
        "regex = re.compile(r\"[^\\w\\d ]\", re.UNICODE | re.IGNORECASE)\n",
        "\n",
        "name = df.name\n",
        "blurb = df.blurb\n",
        "\n",
        "name = name.map(lambda x: regex.sub(' ', str(x)).lower())\n",
        "blurb = blurb.map(lambda x: regex.sub(' ', str(x)).lower())\n",
        "\n",
        "# print(\"names:\")\n",
        "# print(name.head())\n",
        "# print(\"\\nblurbs:\")\n",
        "# print(blurb.head())"
      ],
      "execution_count": 0,
      "outputs": []
    },
    {
      "metadata": {
        "id": "j5q7OYpiUGJZ",
        "colab_type": "code",
        "colab": {}
      },
      "cell_type": "code",
      "source": [
        "name2 = name.apply(lambda x: x.split())\n",
        "blurb2 = blurb.apply(lambda x: x.split())\n",
        "\n",
        "# print(\"names:\")\n",
        "# print(name2.head())\n",
        "# print(\"\\nblurbs:\")\n",
        "# print(blurb2.head())"
      ],
      "execution_count": 0,
      "outputs": []
    },
    {
      "metadata": {
        "id": "V4O96wS4W6MR",
        "colab_type": "text"
      },
      "cell_type": "markdown",
      "source": [
        "### Remove stop words -> might give better results"
      ]
    },
    {
      "metadata": {
        "id": "Aj7lZUP7V6qZ",
        "colab_type": "code",
        "outputId": "455ea03d-8bf8-4518-fa6c-c2170afb8177",
        "colab": {
          "base_uri": "https://localhost:8080/",
          "height": 51
        }
      },
      "cell_type": "code",
      "source": [
        "import nltk\n",
        "nltk.download('stopwords')\n",
        "from nltk.corpus import stopwords"
      ],
      "execution_count": 67,
      "outputs": [
        {
          "output_type": "stream",
          "text": [
            "[nltk_data] Downloading package stopwords to /root/nltk_data...\n",
            "[nltk_data]   Unzipping corpora/stopwords.zip.\n"
          ],
          "name": "stdout"
        }
      ]
    },
    {
      "metadata": {
        "id": "-wYDBPcUWKDq",
        "colab_type": "code",
        "colab": {}
      },
      "cell_type": "code",
      "source": [
        "stop_words = set(stopwords.words('english'))"
      ],
      "execution_count": 0,
      "outputs": []
    },
    {
      "metadata": {
        "id": "jU8TsOmTWMkT",
        "colab_type": "code",
        "colab": {}
      },
      "cell_type": "code",
      "source": [
        "name2 = name2.apply(lambda lista: [szo for szo in lista if szo not in stop_words] )\n",
        "blurb2 = blurb2.apply(lambda lista: [szo for szo in lista if szo not in stop_words] )\n",
        "\n",
        "# print(\"names:\")\n",
        "# print(name2.head(10))\n",
        "# print(\"\\nblurbs:\")\n",
        "# print(blurb2.head(10))"
      ],
      "execution_count": 0,
      "outputs": []
    },
    {
      "metadata": {
        "id": "eASsaMjsWusD",
        "colab_type": "text"
      },
      "cell_type": "markdown",
      "source": [
        "### Create bag of words\n",
        "Using HashingVectorizer, because there are a lot of words"
      ]
    },
    {
      "metadata": {
        "id": "NZrfxrV4IeDy",
        "colab_type": "code",
        "colab": {}
      },
      "cell_type": "code",
      "source": [
        "from sklearn.feature_extraction.text import HashingVectorizer"
      ],
      "execution_count": 0,
      "outputs": []
    },
    {
      "metadata": {
        "id": "NZyGaVhNXMXP",
        "colab_type": "code",
        "colab": {}
      },
      "cell_type": "code",
      "source": [
        "name_vectorizer = HashingVectorizer(n_features=2**8, lowercase=False, tokenizer = lambda doc: doc)\n",
        "blurb_vectorizer = HashingVectorizer(n_features=2**8, lowercase=False, tokenizer = lambda doc: doc)\n",
        "\n",
        "hashed_name = name_vectorizer.transform(name2)\n",
        "hashed_blurb = blurb_vectorizer.transform(blurb2)\n",
        "\n",
        "# print(\"names:\")\n",
        "# print(hashed_name.shape)\n",
        "# print(hashed_name[0])\n",
        "# print(\"\\nblurbs:\")\n",
        "# print(hashed_blurb.shape)\n",
        "# print(hashed_blurb[0])"
      ],
      "execution_count": 0,
      "outputs": []
    },
    {
      "metadata": {
        "id": "Dank4m3ZXbvP",
        "colab_type": "code",
        "colab": {}
      },
      "cell_type": "code",
      "source": [
        "# print(\"names:\")\n",
        "# print(hashed_name[0])\n",
        "# print(\"\\nblurbs:\")\n",
        "# print(hashed_blurb[0])"
      ],
      "execution_count": 0,
      "outputs": []
    },
    {
      "metadata": {
        "id": "BGWZDMuDa0sn",
        "colab_type": "code",
        "colab": {}
      },
      "cell_type": "code",
      "source": [
        "# print(type(hashed_name))\n",
        "# print(type(hashed_blurb))"
      ],
      "execution_count": 0,
      "outputs": []
    },
    {
      "metadata": {
        "id": "z0sNM6PgbjkV",
        "colab_type": "code",
        "colab": {}
      },
      "cell_type": "code",
      "source": [
        "# print(hashed_name.todense().shape)\n",
        "# print(hashed_blurb.todense().shape)"
      ],
      "execution_count": 0,
      "outputs": []
    },
    {
      "metadata": {
        "id": "FLcjcD-tdJd-",
        "colab_type": "text"
      },
      "cell_type": "markdown",
      "source": [
        "### Create dataframe from scipy sparse matrix"
      ]
    },
    {
      "metadata": {
        "id": "0fpv9RXwcniV",
        "colab_type": "code",
        "colab": {}
      },
      "cell_type": "code",
      "source": [
        "df_hashed_name = pd.DataFrame(hashed_name.todense())\n",
        "df_hashed_name = df_hashed_name.rename(columns=lambda x: 'name_' + str(x))\n",
        "df_hashed_blurb = pd.DataFrame(hashed_blurb.todense())\n",
        "df_hashed_blurb = df_hashed_blurb.rename(columns=lambda x: \"blurb_\" + str(x))\n",
        "\n",
        "# print(\"names:\")\n",
        "# print(df_hashed_name.head())\n",
        "# print(\"\\nblurbs:\")\n",
        "# print(df_hashed_blurb.head())"
      ],
      "execution_count": 0,
      "outputs": []
    },
    {
      "metadata": {
        "id": "EPIlewE9dFcV",
        "colab_type": "text"
      },
      "cell_type": "markdown",
      "source": [
        "### Concat original matrix and hashed name matrix"
      ]
    },
    {
      "metadata": {
        "id": "DWc3oaNjdTmd",
        "colab_type": "code",
        "colab": {}
      },
      "cell_type": "code",
      "source": [
        "df = df.join(df_hashed_name)\n",
        "df = df.join(df_hashed_blurb)"
      ],
      "execution_count": 0,
      "outputs": []
    },
    {
      "metadata": {
        "id": "IENh7mKIemXG",
        "colab_type": "code",
        "colab": {}
      },
      "cell_type": "code",
      "source": [
        "# print(df.shape)"
      ],
      "execution_count": 0,
      "outputs": []
    },
    {
      "metadata": {
        "id": "R8Gf3pGqgIgr",
        "colab_type": "text"
      },
      "cell_type": "markdown",
      "source": [
        "### Dropping name column, name is stored now in bag"
      ]
    },
    {
      "metadata": {
        "id": "XPVWbAlFgA3B",
        "colab_type": "code",
        "colab": {}
      },
      "cell_type": "code",
      "source": [
        "drop_columns = ['category', 'main_category', 'state', 'country', 'currency', 'name', 'blurb']\n",
        "\n",
        "df = df.drop(drop_columns, axis=1)"
      ],
      "execution_count": 0,
      "outputs": []
    },
    {
      "metadata": {
        "id": "4bpLS24DLHRF",
        "colab_type": "code",
        "colab": {}
      },
      "cell_type": "code",
      "source": [
        "# df.head()"
      ],
      "execution_count": 0,
      "outputs": []
    },
    {
      "metadata": {
        "id": "WAZDQIfbdbTE",
        "colab_type": "text"
      },
      "cell_type": "markdown",
      "source": [
        "### Split into input and output"
      ]
    },
    {
      "metadata": {
        "id": "d7L4zve_djcI",
        "colab_type": "code",
        "outputId": "a7b28ad8-631a-4255-e011-4f4bebccd9e8",
        "colab": {
          "base_uri": "https://localhost:8080/",
          "height": 34
        }
      },
      "cell_type": "code",
      "source": [
        "state_columns = df.columns[df.columns.str.startswith('state_')].values.tolist()\n",
        "print('state columns are', state_columns)\n",
        "output_columns = ['backers', 'usd_pledged_real'] + state_columns\n",
        "#print(\"Output columns are\", output_columns)\n",
        "\n",
        "# Currently using state_columns for testing\n",
        "X = df.drop(output_columns, axis=1)\n",
        "Y = df[df.columns.intersection(state_columns)]\n",
        "#Y = df['usd_pledged_real']"
      ],
      "execution_count": 80,
      "outputs": [
        {
          "output_type": "stream",
          "text": [
            "state columns are ['state_0', 'state_1']\n"
          ],
          "name": "stdout"
        }
      ]
    },
    {
      "metadata": {
        "id": "bdQ7JPiWgP1b",
        "colab_type": "text"
      },
      "cell_type": "markdown",
      "source": [
        "## Preparation for teaching"
      ]
    },
    {
      "metadata": {
        "id": "xjX6D4a1lNJF",
        "colab_type": "text"
      },
      "cell_type": "markdown",
      "source": [
        "### Imports"
      ]
    },
    {
      "metadata": {
        "id": "vs-w035hlPdN",
        "colab_type": "code",
        "outputId": "0c7eb0a7-4dba-46fd-d29a-cad9d43d29f5",
        "colab": {
          "base_uri": "https://localhost:8080/",
          "height": 34
        }
      },
      "cell_type": "code",
      "source": [
        "import numpy as np\n",
        "from keras.models import Sequential\n",
        "from keras.layers import Dense, Dropout, Activation\n",
        "from keras.callbacks import EarlyStopping, ModelCheckpoint\n",
        "import copy\n",
        "import pandas as pd\n",
        "from keras.optimizers import SGD\n",
        "from sklearn.preprocessing import StandardScaler\n",
        "import tensorflow as tf\n",
        "from tensorflow import set_random_seed\n",
        "set_random_seed(123)\n",
        "np.random.seed(123)"
      ],
      "execution_count": 81,
      "outputs": [
        {
          "output_type": "stream",
          "text": [
            "Using TensorFlow backend.\n"
          ],
          "name": "stderr"
        }
      ]
    },
    {
      "metadata": {
        "id": "xoXv4akIGEJP",
        "colab_type": "code",
        "colab": {}
      },
      "cell_type": "code",
      "source": [
        "#from tensorflow.python.client import device_lib\n",
        "#print(device_lib.list_local_devices())"
      ],
      "execution_count": 0,
      "outputs": []
    },
    {
      "metadata": {
        "id": "AtTHixhslJzl",
        "colab_type": "text"
      },
      "cell_type": "markdown",
      "source": [
        "### Splitting into train test valid"
      ]
    },
    {
      "metadata": {
        "id": "Xf-k9Ls-k8QU",
        "colab_type": "code",
        "outputId": "273fd81d-cc6b-4109-f487-3e2e65b9e10a",
        "colab": {
          "base_uri": "https://localhost:8080/",
          "height": 122
        }
      },
      "cell_type": "code",
      "source": [
        "test_split = 0.1\n",
        "valid_split = 0.2\n",
        "\n",
        "v_index = int(X.shape[0] * (1-valid_split-test_split))\n",
        "t_index = int(X.shape[0] * (1-test_split))\n",
        "\n",
        "X_test = X[t_index:]\n",
        "Y_test = Y[t_index:]\n",
        "\n",
        "X_valid = X[v_index:t_index]\n",
        "Y_valid = Y[v_index:t_index]\n",
        "X_train = X[:v_index]\n",
        "Y_train = Y[:v_index]\n",
        "\n",
        "scaler = StandardScaler().fit(X)\n",
        "\n",
        "X_train = scaler.transform(X_train)\n",
        "X_valid = scaler.transform(X_valid)\n",
        "X_test = scaler.transform(X_test)"
      ],
      "execution_count": 83,
      "outputs": [
        {
          "output_type": "stream",
          "text": [
            "/usr/local/lib/python3.6/dist-packages/sklearn/preprocessing/data.py:617: DataConversionWarning: Data with input dtype int64, float64 were all converted to float64 by StandardScaler.\n",
            "  return self.partial_fit(X, y)\n",
            "/usr/local/lib/python3.6/dist-packages/ipykernel_launcher.py:17: DataConversionWarning: Data with input dtype int64, float64 were all converted to float64 by StandardScaler.\n",
            "/usr/local/lib/python3.6/dist-packages/ipykernel_launcher.py:18: DataConversionWarning: Data with input dtype int64, float64 were all converted to float64 by StandardScaler.\n",
            "/usr/local/lib/python3.6/dist-packages/ipykernel_launcher.py:19: DataConversionWarning: Data with input dtype int64, float64 were all converted to float64 by StandardScaler.\n"
          ],
          "name": "stderr"
        }
      ]
    },
    {
      "metadata": {
        "id": "PFzLdOpJr7t9",
        "colab_type": "code",
        "outputId": "9b0c3a4d-e1ee-4a71-fba2-8221d57b97b3",
        "colab": {
          "base_uri": "https://localhost:8080/",
          "height": 253
        }
      },
      "cell_type": "code",
      "source": [
        "X.tail()"
      ],
      "execution_count": 84,
      "outputs": [
        {
          "output_type": "execute_result",
          "data": {
            "text/html": [
              "<div>\n",
              "<style scoped>\n",
              "    .dataframe tbody tr th:only-of-type {\n",
              "        vertical-align: middle;\n",
              "    }\n",
              "\n",
              "    .dataframe tbody tr th {\n",
              "        vertical-align: top;\n",
              "    }\n",
              "\n",
              "    .dataframe thead th {\n",
              "        text-align: right;\n",
              "    }\n",
              "</style>\n",
              "<table border=\"1\" class=\"dataframe\">\n",
              "  <thead>\n",
              "    <tr style=\"text-align: right;\">\n",
              "      <th></th>\n",
              "      <th>usd_goal_real</th>\n",
              "      <th>category_0</th>\n",
              "      <th>category_1</th>\n",
              "      <th>category_2</th>\n",
              "      <th>category_3</th>\n",
              "      <th>category_4</th>\n",
              "      <th>category_5</th>\n",
              "      <th>category_6</th>\n",
              "      <th>category_7</th>\n",
              "      <th>category_8</th>\n",
              "      <th>...</th>\n",
              "      <th>blurb_246</th>\n",
              "      <th>blurb_247</th>\n",
              "      <th>blurb_248</th>\n",
              "      <th>blurb_249</th>\n",
              "      <th>blurb_250</th>\n",
              "      <th>blurb_251</th>\n",
              "      <th>blurb_252</th>\n",
              "      <th>blurb_253</th>\n",
              "      <th>blurb_254</th>\n",
              "      <th>blurb_255</th>\n",
              "    </tr>\n",
              "  </thead>\n",
              "  <tbody>\n",
              "    <tr>\n",
              "      <th>151559</th>\n",
              "      <td>1.00000</td>\n",
              "      <td>0.0</td>\n",
              "      <td>0.0</td>\n",
              "      <td>0.0</td>\n",
              "      <td>0.0</td>\n",
              "      <td>0.0</td>\n",
              "      <td>0.0</td>\n",
              "      <td>0.0</td>\n",
              "      <td>0.0</td>\n",
              "      <td>0.0</td>\n",
              "      <td>...</td>\n",
              "      <td>0.0</td>\n",
              "      <td>0.000000</td>\n",
              "      <td>0.0</td>\n",
              "      <td>0.0</td>\n",
              "      <td>0.0</td>\n",
              "      <td>0.0</td>\n",
              "      <td>0.0</td>\n",
              "      <td>0.0</td>\n",
              "      <td>0.0</td>\n",
              "      <td>0.0</td>\n",
              "    </tr>\n",
              "    <tr>\n",
              "      <th>151560</th>\n",
              "      <td>11.86803</td>\n",
              "      <td>0.0</td>\n",
              "      <td>0.0</td>\n",
              "      <td>0.0</td>\n",
              "      <td>0.0</td>\n",
              "      <td>0.0</td>\n",
              "      <td>0.0</td>\n",
              "      <td>0.0</td>\n",
              "      <td>0.0</td>\n",
              "      <td>0.0</td>\n",
              "      <td>...</td>\n",
              "      <td>0.0</td>\n",
              "      <td>0.000000</td>\n",
              "      <td>0.0</td>\n",
              "      <td>0.0</td>\n",
              "      <td>0.0</td>\n",
              "      <td>0.0</td>\n",
              "      <td>0.0</td>\n",
              "      <td>0.0</td>\n",
              "      <td>0.0</td>\n",
              "      <td>0.0</td>\n",
              "    </tr>\n",
              "    <tr>\n",
              "      <th>151561</th>\n",
              "      <td>0.22881</td>\n",
              "      <td>0.0</td>\n",
              "      <td>0.0</td>\n",
              "      <td>0.0</td>\n",
              "      <td>0.0</td>\n",
              "      <td>0.0</td>\n",
              "      <td>0.0</td>\n",
              "      <td>0.0</td>\n",
              "      <td>0.0</td>\n",
              "      <td>0.0</td>\n",
              "      <td>...</td>\n",
              "      <td>0.0</td>\n",
              "      <td>0.000000</td>\n",
              "      <td>0.0</td>\n",
              "      <td>0.0</td>\n",
              "      <td>0.0</td>\n",
              "      <td>0.0</td>\n",
              "      <td>0.0</td>\n",
              "      <td>0.0</td>\n",
              "      <td>0.0</td>\n",
              "      <td>0.0</td>\n",
              "    </tr>\n",
              "    <tr>\n",
              "      <th>151562</th>\n",
              "      <td>1.00000</td>\n",
              "      <td>0.0</td>\n",
              "      <td>0.0</td>\n",
              "      <td>0.0</td>\n",
              "      <td>0.0</td>\n",
              "      <td>0.0</td>\n",
              "      <td>0.0</td>\n",
              "      <td>0.0</td>\n",
              "      <td>0.0</td>\n",
              "      <td>0.0</td>\n",
              "      <td>...</td>\n",
              "      <td>0.0</td>\n",
              "      <td>-0.258199</td>\n",
              "      <td>0.0</td>\n",
              "      <td>0.0</td>\n",
              "      <td>0.0</td>\n",
              "      <td>0.0</td>\n",
              "      <td>0.0</td>\n",
              "      <td>0.0</td>\n",
              "      <td>0.0</td>\n",
              "      <td>0.0</td>\n",
              "    </tr>\n",
              "    <tr>\n",
              "      <th>151563</th>\n",
              "      <td>2.00000</td>\n",
              "      <td>0.0</td>\n",
              "      <td>0.0</td>\n",
              "      <td>0.0</td>\n",
              "      <td>0.0</td>\n",
              "      <td>0.0</td>\n",
              "      <td>0.0</td>\n",
              "      <td>0.0</td>\n",
              "      <td>0.0</td>\n",
              "      <td>0.0</td>\n",
              "      <td>...</td>\n",
              "      <td>0.0</td>\n",
              "      <td>0.000000</td>\n",
              "      <td>0.0</td>\n",
              "      <td>0.0</td>\n",
              "      <td>0.0</td>\n",
              "      <td>0.0</td>\n",
              "      <td>0.0</td>\n",
              "      <td>0.0</td>\n",
              "      <td>0.0</td>\n",
              "      <td>0.0</td>\n",
              "    </tr>\n",
              "  </tbody>\n",
              "</table>\n",
              "<p>5 rows × 724 columns</p>\n",
              "</div>"
            ],
            "text/plain": [
              "        usd_goal_real  category_0  category_1  category_2  category_3  \\\n",
              "151559        1.00000         0.0         0.0         0.0         0.0   \n",
              "151560       11.86803         0.0         0.0         0.0         0.0   \n",
              "151561        0.22881         0.0         0.0         0.0         0.0   \n",
              "151562        1.00000         0.0         0.0         0.0         0.0   \n",
              "151563        2.00000         0.0         0.0         0.0         0.0   \n",
              "\n",
              "        category_4  category_5  category_6  category_7  category_8    ...      \\\n",
              "151559         0.0         0.0         0.0         0.0         0.0    ...       \n",
              "151560         0.0         0.0         0.0         0.0         0.0    ...       \n",
              "151561         0.0         0.0         0.0         0.0         0.0    ...       \n",
              "151562         0.0         0.0         0.0         0.0         0.0    ...       \n",
              "151563         0.0         0.0         0.0         0.0         0.0    ...       \n",
              "\n",
              "        blurb_246  blurb_247  blurb_248  blurb_249  blurb_250  blurb_251  \\\n",
              "151559        0.0   0.000000        0.0        0.0        0.0        0.0   \n",
              "151560        0.0   0.000000        0.0        0.0        0.0        0.0   \n",
              "151561        0.0   0.000000        0.0        0.0        0.0        0.0   \n",
              "151562        0.0  -0.258199        0.0        0.0        0.0        0.0   \n",
              "151563        0.0   0.000000        0.0        0.0        0.0        0.0   \n",
              "\n",
              "        blurb_252  blurb_253  blurb_254  blurb_255  \n",
              "151559        0.0        0.0        0.0        0.0  \n",
              "151560        0.0        0.0        0.0        0.0  \n",
              "151561        0.0        0.0        0.0        0.0  \n",
              "151562        0.0        0.0        0.0        0.0  \n",
              "151563        0.0        0.0        0.0        0.0  \n",
              "\n",
              "[5 rows x 724 columns]"
            ]
          },
          "metadata": {
            "tags": []
          },
          "execution_count": 84
        }
      ]
    },
    {
      "metadata": {
        "id": "IXmdIBG0sEon",
        "colab_type": "code",
        "outputId": "822070c3-3e15-4f9a-dd7a-a25f76e73502",
        "colab": {
          "base_uri": "https://localhost:8080/",
          "height": 204
        }
      },
      "cell_type": "code",
      "source": [
        "Y.tail()"
      ],
      "execution_count": 85,
      "outputs": [
        {
          "output_type": "execute_result",
          "data": {
            "text/html": [
              "<div>\n",
              "<style scoped>\n",
              "    .dataframe tbody tr th:only-of-type {\n",
              "        vertical-align: middle;\n",
              "    }\n",
              "\n",
              "    .dataframe tbody tr th {\n",
              "        vertical-align: top;\n",
              "    }\n",
              "\n",
              "    .dataframe thead th {\n",
              "        text-align: right;\n",
              "    }\n",
              "</style>\n",
              "<table border=\"1\" class=\"dataframe\">\n",
              "  <thead>\n",
              "    <tr style=\"text-align: right;\">\n",
              "      <th></th>\n",
              "      <th>state_0</th>\n",
              "      <th>state_1</th>\n",
              "    </tr>\n",
              "  </thead>\n",
              "  <tbody>\n",
              "    <tr>\n",
              "      <th>151559</th>\n",
              "      <td>0.0</td>\n",
              "      <td>1.0</td>\n",
              "    </tr>\n",
              "    <tr>\n",
              "      <th>151560</th>\n",
              "      <td>0.0</td>\n",
              "      <td>1.0</td>\n",
              "    </tr>\n",
              "    <tr>\n",
              "      <th>151561</th>\n",
              "      <td>1.0</td>\n",
              "      <td>0.0</td>\n",
              "    </tr>\n",
              "    <tr>\n",
              "      <th>151562</th>\n",
              "      <td>1.0</td>\n",
              "      <td>0.0</td>\n",
              "    </tr>\n",
              "    <tr>\n",
              "      <th>151563</th>\n",
              "      <td>0.0</td>\n",
              "      <td>1.0</td>\n",
              "    </tr>\n",
              "  </tbody>\n",
              "</table>\n",
              "</div>"
            ],
            "text/plain": [
              "        state_0  state_1\n",
              "151559      0.0      1.0\n",
              "151560      0.0      1.0\n",
              "151561      1.0      0.0\n",
              "151562      1.0      0.0\n",
              "151563      0.0      1.0"
            ]
          },
          "metadata": {
            "tags": []
          },
          "execution_count": 85
        }
      ]
    },
    {
      "metadata": {
        "id": "L6QmvjeolE5x",
        "colab_type": "text"
      },
      "cell_type": "markdown",
      "source": [
        "### Creating model"
      ]
    },
    {
      "metadata": {
        "id": "glS27lThlW80",
        "colab_type": "code",
        "outputId": "bda063c4-d7ab-4d23-f608-8b783fcc9b27",
        "colab": {
          "base_uri": "https://localhost:8080/",
          "height": 3995
        }
      },
      "cell_type": "code",
      "source": [
        "es = EarlyStopping(monitor='val_loss' ,patience=10, min_delta = 0.0001)\n",
        "mcp = ModelCheckpoint(filepath='weights.hdf5', verbose=1, save_best_only=True)\n",
        "\n",
        "print(\"X Shape is \", X_train.shape[1], \"Y Shape is\", Y_train.shape[1]) #Y_train.shape[1]\n",
        "\n",
        "# TODO: use regularization and dropout to prevent overfitting\n",
        "model = Sequential()\n",
        "model.add(Dense(512, input_shape=(X_train.shape[1],), use_bias=True, activation='tanh'))\n",
        "model.add(Dropout(0.1))\n",
        "model.add(Dense(256, use_bias=True, activation='relu'))\n",
        "model.add(Dropout(0.3))\n",
        "model.add(Dense(Y_train.shape[1], activation='sigmoid')) #Y_train.shape[1]\n",
        "\n",
        "sgd = SGD(lr=1e-3, decay=1e-7, momentum=0.9, nesterov=True)\n",
        "model.compile(loss='mse', optimizer=sgd)\n",
        "\n",
        "history = model.fit(X_train, Y_train, epochs=100000, batch_size=128,\n",
        "                    verbose=2, validation_data=(X_valid,Y_valid),\n",
        "                   callbacks=[mcp, es])"
      ],
      "execution_count": 87,
      "outputs": [
        {
          "output_type": "stream",
          "text": [
            "X Shape is  724 Y Shape is 2\n",
            "Train on 106094 samples, validate on 30313 samples\n",
            "Epoch 1/100000\n",
            " - 9s - loss: 0.2538 - val_loss: 0.2283\n",
            "\n",
            "Epoch 00001: val_loss improved from inf to 0.22833, saving model to weights.hdf5\n",
            "Epoch 2/100000\n",
            " - 9s - loss: 0.2164 - val_loss: 0.2031\n",
            "\n",
            "Epoch 00002: val_loss improved from 0.22833 to 0.20310, saving model to weights.hdf5\n",
            "Epoch 3/100000\n",
            " - 9s - loss: 0.1947 - val_loss: 0.1862\n",
            "\n",
            "Epoch 00003: val_loss improved from 0.20310 to 0.18617, saving model to weights.hdf5\n",
            "Epoch 4/100000\n",
            " - 9s - loss: 0.1821 - val_loss: 0.1769\n",
            "\n",
            "Epoch 00004: val_loss improved from 0.18617 to 0.17692, saving model to weights.hdf5\n",
            "Epoch 5/100000\n",
            " - 9s - loss: 0.1738 - val_loss: 0.1707\n",
            "\n",
            "Epoch 00005: val_loss improved from 0.17692 to 0.17072, saving model to weights.hdf5\n",
            "Epoch 6/100000\n",
            " - 9s - loss: 0.1682 - val_loss: 0.1675\n",
            "\n",
            "Epoch 00006: val_loss improved from 0.17072 to 0.16752, saving model to weights.hdf5\n",
            "Epoch 7/100000\n",
            " - 10s - loss: 0.1649 - val_loss: 0.1652\n",
            "\n",
            "Epoch 00007: val_loss improved from 0.16752 to 0.16518, saving model to weights.hdf5\n",
            "Epoch 8/100000\n",
            " - 9s - loss: 0.1625 - val_loss: 0.1638\n",
            "\n",
            "Epoch 00008: val_loss improved from 0.16518 to 0.16380, saving model to weights.hdf5\n",
            "Epoch 9/100000\n",
            " - 9s - loss: 0.1599 - val_loss: 0.1628\n",
            "\n",
            "Epoch 00009: val_loss improved from 0.16380 to 0.16284, saving model to weights.hdf5\n",
            "Epoch 10/100000\n",
            " - 9s - loss: 0.1588 - val_loss: 0.1620\n",
            "\n",
            "Epoch 00010: val_loss improved from 0.16284 to 0.16199, saving model to weights.hdf5\n",
            "Epoch 11/100000\n",
            " - 9s - loss: 0.1579 - val_loss: 0.1613\n",
            "\n",
            "Epoch 00011: val_loss improved from 0.16199 to 0.16126, saving model to weights.hdf5\n",
            "Epoch 12/100000\n",
            " - 10s - loss: 0.1560 - val_loss: 0.1609\n",
            "\n",
            "Epoch 00012: val_loss improved from 0.16126 to 0.16090, saving model to weights.hdf5\n",
            "Epoch 13/100000\n",
            " - 10s - loss: 0.1552 - val_loss: 0.1602\n",
            "\n",
            "Epoch 00013: val_loss improved from 0.16090 to 0.16023, saving model to weights.hdf5\n",
            "Epoch 14/100000\n",
            " - 10s - loss: 0.1546 - val_loss: 0.1601\n",
            "\n",
            "Epoch 00014: val_loss improved from 0.16023 to 0.16008, saving model to weights.hdf5\n",
            "Epoch 15/100000\n",
            " - 10s - loss: 0.1536 - val_loss: 0.1598\n",
            "\n",
            "Epoch 00015: val_loss improved from 0.16008 to 0.15981, saving model to weights.hdf5\n",
            "Epoch 16/100000\n",
            " - 10s - loss: 0.1529 - val_loss: 0.1597\n",
            "\n",
            "Epoch 00016: val_loss improved from 0.15981 to 0.15975, saving model to weights.hdf5\n",
            "Epoch 17/100000\n",
            " - 10s - loss: 0.1525 - val_loss: 0.1592\n",
            "\n",
            "Epoch 00017: val_loss improved from 0.15975 to 0.15917, saving model to weights.hdf5\n",
            "Epoch 18/100000\n",
            " - 10s - loss: 0.1516 - val_loss: 0.1592\n",
            "\n",
            "Epoch 00018: val_loss did not improve from 0.15917\n",
            "Epoch 19/100000\n",
            " - 10s - loss: 0.1508 - val_loss: 0.1591\n",
            "\n",
            "Epoch 00019: val_loss improved from 0.15917 to 0.15906, saving model to weights.hdf5\n",
            "Epoch 20/100000\n",
            " - 10s - loss: 0.1500 - val_loss: 0.1594\n",
            "\n",
            "Epoch 00020: val_loss did not improve from 0.15906\n",
            "Epoch 21/100000\n",
            " - 10s - loss: 0.1499 - val_loss: 0.1589\n",
            "\n",
            "Epoch 00021: val_loss improved from 0.15906 to 0.15892, saving model to weights.hdf5\n",
            "Epoch 22/100000\n",
            " - 10s - loss: 0.1494 - val_loss: 0.1589\n",
            "\n",
            "Epoch 00022: val_loss improved from 0.15892 to 0.15891, saving model to weights.hdf5\n",
            "Epoch 23/100000\n",
            " - 10s - loss: 0.1485 - val_loss: 0.1583\n",
            "\n",
            "Epoch 00023: val_loss improved from 0.15891 to 0.15830, saving model to weights.hdf5\n",
            "Epoch 24/100000\n",
            " - 10s - loss: 0.1483 - val_loss: 0.1585\n",
            "\n",
            "Epoch 00024: val_loss did not improve from 0.15830\n",
            "Epoch 25/100000\n",
            " - 10s - loss: 0.1474 - val_loss: 0.1585\n",
            "\n",
            "Epoch 00025: val_loss did not improve from 0.15830\n",
            "Epoch 26/100000\n",
            " - 10s - loss: 0.1475 - val_loss: 0.1585\n",
            "\n",
            "Epoch 00026: val_loss did not improve from 0.15830\n",
            "Epoch 27/100000\n",
            " - 10s - loss: 0.1469 - val_loss: 0.1584\n",
            "\n",
            "Epoch 00027: val_loss did not improve from 0.15830\n",
            "Epoch 28/100000\n",
            " - 10s - loss: 0.1461 - val_loss: 0.1580\n",
            "\n",
            "Epoch 00028: val_loss improved from 0.15830 to 0.15803, saving model to weights.hdf5\n",
            "Epoch 29/100000\n",
            " - 10s - loss: 0.1457 - val_loss: 0.1581\n",
            "\n",
            "Epoch 00029: val_loss did not improve from 0.15803\n",
            "Epoch 30/100000\n",
            " - 10s - loss: 0.1456 - val_loss: 0.1579\n",
            "\n",
            "Epoch 00030: val_loss improved from 0.15803 to 0.15794, saving model to weights.hdf5\n",
            "Epoch 31/100000\n",
            " - 10s - loss: 0.1454 - val_loss: 0.1580\n",
            "\n",
            "Epoch 00031: val_loss did not improve from 0.15794\n",
            "Epoch 32/100000\n",
            " - 10s - loss: 0.1443 - val_loss: 0.1577\n",
            "\n",
            "Epoch 00032: val_loss improved from 0.15794 to 0.15766, saving model to weights.hdf5\n",
            "Epoch 33/100000\n",
            " - 10s - loss: 0.1443 - val_loss: 0.1578\n",
            "\n",
            "Epoch 00033: val_loss did not improve from 0.15766\n",
            "Epoch 34/100000\n",
            " - 10s - loss: 0.1438 - val_loss: 0.1576\n",
            "\n",
            "Epoch 00034: val_loss improved from 0.15766 to 0.15755, saving model to weights.hdf5\n",
            "Epoch 35/100000\n",
            " - 10s - loss: 0.1436 - val_loss: 0.1576\n",
            "\n",
            "Epoch 00035: val_loss did not improve from 0.15755\n",
            "Epoch 36/100000\n",
            " - 10s - loss: 0.1429 - val_loss: 0.1573\n",
            "\n",
            "Epoch 00036: val_loss improved from 0.15755 to 0.15728, saving model to weights.hdf5\n",
            "Epoch 37/100000\n",
            " - 10s - loss: 0.1429 - val_loss: 0.1574\n",
            "\n",
            "Epoch 00037: val_loss did not improve from 0.15728\n",
            "Epoch 38/100000\n",
            " - 10s - loss: 0.1425 - val_loss: 0.1573\n",
            "\n",
            "Epoch 00038: val_loss improved from 0.15728 to 0.15727, saving model to weights.hdf5\n",
            "Epoch 39/100000\n",
            " - 10s - loss: 0.1422 - val_loss: 0.1574\n",
            "\n",
            "Epoch 00039: val_loss did not improve from 0.15727\n",
            "Epoch 40/100000\n",
            " - 10s - loss: 0.1417 - val_loss: 0.1575\n",
            "\n",
            "Epoch 00040: val_loss did not improve from 0.15727\n",
            "Epoch 41/100000\n",
            " - 10s - loss: 0.1415 - val_loss: 0.1574\n",
            "\n",
            "Epoch 00041: val_loss did not improve from 0.15727\n",
            "Epoch 42/100000\n",
            " - 10s - loss: 0.1413 - val_loss: 0.1573\n",
            "\n",
            "Epoch 00042: val_loss did not improve from 0.15727\n",
            "Epoch 43/100000\n",
            " - 10s - loss: 0.1402 - val_loss: 0.1573\n",
            "\n",
            "Epoch 00043: val_loss did not improve from 0.15727\n",
            "Epoch 44/100000\n",
            " - 10s - loss: 0.1404 - val_loss: 0.1572\n",
            "\n",
            "Epoch 00044: val_loss improved from 0.15727 to 0.15724, saving model to weights.hdf5\n",
            "Epoch 45/100000\n",
            " - 10s - loss: 0.1401 - val_loss: 0.1574\n",
            "\n",
            "Epoch 00045: val_loss did not improve from 0.15724\n",
            "Epoch 46/100000\n",
            " - 10s - loss: 0.1397 - val_loss: 0.1572\n",
            "\n",
            "Epoch 00046: val_loss improved from 0.15724 to 0.15716, saving model to weights.hdf5\n",
            "Epoch 47/100000\n",
            " - 10s - loss: 0.1394 - val_loss: 0.1573\n",
            "\n",
            "Epoch 00047: val_loss did not improve from 0.15716\n",
            "Epoch 48/100000\n",
            " - 10s - loss: 0.1389 - val_loss: 0.1570\n",
            "\n",
            "Epoch 00048: val_loss improved from 0.15716 to 0.15703, saving model to weights.hdf5\n",
            "Epoch 49/100000\n",
            " - 10s - loss: 0.1383 - val_loss: 0.1570\n",
            "\n",
            "Epoch 00049: val_loss did not improve from 0.15703\n",
            "Epoch 50/100000\n",
            " - 10s - loss: 0.1384 - val_loss: 0.1573\n",
            "\n",
            "Epoch 00050: val_loss did not improve from 0.15703\n",
            "Epoch 51/100000\n",
            " - 10s - loss: 0.1374 - val_loss: 0.1572\n",
            "\n",
            "Epoch 00051: val_loss did not improve from 0.15703\n",
            "Epoch 52/100000\n",
            " - 10s - loss: 0.1374 - val_loss: 0.1573\n",
            "\n",
            "Epoch 00052: val_loss did not improve from 0.15703\n",
            "Epoch 53/100000\n",
            " - 10s - loss: 0.1369 - val_loss: 0.1570\n",
            "\n",
            "Epoch 00053: val_loss did not improve from 0.15703\n",
            "Epoch 54/100000\n",
            " - 10s - loss: 0.1364 - val_loss: 0.1572\n",
            "\n",
            "Epoch 00054: val_loss did not improve from 0.15703\n",
            "Epoch 55/100000\n",
            " - 10s - loss: 0.1362 - val_loss: 0.1572\n",
            "\n",
            "Epoch 00055: val_loss did not improve from 0.15703\n",
            "Epoch 56/100000\n",
            " - 10s - loss: 0.1360 - val_loss: 0.1572\n",
            "\n",
            "Epoch 00056: val_loss did not improve from 0.15703\n",
            "Epoch 57/100000\n",
            " - 10s - loss: 0.1353 - val_loss: 0.1570\n",
            "\n",
            "Epoch 00057: val_loss improved from 0.15703 to 0.15703, saving model to weights.hdf5\n",
            "Epoch 58/100000\n",
            " - 10s - loss: 0.1350 - val_loss: 0.1572\n",
            "\n",
            "Epoch 00058: val_loss did not improve from 0.15703\n"
          ],
          "name": "stdout"
        }
      ]
    },
    {
      "metadata": {
        "id": "Pw01roV2lwEG",
        "colab_type": "text"
      },
      "cell_type": "markdown",
      "source": [
        "### Loading the best checkpoint"
      ]
    },
    {
      "metadata": {
        "id": "R6_c16zKlvlx",
        "colab_type": "code",
        "colab": {}
      },
      "cell_type": "code",
      "source": [
        "from keras.models import load_model\n",
        "\n",
        "model = load_model('weights.hdf5')"
      ],
      "execution_count": 0,
      "outputs": []
    },
    {
      "metadata": {
        "id": "fTjkUSJAl1ox",
        "colab_type": "text"
      },
      "cell_type": "markdown",
      "source": [
        "### Calculating mean absolute error"
      ]
    },
    {
      "metadata": {
        "id": "dGyGMk11wns5",
        "colab_type": "code",
        "outputId": "1ac2c759-f001-49e1-e9ae-546cb1de500e",
        "colab": {
          "base_uri": "https://localhost:8080/",
          "height": 34
        }
      },
      "cell_type": "code",
      "source": [
        "from sklearn.metrics import mean_squared_error, mean_absolute_error\n",
        "preds = model.predict(X_test)\n",
        "err = mean_absolute_error(Y_test, preds)\n",
        "\n",
        "print(\"Error on test data: {}\".format(err))"
      ],
      "execution_count": 89,
      "outputs": [
        {
          "output_type": "stream",
          "text": [
            "Error on test data: 0.30350642641422143\n"
          ],
          "name": "stdout"
        }
      ]
    },
    {
      "metadata": {
        "id": "g3u3zbU0wqFr",
        "colab_type": "code",
        "outputId": "4f69ab40-6505-4efe-f81b-eb15698d7fc6",
        "colab": {
          "base_uri": "https://localhost:8080/",
          "height": 68
        }
      },
      "cell_type": "code",
      "source": [
        "print(preds[0][:4])\n",
        "print(type(preds))\n",
        "print(type(Y_test))"
      ],
      "execution_count": 90,
      "outputs": [
        {
          "output_type": "stream",
          "text": [
            "[0.42539573 0.57918626]\n",
            "<class 'numpy.ndarray'>\n",
            "<class 'pandas.core.frame.DataFrame'>\n"
          ],
          "name": "stdout"
        }
      ]
    },
    {
      "metadata": {
        "id": "w-GaNpjRxM5g",
        "colab_type": "code",
        "outputId": "dc7edc2e-5993-4486-d405-b05ff9533e04",
        "colab": {
          "base_uri": "https://localhost:8080/",
          "height": 51
        }
      },
      "cell_type": "code",
      "source": [
        "print(preds.shape)\n",
        "print(Y_test.shape)"
      ],
      "execution_count": 91,
      "outputs": [
        {
          "output_type": "stream",
          "text": [
            "(15157, 2)\n",
            "(15157, 2)\n"
          ],
          "name": "stdout"
        }
      ]
    },
    {
      "metadata": {
        "id": "KD6rpQokl6iA",
        "colab_type": "text"
      },
      "cell_type": "markdown",
      "source": [
        "### Creating DataFrame from the predictions"
      ]
    },
    {
      "metadata": {
        "id": "4NFxZTZ4yUqb",
        "colab_type": "code",
        "colab": {}
      },
      "cell_type": "code",
      "source": [
        "pred_df = pd.DataFrame(data=preds)"
      ],
      "execution_count": 0,
      "outputs": []
    },
    {
      "metadata": {
        "id": "XE1ibbbyysTi",
        "colab_type": "code",
        "outputId": "4157fa00-eca3-4555-d2ce-c67b42a74797",
        "colab": {
          "base_uri": "https://localhost:8080/",
          "height": 204
        }
      },
      "cell_type": "code",
      "source": [
        "pred_df.head()"
      ],
      "execution_count": 93,
      "outputs": [
        {
          "output_type": "execute_result",
          "data": {
            "text/html": [
              "<div>\n",
              "<style scoped>\n",
              "    .dataframe tbody tr th:only-of-type {\n",
              "        vertical-align: middle;\n",
              "    }\n",
              "\n",
              "    .dataframe tbody tr th {\n",
              "        vertical-align: top;\n",
              "    }\n",
              "\n",
              "    .dataframe thead th {\n",
              "        text-align: right;\n",
              "    }\n",
              "</style>\n",
              "<table border=\"1\" class=\"dataframe\">\n",
              "  <thead>\n",
              "    <tr style=\"text-align: right;\">\n",
              "      <th></th>\n",
              "      <th>0</th>\n",
              "      <th>1</th>\n",
              "    </tr>\n",
              "  </thead>\n",
              "  <tbody>\n",
              "    <tr>\n",
              "      <th>0</th>\n",
              "      <td>0.425396</td>\n",
              "      <td>0.579186</td>\n",
              "    </tr>\n",
              "    <tr>\n",
              "      <th>1</th>\n",
              "      <td>0.163989</td>\n",
              "      <td>0.835533</td>\n",
              "    </tr>\n",
              "    <tr>\n",
              "      <th>2</th>\n",
              "      <td>0.839773</td>\n",
              "      <td>0.153521</td>\n",
              "    </tr>\n",
              "    <tr>\n",
              "      <th>3</th>\n",
              "      <td>0.748546</td>\n",
              "      <td>0.254451</td>\n",
              "    </tr>\n",
              "    <tr>\n",
              "      <th>4</th>\n",
              "      <td>0.011945</td>\n",
              "      <td>0.987800</td>\n",
              "    </tr>\n",
              "  </tbody>\n",
              "</table>\n",
              "</div>"
            ],
            "text/plain": [
              "          0         1\n",
              "0  0.425396  0.579186\n",
              "1  0.163989  0.835533\n",
              "2  0.839773  0.153521\n",
              "3  0.748546  0.254451\n",
              "4  0.011945  0.987800"
            ]
          },
          "metadata": {
            "tags": []
          },
          "execution_count": 93
        }
      ]
    },
    {
      "metadata": {
        "id": "0Ufv8XeFyvVM",
        "colab_type": "code",
        "outputId": "ba428663-5b87-4be2-d18f-a491fe86f5d3",
        "colab": {
          "base_uri": "https://localhost:8080/",
          "height": 204
        }
      },
      "cell_type": "code",
      "source": [
        "Y_test.head()"
      ],
      "execution_count": 94,
      "outputs": [
        {
          "output_type": "execute_result",
          "data": {
            "text/html": [
              "<div>\n",
              "<style scoped>\n",
              "    .dataframe tbody tr th:only-of-type {\n",
              "        vertical-align: middle;\n",
              "    }\n",
              "\n",
              "    .dataframe tbody tr th {\n",
              "        vertical-align: top;\n",
              "    }\n",
              "\n",
              "    .dataframe thead th {\n",
              "        text-align: right;\n",
              "    }\n",
              "</style>\n",
              "<table border=\"1\" class=\"dataframe\">\n",
              "  <thead>\n",
              "    <tr style=\"text-align: right;\">\n",
              "      <th></th>\n",
              "      <th>state_0</th>\n",
              "      <th>state_1</th>\n",
              "    </tr>\n",
              "  </thead>\n",
              "  <tbody>\n",
              "    <tr>\n",
              "      <th>136407</th>\n",
              "      <td>1.0</td>\n",
              "      <td>0.0</td>\n",
              "    </tr>\n",
              "    <tr>\n",
              "      <th>136408</th>\n",
              "      <td>1.0</td>\n",
              "      <td>0.0</td>\n",
              "    </tr>\n",
              "    <tr>\n",
              "      <th>136409</th>\n",
              "      <td>1.0</td>\n",
              "      <td>0.0</td>\n",
              "    </tr>\n",
              "    <tr>\n",
              "      <th>136410</th>\n",
              "      <td>0.0</td>\n",
              "      <td>1.0</td>\n",
              "    </tr>\n",
              "    <tr>\n",
              "      <th>136411</th>\n",
              "      <td>0.0</td>\n",
              "      <td>1.0</td>\n",
              "    </tr>\n",
              "  </tbody>\n",
              "</table>\n",
              "</div>"
            ],
            "text/plain": [
              "        state_0  state_1\n",
              "136407      1.0      0.0\n",
              "136408      1.0      0.0\n",
              "136409      1.0      0.0\n",
              "136410      0.0      1.0\n",
              "136411      0.0      1.0"
            ]
          },
          "metadata": {
            "tags": []
          },
          "execution_count": 94
        }
      ]
    },
    {
      "metadata": {
        "id": "uj6KG3-ImHKV",
        "colab_type": "text"
      },
      "cell_type": "markdown",
      "source": [
        "### Inverse transforming the one hot encoding to states"
      ]
    },
    {
      "metadata": {
        "id": "mvRyqICM1pVF",
        "colab_type": "code",
        "colab": {}
      },
      "cell_type": "code",
      "source": [
        "Y_test_state = state_ohe.inverse_transform(Y_test)"
      ],
      "execution_count": 0,
      "outputs": []
    },
    {
      "metadata": {
        "id": "89hGSAfZDpD4",
        "colab_type": "code",
        "outputId": "a256c7dc-638b-4f4f-d4a9-33ace3b40055",
        "colab": {
          "base_uri": "https://localhost:8080/",
          "height": 102
        }
      },
      "cell_type": "code",
      "source": [
        "Y_test_state[-5:]"
      ],
      "execution_count": 96,
      "outputs": [
        {
          "output_type": "execute_result",
          "data": {
            "text/plain": [
              "array([[1.],\n",
              "       [1.],\n",
              "       [0.],\n",
              "       [0.],\n",
              "       [1.]])"
            ]
          },
          "metadata": {
            "tags": []
          },
          "execution_count": 96
        }
      ]
    },
    {
      "metadata": {
        "id": "bPueTNHFEout",
        "colab_type": "code",
        "outputId": "2074bc36-691b-46e0-8a33-f929b64de357",
        "colab": {
          "base_uri": "https://localhost:8080/",
          "height": 34
        }
      },
      "cell_type": "code",
      "source": [
        "type(Y_test_state)"
      ],
      "execution_count": 97,
      "outputs": [
        {
          "output_type": "execute_result",
          "data": {
            "text/plain": [
              "numpy.ndarray"
            ]
          },
          "metadata": {
            "tags": []
          },
          "execution_count": 97
        }
      ]
    },
    {
      "metadata": {
        "id": "bRwDPBk9mMyt",
        "colab_type": "text"
      },
      "cell_type": "markdown",
      "source": [
        "### Inverse transforming the label encoded values back to state names"
      ]
    },
    {
      "metadata": {
        "id": "kOPL1mvH161n",
        "colab_type": "code",
        "outputId": "1f7bda92-df4c-4701-bbf4-e52fa3f4164c",
        "colab": {
          "base_uri": "https://localhost:8080/",
          "height": 71
        }
      },
      "cell_type": "code",
      "source": [
        "Y_test_state2 = state_le.inverse_transform(Y_test_state.astype(int))"
      ],
      "execution_count": 98,
      "outputs": [
        {
          "output_type": "stream",
          "text": [
            "/usr/local/lib/python3.6/dist-packages/sklearn/preprocessing/label.py:273: DataConversionWarning: A column-vector y was passed when a 1d array was expected. Please change the shape of y to (n_samples, ), for example using ravel().\n",
            "  y = column_or_1d(y, warn=True)\n"
          ],
          "name": "stderr"
        }
      ]
    },
    {
      "metadata": {
        "id": "Lu-8hGsVEvgq",
        "colab_type": "code",
        "outputId": "bd20fe6d-30e8-4847-9c69-d0e6fb6fe174",
        "colab": {
          "base_uri": "https://localhost:8080/",
          "height": 51
        }
      },
      "cell_type": "code",
      "source": [
        "Y_test_state2[:5]"
      ],
      "execution_count": 99,
      "outputs": [
        {
          "output_type": "execute_result",
          "data": {
            "text/plain": [
              "array(['failed', 'failed', 'failed', 'successful', 'successful'],\n",
              "      dtype=object)"
            ]
          },
          "metadata": {
            "tags": []
          },
          "execution_count": 99
        }
      ]
    },
    {
      "metadata": {
        "id": "nPAB0TUYmSYZ",
        "colab_type": "text"
      },
      "cell_type": "markdown",
      "source": [
        "### Finding the column id of the maximum value (e.g. the one that the network predicted to be the highest 'chance')"
      ]
    },
    {
      "metadata": {
        "id": "gcOXSrKY2Kcp",
        "colab_type": "code",
        "colab": {}
      },
      "cell_type": "code",
      "source": [
        "pred_test = pred_df.idxmax(axis=1)"
      ],
      "execution_count": 0,
      "outputs": []
    },
    {
      "metadata": {
        "id": "QRnwoNAxmjYi",
        "colab_type": "text"
      },
      "cell_type": "markdown",
      "source": [
        "### Transforming back the number to the label\n",
        "This here is using the fact that the encodings are onehotencoded, and it is the same number as the column number"
      ]
    },
    {
      "metadata": {
        "id": "W7bruoBnGWjY",
        "colab_type": "code",
        "colab": {}
      },
      "cell_type": "code",
      "source": [
        "pred_inverted = state_le.inverse_transform(pred_test)"
      ],
      "execution_count": 0,
      "outputs": []
    },
    {
      "metadata": {
        "id": "-u5LCmsWHyU-",
        "colab_type": "code",
        "outputId": "4d49b99c-d82c-4c6a-aed2-e6c9f315adb4",
        "colab": {
          "base_uri": "https://localhost:8080/",
          "height": 34
        }
      },
      "cell_type": "code",
      "source": [
        "state_le.classes_"
      ],
      "execution_count": 102,
      "outputs": [
        {
          "output_type": "execute_result",
          "data": {
            "text/plain": [
              "array(['failed', 'successful'], dtype=object)"
            ]
          },
          "metadata": {
            "tags": []
          },
          "execution_count": 102
        }
      ]
    },
    {
      "metadata": {
        "id": "PVt0lajF2Vcq",
        "colab_type": "code",
        "outputId": "cf92aef7-3c29-4cff-a447-41093801dbea",
        "colab": {
          "base_uri": "https://localhost:8080/",
          "height": 51
        }
      },
      "cell_type": "code",
      "source": [
        "pred_inverted"
      ],
      "execution_count": 103,
      "outputs": [
        {
          "output_type": "execute_result",
          "data": {
            "text/plain": [
              "array(['successful', 'successful', 'failed', ..., 'failed', 'failed',\n",
              "       'successful'], dtype=object)"
            ]
          },
          "metadata": {
            "tags": []
          },
          "execution_count": 103
        }
      ]
    },
    {
      "metadata": {
        "id": "R_20eNdr2iUw",
        "colab_type": "code",
        "outputId": "f48e7e1c-4da0-4efa-d59e-2ef194d14757",
        "colab": {
          "base_uri": "https://localhost:8080/",
          "height": 34
        }
      },
      "cell_type": "code",
      "source": [
        "pred_inverted.shape"
      ],
      "execution_count": 104,
      "outputs": [
        {
          "output_type": "execute_result",
          "data": {
            "text/plain": [
              "(15157,)"
            ]
          },
          "metadata": {
            "tags": []
          },
          "execution_count": 104
        }
      ]
    },
    {
      "metadata": {
        "id": "bbIf0su-3Hs9",
        "colab_type": "code",
        "outputId": "c24833e1-7d80-42e5-de0b-28f7ba2d63e0",
        "colab": {
          "base_uri": "https://localhost:8080/",
          "height": 34
        }
      },
      "cell_type": "code",
      "source": [
        "Y_test_state2.shape"
      ],
      "execution_count": 105,
      "outputs": [
        {
          "output_type": "execute_result",
          "data": {
            "text/plain": [
              "(15157,)"
            ]
          },
          "metadata": {
            "tags": []
          },
          "execution_count": 105
        }
      ]
    },
    {
      "metadata": {
        "id": "DIhYQIWLm_34",
        "colab_type": "text"
      },
      "cell_type": "markdown",
      "source": [
        "### Getting a sample of the predictions\n",
        "Currently the network isn't as accurate as we would like it to be, we hope that in the future we can improve the accuracy"
      ]
    },
    {
      "metadata": {
        "id": "0oW80GJZHLsV",
        "colab_type": "code",
        "outputId": "f107618f-93d7-4a7e-8770-8651ba24ac75",
        "colab": {
          "base_uri": "https://localhost:8080/",
          "height": 204
        }
      },
      "cell_type": "code",
      "source": [
        "print(\"First 10\")\n",
        "for i in range(10):\n",
        "  print(\"Predicted \", pred_inverted[i], \" |||| was:\", Y_test_state2[i])"
      ],
      "execution_count": 106,
      "outputs": [
        {
          "output_type": "stream",
          "text": [
            "First 10\n",
            "Predicted  successful  |||| was: failed\n",
            "Predicted  successful  |||| was: failed\n",
            "Predicted  failed  |||| was: failed\n",
            "Predicted  failed  |||| was: successful\n",
            "Predicted  successful  |||| was: successful\n",
            "Predicted  successful  |||| was: failed\n",
            "Predicted  failed  |||| was: failed\n",
            "Predicted  failed  |||| was: failed\n",
            "Predicted  failed  |||| was: successful\n",
            "Predicted  failed  |||| was: successful\n"
          ],
          "name": "stdout"
        }
      ]
    },
    {
      "metadata": {
        "id": "s79jIZ_ZHfQX",
        "colab_type": "code",
        "colab": {}
      },
      "cell_type": "code",
      "source": [
        ""
      ],
      "execution_count": 0,
      "outputs": []
    }
  ]
}