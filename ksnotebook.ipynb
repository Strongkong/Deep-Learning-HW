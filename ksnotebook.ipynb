{
  "nbformat": 4,
  "nbformat_minor": 0,
  "metadata": {
    "colab": {
      "name": "ksnotebook.ipynb",
      "version": "0.3.2",
      "provenance": [],
      "collapsed_sections": [],
      "toc_visible": true
    },
    "kernelspec": {
      "name": "python3",
      "display_name": "Python 3"
    },
    "accelerator": "GPU"
  },
  "cells": [
    {
      "metadata": {
        "id": "X5yRk3LJ8nZN",
        "colab_type": "text"
      },
      "cell_type": "markdown",
      "source": [
        "# Kickstarter project"
      ]
    },
    {
      "metadata": {
        "id": "E7oYiGdT8nZP",
        "colab_type": "code",
        "colab": {}
      },
      "cell_type": "code",
      "source": [
        "import numpy as np\n",
        "import pandas as pd\n",
        "%matplotlib inline\n",
        "import matplotlib.pyplot as plt"
      ],
      "execution_count": 0,
      "outputs": []
    },
    {
      "metadata": {
        "id": "Pvz5Ll8k89Xv",
        "colab_type": "text"
      },
      "cell_type": "markdown",
      "source": [
        "## Preparation of data -> this was done offline, result is \"test_joined.csv\""
      ]
    },
    {
      "metadata": {
        "id": "sylEcU309NRi",
        "colab_type": "text"
      },
      "cell_type": "markdown",
      "source": [
        "### Cleaning the kaggle dataset"
      ]
    },
    {
      "metadata": {
        "id": "UpolHXDU-Ra5",
        "colab_type": "text"
      },
      "cell_type": "markdown",
      "source": [
        "Dataset 1: https://www.kaggle.com/kemical/kickstarter-projects#ks-projects-201801.csv"
      ]
    },
    {
      "metadata": {
        "id": "LXl8JAO3-sC1",
        "colab_type": "text"
      },
      "cell_type": "markdown",
      "source": [
        "Dataset 2: https://webrobots.io/kickstarter-datasets/"
      ]
    },
    {
      "metadata": {
        "id": "b5J5wLJU9q84",
        "colab_type": "code",
        "colab": {}
      },
      "cell_type": "code",
      "source": [
        "def cleankaggle():\n",
        "  data = []\n",
        "  linecnt = 0\n",
        "  with open(\"ks-projects-201801.csv\", encoding='latin1') as f:\n",
        "      for line in f.readlines():\n",
        "          split_ = line.split(',')\n",
        "          linecnt += 1\n",
        "          if linecnt % 10000 == 0:\n",
        "              print(linecnt)\n",
        "          if len(split_) == 15:\n",
        "              data.append(line)\n",
        "\n",
        "  print(\"Added {} to output\".format(len(data)))\n",
        "  with open(\"test_newer.csv\", 'w', encoding='latin1') as outf:\n",
        "      outf.writelines(data)"
      ],
      "execution_count": 0,
      "outputs": []
    },
    {
      "metadata": {
        "id": "ySNQZVDo9xfc",
        "colab_type": "text"
      },
      "cell_type": "markdown",
      "source": [
        "### Cleaning and joining the webcrawler dataset"
      ]
    },
    {
      "metadata": {
        "id": "ClApARI3968O",
        "colab_type": "code",
        "colab": {}
      },
      "cell_type": "code",
      "source": [
        "def cleanwebcrawler():\n",
        "  import os\n",
        "  from csv import reader, writer\n",
        "\n",
        "  inputfolder = r\"G:\\Deep Learning\"\n",
        "  csv_filetemplate = \"Kickstarter%03d.csv\"\n",
        "  first = True\n",
        "\n",
        "\n",
        "  def clean_columns(split2):\n",
        "      max_len = 37\n",
        "      keep = [1, 16, 29, 30]\n",
        "      temp = []\n",
        "      for i in range(0, max_len):\n",
        "          if i in keep:\n",
        "              temp.append(split2[i])\n",
        "\n",
        "      return temp\n",
        "\n",
        "\n",
        "  for i in range(0, 51):\n",
        "      linecnt = 0\n",
        "      data = []\n",
        "      fname = csv_filetemplate % i if i != 0 else \"Kickstarter.csv\"\n",
        "      fname = inputfolder + os.sep + fname\n",
        "      print(\"Opening and processing {}\".format(fname))\n",
        "      with open(fname, encoding='latin1') as f:\n",
        "          csvreader = reader(f)\n",
        "          for line in csvreader:\n",
        "              if first:\n",
        "                  split_ = line\n",
        "                  print(\"First line: {}\".format(split_))\n",
        "                  split_ = clean_columns(split_)\n",
        "                  print(\"Cleaned first line: {}\".format(split_))\n",
        "                  data.append(split_)\n",
        "                  first = False\n",
        "              else:\n",
        "                  split_ = line\n",
        "                  linecnt += 1\n",
        "                  if linecnt % 1000 == 0:\n",
        "                      print(linecnt)\n",
        "                      print(len(split_))\n",
        "                  if len(split_) == 37:\n",
        "                      split_ = clean_columns(split_)\n",
        "                      data.append(split_)\n",
        "      print(\"Added {} to output from file {}\".format(len(data), fname))\n",
        "      with open(\"test_dataset2.csv\", 'a', encoding='latin1', newline='') as outf:\n",
        "          csvwriter = writer(outf)\n",
        "          for row in data:\n",
        "              csvwriter.writerow(row)"
      ],
      "execution_count": 0,
      "outputs": []
    },
    {
      "metadata": {
        "id": "yQsTRAOu-KAk",
        "colab_type": "text"
      },
      "cell_type": "markdown",
      "source": [
        "### Joining the two datasets on ID"
      ]
    },
    {
      "metadata": {
        "id": "L1cUBvxr-nzr",
        "colab_type": "code",
        "colab": {}
      },
      "cell_type": "code",
      "source": [
        "def joinonids():\n",
        "  from csv import reader, writer\n",
        "\n",
        "  with open(\"test_newer.csv\", encoding='latin1') as f:\n",
        "      with open(\"test_dataset2.csv\", encoding='latin1') as second:\n",
        "          csvreader1 = reader(f)\n",
        "          csvreader2 = reader(second)\n",
        "          cache = dict()\n",
        "          firstrow = None\n",
        "          for row in csvreader1:\n",
        "              if firstrow is None:\n",
        "                  firstrow = row\n",
        "              else:\n",
        "                  cache[row[0]] = row\n",
        "\n",
        "          print(\"Done caching IDs from first file.\")\n",
        "          output = list()\n",
        "          for row in csvreader2:\n",
        "              if firstrow is not None:\n",
        "                  key = row.pop(1)\n",
        "                  row.extend(firstrow)\n",
        "                  output.append(row)\n",
        "                  firstrow = None\n",
        "              else:\n",
        "                  if row[1] in cache.keys():\n",
        "                      key = row.pop(1)\n",
        "                      row.extend(cache[key])\n",
        "                      del cache[key]\n",
        "                      output.append(row)\n",
        "\n",
        "  print(\"IDs found in test.csv = {}\".format(len(cache) + len(output)))\n",
        "  print(\"Matching IDs output = {}\".format(len(output)))\n",
        "  print(\"Writing out...\")\n",
        "  with open(\"test_joined.csv\", 'w', encoding='latin1', newline='') as outf:\n",
        "      csvwriter = writer(outf)\n",
        "      for row in output:\n",
        "          csvwriter.writerow(row)"
      ],
      "execution_count": 0,
      "outputs": []
    },
    {
      "metadata": {
        "id": "kS89oWau8cXc",
        "colab_type": "text"
      },
      "cell_type": "markdown",
      "source": [
        "## Github clone the dataset -> separate from normal github"
      ]
    },
    {
      "metadata": {
        "id": "V-B4fefI8ish",
        "colab_type": "code",
        "colab": {
          "base_uri": "https://localhost:8080/",
          "height": 34
        },
        "outputId": "36c8278c-373b-4e81-cd2f-69959c20f745"
      },
      "cell_type": "code",
      "source": [
        "!git clone https://github.com/Strongkong/cleaned_kickstarted_dataset"
      ],
      "execution_count": 5,
      "outputs": [
        {
          "output_type": "stream",
          "text": [
            "fatal: destination path 'cleaned_kickstarted_dataset' already exists and is not an empty directory.\n"
          ],
          "name": "stdout"
        }
      ]
    },
    {
      "metadata": {
        "id": "qPajLmYW8nSo",
        "colab_type": "code",
        "colab": {}
      },
      "cell_type": "code",
      "source": [
        "folder = \"./cleaned_kickstarted_dataset/\"\n",
        "filename = \"test_joined.csv\"\n",
        "fullpath = folder + filename"
      ],
      "execution_count": 0,
      "outputs": []
    },
    {
      "metadata": {
        "id": "k8x91cKU8nZS",
        "colab_type": "text"
      },
      "cell_type": "markdown",
      "source": [
        "## Load csv file"
      ]
    },
    {
      "metadata": {
        "id": "UL8JcRzM8nZT",
        "colab_type": "code",
        "colab": {}
      },
      "cell_type": "code",
      "source": [
        "df = pd.read_csv(fullpath, encoding='utf-8', sep=',')"
      ],
      "execution_count": 0,
      "outputs": []
    },
    {
      "metadata": {
        "id": "QRNurOT88nZV",
        "colab_type": "text"
      },
      "cell_type": "markdown",
      "source": [
        "## Remove whitespaces from header names"
      ]
    },
    {
      "metadata": {
        "id": "zMCu1kr38nZW",
        "colab_type": "code",
        "colab": {}
      },
      "cell_type": "code",
      "source": [
        "df = df.rename(columns=lambda x: x.strip())\n"
      ],
      "execution_count": 0,
      "outputs": []
    },
    {
      "metadata": {
        "id": "qVUgVciBdiy_",
        "colab_type": "text"
      },
      "cell_type": "markdown",
      "source": [
        "## Get rid of unnecessary columns"
      ]
    },
    {
      "metadata": {
        "id": "q-5kTqwDdtmX",
        "colab_type": "code",
        "colab": {}
      },
      "cell_type": "code",
      "source": [
        "# not necessary: spotlight, staff_pick, goal, usd pledged, pledged\n",
        "df = df[['blurb', 'ID', 'name', 'category', 'main_category', 'currency', 'deadline', 'usd_goal_real', 'launched', 'usd_pledged_real', 'state', 'backers', 'country']]"
      ],
      "execution_count": 0,
      "outputs": []
    },
    {
      "metadata": {
        "id": "WQv0MxgeSdoF",
        "colab_type": "code",
        "colab": {}
      },
      "cell_type": "code",
      "source": [
        "# print(df.count()['ID'])\n",
        "# print(df.count()['blurb'])"
      ],
      "execution_count": 0,
      "outputs": []
    },
    {
      "metadata": {
        "id": "2urU1P06S45Q",
        "colab_type": "code",
        "colab": {
          "base_uri": "https://localhost:8080/",
          "height": 34
        },
        "outputId": "ecec19d0-62cd-4ebe-8960-772f7ac5e419"
      },
      "cell_type": "code",
      "source": [
        "# df[df.isnull().any(axis=1)]\n",
        "df = df[df.notnull().all(axis=1)].reset_index(drop=True)\n",
        "print(len(df))"
      ],
      "execution_count": 11,
      "outputs": [
        {
          "output_type": "stream",
          "text": [
            "160307\n"
          ],
          "name": "stdout"
        }
      ]
    },
    {
      "metadata": {
        "id": "3w7mCo8d8nZZ",
        "colab_type": "text"
      },
      "cell_type": "markdown",
      "source": [
        "## Peak at head"
      ]
    },
    {
      "metadata": {
        "colab_type": "code",
        "colab": {
          "base_uri": "https://localhost:8080/",
          "height": 34
        },
        "id": "-biX_6SbwfVF",
        "outputId": "377fde2e-1555-4027-91bb-edd069346fef"
      },
      "cell_type": "code",
      "source": [
        "print (df.blurb[3])"
      ],
      "execution_count": 12,
      "outputs": [
        {
          "output_type": "stream",
          "text": [
            "Für die Finanzierung der Veröffentlichung meiner Masterarbeit, die dann als eigenständiges Buch bei Turia&Kant erscheint.\n"
          ],
          "name": "stdout"
        }
      ]
    },
    {
      "metadata": {
        "id": "c9cyrQ908nZZ",
        "colab_type": "code",
        "colab": {}
      },
      "cell_type": "code",
      "source": [
        "# df.head()"
      ],
      "execution_count": 0,
      "outputs": []
    },
    {
      "metadata": {
        "id": "XQ3TzDP2hN5s",
        "colab_type": "code",
        "colab": {}
      },
      "cell_type": "code",
      "source": [
        "# df.tail()"
      ],
      "execution_count": 0,
      "outputs": []
    },
    {
      "metadata": {
        "id": "Bl-ma1O78nZg",
        "colab_type": "text"
      },
      "cell_type": "markdown",
      "source": [
        "## Main categorical features"
      ]
    },
    {
      "metadata": {
        "id": "CvF2Gjh28nZg",
        "colab_type": "text"
      },
      "cell_type": "markdown",
      "source": [
        "### Categories"
      ]
    },
    {
      "metadata": {
        "id": "diJTk7eL8nZh",
        "colab_type": "code",
        "colab": {}
      },
      "cell_type": "code",
      "source": [
        "categories = df.category.unique()\n",
        "# print(categories)"
      ],
      "execution_count": 0,
      "outputs": []
    },
    {
      "metadata": {
        "id": "d3D3pfju8nZk",
        "colab_type": "text"
      },
      "cell_type": "markdown",
      "source": [
        "### Main categories"
      ]
    },
    {
      "metadata": {
        "id": "UlJQUbeG8nZl",
        "colab_type": "code",
        "colab": {}
      },
      "cell_type": "code",
      "source": [
        "main_categories = df.main_category.unique()\n",
        "# print(main_categories)"
      ],
      "execution_count": 0,
      "outputs": []
    },
    {
      "metadata": {
        "id": "68EH_5tl8nZp",
        "colab_type": "text"
      },
      "cell_type": "markdown",
      "source": [
        "### Currencies"
      ]
    },
    {
      "metadata": {
        "id": "tz-yLtK28nZq",
        "colab_type": "code",
        "colab": {}
      },
      "cell_type": "code",
      "source": [
        "currencies = df.currency.unique()\n",
        "# print(currencies)"
      ],
      "execution_count": 0,
      "outputs": []
    },
    {
      "metadata": {
        "id": "NrAfcOjY8nZu",
        "colab_type": "text"
      },
      "cell_type": "markdown",
      "source": [
        "### States"
      ]
    },
    {
      "metadata": {
        "id": "ksWG1Pb68nZu",
        "colab_type": "code",
        "colab": {}
      },
      "cell_type": "code",
      "source": [
        "states = df.state.unique()\n",
        "# print(states)"
      ],
      "execution_count": 0,
      "outputs": []
    },
    {
      "metadata": {
        "id": "5SZGj4VjIlSo",
        "colab_type": "text"
      },
      "cell_type": "markdown",
      "source": [
        "#### Only keep failed and successful"
      ]
    },
    {
      "metadata": {
        "id": "-w2VTdsjTKs0",
        "colab_type": "code",
        "colab": {}
      },
      "cell_type": "code",
      "source": [
        "# df.groupby('state').count()[['ID']]"
      ],
      "execution_count": 0,
      "outputs": []
    },
    {
      "metadata": {
        "id": "UTIz7tQ2Oibe",
        "colab_type": "code",
        "colab": {}
      },
      "cell_type": "code",
      "source": [
        "df = df.loc[(df['state'] == 'failed') | (df['state'] == 'successful')].reset_index(drop=True)\n",
        "\n",
        "# df.count()['ID']"
      ],
      "execution_count": 0,
      "outputs": []
    },
    {
      "metadata": {
        "id": "HQOmV5QTPtrA",
        "colab_type": "code",
        "colab": {
          "base_uri": "https://localhost:8080/",
          "height": 142
        },
        "outputId": "49523c62-7beb-4301-ccb5-805483f184b1"
      },
      "cell_type": "code",
      "source": [
        "df.groupby('state').count()[['ID']]"
      ],
      "execution_count": 21,
      "outputs": [
        {
          "output_type": "execute_result",
          "data": {
            "text/html": [
              "<div>\n",
              "<style scoped>\n",
              "    .dataframe tbody tr th:only-of-type {\n",
              "        vertical-align: middle;\n",
              "    }\n",
              "\n",
              "    .dataframe tbody tr th {\n",
              "        vertical-align: top;\n",
              "    }\n",
              "\n",
              "    .dataframe thead th {\n",
              "        text-align: right;\n",
              "    }\n",
              "</style>\n",
              "<table border=\"1\" class=\"dataframe\">\n",
              "  <thead>\n",
              "    <tr style=\"text-align: right;\">\n",
              "      <th></th>\n",
              "      <th>ID</th>\n",
              "    </tr>\n",
              "    <tr>\n",
              "      <th>state</th>\n",
              "      <th></th>\n",
              "    </tr>\n",
              "  </thead>\n",
              "  <tbody>\n",
              "    <tr>\n",
              "      <th>failed</th>\n",
              "      <td>65918</td>\n",
              "    </tr>\n",
              "    <tr>\n",
              "      <th>successful</th>\n",
              "      <td>85646</td>\n",
              "    </tr>\n",
              "  </tbody>\n",
              "</table>\n",
              "</div>"
            ],
            "text/plain": [
              "               ID\n",
              "state            \n",
              "failed      65918\n",
              "successful  85646"
            ]
          },
          "metadata": {
            "tags": []
          },
          "execution_count": 21
        }
      ]
    },
    {
      "metadata": {
        "id": "LrOHz__x8nZx",
        "colab_type": "text"
      },
      "cell_type": "markdown",
      "source": [
        "### Country"
      ]
    },
    {
      "metadata": {
        "id": "8018H5cp8nZy",
        "colab_type": "code",
        "colab": {}
      },
      "cell_type": "code",
      "source": [
        "countries = df.country.unique()\n",
        "# print(countries)"
      ],
      "execution_count": 0,
      "outputs": []
    },
    {
      "metadata": {
        "id": "Yf7rXKRG9u7-",
        "colab_type": "text"
      },
      "cell_type": "markdown",
      "source": [
        "## Output scaling"
      ]
    },
    {
      "metadata": {
        "id": "8xjYYZC29zKX",
        "colab_type": "code",
        "colab": {}
      },
      "cell_type": "code",
      "source": [
        "df['usd_goal_real'] = df['usd_goal_real'].apply(lambda x: x/1000, 1)\n",
        "df['usd_pledged_real'] = df['usd_pledged_real'].apply(lambda x: x/1000, 1)"
      ],
      "execution_count": 0,
      "outputs": []
    },
    {
      "metadata": {
        "id": "XCGEBG8i8nZ3",
        "colab_type": "text"
      },
      "cell_type": "markdown",
      "source": [
        "## Data visualization"
      ]
    },
    {
      "metadata": {
        "id": "TURL-x388nZ5",
        "colab_type": "text"
      },
      "cell_type": "markdown",
      "source": [
        "### Categorical features"
      ]
    },
    {
      "metadata": {
        "id": "b9q-Vcwk8nZ7",
        "colab_type": "code",
        "colab": {}
      },
      "cell_type": "code",
      "source": [
        "categorical_features = ['category', 'main_category', 'state', 'country', 'currency']\n",
        "from copy import deepcopy\n",
        "data = deepcopy(df)\n",
        "n_items = len(data)"
      ],
      "execution_count": 0,
      "outputs": []
    },
    {
      "metadata": {
        "id": "MplKhVX_8nZ_",
        "colab_type": "text"
      },
      "cell_type": "markdown",
      "source": [
        "### COMMENTED OUT Only display common ones (source: laboratory 1)"
      ]
    },
    {
      "metadata": {
        "id": "rbubHLlx8naA",
        "colab_type": "code",
        "colab": {}
      },
      "cell_type": "code",
      "source": [
        "index_ = 1\n",
        "\n",
        "#plt.subplots_adjust(hspace=3.5)\n",
        "for feat in categorical_features:\n",
        "  break ##################################################################################\n",
        "  fig = plt.figure(figsize=(11,12), dpi=100)\n",
        "  ax = fig.add_subplot(1,1,1)\n",
        "  plt.subplots_adjust(hspace=0.5)\n",
        "  uniques = data[feat].nunique()\n",
        "  print(\"Processing {}. Unique count: {}.\".format(feat, uniques))\n",
        "  if uniques < 160:\n",
        "    print(data[feat].unique())\n",
        "    for feat_value in data[feat].unique():\n",
        "      if (len(data[data[feat]==feat_value])) / n_items < 0.015:\n",
        "        # print(\"Adding {} category to OTHER...\".format(feat_value))\n",
        "        data[feat] = data[feat].apply(lambda x: \"OTHER\" if x==feat_value else x, 1)\n",
        "  counts = data.groupby(feat).count()\n",
        "  #plt.subplot(len(categorical_features), 1, index_)\n",
        "  index_ += 1\n",
        "  counts.iloc[:,0].plot(kind='bar', ax=ax, figsize=(11,12), title='feat', grid=True)\n",
        "  plt.grid(b=True, which='major', color='b', linestyle='--', axis='y')\n",
        "  plt.show()\n",
        "  print(type(counts.iloc[:,0]))"
      ],
      "execution_count": 0,
      "outputs": []
    },
    {
      "metadata": {
        "id": "fg1uICVb8naF",
        "colab_type": "text"
      },
      "cell_type": "markdown",
      "source": [
        "## Feature Engineering"
      ]
    },
    {
      "metadata": {
        "id": "a7bsDUiye23l",
        "colab_type": "code",
        "colab": {
          "base_uri": "https://localhost:8080/",
          "height": 34
        },
        "outputId": "8191b715-7f72-43bc-8441-0a65e0ace0bf"
      },
      "cell_type": "code",
      "source": [
        "df.state.unique()"
      ],
      "execution_count": 26,
      "outputs": [
        {
          "output_type": "execute_result",
          "data": {
            "text/plain": [
              "array(['successful', 'failed'], dtype=object)"
            ]
          },
          "metadata": {
            "tags": []
          },
          "execution_count": 26
        }
      ]
    },
    {
      "metadata": {
        "id": "3Hc46bgQhre5",
        "colab_type": "code",
        "colab": {
          "base_uri": "https://localhost:8080/",
          "height": 289
        },
        "outputId": "53405b14-ab19-474e-f157-9dbe0ac5e9f1"
      },
      "cell_type": "code",
      "source": [
        "df.tail()"
      ],
      "execution_count": 27,
      "outputs": [
        {
          "output_type": "execute_result",
          "data": {
            "text/html": [
              "<div>\n",
              "<style scoped>\n",
              "    .dataframe tbody tr th:only-of-type {\n",
              "        vertical-align: middle;\n",
              "    }\n",
              "\n",
              "    .dataframe tbody tr th {\n",
              "        vertical-align: top;\n",
              "    }\n",
              "\n",
              "    .dataframe thead th {\n",
              "        text-align: right;\n",
              "    }\n",
              "</style>\n",
              "<table border=\"1\" class=\"dataframe\">\n",
              "  <thead>\n",
              "    <tr style=\"text-align: right;\">\n",
              "      <th></th>\n",
              "      <th>blurb</th>\n",
              "      <th>ID</th>\n",
              "      <th>name</th>\n",
              "      <th>category</th>\n",
              "      <th>main_category</th>\n",
              "      <th>currency</th>\n",
              "      <th>deadline</th>\n",
              "      <th>usd_goal_real</th>\n",
              "      <th>launched</th>\n",
              "      <th>usd_pledged_real</th>\n",
              "      <th>state</th>\n",
              "      <th>backers</th>\n",
              "      <th>country</th>\n",
              "    </tr>\n",
              "  </thead>\n",
              "  <tbody>\n",
              "    <tr>\n",
              "      <th>151559</th>\n",
              "      <td>A full-color book of my best robot themed sket...</td>\n",
              "      <td>1219087950</td>\n",
              "      <td>Mecha Zone Robot Sketches</td>\n",
              "      <td>Art Books</td>\n",
              "      <td>Publishing</td>\n",
              "      <td>USD</td>\n",
              "      <td>2016-11-03</td>\n",
              "      <td>1.00000</td>\n",
              "      <td>2016-10-03 13:19:32</td>\n",
              "      <td>3.83800</td>\n",
              "      <td>successful</td>\n",
              "      <td>100</td>\n",
              "      <td>US</td>\n",
              "    </tr>\n",
              "    <tr>\n",
              "      <th>151560</th>\n",
              "      <td>[Kickstarter Gold] A culinary love story with ...</td>\n",
              "      <td>1161973724</td>\n",
              "      <td>The Lotus and the Artichoke - INDIA vegan cook...</td>\n",
              "      <td>Vegan</td>\n",
              "      <td>Food</td>\n",
              "      <td>EUR</td>\n",
              "      <td>2017-08-03</td>\n",
              "      <td>11.86803</td>\n",
              "      <td>2017-07-04 14:36:49</td>\n",
              "      <td>37.21221</td>\n",
              "      <td>successful</td>\n",
              "      <td>1165</td>\n",
              "      <td>DE</td>\n",
              "    </tr>\n",
              "    <tr>\n",
              "      <th>151561</th>\n",
              "      <td>Creating a tourism promotional calendar of the...</td>\n",
              "      <td>362841351</td>\n",
              "      <td>Best of the 1000 Islands</td>\n",
              "      <td>Places</td>\n",
              "      <td>Photography</td>\n",
              "      <td>CAD</td>\n",
              "      <td>2014-07-27</td>\n",
              "      <td>0.22881</td>\n",
              "      <td>2014-06-27 01:59:06</td>\n",
              "      <td>0.06407</td>\n",
              "      <td>failed</td>\n",
              "      <td>4</td>\n",
              "      <td>CA</td>\n",
              "    </tr>\n",
              "    <tr>\n",
              "      <th>151562</th>\n",
              "      <td>Jesus has saved my life so I am creating this ...</td>\n",
              "      <td>672477562</td>\n",
              "      <td>St. Christopher - God Is Great</td>\n",
              "      <td>Faith</td>\n",
              "      <td>Music</td>\n",
              "      <td>USD</td>\n",
              "      <td>2015-01-11</td>\n",
              "      <td>1.00000</td>\n",
              "      <td>2014-11-12 18:43:56</td>\n",
              "      <td>0.00100</td>\n",
              "      <td>failed</td>\n",
              "      <td>1</td>\n",
              "      <td>US</td>\n",
              "    </tr>\n",
              "    <tr>\n",
              "      <th>151563</th>\n",
              "      <td>\"Bash\" is an action drama web series about a b...</td>\n",
              "      <td>782376245</td>\n",
              "      <td>Bash</td>\n",
              "      <td>Webseries</td>\n",
              "      <td>Film &amp; Video</td>\n",
              "      <td>USD</td>\n",
              "      <td>2013-11-01</td>\n",
              "      <td>2.00000</td>\n",
              "      <td>2013-10-11 01:27:57</td>\n",
              "      <td>2.11000</td>\n",
              "      <td>successful</td>\n",
              "      <td>27</td>\n",
              "      <td>US</td>\n",
              "    </tr>\n",
              "  </tbody>\n",
              "</table>\n",
              "</div>"
            ],
            "text/plain": [
              "                                                    blurb          ID  \\\n",
              "151559  A full-color book of my best robot themed sket...  1219087950   \n",
              "151560  [Kickstarter Gold] A culinary love story with ...  1161973724   \n",
              "151561  Creating a tourism promotional calendar of the...   362841351   \n",
              "151562  Jesus has saved my life so I am creating this ...   672477562   \n",
              "151563  \"Bash\" is an action drama web series about a b...   782376245   \n",
              "\n",
              "                                                     name   category  \\\n",
              "151559                          Mecha Zone Robot Sketches  Art Books   \n",
              "151560  The Lotus and the Artichoke - INDIA vegan cook...      Vegan   \n",
              "151561                           Best of the 1000 Islands     Places   \n",
              "151562                     St. Christopher - God Is Great      Faith   \n",
              "151563                                               Bash  Webseries   \n",
              "\n",
              "       main_category currency    deadline  usd_goal_real             launched  \\\n",
              "151559    Publishing      USD  2016-11-03        1.00000  2016-10-03 13:19:32   \n",
              "151560          Food      EUR  2017-08-03       11.86803  2017-07-04 14:36:49   \n",
              "151561   Photography      CAD  2014-07-27        0.22881  2014-06-27 01:59:06   \n",
              "151562         Music      USD  2015-01-11        1.00000  2014-11-12 18:43:56   \n",
              "151563  Film & Video      USD  2013-11-01        2.00000  2013-10-11 01:27:57   \n",
              "\n",
              "        usd_pledged_real       state  backers country  \n",
              "151559           3.83800  successful      100      US  \n",
              "151560          37.21221  successful     1165      DE  \n",
              "151561           0.06407      failed        4      CA  \n",
              "151562           0.00100      failed        1      US  \n",
              "151563           2.11000  successful       27      US  "
            ]
          },
          "metadata": {
            "tags": []
          },
          "execution_count": 27
        }
      ]
    },
    {
      "metadata": {
        "id": "4_vkSj6mfD8q",
        "colab_type": "text"
      },
      "cell_type": "markdown",
      "source": [
        "### Encode labels -> has to be changed to OneHotEncoder"
      ]
    },
    {
      "metadata": {
        "id": "HolR7UZhuSNn",
        "colab_type": "code",
        "colab": {
          "base_uri": "https://localhost:8080/",
          "height": 68
        },
        "outputId": "eba634d5-554c-4f2d-c675-d84140502fb2"
      },
      "cell_type": "code",
      "source": [
        "!pip install -U scikit-learn"
      ],
      "execution_count": 28,
      "outputs": [
        {
          "output_type": "stream",
          "text": [
            "Requirement already up-to-date: scikit-learn in /usr/local/lib/python3.6/dist-packages (0.20.0)\n",
            "Requirement already satisfied, skipping upgrade: scipy>=0.13.3 in /usr/local/lib/python3.6/dist-packages (from scikit-learn) (0.19.1)\n",
            "Requirement already satisfied, skipping upgrade: numpy>=1.8.2 in /usr/local/lib/python3.6/dist-packages (from scikit-learn) (1.14.6)\n"
          ],
          "name": "stdout"
        }
      ]
    },
    {
      "metadata": {
        "id": "nRmON66l8naG",
        "colab_type": "code",
        "colab": {}
      },
      "cell_type": "code",
      "source": [
        "from sklearn.preprocessing import LabelEncoder\n",
        "from sklearn.preprocessing import OneHotEncoder"
      ],
      "execution_count": 0,
      "outputs": []
    },
    {
      "metadata": {
        "id": "dLExFoQ1twPN",
        "colab_type": "code",
        "colab": {
          "base_uri": "https://localhost:8080/",
          "height": 105
        },
        "outputId": "3af475b4-a3ea-4cf9-a43a-321916607dbc"
      },
      "cell_type": "code",
      "source": [
        "categories_le = LabelEncoder()\n",
        "categories_ohe = OneHotEncoder(sparse=False) # readable for humans\n",
        "\n",
        "categories_led = categories_le.fit_transform(df.category)\n",
        "categories_led = categories_led.reshape(-1, 1)\n",
        "\n",
        "df_category = pd.DataFrame(categories_ohe.fit_transform(categories_led))\n",
        "df_category = df_category.rename(columns=lambda x: 'category_' + str(x))\n",
        "df = df.join(df_category)"
      ],
      "execution_count": 30,
      "outputs": [
        {
          "output_type": "stream",
          "text": [
            "/usr/local/lib/python3.6/dist-packages/sklearn/preprocessing/_encoders.py:363: FutureWarning: The handling of integer data will change in version 0.22. Currently, the categories are determined based on the range [0, max(values)], while in the future they will be determined based on the unique values.\n",
            "If you want the future behaviour and silence this warning, you can specify \"categories='auto'\".\n",
            "In case you used a LabelEncoder before this OneHotEncoder to convert the categories to integers, then you can now use the OneHotEncoder directly.\n",
            "  warnings.warn(msg, FutureWarning)\n"
          ],
          "name": "stderr"
        }
      ]
    },
    {
      "metadata": {
        "id": "8ggz_6Smt0mk",
        "colab_type": "code",
        "colab": {
          "base_uri": "https://localhost:8080/",
          "height": 105
        },
        "outputId": "2f42a799-710e-448d-b496-496e51ba8d82"
      },
      "cell_type": "code",
      "source": [
        "maincategories_le = LabelEncoder()\n",
        "maincategories_ohe = OneHotEncoder(sparse=False) # readable for humans\n",
        "\n",
        "maincategories_led = maincategories_le.fit_transform(df.main_category)\n",
        "maincategories_led = maincategories_led.reshape(-1, 1)\n",
        "\n",
        "df_main_category = pd.DataFrame(maincategories_ohe.fit_transform(maincategories_led))\n",
        "df_main_category = df_main_category.rename(columns=lambda x: 'maincategory_' + str(x))\n",
        "df = df.join(df_main_category)"
      ],
      "execution_count": 31,
      "outputs": [
        {
          "output_type": "stream",
          "text": [
            "/usr/local/lib/python3.6/dist-packages/sklearn/preprocessing/_encoders.py:363: FutureWarning: The handling of integer data will change in version 0.22. Currently, the categories are determined based on the range [0, max(values)], while in the future they will be determined based on the unique values.\n",
            "If you want the future behaviour and silence this warning, you can specify \"categories='auto'\".\n",
            "In case you used a LabelEncoder before this OneHotEncoder to convert the categories to integers, then you can now use the OneHotEncoder directly.\n",
            "  warnings.warn(msg, FutureWarning)\n"
          ],
          "name": "stderr"
        }
      ]
    },
    {
      "metadata": {
        "id": "IpWpc5EUt3Vo",
        "colab_type": "code",
        "colab": {
          "base_uri": "https://localhost:8080/",
          "height": 105
        },
        "outputId": "43abc12c-71af-4bde-ed1f-6a85cdbb228e"
      },
      "cell_type": "code",
      "source": [
        "state_le = LabelEncoder()\n",
        "state_ohe = OneHotEncoder(sparse=False) # readable for humans\n",
        "\n",
        "state_led = state_le.fit_transform(df.state)\n",
        "state_led = state_led.reshape(-1, 1)\n",
        "\n",
        "df_state = pd.DataFrame(state_ohe.fit_transform(state_led))\n",
        "df_state = df_state.rename(columns=lambda x: 'state_' + str(x))\n",
        "df = df.join(df_state)"
      ],
      "execution_count": 32,
      "outputs": [
        {
          "output_type": "stream",
          "text": [
            "/usr/local/lib/python3.6/dist-packages/sklearn/preprocessing/_encoders.py:363: FutureWarning: The handling of integer data will change in version 0.22. Currently, the categories are determined based on the range [0, max(values)], while in the future they will be determined based on the unique values.\n",
            "If you want the future behaviour and silence this warning, you can specify \"categories='auto'\".\n",
            "In case you used a LabelEncoder before this OneHotEncoder to convert the categories to integers, then you can now use the OneHotEncoder directly.\n",
            "  warnings.warn(msg, FutureWarning)\n"
          ],
          "name": "stderr"
        }
      ]
    },
    {
      "metadata": {
        "id": "nkrz9St3t5iv",
        "colab_type": "code",
        "colab": {
          "base_uri": "https://localhost:8080/",
          "height": 105
        },
        "outputId": "cae8c8ec-e3ea-4093-d8f9-233dbf3ce237"
      },
      "cell_type": "code",
      "source": [
        "country_le = LabelEncoder()\n",
        "country_ohe = OneHotEncoder(sparse=False) # readable for humans\n",
        "\n",
        "country_led = country_le.fit_transform(df.country)\n",
        "country_led = country_led.reshape(-1, 1)\n",
        "\n",
        "df_country = pd.DataFrame(country_ohe.fit_transform(country_led))\n",
        "df_country = df_country.rename(columns=lambda x: 'country_' + str(x))\n",
        "df = df.join(df_country)"
      ],
      "execution_count": 33,
      "outputs": [
        {
          "output_type": "stream",
          "text": [
            "/usr/local/lib/python3.6/dist-packages/sklearn/preprocessing/_encoders.py:363: FutureWarning: The handling of integer data will change in version 0.22. Currently, the categories are determined based on the range [0, max(values)], while in the future they will be determined based on the unique values.\n",
            "If you want the future behaviour and silence this warning, you can specify \"categories='auto'\".\n",
            "In case you used a LabelEncoder before this OneHotEncoder to convert the categories to integers, then you can now use the OneHotEncoder directly.\n",
            "  warnings.warn(msg, FutureWarning)\n"
          ],
          "name": "stderr"
        }
      ]
    },
    {
      "metadata": {
        "id": "jAo3RE-qt7Tr",
        "colab_type": "code",
        "colab": {
          "base_uri": "https://localhost:8080/",
          "height": 105
        },
        "outputId": "bb7e1fdf-401a-40de-b2fe-0eb20547794b"
      },
      "cell_type": "code",
      "source": [
        "currency_le = LabelEncoder()\n",
        "currency_ohe = OneHotEncoder(sparse=False) # readable for humans\n",
        "\n",
        "currency_led = currency_le.fit_transform(df.currency)\n",
        "currency_led = currency_led.reshape(-1, 1)\n",
        "\n",
        "df_currency = pd.DataFrame(currency_ohe.fit_transform(currency_led))\n",
        "df_currency = df_currency.rename(columns=lambda x: 'currency_' + str(x))\n",
        "df = df.join(df_currency, rsuffix='_curr')"
      ],
      "execution_count": 34,
      "outputs": [
        {
          "output_type": "stream",
          "text": [
            "/usr/local/lib/python3.6/dist-packages/sklearn/preprocessing/_encoders.py:363: FutureWarning: The handling of integer data will change in version 0.22. Currently, the categories are determined based on the range [0, max(values)], while in the future they will be determined based on the unique values.\n",
            "If you want the future behaviour and silence this warning, you can specify \"categories='auto'\".\n",
            "In case you used a LabelEncoder before this OneHotEncoder to convert the categories to integers, then you can now use the OneHotEncoder directly.\n",
            "  warnings.warn(msg, FutureWarning)\n"
          ],
          "name": "stderr"
        }
      ]
    },
    {
      "metadata": {
        "id": "nkpH6lBO8naI",
        "colab_type": "text"
      },
      "cell_type": "markdown",
      "source": [
        "categories_le = LabelEncoder()\n",
        "df.category = categories_le.fit_transform(df.category)\n",
        "\n",
        "\n",
        "maincategories_le = LabelEncoder()\n",
        "df.main_category = maincategories_le.fit_transform(df.main_category)\n",
        "\n",
        "\n",
        "state_le = LabelEncoder()\n",
        "df.state = state_le.fit_transform(df.state)\n",
        "\n",
        "\n",
        "country_le = LabelEncoder()\n",
        "df.country = country_le.fit_transform(df.country)\n",
        "\n",
        "\n",
        "currency_le = LabelEncoder()\n",
        "df.currency = currency_le.fit_transform(df.currency)\n"
      ]
    },
    {
      "metadata": {
        "id": "rSF2pkEifQvf",
        "colab_type": "text"
      },
      "cell_type": "markdown",
      "source": [
        "### Change spotlight and staff pick to numeric values"
      ]
    },
    {
      "metadata": {
        "id": "WLdEpmh_fVmx",
        "colab_type": "code",
        "colab": {}
      },
      "cell_type": "code",
      "source": [
        "#df.spotlight = df.spotlight.astype(int)\n",
        "#df.staff_pick = df.staff_pick.astype(int)"
      ],
      "execution_count": 0,
      "outputs": []
    },
    {
      "metadata": {
        "id": "s37ypzryP_i2",
        "colab_type": "text"
      },
      "cell_type": "markdown",
      "source": [
        "### Drop ID, we dont need it anymore"
      ]
    },
    {
      "metadata": {
        "id": "VSjXonqH8naU",
        "colab_type": "code",
        "colab": {}
      },
      "cell_type": "code",
      "source": [
        "df = df.drop('ID', axis=1)"
      ],
      "execution_count": 0,
      "outputs": []
    },
    {
      "metadata": {
        "id": "QpylykIeMomF",
        "colab_type": "code",
        "colab": {}
      },
      "cell_type": "code",
      "source": [
        "# df.head()"
      ],
      "execution_count": 0,
      "outputs": []
    },
    {
      "metadata": {
        "id": "c2f5vvvBQEKu",
        "colab_type": "text"
      },
      "cell_type": "markdown",
      "source": [
        "### Calculate length of funding"
      ]
    },
    {
      "metadata": {
        "id": "lBuJozcXM5kx",
        "colab_type": "code",
        "colab": {}
      },
      "cell_type": "code",
      "source": [
        "diff = (pd.to_datetime(df.deadline) - pd.to_datetime(df.launched)).map(lambda x: x.days)\n"
      ],
      "execution_count": 0,
      "outputs": []
    },
    {
      "metadata": {
        "id": "t0f9-UTGNPcC",
        "colab_type": "code",
        "colab": {}
      },
      "cell_type": "code",
      "source": [
        "# print(diff.head())"
      ],
      "execution_count": 0,
      "outputs": []
    },
    {
      "metadata": {
        "id": "dmVzoARsjC7B",
        "colab_type": "code",
        "colab": {}
      },
      "cell_type": "code",
      "source": [
        "# diff.shape"
      ],
      "execution_count": 0,
      "outputs": []
    },
    {
      "metadata": {
        "id": "ziah2O7nQKTx",
        "colab_type": "text"
      },
      "cell_type": "markdown",
      "source": [
        "### Drop date times"
      ]
    },
    {
      "metadata": {
        "id": "ar6lS246PuqC",
        "colab_type": "code",
        "colab": {}
      },
      "cell_type": "code",
      "source": [
        "df = df.drop(['deadline', 'launched'], axis=1)\n"
      ],
      "execution_count": 0,
      "outputs": []
    },
    {
      "metadata": {
        "id": "RjWTHW6YjSlL",
        "colab_type": "code",
        "colab": {}
      },
      "cell_type": "code",
      "source": [
        "# df.shape"
      ],
      "execution_count": 0,
      "outputs": []
    },
    {
      "metadata": {
        "id": "Jur5yJuBQO9w",
        "colab_type": "text"
      },
      "cell_type": "markdown",
      "source": [
        "### Add duration to the dataframe"
      ]
    },
    {
      "metadata": {
        "id": "uhPlH3zGQV4l",
        "colab_type": "code",
        "colab": {}
      },
      "cell_type": "code",
      "source": [
        "df['duration'] = diff"
      ],
      "execution_count": 0,
      "outputs": []
    },
    {
      "metadata": {
        "id": "x9PoGQckjU7v",
        "colab_type": "code",
        "colab": {}
      },
      "cell_type": "code",
      "source": [
        "# df.shape"
      ],
      "execution_count": 0,
      "outputs": []
    },
    {
      "metadata": {
        "id": "Jl9MzVfSQajE",
        "colab_type": "code",
        "colab": {}
      },
      "cell_type": "code",
      "source": [
        "# df.head()"
      ],
      "execution_count": 0,
      "outputs": []
    },
    {
      "metadata": {
        "id": "hp4u1RcdWzMb",
        "colab_type": "text"
      },
      "cell_type": "markdown",
      "source": [
        "### Clean text, only keep whitespaces and letters"
      ]
    },
    {
      "metadata": {
        "id": "tvq_3xZqLShH",
        "colab_type": "code",
        "colab": {}
      },
      "cell_type": "code",
      "source": [
        "import re"
      ],
      "execution_count": 0,
      "outputs": []
    },
    {
      "metadata": {
        "id": "pyyL2UqiRpYW",
        "colab_type": "code",
        "colab": {}
      },
      "cell_type": "code",
      "source": [
        "regex = re.compile(r\"[^\\w\\d ]\", re.UNICODE | re.IGNORECASE)\n",
        "\n",
        "name = df.name\n",
        "blurb = df.blurb\n",
        "\n",
        "name = name.map(lambda x: regex.sub(' ', str(x)).lower())\n",
        "blurb = blurb.map(lambda x: regex.sub(' ', str(x)).lower())\n",
        "\n",
        "# print(\"names:\")\n",
        "# print(name.head())\n",
        "# print(\"\\nblurbs:\")\n",
        "# print(blurb.head())"
      ],
      "execution_count": 0,
      "outputs": []
    },
    {
      "metadata": {
        "id": "j5q7OYpiUGJZ",
        "colab_type": "code",
        "colab": {}
      },
      "cell_type": "code",
      "source": [
        "name2 = name.apply(lambda x: x.split())\n",
        "blurb2 = blurb.apply(lambda x: x.split())\n",
        "\n",
        "# print(\"names:\")\n",
        "# print(name2.head())\n",
        "# print(\"\\nblurbs:\")\n",
        "# print(blurb2.head())"
      ],
      "execution_count": 0,
      "outputs": []
    },
    {
      "metadata": {
        "id": "V4O96wS4W6MR",
        "colab_type": "text"
      },
      "cell_type": "markdown",
      "source": [
        "### Remove stop words -> might give better results"
      ]
    },
    {
      "metadata": {
        "id": "Aj7lZUP7V6qZ",
        "colab_type": "code",
        "colab": {
          "base_uri": "https://localhost:8080/",
          "height": 51
        },
        "outputId": "65abc077-03f3-44c3-ca7b-90282fce2890"
      },
      "cell_type": "code",
      "source": [
        "import nltk\n",
        "nltk.download('stopwords')\n",
        "from nltk.corpus import stopwords"
      ],
      "execution_count": 49,
      "outputs": [
        {
          "output_type": "stream",
          "text": [
            "[nltk_data] Downloading package stopwords to /root/nltk_data...\n",
            "[nltk_data]   Package stopwords is already up-to-date!\n"
          ],
          "name": "stdout"
        }
      ]
    },
    {
      "metadata": {
        "id": "-wYDBPcUWKDq",
        "colab_type": "code",
        "colab": {}
      },
      "cell_type": "code",
      "source": [
        "stop_words = set(stopwords.words('english'))"
      ],
      "execution_count": 0,
      "outputs": []
    },
    {
      "metadata": {
        "id": "jU8TsOmTWMkT",
        "colab_type": "code",
        "colab": {}
      },
      "cell_type": "code",
      "source": [
        "name2 = name2.apply(lambda lista: [szo for szo in lista if szo not in stop_words] )\n",
        "blurb2 = blurb2.apply(lambda lista: [szo for szo in lista if szo not in stop_words] )\n",
        "\n",
        "# print(\"names:\")\n",
        "# print(name2.head(10))\n",
        "# print(\"\\nblurbs:\")\n",
        "# print(blurb2.head(10))"
      ],
      "execution_count": 0,
      "outputs": []
    },
    {
      "metadata": {
        "id": "eASsaMjsWusD",
        "colab_type": "text"
      },
      "cell_type": "markdown",
      "source": [
        "### Create bag of words\n",
        "Using HashingVectorizer, because there are a lot of words"
      ]
    },
    {
      "metadata": {
        "id": "NZrfxrV4IeDy",
        "colab_type": "code",
        "colab": {}
      },
      "cell_type": "code",
      "source": [
        "from sklearn.feature_extraction.text import HashingVectorizer"
      ],
      "execution_count": 0,
      "outputs": []
    },
    {
      "metadata": {
        "id": "NZyGaVhNXMXP",
        "colab_type": "code",
        "colab": {}
      },
      "cell_type": "code",
      "source": [
        "name_vectorizer = HashingVectorizer(n_features=2**8, lowercase=False, tokenizer = lambda doc: doc)\n",
        "blurb_vectorizer = HashingVectorizer(n_features=2**8, lowercase=False, tokenizer = lambda doc: doc)\n",
        "\n",
        "hashed_name = name_vectorizer.transform(name2)\n",
        "hashed_blurb = blurb_vectorizer.transform(blurb2)\n",
        "\n",
        "# print(\"names:\")\n",
        "# print(hashed_name.shape)\n",
        "# print(hashed_name[0])\n",
        "# print(\"\\nblurbs:\")\n",
        "# print(hashed_blurb.shape)\n",
        "# print(hashed_blurb[0])"
      ],
      "execution_count": 0,
      "outputs": []
    },
    {
      "metadata": {
        "id": "Dank4m3ZXbvP",
        "colab_type": "code",
        "colab": {}
      },
      "cell_type": "code",
      "source": [
        "# print(\"names:\")\n",
        "# print(hashed_name[0])\n",
        "# print(\"\\nblurbs:\")\n",
        "# print(hashed_blurb[0])"
      ],
      "execution_count": 0,
      "outputs": []
    },
    {
      "metadata": {
        "id": "BGWZDMuDa0sn",
        "colab_type": "code",
        "colab": {}
      },
      "cell_type": "code",
      "source": [
        "# print(type(hashed_name))\n",
        "# print(type(hashed_blurb))"
      ],
      "execution_count": 0,
      "outputs": []
    },
    {
      "metadata": {
        "id": "z0sNM6PgbjkV",
        "colab_type": "code",
        "colab": {}
      },
      "cell_type": "code",
      "source": [
        "# print(hashed_name.todense().shape)\n",
        "# print(hashed_blurb.todense().shape)"
      ],
      "execution_count": 0,
      "outputs": []
    },
    {
      "metadata": {
        "id": "FLcjcD-tdJd-",
        "colab_type": "text"
      },
      "cell_type": "markdown",
      "source": [
        "### Create dataframe from scipy sparse matrix"
      ]
    },
    {
      "metadata": {
        "id": "0fpv9RXwcniV",
        "colab_type": "code",
        "colab": {}
      },
      "cell_type": "code",
      "source": [
        "df_hashed_name = pd.DataFrame(hashed_name.todense())\n",
        "df_hashed_name = df_hashed_name.rename(columns=lambda x: 'name_' + str(x))\n",
        "df_hashed_blurb = pd.DataFrame(hashed_blurb.todense())\n",
        "df_hashed_blurb = df_hashed_blurb.rename(columns=lambda x: \"blurb_\" + str(x))\n",
        "\n",
        "# print(\"names:\")\n",
        "# print(df_hashed_name.head())\n",
        "# print(\"\\nblurbs:\")\n",
        "# print(df_hashed_blurb.head())"
      ],
      "execution_count": 0,
      "outputs": []
    },
    {
      "metadata": {
        "id": "EPIlewE9dFcV",
        "colab_type": "text"
      },
      "cell_type": "markdown",
      "source": [
        "### Concat original matrix and hashed name matrix"
      ]
    },
    {
      "metadata": {
        "id": "DWc3oaNjdTmd",
        "colab_type": "code",
        "colab": {}
      },
      "cell_type": "code",
      "source": [
        "df = df.join(df_hashed_name)\n",
        "df = df.join(df_hashed_blurb)"
      ],
      "execution_count": 0,
      "outputs": []
    },
    {
      "metadata": {
        "id": "IENh7mKIemXG",
        "colab_type": "code",
        "colab": {}
      },
      "cell_type": "code",
      "source": [
        "# print(df.shape)"
      ],
      "execution_count": 0,
      "outputs": []
    },
    {
      "metadata": {
        "id": "R8Gf3pGqgIgr",
        "colab_type": "text"
      },
      "cell_type": "markdown",
      "source": [
        "### Dropping name column, name is stored now in bag"
      ]
    },
    {
      "metadata": {
        "id": "XPVWbAlFgA3B",
        "colab_type": "code",
        "colab": {}
      },
      "cell_type": "code",
      "source": [
        "drop_columns = ['category', 'main_category', 'state', 'country', 'currency', 'name', 'blurb']\n",
        "\n",
        "df = df.drop(drop_columns, axis=1)"
      ],
      "execution_count": 0,
      "outputs": []
    },
    {
      "metadata": {
        "id": "4bpLS24DLHRF",
        "colab_type": "code",
        "colab": {}
      },
      "cell_type": "code",
      "source": [
        "# df.head()"
      ],
      "execution_count": 0,
      "outputs": []
    },
    {
      "metadata": {
        "id": "WAZDQIfbdbTE",
        "colab_type": "text"
      },
      "cell_type": "markdown",
      "source": [
        "### Split into input and output"
      ]
    },
    {
      "metadata": {
        "id": "d7L4zve_djcI",
        "colab_type": "code",
        "colab": {
          "base_uri": "https://localhost:8080/",
          "height": 34
        },
        "outputId": "86ede80e-ac87-412c-ca26-05b8c974ced1"
      },
      "cell_type": "code",
      "source": [
        "state_columns = df.columns[df.columns.str.startswith('state_')].values.tolist()\n",
        "print('state columns are', state_columns)\n",
        "output_columns = ['backers', 'usd_pledged_real'] + state_columns\n",
        "#print(\"Output columns are\", output_columns)\n",
        "\n",
        "# Currently using state_columns for testing\n",
        "X = df.drop(output_columns, axis=1)\n",
        "#Y = df[df.columns.intersection(state_columns)]\n",
        "Y = df['usd_pledged_real']"
      ],
      "execution_count": 62,
      "outputs": [
        {
          "output_type": "stream",
          "text": [
            "state columns are ['state_0', 'state_1']\n"
          ],
          "name": "stdout"
        }
      ]
    },
    {
      "metadata": {
        "id": "bdQ7JPiWgP1b",
        "colab_type": "text"
      },
      "cell_type": "markdown",
      "source": [
        "## Preparation for teaching"
      ]
    },
    {
      "metadata": {
        "id": "xjX6D4a1lNJF",
        "colab_type": "text"
      },
      "cell_type": "markdown",
      "source": [
        "### Imports"
      ]
    },
    {
      "metadata": {
        "id": "vs-w035hlPdN",
        "colab_type": "code",
        "colab": {
          "base_uri": "https://localhost:8080/",
          "height": 34
        },
        "outputId": "5a089d14-b2bb-4280-efa6-8c051ddbfffb"
      },
      "cell_type": "code",
      "source": [
        "import numpy as np\n",
        "from keras.models import Sequential\n",
        "from keras.layers import Dense, Dropout, Activation\n",
        "from keras.callbacks import EarlyStopping, ModelCheckpoint\n",
        "import copy\n",
        "import pandas as pd\n",
        "from keras.optimizers import SGD\n",
        "from sklearn.preprocessing import StandardScaler\n",
        "import tensorflow as tf\n",
        "from tensorflow import set_random_seed\n",
        "set_random_seed(123)\n",
        "np.random.seed(123)"
      ],
      "execution_count": 63,
      "outputs": [
        {
          "output_type": "stream",
          "text": [
            "Using TensorFlow backend.\n"
          ],
          "name": "stderr"
        }
      ]
    },
    {
      "metadata": {
        "id": "xoXv4akIGEJP",
        "colab_type": "code",
        "colab": {}
      },
      "cell_type": "code",
      "source": [
        "#from tensorflow.python.client import device_lib\n",
        "#print(device_lib.list_local_devices())"
      ],
      "execution_count": 0,
      "outputs": []
    },
    {
      "metadata": {
        "id": "AtTHixhslJzl",
        "colab_type": "text"
      },
      "cell_type": "markdown",
      "source": [
        "### Splitting into train test valid"
      ]
    },
    {
      "metadata": {
        "id": "Xf-k9Ls-k8QU",
        "colab_type": "code",
        "colab": {
          "base_uri": "https://localhost:8080/",
          "height": 102
        },
        "outputId": "fb996550-74df-4947-85c7-421c75eb13c4"
      },
      "cell_type": "code",
      "source": [
        "test_split = 0.1\n",
        "valid_split = 0.2\n",
        "\n",
        "v_index = int(X.shape[0] * (1-valid_split-test_split))\n",
        "t_index = int(X.shape[0] * (1-test_split))\n",
        "\n",
        "X_test = X[t_index:]\n",
        "Y_test = Y[t_index:]\n",
        "\n",
        "X_valid = X[v_index:t_index]\n",
        "Y_valid = Y[v_index:t_index]\n",
        "X_train = X[:v_index]\n",
        "Y_train = Y[:v_index]\n",
        "\n",
        "scaler = StandardScaler().fit(X)\n",
        "\n",
        "X_train = scaler.transform(X_train)\n",
        "X_valid = scaler.transform(X_valid)\n",
        "X_test = scaler.transform(X_test)"
      ],
      "execution_count": 65,
      "outputs": [
        {
          "output_type": "stream",
          "text": [
            "/usr/local/lib/python3.6/dist-packages/sklearn/preprocessing/data.py:617: DataConversionWarning: Data with input dtype int64, float64 were all converted to float64 by StandardScaler.\n",
            "  return self.partial_fit(X, y)\n",
            "/usr/local/lib/python3.6/dist-packages/ipykernel_launcher.py:17: DataConversionWarning: Data with input dtype int64, float64 were all converted to float64 by StandardScaler.\n",
            "/usr/local/lib/python3.6/dist-packages/ipykernel_launcher.py:18: DataConversionWarning: Data with input dtype int64, float64 were all converted to float64 by StandardScaler.\n",
            "/usr/local/lib/python3.6/dist-packages/ipykernel_launcher.py:19: DataConversionWarning: Data with input dtype int64, float64 were all converted to float64 by StandardScaler.\n"
          ],
          "name": "stderr"
        }
      ]
    },
    {
      "metadata": {
        "id": "PFzLdOpJr7t9",
        "colab_type": "code",
        "colab": {
          "base_uri": "https://localhost:8080/",
          "height": 253
        },
        "outputId": "1d871a36-51cf-410e-f024-106d109677af"
      },
      "cell_type": "code",
      "source": [
        "X.tail()"
      ],
      "execution_count": 66,
      "outputs": [
        {
          "output_type": "execute_result",
          "data": {
            "text/html": [
              "<div>\n",
              "<style scoped>\n",
              "    .dataframe tbody tr th:only-of-type {\n",
              "        vertical-align: middle;\n",
              "    }\n",
              "\n",
              "    .dataframe tbody tr th {\n",
              "        vertical-align: top;\n",
              "    }\n",
              "\n",
              "    .dataframe thead th {\n",
              "        text-align: right;\n",
              "    }\n",
              "</style>\n",
              "<table border=\"1\" class=\"dataframe\">\n",
              "  <thead>\n",
              "    <tr style=\"text-align: right;\">\n",
              "      <th></th>\n",
              "      <th>usd_goal_real</th>\n",
              "      <th>category_0</th>\n",
              "      <th>category_1</th>\n",
              "      <th>category_2</th>\n",
              "      <th>category_3</th>\n",
              "      <th>category_4</th>\n",
              "      <th>category_5</th>\n",
              "      <th>category_6</th>\n",
              "      <th>category_7</th>\n",
              "      <th>category_8</th>\n",
              "      <th>...</th>\n",
              "      <th>blurb_246</th>\n",
              "      <th>blurb_247</th>\n",
              "      <th>blurb_248</th>\n",
              "      <th>blurb_249</th>\n",
              "      <th>blurb_250</th>\n",
              "      <th>blurb_251</th>\n",
              "      <th>blurb_252</th>\n",
              "      <th>blurb_253</th>\n",
              "      <th>blurb_254</th>\n",
              "      <th>blurb_255</th>\n",
              "    </tr>\n",
              "  </thead>\n",
              "  <tbody>\n",
              "    <tr>\n",
              "      <th>151559</th>\n",
              "      <td>1.00000</td>\n",
              "      <td>0.0</td>\n",
              "      <td>0.0</td>\n",
              "      <td>0.0</td>\n",
              "      <td>0.0</td>\n",
              "      <td>0.0</td>\n",
              "      <td>0.0</td>\n",
              "      <td>0.0</td>\n",
              "      <td>0.0</td>\n",
              "      <td>0.0</td>\n",
              "      <td>...</td>\n",
              "      <td>0.0</td>\n",
              "      <td>0.000000</td>\n",
              "      <td>0.0</td>\n",
              "      <td>0.0</td>\n",
              "      <td>0.0</td>\n",
              "      <td>0.0</td>\n",
              "      <td>0.0</td>\n",
              "      <td>0.0</td>\n",
              "      <td>0.0</td>\n",
              "      <td>0.0</td>\n",
              "    </tr>\n",
              "    <tr>\n",
              "      <th>151560</th>\n",
              "      <td>11.86803</td>\n",
              "      <td>0.0</td>\n",
              "      <td>0.0</td>\n",
              "      <td>0.0</td>\n",
              "      <td>0.0</td>\n",
              "      <td>0.0</td>\n",
              "      <td>0.0</td>\n",
              "      <td>0.0</td>\n",
              "      <td>0.0</td>\n",
              "      <td>0.0</td>\n",
              "      <td>...</td>\n",
              "      <td>0.0</td>\n",
              "      <td>0.000000</td>\n",
              "      <td>0.0</td>\n",
              "      <td>0.0</td>\n",
              "      <td>0.0</td>\n",
              "      <td>0.0</td>\n",
              "      <td>0.0</td>\n",
              "      <td>0.0</td>\n",
              "      <td>0.0</td>\n",
              "      <td>0.0</td>\n",
              "    </tr>\n",
              "    <tr>\n",
              "      <th>151561</th>\n",
              "      <td>0.22881</td>\n",
              "      <td>0.0</td>\n",
              "      <td>0.0</td>\n",
              "      <td>0.0</td>\n",
              "      <td>0.0</td>\n",
              "      <td>0.0</td>\n",
              "      <td>0.0</td>\n",
              "      <td>0.0</td>\n",
              "      <td>0.0</td>\n",
              "      <td>0.0</td>\n",
              "      <td>...</td>\n",
              "      <td>0.0</td>\n",
              "      <td>0.000000</td>\n",
              "      <td>0.0</td>\n",
              "      <td>0.0</td>\n",
              "      <td>0.0</td>\n",
              "      <td>0.0</td>\n",
              "      <td>0.0</td>\n",
              "      <td>0.0</td>\n",
              "      <td>0.0</td>\n",
              "      <td>0.0</td>\n",
              "    </tr>\n",
              "    <tr>\n",
              "      <th>151562</th>\n",
              "      <td>1.00000</td>\n",
              "      <td>0.0</td>\n",
              "      <td>0.0</td>\n",
              "      <td>0.0</td>\n",
              "      <td>0.0</td>\n",
              "      <td>0.0</td>\n",
              "      <td>0.0</td>\n",
              "      <td>0.0</td>\n",
              "      <td>0.0</td>\n",
              "      <td>0.0</td>\n",
              "      <td>...</td>\n",
              "      <td>0.0</td>\n",
              "      <td>-0.258199</td>\n",
              "      <td>0.0</td>\n",
              "      <td>0.0</td>\n",
              "      <td>0.0</td>\n",
              "      <td>0.0</td>\n",
              "      <td>0.0</td>\n",
              "      <td>0.0</td>\n",
              "      <td>0.0</td>\n",
              "      <td>0.0</td>\n",
              "    </tr>\n",
              "    <tr>\n",
              "      <th>151563</th>\n",
              "      <td>2.00000</td>\n",
              "      <td>0.0</td>\n",
              "      <td>0.0</td>\n",
              "      <td>0.0</td>\n",
              "      <td>0.0</td>\n",
              "      <td>0.0</td>\n",
              "      <td>0.0</td>\n",
              "      <td>0.0</td>\n",
              "      <td>0.0</td>\n",
              "      <td>0.0</td>\n",
              "      <td>...</td>\n",
              "      <td>0.0</td>\n",
              "      <td>0.000000</td>\n",
              "      <td>0.0</td>\n",
              "      <td>0.0</td>\n",
              "      <td>0.0</td>\n",
              "      <td>0.0</td>\n",
              "      <td>0.0</td>\n",
              "      <td>0.0</td>\n",
              "      <td>0.0</td>\n",
              "      <td>0.0</td>\n",
              "    </tr>\n",
              "  </tbody>\n",
              "</table>\n",
              "<p>5 rows × 724 columns</p>\n",
              "</div>"
            ],
            "text/plain": [
              "        usd_goal_real  category_0  category_1  category_2  category_3  \\\n",
              "151559        1.00000         0.0         0.0         0.0         0.0   \n",
              "151560       11.86803         0.0         0.0         0.0         0.0   \n",
              "151561        0.22881         0.0         0.0         0.0         0.0   \n",
              "151562        1.00000         0.0         0.0         0.0         0.0   \n",
              "151563        2.00000         0.0         0.0         0.0         0.0   \n",
              "\n",
              "        category_4  category_5  category_6  category_7  category_8    ...      \\\n",
              "151559         0.0         0.0         0.0         0.0         0.0    ...       \n",
              "151560         0.0         0.0         0.0         0.0         0.0    ...       \n",
              "151561         0.0         0.0         0.0         0.0         0.0    ...       \n",
              "151562         0.0         0.0         0.0         0.0         0.0    ...       \n",
              "151563         0.0         0.0         0.0         0.0         0.0    ...       \n",
              "\n",
              "        blurb_246  blurb_247  blurb_248  blurb_249  blurb_250  blurb_251  \\\n",
              "151559        0.0   0.000000        0.0        0.0        0.0        0.0   \n",
              "151560        0.0   0.000000        0.0        0.0        0.0        0.0   \n",
              "151561        0.0   0.000000        0.0        0.0        0.0        0.0   \n",
              "151562        0.0  -0.258199        0.0        0.0        0.0        0.0   \n",
              "151563        0.0   0.000000        0.0        0.0        0.0        0.0   \n",
              "\n",
              "        blurb_252  blurb_253  blurb_254  blurb_255  \n",
              "151559        0.0        0.0        0.0        0.0  \n",
              "151560        0.0        0.0        0.0        0.0  \n",
              "151561        0.0        0.0        0.0        0.0  \n",
              "151562        0.0        0.0        0.0        0.0  \n",
              "151563        0.0        0.0        0.0        0.0  \n",
              "\n",
              "[5 rows x 724 columns]"
            ]
          },
          "metadata": {
            "tags": []
          },
          "execution_count": 66
        }
      ]
    },
    {
      "metadata": {
        "id": "IXmdIBG0sEon",
        "colab_type": "code",
        "colab": {
          "base_uri": "https://localhost:8080/",
          "height": 119
        },
        "outputId": "06b0e350-5ed3-4c25-8510-6afe6e86fc5e"
      },
      "cell_type": "code",
      "source": [
        "Y.tail()"
      ],
      "execution_count": 67,
      "outputs": [
        {
          "output_type": "execute_result",
          "data": {
            "text/plain": [
              "151559     3.83800\n",
              "151560    37.21221\n",
              "151561     0.06407\n",
              "151562     0.00100\n",
              "151563     2.11000\n",
              "Name: usd_pledged_real, dtype: float64"
            ]
          },
          "metadata": {
            "tags": []
          },
          "execution_count": 67
        }
      ]
    },
    {
      "metadata": {
        "id": "L6QmvjeolE5x",
        "colab_type": "text"
      },
      "cell_type": "markdown",
      "source": [
        "### Creating model"
      ]
    },
    {
      "metadata": {
        "id": "glS27lThlW80",
        "colab_type": "code",
        "colab": {
          "base_uri": "https://localhost:8080/",
          "height": 2159
        },
        "outputId": "d46fc9e6-91c0-428a-badb-dd0fc3408c86"
      },
      "cell_type": "code",
      "source": [
        "es = EarlyStopping(monitor='val_loss' ,patience=30)#, min_delta = 0.0002)\n",
        "mcp = ModelCheckpoint(filepath='weights.hdf5', verbose=1, save_best_only=True)\n",
        "\n",
        "print(\"X Shape is \", X_train.shape[1], \"Y Shape is\", 1) #Y_train.shape[1]\n",
        "\n",
        "# TODO: use regularization and dropout to prevent overfitting\n",
        "model = Sequential()\n",
        "model.add(Dense(256, input_shape=(X_train.shape[1],), use_bias=True, activation='relu'))\n",
        "model.add(Dense(256, use_bias=True, activation='relu'))\n",
        "model.add(Dense(1, activation='sigmoid')) #Y_train.shape[1]\n",
        "\n",
        "sgd = SGD(lr=1e-2, decay=1e-4, momentum=0.9, nesterov=True)\n",
        "model.compile(loss='mse', optimizer=sgd)\n",
        "\n",
        "history = model.fit(X_train, Y_train, epochs=100000, batch_size=64,\n",
        "                    verbose=2, validation_data=(X_valid,Y_valid),\n",
        "                   callbacks=[mcp, es])"
      ],
      "execution_count": 69,
      "outputs": [
        {
          "output_type": "stream",
          "text": [
            "X Shape is  724 Y Shape is 1\n",
            "Train on 106094 samples, validate on 30313 samples\n",
            "Epoch 1/100000\n",
            " - 13s - loss: 8244.4466 - val_loss: 5762.6314\n",
            "\n",
            "Epoch 00001: val_loss improved from inf to 5762.63142, saving model to weights.hdf5\n",
            "Epoch 2/100000\n",
            " - 13s - loss: 8244.4437 - val_loss: 5762.6314\n",
            "\n",
            "Epoch 00002: val_loss did not improve from 5762.63142\n",
            "Epoch 3/100000\n",
            " - 13s - loss: 8244.4437 - val_loss: 5762.6314\n",
            "\n",
            "Epoch 00003: val_loss did not improve from 5762.63142\n",
            "Epoch 4/100000\n",
            " - 13s - loss: 8244.4437 - val_loss: 5762.6314\n",
            "\n",
            "Epoch 00004: val_loss did not improve from 5762.63142\n",
            "Epoch 5/100000\n",
            " - 13s - loss: 8244.4435 - val_loss: 5762.6314\n",
            "\n",
            "Epoch 00005: val_loss did not improve from 5762.63142\n",
            "Epoch 6/100000\n",
            " - 13s - loss: 8244.4437 - val_loss: 5762.6314\n",
            "\n",
            "Epoch 00006: val_loss did not improve from 5762.63142\n",
            "Epoch 7/100000\n",
            " - 13s - loss: 8244.4437 - val_loss: 5762.6314\n",
            "\n",
            "Epoch 00007: val_loss did not improve from 5762.63142\n",
            "Epoch 8/100000\n",
            " - 13s - loss: 8244.4436 - val_loss: 5762.6314\n",
            "\n",
            "Epoch 00008: val_loss did not improve from 5762.63142\n",
            "Epoch 9/100000\n",
            " - 13s - loss: 8244.4436 - val_loss: 5762.6314\n",
            "\n",
            "Epoch 00009: val_loss did not improve from 5762.63142\n",
            "Epoch 10/100000\n",
            " - 13s - loss: 8244.4437 - val_loss: 5762.6314\n",
            "\n",
            "Epoch 00010: val_loss did not improve from 5762.63142\n",
            "Epoch 11/100000\n",
            " - 13s - loss: 8244.4438 - val_loss: 5762.6314\n",
            "\n",
            "Epoch 00011: val_loss did not improve from 5762.63142\n",
            "Epoch 12/100000\n",
            " - 13s - loss: 8244.4436 - val_loss: 5762.6314\n",
            "\n",
            "Epoch 00012: val_loss did not improve from 5762.63142\n",
            "Epoch 13/100000\n",
            " - 13s - loss: 8244.4437 - val_loss: 5762.6314\n",
            "\n",
            "Epoch 00013: val_loss did not improve from 5762.63142\n",
            "Epoch 14/100000\n",
            " - 13s - loss: 8244.4437 - val_loss: 5762.6314\n",
            "\n",
            "Epoch 00014: val_loss did not improve from 5762.63142\n",
            "Epoch 15/100000\n",
            " - 13s - loss: 8244.4436 - val_loss: 5762.6314\n",
            "\n",
            "Epoch 00015: val_loss did not improve from 5762.63142\n",
            "Epoch 16/100000\n",
            " - 13s - loss: 8244.4436 - val_loss: 5762.6314\n",
            "\n",
            "Epoch 00016: val_loss did not improve from 5762.63142\n",
            "Epoch 17/100000\n",
            " - 13s - loss: 8244.4435 - val_loss: 5762.6314\n",
            "\n",
            "Epoch 00017: val_loss did not improve from 5762.63142\n",
            "Epoch 18/100000\n",
            " - 13s - loss: 8244.4437 - val_loss: 5762.6314\n",
            "\n",
            "Epoch 00018: val_loss did not improve from 5762.63142\n",
            "Epoch 19/100000\n",
            " - 13s - loss: 8244.4435 - val_loss: 5762.6314\n",
            "\n",
            "Epoch 00019: val_loss did not improve from 5762.63142\n",
            "Epoch 20/100000\n",
            " - 10s - loss: 8244.4436 - val_loss: 5762.6314\n",
            "\n",
            "Epoch 00020: val_loss did not improve from 5762.63142\n",
            "Epoch 21/100000\n",
            " - 10s - loss: 8244.4435 - val_loss: 5762.6314\n",
            "\n",
            "Epoch 00021: val_loss did not improve from 5762.63142\n",
            "Epoch 22/100000\n",
            " - 10s - loss: 8244.4437 - val_loss: 5762.6314\n",
            "\n",
            "Epoch 00022: val_loss did not improve from 5762.63142\n",
            "Epoch 23/100000\n",
            " - 10s - loss: 8244.4437 - val_loss: 5762.6314\n",
            "\n",
            "Epoch 00023: val_loss did not improve from 5762.63142\n",
            "Epoch 24/100000\n",
            " - 10s - loss: 8244.4435 - val_loss: 5762.6314\n",
            "\n",
            "Epoch 00024: val_loss did not improve from 5762.63142\n",
            "Epoch 25/100000\n",
            " - 10s - loss: 8244.4436 - val_loss: 5762.6314\n",
            "\n",
            "Epoch 00025: val_loss did not improve from 5762.63142\n",
            "Epoch 26/100000\n",
            " - 10s - loss: 8244.4437 - val_loss: 5762.6314\n",
            "\n",
            "Epoch 00026: val_loss did not improve from 5762.63142\n",
            "Epoch 27/100000\n",
            " - 10s - loss: 8244.4436 - val_loss: 5762.6314\n",
            "\n",
            "Epoch 00027: val_loss did not improve from 5762.63142\n",
            "Epoch 28/100000\n",
            " - 10s - loss: 8244.4436 - val_loss: 5762.6314\n",
            "\n",
            "Epoch 00028: val_loss did not improve from 5762.63142\n",
            "Epoch 29/100000\n",
            " - 10s - loss: 8244.4437 - val_loss: 5762.6314\n",
            "\n",
            "Epoch 00029: val_loss did not improve from 5762.63142\n",
            "Epoch 30/100000\n",
            " - 10s - loss: 8244.4437 - val_loss: 5762.6314\n",
            "\n",
            "Epoch 00030: val_loss did not improve from 5762.63142\n",
            "Epoch 31/100000\n",
            " - 10s - loss: 8244.4436 - val_loss: 5762.6314\n",
            "\n",
            "Epoch 00031: val_loss did not improve from 5762.63142\n"
          ],
          "name": "stdout"
        }
      ]
    },
    {
      "metadata": {
        "id": "R6_c16zKlvlx",
        "colab_type": "code",
        "colab": {}
      },
      "cell_type": "code",
      "source": [
        "from keras.models import load_model\n",
        "\n",
        "model = load_model('weights.hdf5')"
      ],
      "execution_count": 0,
      "outputs": []
    },
    {
      "metadata": {
        "id": "dGyGMk11wns5",
        "colab_type": "code",
        "colab": {
          "base_uri": "https://localhost:8080/",
          "height": 34
        },
        "outputId": "8640af92-41a1-4f9b-ef19-c42a88f6b766"
      },
      "cell_type": "code",
      "source": [
        "from sklearn.metrics import mean_squared_error, mean_absolute_error\n",
        "preds = model.predict(X_test)\n",
        "err = mean_absolute_error(Y_test, preds)\n",
        "\n",
        "print(\"Error on test data: {}\".format(err))"
      ],
      "execution_count": 70,
      "outputs": [
        {
          "output_type": "stream",
          "text": [
            "Error on test data: 9.261136483522165\n"
          ],
          "name": "stdout"
        }
      ]
    },
    {
      "metadata": {
        "id": "g3u3zbU0wqFr",
        "colab_type": "code",
        "colab": {
          "base_uri": "https://localhost:8080/",
          "height": 68
        },
        "outputId": "a098b53e-d350-4817-e741-a503bda41a3d"
      },
      "cell_type": "code",
      "source": [
        "print(preds[0][:4])\n",
        "print(type(preds))\n",
        "print(type(Y_test))"
      ],
      "execution_count": 71,
      "outputs": [
        {
          "output_type": "stream",
          "text": [
            "[0.9999999]\n",
            "<class 'numpy.ndarray'>\n",
            "<class 'pandas.core.series.Series'>\n"
          ],
          "name": "stdout"
        }
      ]
    },
    {
      "metadata": {
        "id": "w-GaNpjRxM5g",
        "colab_type": "code",
        "colab": {
          "base_uri": "https://localhost:8080/",
          "height": 51
        },
        "outputId": "337a92dd-8a0d-4a14-939e-92f66c7a070c"
      },
      "cell_type": "code",
      "source": [
        "print(preds.shape)\n",
        "print(Y_test.shape)"
      ],
      "execution_count": 72,
      "outputs": [
        {
          "output_type": "stream",
          "text": [
            "(15157, 1)\n",
            "(15157,)\n"
          ],
          "name": "stdout"
        }
      ]
    },
    {
      "metadata": {
        "id": "4NFxZTZ4yUqb",
        "colab_type": "code",
        "colab": {}
      },
      "cell_type": "code",
      "source": [
        "pred_df = pd.DataFrame(data=preds)"
      ],
      "execution_count": 0,
      "outputs": []
    },
    {
      "metadata": {
        "id": "XE1ibbbyysTi",
        "colab_type": "code",
        "colab": {
          "base_uri": "https://localhost:8080/",
          "height": 204
        },
        "outputId": "c1ec9527-e301-4541-a4cc-495525812fa8"
      },
      "cell_type": "code",
      "source": [
        "pred_df.head()"
      ],
      "execution_count": 74,
      "outputs": [
        {
          "output_type": "execute_result",
          "data": {
            "text/html": [
              "<div>\n",
              "<style scoped>\n",
              "    .dataframe tbody tr th:only-of-type {\n",
              "        vertical-align: middle;\n",
              "    }\n",
              "\n",
              "    .dataframe tbody tr th {\n",
              "        vertical-align: top;\n",
              "    }\n",
              "\n",
              "    .dataframe thead th {\n",
              "        text-align: right;\n",
              "    }\n",
              "</style>\n",
              "<table border=\"1\" class=\"dataframe\">\n",
              "  <thead>\n",
              "    <tr style=\"text-align: right;\">\n",
              "      <th></th>\n",
              "      <th>0</th>\n",
              "    </tr>\n",
              "  </thead>\n",
              "  <tbody>\n",
              "    <tr>\n",
              "      <th>0</th>\n",
              "      <td>1.0</td>\n",
              "    </tr>\n",
              "    <tr>\n",
              "      <th>1</th>\n",
              "      <td>1.0</td>\n",
              "    </tr>\n",
              "    <tr>\n",
              "      <th>2</th>\n",
              "      <td>1.0</td>\n",
              "    </tr>\n",
              "    <tr>\n",
              "      <th>3</th>\n",
              "      <td>1.0</td>\n",
              "    </tr>\n",
              "    <tr>\n",
              "      <th>4</th>\n",
              "      <td>1.0</td>\n",
              "    </tr>\n",
              "  </tbody>\n",
              "</table>\n",
              "</div>"
            ],
            "text/plain": [
              "     0\n",
              "0  1.0\n",
              "1  1.0\n",
              "2  1.0\n",
              "3  1.0\n",
              "4  1.0"
            ]
          },
          "metadata": {
            "tags": []
          },
          "execution_count": 74
        }
      ]
    },
    {
      "metadata": {
        "id": "0Ufv8XeFyvVM",
        "colab_type": "code",
        "colab": {
          "base_uri": "https://localhost:8080/",
          "height": 119
        },
        "outputId": "0d128ad5-8f2c-400f-d7c6-8091c67da1b8"
      },
      "cell_type": "code",
      "source": [
        "Y_test.head()"
      ],
      "execution_count": 75,
      "outputs": [
        {
          "output_type": "execute_result",
          "data": {
            "text/plain": [
              "136407    8.36799\n",
              "136408    0.33500\n",
              "136409    0.00000\n",
              "136410    6.34412\n",
              "136411    4.56100\n",
              "Name: usd_pledged_real, dtype: float64"
            ]
          },
          "metadata": {
            "tags": []
          },
          "execution_count": 75
        }
      ]
    },
    {
      "metadata": {
        "id": "mvRyqICM1pVF",
        "colab_type": "code",
        "colab": {
          "base_uri": "https://localhost:8080/",
          "height": 472
        },
        "outputId": "c1633927-4e08-4faf-8ebe-90cff2446f31"
      },
      "cell_type": "code",
      "source": [
        "Y_test_state = state_ohe.inverse_transform(Y_test)"
      ],
      "execution_count": 76,
      "outputs": [
        {
          "output_type": "error",
          "ename": "ValueError",
          "evalue": "ignored",
          "traceback": [
            "\u001b[0;31m---------------------------------------------------------------------------\u001b[0m",
            "\u001b[0;31mValueError\u001b[0m                                Traceback (most recent call last)",
            "\u001b[0;32m<ipython-input-76-e69495607ef9>\u001b[0m in \u001b[0;36m<module>\u001b[0;34m()\u001b[0m\n\u001b[0;32m----> 1\u001b[0;31m \u001b[0mY_test_state\u001b[0m \u001b[0;34m=\u001b[0m \u001b[0mstate_ohe\u001b[0m\u001b[0;34m.\u001b[0m\u001b[0minverse_transform\u001b[0m\u001b[0;34m(\u001b[0m\u001b[0mY_test\u001b[0m\u001b[0;34m)\u001b[0m\u001b[0;34m\u001b[0m\u001b[0m\n\u001b[0m",
            "\u001b[0;32m/usr/local/lib/python3.6/dist-packages/sklearn/preprocessing/_encoders.py\u001b[0m in \u001b[0;36minverse_transform\u001b[0;34m(self, X)\u001b[0m\n\u001b[1;32m    612\u001b[0m \u001b[0;34m\u001b[0m\u001b[0m\n\u001b[1;32m    613\u001b[0m         \u001b[0mcheck_is_fitted\u001b[0m\u001b[0;34m(\u001b[0m\u001b[0mself\u001b[0m\u001b[0;34m,\u001b[0m \u001b[0;34m'categories_'\u001b[0m\u001b[0;34m)\u001b[0m\u001b[0;34m\u001b[0m\u001b[0m\n\u001b[0;32m--> 614\u001b[0;31m         \u001b[0mX\u001b[0m \u001b[0;34m=\u001b[0m \u001b[0mcheck_array\u001b[0m\u001b[0;34m(\u001b[0m\u001b[0mX\u001b[0m\u001b[0;34m,\u001b[0m \u001b[0maccept_sparse\u001b[0m\u001b[0;34m=\u001b[0m\u001b[0;34m'csr'\u001b[0m\u001b[0;34m)\u001b[0m\u001b[0;34m\u001b[0m\u001b[0m\n\u001b[0m\u001b[1;32m    615\u001b[0m \u001b[0;34m\u001b[0m\u001b[0m\n\u001b[1;32m    616\u001b[0m         \u001b[0mn_samples\u001b[0m\u001b[0;34m,\u001b[0m \u001b[0m_\u001b[0m \u001b[0;34m=\u001b[0m \u001b[0mX\u001b[0m\u001b[0;34m.\u001b[0m\u001b[0mshape\u001b[0m\u001b[0;34m\u001b[0m\u001b[0m\n",
            "\u001b[0;32m/usr/local/lib/python3.6/dist-packages/sklearn/utils/validation.py\u001b[0m in \u001b[0;36mcheck_array\u001b[0;34m(array, accept_sparse, accept_large_sparse, dtype, order, copy, force_all_finite, ensure_2d, allow_nd, ensure_min_samples, ensure_min_features, warn_on_dtype, estimator)\u001b[0m\n\u001b[1;32m    545\u001b[0m                     \u001b[0;34m\"Reshape your data either using array.reshape(-1, 1) if \"\u001b[0m\u001b[0;34m\u001b[0m\u001b[0m\n\u001b[1;32m    546\u001b[0m                     \u001b[0;34m\"your data has a single feature or array.reshape(1, -1) \"\u001b[0m\u001b[0;34m\u001b[0m\u001b[0m\n\u001b[0;32m--> 547\u001b[0;31m                     \"if it contains a single sample.\".format(array))\n\u001b[0m\u001b[1;32m    548\u001b[0m \u001b[0;34m\u001b[0m\u001b[0m\n\u001b[1;32m    549\u001b[0m         \u001b[0;31m# in the future np.flexible dtypes will be handled like object dtypes\u001b[0m\u001b[0;34m\u001b[0m\u001b[0;34m\u001b[0m\u001b[0m\n",
            "\u001b[0;31mValueError\u001b[0m: Expected 2D array, got 1D array instead:\narray=[8.36799e+00 3.35000e-01 0.00000e+00 ... 6.40700e-02 1.00000e-03\n 2.11000e+00].\nReshape your data either using array.reshape(-1, 1) if your data has a single feature or array.reshape(1, -1) if it contains a single sample."
          ]
        }
      ]
    },
    {
      "metadata": {
        "id": "89hGSAfZDpD4",
        "colab_type": "code",
        "colab": {
          "base_uri": "https://localhost:8080/",
          "height": 103
        },
        "outputId": "480bdc56-7404-4978-de0a-79ef64190325"
      },
      "cell_type": "code",
      "source": [
        "Y_test_state[-5:]"
      ],
      "execution_count": 85,
      "outputs": [
        {
          "output_type": "execute_result",
          "data": {
            "text/plain": [
              "array([[1.],\n",
              "       [1.],\n",
              "       [0.],\n",
              "       [0.],\n",
              "       [1.]])"
            ]
          },
          "metadata": {
            "tags": []
          },
          "execution_count": 85
        }
      ]
    },
    {
      "metadata": {
        "id": "bPueTNHFEout",
        "colab_type": "code",
        "colab": {
          "base_uri": "https://localhost:8080/",
          "height": 34
        },
        "outputId": "b7779f38-5b4a-4f0c-8639-d06cd3cea4cf"
      },
      "cell_type": "code",
      "source": [
        "type(Y_test_state)"
      ],
      "execution_count": 91,
      "outputs": [
        {
          "output_type": "execute_result",
          "data": {
            "text/plain": [
              "numpy.ndarray"
            ]
          },
          "metadata": {
            "tags": []
          },
          "execution_count": 91
        }
      ]
    },
    {
      "metadata": {
        "id": "kOPL1mvH161n",
        "colab_type": "code",
        "colab": {
          "base_uri": "https://localhost:8080/",
          "height": 167
        },
        "outputId": "3fe7e10a-ea10-44ae-a6cb-5e405906bfe1"
      },
      "cell_type": "code",
      "source": [
        "Y_test_state2 = state_le.inverse_transform(Y_test_state.astype(int))"
      ],
      "execution_count": 36,
      "outputs": [
        {
          "output_type": "error",
          "ename": "NameError",
          "evalue": "ignored",
          "traceback": [
            "\u001b[0;31m---------------------------------------------------------------------------\u001b[0m",
            "\u001b[0;31mNameError\u001b[0m                                 Traceback (most recent call last)",
            "\u001b[0;32m<ipython-input-36-afc6b0d20aa4>\u001b[0m in \u001b[0;36m<module>\u001b[0;34m()\u001b[0m\n\u001b[0;32m----> 1\u001b[0;31m \u001b[0mY_test_state2\u001b[0m \u001b[0;34m=\u001b[0m \u001b[0mstate_le\u001b[0m\u001b[0;34m.\u001b[0m\u001b[0minverse_transform\u001b[0m\u001b[0;34m(\u001b[0m\u001b[0mY_test_state\u001b[0m\u001b[0;34m.\u001b[0m\u001b[0mastype\u001b[0m\u001b[0;34m(\u001b[0m\u001b[0mint\u001b[0m\u001b[0;34m)\u001b[0m\u001b[0;34m)\u001b[0m\u001b[0;34m\u001b[0m\u001b[0m\n\u001b[0m",
            "\u001b[0;31mNameError\u001b[0m: name 'Y_test_state' is not defined"
          ]
        }
      ]
    },
    {
      "metadata": {
        "id": "Lu-8hGsVEvgq",
        "colab_type": "code",
        "colab": {
          "base_uri": "https://localhost:8080/",
          "height": 51
        },
        "outputId": "897e981f-e474-4644-c651-082564da6c64"
      },
      "cell_type": "code",
      "source": [
        "Y_test_state2[:5]"
      ],
      "execution_count": 99,
      "outputs": [
        {
          "output_type": "execute_result",
          "data": {
            "text/plain": [
              "array(['failed', 'failed', 'failed', 'successful', 'successful'],\n",
              "      dtype=object)"
            ]
          },
          "metadata": {
            "tags": []
          },
          "execution_count": 99
        }
      ]
    },
    {
      "metadata": {
        "id": "gcOXSrKY2Kcp",
        "colab_type": "code",
        "colab": {}
      },
      "cell_type": "code",
      "source": [
        "pred_test = pred_df.idxmax(axis=1)"
      ],
      "execution_count": 0,
      "outputs": []
    },
    {
      "metadata": {
        "id": "W7bruoBnGWjY",
        "colab_type": "code",
        "colab": {}
      },
      "cell_type": "code",
      "source": [
        "pred_inverted = state_le.inverse_transform(pred_test)"
      ],
      "execution_count": 0,
      "outputs": []
    },
    {
      "metadata": {
        "id": "-u5LCmsWHyU-",
        "colab_type": "code",
        "colab": {
          "base_uri": "https://localhost:8080/",
          "height": 34
        },
        "outputId": "fd6de132-fa25-4262-c493-d14862e087d8"
      },
      "cell_type": "code",
      "source": [
        "state_le.classes_"
      ],
      "execution_count": 112,
      "outputs": [
        {
          "output_type": "execute_result",
          "data": {
            "text/plain": [
              "array(['failed', 'successful'], dtype=object)"
            ]
          },
          "metadata": {
            "tags": []
          },
          "execution_count": 112
        }
      ]
    },
    {
      "metadata": {
        "id": "PVt0lajF2Vcq",
        "colab_type": "code",
        "colab": {
          "base_uri": "https://localhost:8080/",
          "height": 51
        },
        "outputId": "61d72fce-85f3-4f5c-c751-91bddf0c87ac"
      },
      "cell_type": "code",
      "source": [
        "pred_inverted"
      ],
      "execution_count": 118,
      "outputs": [
        {
          "output_type": "execute_result",
          "data": {
            "text/plain": [
              "array(['failed', 'failed', 'failed', ..., 'failed', 'failed',\n",
              "       'successful'], dtype=object)"
            ]
          },
          "metadata": {
            "tags": []
          },
          "execution_count": 118
        }
      ]
    },
    {
      "metadata": {
        "id": "R_20eNdr2iUw",
        "colab_type": "code",
        "colab": {
          "base_uri": "https://localhost:8080/",
          "height": 34
        },
        "outputId": "fe019d77-78be-46f9-80db-c4de776886b0"
      },
      "cell_type": "code",
      "source": [
        "pred_inverted.shape"
      ],
      "execution_count": 120,
      "outputs": [
        {
          "output_type": "execute_result",
          "data": {
            "text/plain": [
              "(15157,)"
            ]
          },
          "metadata": {
            "tags": []
          },
          "execution_count": 120
        }
      ]
    },
    {
      "metadata": {
        "id": "bbIf0su-3Hs9",
        "colab_type": "code",
        "colab": {
          "base_uri": "https://localhost:8080/",
          "height": 34
        },
        "outputId": "e348b982-d0b5-4162-e65d-f18583672d21"
      },
      "cell_type": "code",
      "source": [
        "Y_test_state2.shape"
      ],
      "execution_count": 123,
      "outputs": [
        {
          "output_type": "execute_result",
          "data": {
            "text/plain": [
              "(15157,)"
            ]
          },
          "metadata": {
            "tags": []
          },
          "execution_count": 123
        }
      ]
    },
    {
      "metadata": {
        "id": "0oW80GJZHLsV",
        "colab_type": "code",
        "colab": {
          "base_uri": "https://localhost:8080/",
          "height": 219
        },
        "outputId": "7494166d-e1aa-4b66-a32d-c8db0fa274fc"
      },
      "cell_type": "code",
      "source": [
        "print(\"First 10\")\n",
        "for i in range(10):\n",
        "  print(\"Predicted \", pred_inverted[i], \" |||| was:\", Y_test_state2[i])"
      ],
      "execution_count": 37,
      "outputs": [
        {
          "output_type": "stream",
          "text": [
            "First 10\n"
          ],
          "name": "stdout"
        },
        {
          "output_type": "error",
          "ename": "NameError",
          "evalue": "ignored",
          "traceback": [
            "\u001b[0;31m---------------------------------------------------------------------------\u001b[0m",
            "\u001b[0;31mNameError\u001b[0m                                 Traceback (most recent call last)",
            "\u001b[0;32m<ipython-input-37-0362e557c8d1>\u001b[0m in \u001b[0;36m<module>\u001b[0;34m()\u001b[0m\n\u001b[1;32m      1\u001b[0m \u001b[0mprint\u001b[0m\u001b[0;34m(\u001b[0m\u001b[0;34m\"First 10\"\u001b[0m\u001b[0;34m)\u001b[0m\u001b[0;34m\u001b[0m\u001b[0m\n\u001b[1;32m      2\u001b[0m \u001b[0;32mfor\u001b[0m \u001b[0mi\u001b[0m \u001b[0;32min\u001b[0m \u001b[0mrange\u001b[0m\u001b[0;34m(\u001b[0m\u001b[0;36m10\u001b[0m\u001b[0;34m)\u001b[0m\u001b[0;34m:\u001b[0m\u001b[0;34m\u001b[0m\u001b[0m\n\u001b[0;32m----> 3\u001b[0;31m   \u001b[0mprint\u001b[0m\u001b[0;34m(\u001b[0m\u001b[0;34m\"Predicted \"\u001b[0m\u001b[0;34m,\u001b[0m \u001b[0mpred_inverted\u001b[0m\u001b[0;34m[\u001b[0m\u001b[0mi\u001b[0m\u001b[0;34m]\u001b[0m\u001b[0;34m,\u001b[0m \u001b[0;34m\" |||| was:\"\u001b[0m\u001b[0;34m,\u001b[0m \u001b[0mY_test_state2\u001b[0m\u001b[0;34m[\u001b[0m\u001b[0mi\u001b[0m\u001b[0;34m]\u001b[0m\u001b[0;34m)\u001b[0m\u001b[0;34m\u001b[0m\u001b[0m\n\u001b[0m",
            "\u001b[0;31mNameError\u001b[0m: name 'pred_inverted' is not defined"
          ]
        }
      ]
    },
    {
      "metadata": {
        "id": "s79jIZ_ZHfQX",
        "colab_type": "code",
        "colab": {}
      },
      "cell_type": "code",
      "source": [
        ""
      ],
      "execution_count": 0,
      "outputs": []
    }
  ]
}