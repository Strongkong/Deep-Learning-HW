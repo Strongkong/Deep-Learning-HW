{
  "nbformat": 4,
  "nbformat_minor": 0,
  "metadata": {
    "colab": {
      "name": "ksnotebook.ipynb",
      "version": "0.3.2",
      "provenance": [],
      "collapsed_sections": [],
      "toc_visible": true
    },
    "kernelspec": {
      "display_name": "Python 3",
      "language": "python",
      "name": "python3"
    }
  },
  "cells": [
    {
      "metadata": {
        "id": "X5yRk3LJ8nZN",
        "colab_type": "text"
      },
      "cell_type": "markdown",
      "source": [
        "# Kickstarter project"
      ]
    },
    {
      "metadata": {
        "id": "E7oYiGdT8nZP",
        "colab_type": "code",
        "colab": {}
      },
      "cell_type": "code",
      "source": [
        "import numpy as np\n",
        "import pandas as pd\n",
        "%matplotlib inline\n",
        "import matplotlib.pyplot as plt"
      ],
      "execution_count": 0,
      "outputs": []
    },
    {
      "metadata": {
        "id": "Pvz5Ll8k89Xv",
        "colab_type": "text"
      },
      "cell_type": "markdown",
      "source": [
        "## Preparation of data -> this was done offline, result is \"test_joined.csv\""
      ]
    },
    {
      "metadata": {
        "id": "sylEcU309NRi",
        "colab_type": "text"
      },
      "cell_type": "markdown",
      "source": [
        "### Cleaning the kaggle dataset"
      ]
    },
    {
      "metadata": {
        "id": "UpolHXDU-Ra5",
        "colab_type": "text"
      },
      "cell_type": "markdown",
      "source": [
        "Dataset 1: https://www.kaggle.com/kemical/kickstarter-projects#ks-projects-201801.csv"
      ]
    },
    {
      "metadata": {
        "id": "LXl8JAO3-sC1",
        "colab_type": "text"
      },
      "cell_type": "markdown",
      "source": [
        "Dataset 2: https://webrobots.io/kickstarter-datasets/"
      ]
    },
    {
      "metadata": {
        "id": "b5J5wLJU9q84",
        "colab_type": "code",
        "colab": {}
      },
      "cell_type": "code",
      "source": [
        "def cleankaggle():\n",
        "  data = []\n",
        "  linecnt = 0\n",
        "  with open(\"ks-projects-201801.csv\", encoding='latin1') as f:\n",
        "      for line in f.readlines():\n",
        "          split_ = line.split(',')\n",
        "          linecnt += 1\n",
        "          if linecnt % 10000 == 0:\n",
        "              print(linecnt)\n",
        "          if len(split_) == 15:\n",
        "              data.append(line)\n",
        "\n",
        "  print(\"Added {} to output\".format(len(data)))\n",
        "  with open(\"test_newer.csv\", 'w', encoding='latin1') as outf:\n",
        "      outf.writelines(data)"
      ],
      "execution_count": 0,
      "outputs": []
    },
    {
      "metadata": {
        "id": "ySNQZVDo9xfc",
        "colab_type": "text"
      },
      "cell_type": "markdown",
      "source": [
        "### Cleaning and joining the webcrawler dataset"
      ]
    },
    {
      "metadata": {
        "id": "ClApARI3968O",
        "colab_type": "code",
        "colab": {}
      },
      "cell_type": "code",
      "source": [
        "def cleanwebcrawler():\n",
        "  import os\n",
        "  from csv import reader, writer\n",
        "\n",
        "  inputfolder = r\"G:\\Deep Learning\"\n",
        "  csv_filetemplate = \"Kickstarter%03d.csv\"\n",
        "  first = True\n",
        "\n",
        "\n",
        "  def clean_columns(split2):\n",
        "      max_len = 37\n",
        "      keep = [1, 16, 29, 30]\n",
        "      temp = []\n",
        "      for i in range(0, max_len):\n",
        "          if i in keep:\n",
        "              temp.append(split2[i])\n",
        "\n",
        "      return temp\n",
        "\n",
        "\n",
        "  for i in range(0, 51):\n",
        "      linecnt = 0\n",
        "      data = []\n",
        "      fname = csv_filetemplate % i if i != 0 else \"Kickstarter.csv\"\n",
        "      fname = inputfolder + os.sep + fname\n",
        "      print(\"Opening and processing {}\".format(fname))\n",
        "      with open(fname, encoding='latin1') as f:\n",
        "          csvreader = reader(f)\n",
        "          for line in csvreader:\n",
        "              if first:\n",
        "                  split_ = line\n",
        "                  print(\"First line: {}\".format(split_))\n",
        "                  split_ = clean_columns(split_)\n",
        "                  print(\"Cleaned first line: {}\".format(split_))\n",
        "                  data.append(split_)\n",
        "                  first = False\n",
        "              else:\n",
        "                  split_ = line\n",
        "                  linecnt += 1\n",
        "                  if linecnt % 1000 == 0:\n",
        "                      print(linecnt)\n",
        "                      print(len(split_))\n",
        "                  if len(split_) == 37:\n",
        "                      split_ = clean_columns(split_)\n",
        "                      data.append(split_)\n",
        "      print(\"Added {} to output from file {}\".format(len(data), fname))\n",
        "      with open(\"test_dataset2.csv\", 'a', encoding='latin1', newline='') as outf:\n",
        "          csvwriter = writer(outf)\n",
        "          for row in data:\n",
        "              csvwriter.writerow(row)"
      ],
      "execution_count": 0,
      "outputs": []
    },
    {
      "metadata": {
        "id": "yQsTRAOu-KAk",
        "colab_type": "text"
      },
      "cell_type": "markdown",
      "source": [
        "### Joining the two datasets on ID"
      ]
    },
    {
      "metadata": {
        "id": "L1cUBvxr-nzr",
        "colab_type": "code",
        "colab": {}
      },
      "cell_type": "code",
      "source": [
        "def joinonids():\n",
        "  from csv import reader, writer\n",
        "\n",
        "  with open(\"test_newer.csv\", encoding='latin1') as f:\n",
        "      with open(\"test_dataset2.csv\", encoding='latin1') as second:\n",
        "          csvreader1 = reader(f)\n",
        "          csvreader2 = reader(second)\n",
        "          cache = dict()\n",
        "          firstrow = None\n",
        "          for row in csvreader1:\n",
        "              if firstrow is None:\n",
        "                  firstrow = row\n",
        "              else:\n",
        "                  cache[row[0]] = row\n",
        "\n",
        "          print(\"Done caching IDs from first file.\")\n",
        "          output = list()\n",
        "          for row in csvreader2:\n",
        "              if firstrow is not None:\n",
        "                  key = row.pop(1)\n",
        "                  row.extend(firstrow)\n",
        "                  output.append(row)\n",
        "                  firstrow = None\n",
        "              else:\n",
        "                  if row[1] in cache.keys():\n",
        "                      key = row.pop(1)\n",
        "                      row.extend(cache[key])\n",
        "                      del cache[key]\n",
        "                      output.append(row)\n",
        "\n",
        "  print(\"IDs found in test.csv = {}\".format(len(cache) + len(output)))\n",
        "  print(\"Matching IDs output = {}\".format(len(output)))\n",
        "  print(\"Writing out...\")\n",
        "  with open(\"test_joined.csv\", 'w', encoding='latin1', newline='') as outf:\n",
        "      csvwriter = writer(outf)\n",
        "      for row in output:\n",
        "          csvwriter.writerow(row)"
      ],
      "execution_count": 0,
      "outputs": []
    },
    {
      "metadata": {
        "id": "kS89oWau8cXc",
        "colab_type": "text"
      },
      "cell_type": "markdown",
      "source": [
        "## Github clone the dataset -> separate from normal github"
      ]
    },
    {
      "metadata": {
        "id": "V-B4fefI8ish",
        "colab_type": "code",
        "colab": {
          "base_uri": "https://localhost:8080/",
          "height": 34
        },
        "outputId": "90ea855b-de01-4f65-f63e-c1a23256e450"
      },
      "cell_type": "code",
      "source": [
        "!git clone https://github.com/Strongkong/cleaned_kickstarted_dataset"
      ],
      "execution_count": 7,
      "outputs": [
        {
          "output_type": "stream",
          "text": [
            "fatal: destination path 'cleaned_kickstarted_dataset' already exists and is not an empty directory.\n"
          ],
          "name": "stdout"
        }
      ]
    },
    {
      "metadata": {
        "id": "qPajLmYW8nSo",
        "colab_type": "code",
        "colab": {}
      },
      "cell_type": "code",
      "source": [
        "folder = \"./cleaned_kickstarted_dataset/\"\n",
        "filename = \"test_joined.csv\"\n",
        "fullpath = folder + filename"
      ],
      "execution_count": 0,
      "outputs": []
    },
    {
      "metadata": {
        "id": "k8x91cKU8nZS",
        "colab_type": "text"
      },
      "cell_type": "markdown",
      "source": [
        "## Load csv file"
      ]
    },
    {
      "metadata": {
        "id": "UL8JcRzM8nZT",
        "colab_type": "code",
        "colab": {}
      },
      "cell_type": "code",
      "source": [
        "df = pd.read_csv(fullpath, encoding='utf-8', sep=',')"
      ],
      "execution_count": 0,
      "outputs": []
    },
    {
      "metadata": {
        "id": "QRNurOT88nZV",
        "colab_type": "text"
      },
      "cell_type": "markdown",
      "source": [
        "## Remove whitespaces from header names"
      ]
    },
    {
      "metadata": {
        "id": "zMCu1kr38nZW",
        "colab_type": "code",
        "colab": {}
      },
      "cell_type": "code",
      "source": [
        "df = df.rename(columns=lambda x: x.strip())\n"
      ],
      "execution_count": 0,
      "outputs": []
    },
    {
      "metadata": {
        "id": "3w7mCo8d8nZZ",
        "colab_type": "text"
      },
      "cell_type": "markdown",
      "source": [
        "## Peak at head"
      ]
    },
    {
      "metadata": {
        "colab_type": "code",
        "colab": {
          "base_uri": "https://localhost:8080/",
          "height": 34
        },
        "id": "-biX_6SbwfVF",
        "outputId": "a57cf170-fce9-4cd5-b63c-bb62793a014b"
      },
      "cell_type": "code",
      "source": [
        "print (df.blurb[3])"
      ],
      "execution_count": 11,
      "outputs": [
        {
          "output_type": "stream",
          "text": [
            "Für die Finanzierung der Veröffentlichung meiner Masterarbeit, die dann als eigenständiges Buch bei Turia&Kant erscheint.\n"
          ],
          "name": "stdout"
        }
      ]
    },
    {
      "metadata": {
        "id": "c9cyrQ908nZZ",
        "colab_type": "code",
        "colab": {
          "base_uri": "https://localhost:8080/",
          "height": 564
        },
        "outputId": "e55c0393-f40e-4478-9acc-68bc50a846e8"
      },
      "cell_type": "code",
      "source": [
        "df.head()"
      ],
      "execution_count": 12,
      "outputs": [
        {
          "output_type": "execute_result",
          "data": {
            "text/html": [
              "<div>\n",
              "<style scoped>\n",
              "    .dataframe tbody tr th:only-of-type {\n",
              "        vertical-align: middle;\n",
              "    }\n",
              "\n",
              "    .dataframe tbody tr th {\n",
              "        vertical-align: top;\n",
              "    }\n",
              "\n",
              "    .dataframe thead th {\n",
              "        text-align: right;\n",
              "    }\n",
              "</style>\n",
              "<table border=\"1\" class=\"dataframe\">\n",
              "  <thead>\n",
              "    <tr style=\"text-align: right;\">\n",
              "      <th></th>\n",
              "      <th>blurb</th>\n",
              "      <th>spotlight</th>\n",
              "      <th>staff_pick</th>\n",
              "      <th>ID</th>\n",
              "      <th>name</th>\n",
              "      <th>category</th>\n",
              "      <th>main_category</th>\n",
              "      <th>currency</th>\n",
              "      <th>deadline</th>\n",
              "      <th>goal</th>\n",
              "      <th>launched</th>\n",
              "      <th>pledged</th>\n",
              "      <th>state</th>\n",
              "      <th>backers</th>\n",
              "      <th>country</th>\n",
              "      <th>usd pledged</th>\n",
              "      <th>usd_pledged_real</th>\n",
              "      <th>usd_goal_real</th>\n",
              "    </tr>\n",
              "  </thead>\n",
              "  <tbody>\n",
              "    <tr>\n",
              "      <th>0</th>\n",
              "      <td>If you've ever been disheartened by how some p...</td>\n",
              "      <td>True</td>\n",
              "      <td>False</td>\n",
              "      <td>62545913</td>\n",
              "      <td>\"How We've Changed Jesus\" - Neal Samudre's Deb...</td>\n",
              "      <td>Nonfiction</td>\n",
              "      <td>Publishing</td>\n",
              "      <td>USD</td>\n",
              "      <td>2013-04-12</td>\n",
              "      <td>3500.0</td>\n",
              "      <td>2013-04-04 22:46:00</td>\n",
              "      <td>3651.0</td>\n",
              "      <td>successful</td>\n",
              "      <td>80</td>\n",
              "      <td>US</td>\n",
              "      <td>3651.00</td>\n",
              "      <td>3651.00</td>\n",
              "      <td>3500.00</td>\n",
              "    </tr>\n",
              "    <tr>\n",
              "      <th>1</th>\n",
              "      <td>This book will show you how to attract your id...</td>\n",
              "      <td>True</td>\n",
              "      <td>False</td>\n",
              "      <td>2031730466</td>\n",
              "      <td>Your Client Vision (Book) - How to sell withou...</td>\n",
              "      <td>Nonfiction</td>\n",
              "      <td>Publishing</td>\n",
              "      <td>GBP</td>\n",
              "      <td>2017-01-16</td>\n",
              "      <td>175.0</td>\n",
              "      <td>2016-12-18 20:09:14</td>\n",
              "      <td>271.0</td>\n",
              "      <td>successful</td>\n",
              "      <td>31</td>\n",
              "      <td>GB</td>\n",
              "      <td>94.80</td>\n",
              "      <td>332.73</td>\n",
              "      <td>214.86</td>\n",
              "    </tr>\n",
              "    <tr>\n",
              "      <th>2</th>\n",
              "      <td>I told my first lie when I was six and never s...</td>\n",
              "      <td>True</td>\n",
              "      <td>False</td>\n",
              "      <td>614137516</td>\n",
              "      <td>The Longest Lie I Ever Told</td>\n",
              "      <td>Nonfiction</td>\n",
              "      <td>Publishing</td>\n",
              "      <td>CAD</td>\n",
              "      <td>2016-11-08</td>\n",
              "      <td>3000.0</td>\n",
              "      <td>2016-10-09 18:32:56</td>\n",
              "      <td>3600.0</td>\n",
              "      <td>successful</td>\n",
              "      <td>74</td>\n",
              "      <td>CA</td>\n",
              "      <td>440.30</td>\n",
              "      <td>2668.45</td>\n",
              "      <td>2223.70</td>\n",
              "    </tr>\n",
              "    <tr>\n",
              "      <th>3</th>\n",
              "      <td>Für die Finanzierung der Veröffentlichung mein...</td>\n",
              "      <td>True</td>\n",
              "      <td>False</td>\n",
              "      <td>1164271753</td>\n",
              "      <td>Spurenlesen – Zur Philosophie der Human-Animal...</td>\n",
              "      <td>Nonfiction</td>\n",
              "      <td>Publishing</td>\n",
              "      <td>EUR</td>\n",
              "      <td>2016-08-14</td>\n",
              "      <td>1000.0</td>\n",
              "      <td>2016-07-15 14:17:36</td>\n",
              "      <td>1080.0</td>\n",
              "      <td>successful</td>\n",
              "      <td>12</td>\n",
              "      <td>DE</td>\n",
              "      <td>222.27</td>\n",
              "      <td>1223.21</td>\n",
              "      <td>1132.61</td>\n",
              "    </tr>\n",
              "    <tr>\n",
              "      <th>4</th>\n",
              "      <td>Six teens (age 13-15) are hiking VT's 272-mile...</td>\n",
              "      <td>True</td>\n",
              "      <td>False</td>\n",
              "      <td>384486589</td>\n",
              "      <td>Teens Hike VT's Long Trail and Write How-To an...</td>\n",
              "      <td>Nonfiction</td>\n",
              "      <td>Publishing</td>\n",
              "      <td>USD</td>\n",
              "      <td>2014-06-01</td>\n",
              "      <td>3700.0</td>\n",
              "      <td>2014-04-25 02:24:24</td>\n",
              "      <td>4051.2</td>\n",
              "      <td>successful</td>\n",
              "      <td>44</td>\n",
              "      <td>US</td>\n",
              "      <td>4051.20</td>\n",
              "      <td>4051.20</td>\n",
              "      <td>3700.00</td>\n",
              "    </tr>\n",
              "  </tbody>\n",
              "</table>\n",
              "</div>"
            ],
            "text/plain": [
              "                                               blurb  spotlight  staff_pick  \\\n",
              "0  If you've ever been disheartened by how some p...       True       False   \n",
              "1  This book will show you how to attract your id...       True       False   \n",
              "2  I told my first lie when I was six and never s...       True       False   \n",
              "3  Für die Finanzierung der Veröffentlichung mein...       True       False   \n",
              "4  Six teens (age 13-15) are hiking VT's 272-mile...       True       False   \n",
              "\n",
              "           ID                                               name    category  \\\n",
              "0    62545913  \"How We've Changed Jesus\" - Neal Samudre's Deb...  Nonfiction   \n",
              "1  2031730466  Your Client Vision (Book) - How to sell withou...  Nonfiction   \n",
              "2   614137516                        The Longest Lie I Ever Told  Nonfiction   \n",
              "3  1164271753  Spurenlesen – Zur Philosophie der Human-Animal...  Nonfiction   \n",
              "4   384486589  Teens Hike VT's Long Trail and Write How-To an...  Nonfiction   \n",
              "\n",
              "  main_category currency    deadline    goal             launched  pledged  \\\n",
              "0    Publishing      USD  2013-04-12  3500.0  2013-04-04 22:46:00   3651.0   \n",
              "1    Publishing      GBP  2017-01-16   175.0  2016-12-18 20:09:14    271.0   \n",
              "2    Publishing      CAD  2016-11-08  3000.0  2016-10-09 18:32:56   3600.0   \n",
              "3    Publishing      EUR  2016-08-14  1000.0  2016-07-15 14:17:36   1080.0   \n",
              "4    Publishing      USD  2014-06-01  3700.0  2014-04-25 02:24:24   4051.2   \n",
              "\n",
              "        state  backers country  usd pledged  usd_pledged_real  usd_goal_real  \n",
              "0  successful       80      US      3651.00           3651.00        3500.00  \n",
              "1  successful       31      GB        94.80            332.73         214.86  \n",
              "2  successful       74      CA       440.30           2668.45        2223.70  \n",
              "3  successful       12      DE       222.27           1223.21        1132.61  \n",
              "4  successful       44      US      4051.20           4051.20        3700.00  "
            ]
          },
          "metadata": {
            "tags": []
          },
          "execution_count": 12
        }
      ]
    },
    {
      "metadata": {
        "id": "Bl-ma1O78nZg",
        "colab_type": "text"
      },
      "cell_type": "markdown",
      "source": [
        "## Main categorical features"
      ]
    },
    {
      "metadata": {
        "id": "CvF2Gjh28nZg",
        "colab_type": "text"
      },
      "cell_type": "markdown",
      "source": [
        "### Categories"
      ]
    },
    {
      "metadata": {
        "id": "diJTk7eL8nZh",
        "colab_type": "code",
        "colab": {
          "base_uri": "https://localhost:8080/",
          "height": 510
        },
        "outputId": "e9d11422-f12a-4ecc-8e38-923b441e2f9e"
      },
      "cell_type": "code",
      "source": [
        "categories = df.category.unique()\n",
        "print(categories)"
      ],
      "execution_count": 13,
      "outputs": [
        {
          "output_type": "stream",
          "text": [
            "['Nonfiction' 'Publishing' 'Mixed Media' 'Web' 'People' 'Comic Books'\n",
            " 'Comedy' 'Punk' 'Technology' 'Theater' 'Jazz' 'Software' 'Anthologies'\n",
            " 'Science Fiction' 'Illustration' 'Gadgets' 'Product Design' 'Farms'\n",
            " 'Workshops' 'Footwear' 'Weaving' 'Sculpture' 'Experimental' 'Pet Fashion'\n",
            " 'Art' 'Graphic Design' 'Civic Design' 'Tabletop Games' 'Calendars'\n",
            " 'Design' 'Electronic Music' 'Installations' 'Family' 'Festivals'\n",
            " 'Conceptual Art' 'Performance Art' 'Glass' 'Painting' 'Plays' 'Jewelry'\n",
            " 'Letterpress' 'Public Art' 'Accessories' 'DIY' 'Small Batch'\n",
            " 'Video Games' 'Fantasy' 'Music' 'Comics' 'Digital Art' 'Immersive'\n",
            " 'Hardware' 'Radio & Podcasts' \"Children's Books\" 'Flight' 'Fine Art'\n",
            " 'Musical' 'Rock' 'Apparel' 'Nature' 'Games' 'Crafts' 'Robots'\n",
            " 'Stationery' 'DIY Electronics' 'Space Exploration' 'Apps'\n",
            " 'Movie Theaters' 'Woodworking' 'Printing' 'Knitting' 'Crochet'\n",
            " 'Camera Equipment' 'Wearables' 'Makerspaces' 'Pottery' 'Photography'\n",
            " 'Fashion' 'Candles' 'Embroidery' 'Photobooks' 'Art Books' '3D Printing'\n",
            " 'Sound' 'Quilts' 'Puzzles' 'Country & Folk' 'Drama' 'Academic'\n",
            " 'Classical Music' 'Drinks' 'Playing Cards' 'Periodicals' 'Graphic Novels'\n",
            " 'Narrative Film' 'Thrillers' 'Literary Journals' 'Childrenswear' 'Audio'\n",
            " 'Webcomics' 'Events' 'Print' 'Poetry' 'Spaces' 'Blues'\n",
            " 'Interactive Design' 'Fiction' 'Romance' 'Animals' 'Places' 'Chiptune'\n",
            " 'Shorts' 'Horror' 'Couture' 'Film & Video' 'Food' 'Typography'\n",
            " 'Architecture' 'Fabrication Tools' 'Webseries' 'Hip-Hop' 'Performances'\n",
            " 'Dance' 'Action' 'Young Adult' 'Gaming Hardware' 'Animation'\n",
            " 'Music Videos' 'Pop' 'Indie Rock' 'Television' 'Documentary' 'Kids'\n",
            " \"Farmer's Markets\" 'Cookbooks' 'Residencies' 'Textiles' 'World Music'\n",
            " 'Literary Spaces' 'Ready-to-wear' 'Zines' 'Faith' 'Video' 'Vegan'\n",
            " 'Food Trucks' 'Bacon' 'Metal' 'R&B' 'Community Gardens' 'Restaurants'\n",
            " 'Photo' 'Journalism' 'Live Games' 'Translations' 'Video Art' 'Latin'\n",
            " 'Mobile Games' 'Ceramics' 'Taxidermy']\n"
          ],
          "name": "stdout"
        }
      ]
    },
    {
      "metadata": {
        "id": "d3D3pfju8nZk",
        "colab_type": "text"
      },
      "cell_type": "markdown",
      "source": [
        "### Main categories"
      ]
    },
    {
      "metadata": {
        "id": "UlJQUbeG8nZl",
        "colab_type": "code",
        "colab": {
          "base_uri": "https://localhost:8080/",
          "height": 68
        },
        "outputId": "d8a34ea7-6245-43a3-d9a6-fc6741f3226c"
      },
      "cell_type": "code",
      "source": [
        "main_categories = df.main_category.unique()\n",
        "print(main_categories)"
      ],
      "execution_count": 14,
      "outputs": [
        {
          "output_type": "stream",
          "text": [
            "['Publishing' 'Art' 'Journalism' 'Photography' 'Comics' 'Film & Video'\n",
            " 'Music' 'Technology' 'Theater' 'Design' 'Food' 'Dance' 'Fashion' 'Crafts'\n",
            " 'Games']\n"
          ],
          "name": "stdout"
        }
      ]
    },
    {
      "metadata": {
        "id": "68EH_5tl8nZp",
        "colab_type": "text"
      },
      "cell_type": "markdown",
      "source": [
        "### Currencies"
      ]
    },
    {
      "metadata": {
        "id": "tz-yLtK28nZq",
        "colab_type": "code",
        "colab": {
          "base_uri": "https://localhost:8080/",
          "height": 51
        },
        "outputId": "f5d2abdb-2266-4063-accc-99426d9be0dd"
      },
      "cell_type": "code",
      "source": [
        "currencies = df.currency.unique()\n",
        "print(currencies)"
      ],
      "execution_count": 15,
      "outputs": [
        {
          "output_type": "stream",
          "text": [
            "['USD' 'GBP' 'CAD' 'EUR' 'AUD' 'NZD' 'SEK' 'NOK' 'DKK' 'MXN' 'HKD' 'SGD'\n",
            " 'CHF' 'JPY']\n"
          ],
          "name": "stdout"
        }
      ]
    },
    {
      "metadata": {
        "id": "NrAfcOjY8nZu",
        "colab_type": "text"
      },
      "cell_type": "markdown",
      "source": [
        "### States"
      ]
    },
    {
      "metadata": {
        "id": "ksWG1Pb68nZu",
        "colab_type": "code",
        "colab": {
          "base_uri": "https://localhost:8080/",
          "height": 34
        },
        "outputId": "edaf0072-bef2-4851-ee4f-23abf73c6495"
      },
      "cell_type": "code",
      "source": [
        "states = df.state.unique()\n",
        "print(states)"
      ],
      "execution_count": 16,
      "outputs": [
        {
          "output_type": "stream",
          "text": [
            "['successful' 'live' 'failed' 'canceled' 'suspended']\n"
          ],
          "name": "stdout"
        }
      ]
    },
    {
      "metadata": {
        "id": "LrOHz__x8nZx",
        "colab_type": "text"
      },
      "cell_type": "markdown",
      "source": [
        "### Country"
      ]
    },
    {
      "metadata": {
        "id": "8018H5cp8nZy",
        "colab_type": "code",
        "colab": {
          "base_uri": "https://localhost:8080/",
          "height": 51
        },
        "outputId": "0c80fc0e-5178-43d0-e34f-5c60ce6f1bc0"
      },
      "cell_type": "code",
      "source": [
        "countries = df.country.unique()\n",
        "print(countries)"
      ],
      "execution_count": 17,
      "outputs": [
        {
          "output_type": "stream",
          "text": [
            "['US' 'GB' 'CA' 'DE' 'AU' 'BE' 'FR' 'ES' 'NZ' 'SE' 'LU' 'NL' 'NO' 'AT'\n",
            " 'DK' 'MX' 'IE' 'IT' 'HK' 'SG' 'CH' 'JP']\n"
          ],
          "name": "stdout"
        }
      ]
    },
    {
      "metadata": {
        "id": "XCGEBG8i8nZ3",
        "colab_type": "text"
      },
      "cell_type": "markdown",
      "source": [
        "## Data visualization"
      ]
    },
    {
      "metadata": {
        "id": "TURL-x388nZ5",
        "colab_type": "text"
      },
      "cell_type": "markdown",
      "source": [
        "### Categorical features"
      ]
    },
    {
      "metadata": {
        "id": "b9q-Vcwk8nZ7",
        "colab_type": "code",
        "colab": {}
      },
      "cell_type": "code",
      "source": [
        "categorical_features = ['category', 'main_category', 'state', 'country', 'currency']\n",
        "from copy import deepcopy\n",
        "data = deepcopy(df)\n",
        "n_items = len(data)"
      ],
      "execution_count": 0,
      "outputs": []
    },
    {
      "metadata": {
        "id": "MplKhVX_8nZ_",
        "colab_type": "text"
      },
      "cell_type": "markdown",
      "source": [
        "### COMMENTED OUT Only display common ones (source: laboratory 1)"
      ]
    },
    {
      "metadata": {
        "id": "rbubHLlx8naA",
        "colab_type": "code",
        "colab": {
          "base_uri": "https://localhost:8080/",
          "height": 6017
        },
        "outputId": "f941a1c3-d2d2-47ce-a88d-5f76bb0b5146"
      },
      "cell_type": "code",
      "source": [
        "index_ = 1\n",
        "\n",
        "#plt.subplots_adjust(hspace=3.5)\n",
        "for feat in categorical_features:\n",
        "  fig = plt.figure(figsize=(11,12), dpi=100)\n",
        "  ax = fig.add_subplot(1,1,1)\n",
        "  plt.subplots_adjust(hspace=0.5)\n",
        "  uniques = data[feat].nunique()\n",
        "  print(\"Processing {}. Unique count: {}.\".format(feat, uniques))\n",
        "  if uniques < 160:\n",
        "    print(data[feat].unique())\n",
        "    for feat_value in data[feat].unique():\n",
        "      if (len(data[data[feat]==feat_value])) / n_items < 0.015:\n",
        "        # print(\"Adding {} category to OTHER...\".format(feat_value))\n",
        "        data[feat] = data[feat].apply(lambda x: \"OTHER\" if x==feat_value else x, 1)\n",
        "  counts = data.groupby(feat).count()\n",
        "  #plt.subplot(len(categorical_features), 1, index_)\n",
        "  index_ += 1\n",
        "  counts.iloc[:,0].plot(kind='bar', ax=ax, figsize=(11,12), title='feat', grid=True)\n",
        "  plt.grid(b=True, which='major', color='b', linestyle='--', axis='y')\n",
        "  plt.show()\n",
        "  print(type(counts.iloc[:,0]))\n",
        "#plt.show()"
      ],
      "execution_count": 19,
      "outputs": [
        {
          "output_type": "stream",
          "text": [
            "Processing category. Unique count: 159.\n",
            "['Nonfiction' 'Publishing' 'Mixed Media' 'Web' 'People' 'Comic Books'\n",
            " 'Comedy' 'Punk' 'Technology' 'Theater' 'Jazz' 'Software' 'Anthologies'\n",
            " 'Science Fiction' 'Illustration' 'Gadgets' 'Product Design' 'Farms'\n",
            " 'Workshops' 'Footwear' 'Weaving' 'Sculpture' 'Experimental' 'Pet Fashion'\n",
            " 'Art' 'Graphic Design' 'Civic Design' 'Tabletop Games' 'Calendars'\n",
            " 'Design' 'Electronic Music' 'Installations' 'Family' 'Festivals'\n",
            " 'Conceptual Art' 'Performance Art' 'Glass' 'Painting' 'Plays' 'Jewelry'\n",
            " 'Letterpress' 'Public Art' 'Accessories' 'DIY' 'Small Batch'\n",
            " 'Video Games' 'Fantasy' 'Music' 'Comics' 'Digital Art' 'Immersive'\n",
            " 'Hardware' 'Radio & Podcasts' \"Children's Books\" 'Flight' 'Fine Art'\n",
            " 'Musical' 'Rock' 'Apparel' 'Nature' 'Games' 'Crafts' 'Robots'\n",
            " 'Stationery' 'DIY Electronics' 'Space Exploration' 'Apps'\n",
            " 'Movie Theaters' 'Woodworking' 'Printing' 'Knitting' 'Crochet'\n",
            " 'Camera Equipment' 'Wearables' 'Makerspaces' 'Pottery' 'Photography'\n",
            " 'Fashion' 'Candles' 'Embroidery' 'Photobooks' 'Art Books' '3D Printing'\n",
            " 'Sound' 'Quilts' 'Puzzles' 'Country & Folk' 'Drama' 'Academic'\n",
            " 'Classical Music' 'Drinks' 'Playing Cards' 'Periodicals' 'Graphic Novels'\n",
            " 'Narrative Film' 'Thrillers' 'Literary Journals' 'Childrenswear' 'Audio'\n",
            " 'Webcomics' 'Events' 'Print' 'Poetry' 'Spaces' 'Blues'\n",
            " 'Interactive Design' 'Fiction' 'Romance' 'Animals' 'Places' 'Chiptune'\n",
            " 'Shorts' 'Horror' 'Couture' 'Film & Video' 'Food' 'Typography'\n",
            " 'Architecture' 'Fabrication Tools' 'Webseries' 'Hip-Hop' 'Performances'\n",
            " 'Dance' 'Action' 'Young Adult' 'Gaming Hardware' 'Animation'\n",
            " 'Music Videos' 'Pop' 'Indie Rock' 'Television' 'Documentary' 'Kids'\n",
            " \"Farmer's Markets\" 'Cookbooks' 'Residencies' 'Textiles' 'World Music'\n",
            " 'Literary Spaces' 'Ready-to-wear' 'Zines' 'Faith' 'Video' 'Vegan'\n",
            " 'Food Trucks' 'Bacon' 'Metal' 'R&B' 'Community Gardens' 'Restaurants'\n",
            " 'Photo' 'Journalism' 'Live Games' 'Translations' 'Video Art' 'Latin'\n",
            " 'Mobile Games' 'Ceramics' 'Taxidermy']\n"
          ],
          "name": "stdout"
        },
        {
          "output_type": "display_data",
          "data": {
            "image/png": "[encoded data removed]",
            "text/plain": [
              "<matplotlib.figure.Figure at 0x7f8a343f0e48>"
            ]
          },
          "metadata": {
            "tags": []
          }
        },
        {
          "output_type": "stream",
          "text": [
            "<class 'pandas.core.series.Series'>\n",
            "Processing main_category. Unique count: 15.\n",
            "['Publishing' 'Art' 'Journalism' 'Photography' 'Comics' 'Film & Video'\n",
            " 'Music' 'Technology' 'Theater' 'Design' 'Food' 'Dance' 'Fashion' 'Crafts'\n",
            " 'Games']\n"
          ],
          "name": "stdout"
        },
        {
          "output_type": "display_data",
          "data": {
            "image/png": "[encoded data removed]",
            "text/plain": [
              "<matplotlib.figure.Figure at 0x7f8a34398240>"
            ]
          },
          "metadata": {
            "tags": []
          }
        },
        {
          "output_type": "stream",
          "text": [
            "<class 'pandas.core.series.Series'>\n",
            "Processing state. Unique count: 5.\n",
            "['successful' 'live' 'failed' 'canceled' 'suspended']\n"
          ],
          "name": "stdout"
        },
        {
          "output_type": "display_data",
          "data": {
            "image/png": "[encoded data removed]",
            "text/plain": [
              "<matplotlib.figure.Figure at 0x7f8a31aca5f8>"
            ]
          },
          "metadata": {
            "tags": []
          }
        },
        {
          "output_type": "stream",
          "text": [
            "<class 'pandas.core.series.Series'>\n",
            "Processing country. Unique count: 22.\n",
            "['US' 'GB' 'CA' 'DE' 'AU' 'BE' 'FR' 'ES' 'NZ' 'SE' 'LU' 'NL' 'NO' 'AT'\n",
            " 'DK' 'MX' 'IE' 'IT' 'HK' 'SG' 'CH' 'JP']\n"
          ],
          "name": "stdout"
        },
        {
          "output_type": "display_data",
          "data": {
            "image/png": "[encoded data removed]",
            "text/plain": [
              "<matplotlib.figure.Figure at 0x7f8a31a3b5f8>"
            ]
          },
          "metadata": {
            "tags": []
          }
        },
        {
          "output_type": "stream",
          "text": [
            "<class 'pandas.core.series.Series'>\n",
            "Processing currency. Unique count: 14.\n",
            "['USD' 'GBP' 'CAD' 'EUR' 'AUD' 'NZD' 'SEK' 'NOK' 'DKK' 'MXN' 'HKD' 'SGD'\n",
            " 'CHF' 'JPY']\n"
          ],
          "name": "stdout"
        },
        {
          "output_type": "display_data",
          "data": {
            "image/png": "[encoded data removed]",
            "text/plain": [
              "<matplotlib.figure.Figure at 0x7f8a31ab1390>"
            ]
          },
          "metadata": {
            "tags": []
          }
        },
        {
          "output_type": "stream",
          "text": [
            "<class 'pandas.core.series.Series'>\n"
          ],
          "name": "stdout"
        }
      ]
    },
    {
      "metadata": {
        "id": "fg1uICVb8naF",
        "colab_type": "text"
      },
      "cell_type": "markdown",
      "source": [
        "## Feature Engineering"
      ]
    },
    {
      "metadata": {
        "id": "EY34YzEHdSng",
        "colab_type": "text"
      },
      "cell_type": "markdown",
      "source": [
        "### Remove \"live\" state as it represents non-finished data"
      ]
    },
    {
      "metadata": {
        "id": "8T5TvOY7dcsl",
        "colab_type": "code",
        "colab": {}
      },
      "cell_type": "code",
      "source": [
        "df = df[(df['state'] != 'live')]"
      ],
      "execution_count": 0,
      "outputs": []
    },
    {
      "metadata": {
        "id": "a7bsDUiye23l",
        "colab_type": "code",
        "colab": {
          "base_uri": "https://localhost:8080/",
          "height": 34
        },
        "outputId": "062e9ec1-e867-4e31-a6ba-17b89f1fcc3a"
      },
      "cell_type": "code",
      "source": [
        "df.state.unique()"
      ],
      "execution_count": 21,
      "outputs": [
        {
          "output_type": "execute_result",
          "data": {
            "text/plain": [
              "array(['successful', 'failed', 'canceled', 'suspended'], dtype=object)"
            ]
          },
          "metadata": {
            "tags": []
          },
          "execution_count": 21
        }
      ]
    },
    {
      "metadata": {
        "id": "4_vkSj6mfD8q",
        "colab_type": "text"
      },
      "cell_type": "markdown",
      "source": [
        "### Encode labels -> has to be changed to OneHotEncoder"
      ]
    },
    {
      "metadata": {
        "id": "HolR7UZhuSNn",
        "colab_type": "code",
        "colab": {
          "base_uri": "https://localhost:8080/",
          "height": 68
        },
        "outputId": "7092eb87-631f-465c-c80a-7ae577528c40"
      },
      "cell_type": "code",
      "source": [
        "!pip install -U scikit-learn"
      ],
      "execution_count": 22,
      "outputs": [
        {
          "output_type": "stream",
          "text": [
            "Requirement already up-to-date: scikit-learn in /usr/local/lib/python3.6/dist-packages (0.20.0)\n",
            "Requirement already satisfied, skipping upgrade: numpy>=1.8.2 in /usr/local/lib/python3.6/dist-packages (from scikit-learn) (1.14.6)\n",
            "Requirement already satisfied, skipping upgrade: scipy>=0.13.3 in /usr/local/lib/python3.6/dist-packages (from scikit-learn) (0.19.1)\n"
          ],
          "name": "stdout"
        }
      ]
    },
    {
      "metadata": {
        "id": "nRmON66l8naG",
        "colab_type": "code",
        "colab": {}
      },
      "cell_type": "code",
      "source": [
        "from sklearn.preprocessing import LabelEncoder\n",
        "from sklearn.preprocessing import OneHotEncoder"
      ],
      "execution_count": 0,
      "outputs": []
    },
    {
      "metadata": {
        "id": "dLExFoQ1twPN",
        "colab_type": "code",
        "colab": {
          "base_uri": "https://localhost:8080/",
          "height": 105
        },
        "outputId": "caf37ed2-fde5-45ed-ca9e-c9ada3f37a20"
      },
      "cell_type": "code",
      "source": [
        "categories_le = LabelEncoder()\n",
        "categories_ohe = OneHotEncoder(sparse=False) # readable for humans\n",
        "\n",
        "categories_led = categories_le.fit_transform(df.category)\n",
        "categories_led = categories_led.reshape(-1, 1)\n",
        "\n",
        "df_category = pd.DataFrame(categories_ohe.fit_transform(categories_led))\n",
        "df_category = df_category.rename(columns=lambda x: 'category_' + str(x))\n",
        "df = df.join(df_category)"
      ],
      "execution_count": 24,
      "outputs": [
        {
          "output_type": "stream",
          "text": [
            "/usr/local/lib/python3.6/dist-packages/sklearn/preprocessing/_encoders.py:363: FutureWarning: The handling of integer data will change in version 0.22. Currently, the categories are determined based on the range [0, max(values)], while in the future they will be determined based on the unique values.\n",
            "If you want the future behaviour and silence this warning, you can specify \"categories='auto'\".\n",
            "In case you used a LabelEncoder before this OneHotEncoder to convert the categories to integers, then you can now use the OneHotEncoder directly.\n",
            "  warnings.warn(msg, FutureWarning)\n"
          ],
          "name": "stderr"
        }
      ]
    },
    {
      "metadata": {
        "id": "8ggz_6Smt0mk",
        "colab_type": "code",
        "colab": {
          "base_uri": "https://localhost:8080/",
          "height": 105
        },
        "outputId": "3f39ca11-290f-4322-94f8-f40e4e65fe1e"
      },
      "cell_type": "code",
      "source": [
        "maincategories_le = LabelEncoder()\n",
        "maincategories_ohe = OneHotEncoder(sparse=False) # readable for humans\n",
        "\n",
        "maincategories_led = maincategories_le.fit_transform(df.main_category)\n",
        "maincategories_led = maincategories_led.reshape(-1, 1)\n",
        "\n",
        "df_main_category = pd.DataFrame(maincategories_ohe.fit_transform(maincategories_led))\n",
        "df_main_category = df_main_category.rename(columns=lambda x: 'maincategory_' + str(x))\n",
        "df = df.join(df_main_category)"
      ],
      "execution_count": 25,
      "outputs": [
        {
          "output_type": "stream",
          "text": [
            "/usr/local/lib/python3.6/dist-packages/sklearn/preprocessing/_encoders.py:363: FutureWarning: The handling of integer data will change in version 0.22. Currently, the categories are determined based on the range [0, max(values)], while in the future they will be determined based on the unique values.\n",
            "If you want the future behaviour and silence this warning, you can specify \"categories='auto'\".\n",
            "In case you used a LabelEncoder before this OneHotEncoder to convert the categories to integers, then you can now use the OneHotEncoder directly.\n",
            "  warnings.warn(msg, FutureWarning)\n"
          ],
          "name": "stderr"
        }
      ]
    },
    {
      "metadata": {
        "id": "IpWpc5EUt3Vo",
        "colab_type": "code",
        "colab": {
          "base_uri": "https://localhost:8080/",
          "height": 105
        },
        "outputId": "207b77b0-8241-4e14-d316-2d412941c2e7"
      },
      "cell_type": "code",
      "source": [
        "state_le = LabelEncoder()\n",
        "state_ohe = OneHotEncoder(sparse=False) # readable for humans\n",
        "\n",
        "state_led = state_le.fit_transform(df.state)\n",
        "state_led = state_led.reshape(-1, 1)\n",
        "\n",
        "df_state = pd.DataFrame(state_ohe.fit_transform(state_led))\n",
        "df_state = df_state.rename(columns=lambda x: 'state_' + str(x))\n",
        "df = df.join(df_state)"
      ],
      "execution_count": 26,
      "outputs": [
        {
          "output_type": "stream",
          "text": [
            "/usr/local/lib/python3.6/dist-packages/sklearn/preprocessing/_encoders.py:363: FutureWarning: The handling of integer data will change in version 0.22. Currently, the categories are determined based on the range [0, max(values)], while in the future they will be determined based on the unique values.\n",
            "If you want the future behaviour and silence this warning, you can specify \"categories='auto'\".\n",
            "In case you used a LabelEncoder before this OneHotEncoder to convert the categories to integers, then you can now use the OneHotEncoder directly.\n",
            "  warnings.warn(msg, FutureWarning)\n"
          ],
          "name": "stderr"
        }
      ]
    },
    {
      "metadata": {
        "id": "nkrz9St3t5iv",
        "colab_type": "code",
        "colab": {
          "base_uri": "https://localhost:8080/",
          "height": 105
        },
        "outputId": "fd522712-4c6b-4850-e722-af6714afd592"
      },
      "cell_type": "code",
      "source": [
        "country_le = LabelEncoder()\n",
        "country_ohe = OneHotEncoder(sparse=False) # readable for humans\n",
        "\n",
        "country_led = country_le.fit_transform(df.country)\n",
        "country_led = country_led.reshape(-1, 1)\n",
        "\n",
        "df_country = pd.DataFrame(country_ohe.fit_transform(country_led))\n",
        "df_country = df_country.rename(columns=lambda x: 'country_' + str(x))\n",
        "df = df.join(df_country)"
      ],
      "execution_count": 27,
      "outputs": [
        {
          "output_type": "stream",
          "text": [
            "/usr/local/lib/python3.6/dist-packages/sklearn/preprocessing/_encoders.py:363: FutureWarning: The handling of integer data will change in version 0.22. Currently, the categories are determined based on the range [0, max(values)], while in the future they will be determined based on the unique values.\n",
            "If you want the future behaviour and silence this warning, you can specify \"categories='auto'\".\n",
            "In case you used a LabelEncoder before this OneHotEncoder to convert the categories to integers, then you can now use the OneHotEncoder directly.\n",
            "  warnings.warn(msg, FutureWarning)\n"
          ],
          "name": "stderr"
        }
      ]
    },
    {
      "metadata": {
        "id": "jAo3RE-qt7Tr",
        "colab_type": "code",
        "colab": {
          "base_uri": "https://localhost:8080/",
          "height": 105
        },
        "outputId": "6acd4a4c-94d5-407b-f449-a37f8afbda6d"
      },
      "cell_type": "code",
      "source": [
        "currency_le = LabelEncoder()\n",
        "currency_ohe = OneHotEncoder(sparse=False) # readable for humans\n",
        "\n",
        "currency_led = currency_le.fit_transform(df.currency)\n",
        "currency_led = currency_led.reshape(-1, 1)\n",
        "\n",
        "df_currency = pd.DataFrame(currency_ohe.fit_transform(currency_led))\n",
        "df_currency = df_currency.rename(columns=lambda x: 'currency_' + str(x))\n",
        "df = df.join(df_currency, rsuffix='_curr')"
      ],
      "execution_count": 28,
      "outputs": [
        {
          "output_type": "stream",
          "text": [
            "/usr/local/lib/python3.6/dist-packages/sklearn/preprocessing/_encoders.py:363: FutureWarning: The handling of integer data will change in version 0.22. Currently, the categories are determined based on the range [0, max(values)], while in the future they will be determined based on the unique values.\n",
            "If you want the future behaviour and silence this warning, you can specify \"categories='auto'\".\n",
            "In case you used a LabelEncoder before this OneHotEncoder to convert the categories to integers, then you can now use the OneHotEncoder directly.\n",
            "  warnings.warn(msg, FutureWarning)\n"
          ],
          "name": "stderr"
        }
      ]
    },
    {
      "metadata": {
        "id": "nkpH6lBO8naI",
        "colab_type": "text"
      },
      "cell_type": "markdown",
      "source": [
        "categories_le = LabelEncoder()\n",
        "df.category = categories_le.fit_transform(df.category)\n",
        "\n",
        "\n",
        "maincategories_le = LabelEncoder()\n",
        "df.main_category = maincategories_le.fit_transform(df.main_category)\n",
        "\n",
        "\n",
        "state_le = LabelEncoder()\n",
        "df.state = state_le.fit_transform(df.state)\n",
        "\n",
        "\n",
        "country_le = LabelEncoder()\n",
        "df.country = country_le.fit_transform(df.country)\n",
        "\n",
        "\n",
        "currency_le = LabelEncoder()\n",
        "df.currency = currency_le.fit_transform(df.currency)\n"
      ]
    },
    {
      "metadata": {
        "id": "rSF2pkEifQvf",
        "colab_type": "text"
      },
      "cell_type": "markdown",
      "source": [
        "### Change spotlight and staff pick to numeric values"
      ]
    },
    {
      "metadata": {
        "id": "WLdEpmh_fVmx",
        "colab_type": "code",
        "colab": {}
      },
      "cell_type": "code",
      "source": [
        "df.spotlight = df.spotlight.astype(int)\n",
        "df.staff_pick = df.staff_pick.astype(int)"
      ],
      "execution_count": 0,
      "outputs": []
    },
    {
      "metadata": {
        "id": "s37ypzryP_i2",
        "colab_type": "text"
      },
      "cell_type": "markdown",
      "source": [
        "### Drop ID, we dont need it anymore"
      ]
    },
    {
      "metadata": {
        "id": "VSjXonqH8naU",
        "colab_type": "code",
        "colab": {}
      },
      "cell_type": "code",
      "source": [
        "df = df.drop('ID', axis=1)"
      ],
      "execution_count": 0,
      "outputs": []
    },
    {
      "metadata": {
        "id": "QpylykIeMomF",
        "colab_type": "code",
        "colab": {
          "base_uri": "https://localhost:8080/",
          "height": 576
        },
        "outputId": "d5f574c6-9aa3-4dbb-886a-f1a09dd67350"
      },
      "cell_type": "code",
      "source": [
        "df.head()"
      ],
      "execution_count": 31,
      "outputs": [
        {
          "output_type": "execute_result",
          "data": {
            "text/html": [
              "<div>\n",
              "<style scoped>\n",
              "    .dataframe tbody tr th:only-of-type {\n",
              "        vertical-align: middle;\n",
              "    }\n",
              "\n",
              "    .dataframe tbody tr th {\n",
              "        vertical-align: top;\n",
              "    }\n",
              "\n",
              "    .dataframe thead th {\n",
              "        text-align: right;\n",
              "    }\n",
              "</style>\n",
              "<table border=\"1\" class=\"dataframe\">\n",
              "  <thead>\n",
              "    <tr style=\"text-align: right;\">\n",
              "      <th></th>\n",
              "      <th>blurb</th>\n",
              "      <th>spotlight</th>\n",
              "      <th>staff_pick</th>\n",
              "      <th>name</th>\n",
              "      <th>category</th>\n",
              "      <th>main_category</th>\n",
              "      <th>currency</th>\n",
              "      <th>deadline</th>\n",
              "      <th>goal</th>\n",
              "      <th>launched</th>\n",
              "      <th>...</th>\n",
              "      <th>currency_4</th>\n",
              "      <th>currency_5</th>\n",
              "      <th>currency_6</th>\n",
              "      <th>currency_7</th>\n",
              "      <th>currency_8</th>\n",
              "      <th>currency_9</th>\n",
              "      <th>currency_10</th>\n",
              "      <th>currency_11</th>\n",
              "      <th>currency_12</th>\n",
              "      <th>currency_13</th>\n",
              "    </tr>\n",
              "  </thead>\n",
              "  <tbody>\n",
              "    <tr>\n",
              "      <th>0</th>\n",
              "      <td>If you've ever been disheartened by how some p...</td>\n",
              "      <td>1</td>\n",
              "      <td>0</td>\n",
              "      <td>\"How We've Changed Jesus\" - Neal Samudre's Deb...</td>\n",
              "      <td>Nonfiction</td>\n",
              "      <td>Publishing</td>\n",
              "      <td>USD</td>\n",
              "      <td>2013-04-12</td>\n",
              "      <td>3500.0</td>\n",
              "      <td>2013-04-04 22:46:00</td>\n",
              "      <td>...</td>\n",
              "      <td>0.0</td>\n",
              "      <td>0.0</td>\n",
              "      <td>0.0</td>\n",
              "      <td>0.0</td>\n",
              "      <td>0.0</td>\n",
              "      <td>0.0</td>\n",
              "      <td>0.0</td>\n",
              "      <td>0.0</td>\n",
              "      <td>0.0</td>\n",
              "      <td>1.0</td>\n",
              "    </tr>\n",
              "    <tr>\n",
              "      <th>1</th>\n",
              "      <td>This book will show you how to attract your id...</td>\n",
              "      <td>1</td>\n",
              "      <td>0</td>\n",
              "      <td>Your Client Vision (Book) - How to sell withou...</td>\n",
              "      <td>Nonfiction</td>\n",
              "      <td>Publishing</td>\n",
              "      <td>GBP</td>\n",
              "      <td>2017-01-16</td>\n",
              "      <td>175.0</td>\n",
              "      <td>2016-12-18 20:09:14</td>\n",
              "      <td>...</td>\n",
              "      <td>0.0</td>\n",
              "      <td>1.0</td>\n",
              "      <td>0.0</td>\n",
              "      <td>0.0</td>\n",
              "      <td>0.0</td>\n",
              "      <td>0.0</td>\n",
              "      <td>0.0</td>\n",
              "      <td>0.0</td>\n",
              "      <td>0.0</td>\n",
              "      <td>0.0</td>\n",
              "    </tr>\n",
              "    <tr>\n",
              "      <th>2</th>\n",
              "      <td>I told my first lie when I was six and never s...</td>\n",
              "      <td>1</td>\n",
              "      <td>0</td>\n",
              "      <td>The Longest Lie I Ever Told</td>\n",
              "      <td>Nonfiction</td>\n",
              "      <td>Publishing</td>\n",
              "      <td>CAD</td>\n",
              "      <td>2016-11-08</td>\n",
              "      <td>3000.0</td>\n",
              "      <td>2016-10-09 18:32:56</td>\n",
              "      <td>...</td>\n",
              "      <td>0.0</td>\n",
              "      <td>0.0</td>\n",
              "      <td>0.0</td>\n",
              "      <td>0.0</td>\n",
              "      <td>0.0</td>\n",
              "      <td>0.0</td>\n",
              "      <td>0.0</td>\n",
              "      <td>0.0</td>\n",
              "      <td>0.0</td>\n",
              "      <td>0.0</td>\n",
              "    </tr>\n",
              "    <tr>\n",
              "      <th>3</th>\n",
              "      <td>Für die Finanzierung der Veröffentlichung mein...</td>\n",
              "      <td>1</td>\n",
              "      <td>0</td>\n",
              "      <td>Spurenlesen – Zur Philosophie der Human-Animal...</td>\n",
              "      <td>Nonfiction</td>\n",
              "      <td>Publishing</td>\n",
              "      <td>EUR</td>\n",
              "      <td>2016-08-14</td>\n",
              "      <td>1000.0</td>\n",
              "      <td>2016-07-15 14:17:36</td>\n",
              "      <td>...</td>\n",
              "      <td>1.0</td>\n",
              "      <td>0.0</td>\n",
              "      <td>0.0</td>\n",
              "      <td>0.0</td>\n",
              "      <td>0.0</td>\n",
              "      <td>0.0</td>\n",
              "      <td>0.0</td>\n",
              "      <td>0.0</td>\n",
              "      <td>0.0</td>\n",
              "      <td>0.0</td>\n",
              "    </tr>\n",
              "    <tr>\n",
              "      <th>4</th>\n",
              "      <td>Six teens (age 13-15) are hiking VT's 272-mile...</td>\n",
              "      <td>1</td>\n",
              "      <td>0</td>\n",
              "      <td>Teens Hike VT's Long Trail and Write How-To an...</td>\n",
              "      <td>Nonfiction</td>\n",
              "      <td>Publishing</td>\n",
              "      <td>USD</td>\n",
              "      <td>2014-06-01</td>\n",
              "      <td>3700.0</td>\n",
              "      <td>2014-04-25 02:24:24</td>\n",
              "      <td>...</td>\n",
              "      <td>0.0</td>\n",
              "      <td>0.0</td>\n",
              "      <td>0.0</td>\n",
              "      <td>0.0</td>\n",
              "      <td>0.0</td>\n",
              "      <td>0.0</td>\n",
              "      <td>0.0</td>\n",
              "      <td>0.0</td>\n",
              "      <td>0.0</td>\n",
              "      <td>1.0</td>\n",
              "    </tr>\n",
              "  </tbody>\n",
              "</table>\n",
              "<p>5 rows × 231 columns</p>\n",
              "</div>"
            ],
            "text/plain": [
              "                                               blurb  spotlight  staff_pick  \\\n",
              "0  If you've ever been disheartened by how some p...          1           0   \n",
              "1  This book will show you how to attract your id...          1           0   \n",
              "2  I told my first lie when I was six and never s...          1           0   \n",
              "3  Für die Finanzierung der Veröffentlichung mein...          1           0   \n",
              "4  Six teens (age 13-15) are hiking VT's 272-mile...          1           0   \n",
              "\n",
              "                                                name    category  \\\n",
              "0  \"How We've Changed Jesus\" - Neal Samudre's Deb...  Nonfiction   \n",
              "1  Your Client Vision (Book) - How to sell withou...  Nonfiction   \n",
              "2                        The Longest Lie I Ever Told  Nonfiction   \n",
              "3  Spurenlesen – Zur Philosophie der Human-Animal...  Nonfiction   \n",
              "4  Teens Hike VT's Long Trail and Write How-To an...  Nonfiction   \n",
              "\n",
              "  main_category currency    deadline    goal             launched  \\\n",
              "0    Publishing      USD  2013-04-12  3500.0  2013-04-04 22:46:00   \n",
              "1    Publishing      GBP  2017-01-16   175.0  2016-12-18 20:09:14   \n",
              "2    Publishing      CAD  2016-11-08  3000.0  2016-10-09 18:32:56   \n",
              "3    Publishing      EUR  2016-08-14  1000.0  2016-07-15 14:17:36   \n",
              "4    Publishing      USD  2014-06-01  3700.0  2014-04-25 02:24:24   \n",
              "\n",
              "      ...       currency_4 currency_5  currency_6 currency_7  currency_8  \\\n",
              "0     ...              0.0        0.0         0.0        0.0         0.0   \n",
              "1     ...              0.0        1.0         0.0        0.0         0.0   \n",
              "2     ...              0.0        0.0         0.0        0.0         0.0   \n",
              "3     ...              1.0        0.0         0.0        0.0         0.0   \n",
              "4     ...              0.0        0.0         0.0        0.0         0.0   \n",
              "\n",
              "   currency_9  currency_10  currency_11  currency_12  currency_13  \n",
              "0         0.0          0.0          0.0          0.0          1.0  \n",
              "1         0.0          0.0          0.0          0.0          0.0  \n",
              "2         0.0          0.0          0.0          0.0          0.0  \n",
              "3         0.0          0.0          0.0          0.0          0.0  \n",
              "4         0.0          0.0          0.0          0.0          1.0  \n",
              "\n",
              "[5 rows x 231 columns]"
            ]
          },
          "metadata": {
            "tags": []
          },
          "execution_count": 31
        }
      ]
    },
    {
      "metadata": {
        "id": "c2f5vvvBQEKu",
        "colab_type": "text"
      },
      "cell_type": "markdown",
      "source": [
        "### Calculate length of funding"
      ]
    },
    {
      "metadata": {
        "id": "lBuJozcXM5kx",
        "colab_type": "code",
        "colab": {}
      },
      "cell_type": "code",
      "source": [
        "diff = (pd.to_datetime(df.deadline) - pd.to_datetime(df.launched)).map(lambda x: x.days)\n"
      ],
      "execution_count": 0,
      "outputs": []
    },
    {
      "metadata": {
        "id": "t0f9-UTGNPcC",
        "colab_type": "code",
        "colab": {
          "base_uri": "https://localhost:8080/",
          "height": 119
        },
        "outputId": "ac8459df-d87f-4818-fee8-5f6b9566f585"
      },
      "cell_type": "code",
      "source": [
        "print(diff.head())"
      ],
      "execution_count": 33,
      "outputs": [
        {
          "output_type": "stream",
          "text": [
            "0     7\n",
            "1    28\n",
            "2    29\n",
            "3    29\n",
            "4    36\n",
            "dtype: int64\n"
          ],
          "name": "stdout"
        }
      ]
    },
    {
      "metadata": {
        "id": "ziah2O7nQKTx",
        "colab_type": "text"
      },
      "cell_type": "markdown",
      "source": [
        "### Drop date times"
      ]
    },
    {
      "metadata": {
        "id": "ar6lS246PuqC",
        "colab_type": "code",
        "colab": {}
      },
      "cell_type": "code",
      "source": [
        "df = df.drop(['deadline', 'launched'], axis=1)\n"
      ],
      "execution_count": 0,
      "outputs": []
    },
    {
      "metadata": {
        "id": "Jur5yJuBQO9w",
        "colab_type": "text"
      },
      "cell_type": "markdown",
      "source": [
        "### Add duration to the dataframe"
      ]
    },
    {
      "metadata": {
        "id": "uhPlH3zGQV4l",
        "colab_type": "code",
        "colab": {}
      },
      "cell_type": "code",
      "source": [
        "df['duration'] = diff"
      ],
      "execution_count": 0,
      "outputs": []
    },
    {
      "metadata": {
        "id": "Jl9MzVfSQajE",
        "colab_type": "code",
        "colab": {
          "base_uri": "https://localhost:8080/",
          "height": 576
        },
        "outputId": "6a5b9233-f826-46e9-c609-f3aa1907c724"
      },
      "cell_type": "code",
      "source": [
        "df.head()"
      ],
      "execution_count": 36,
      "outputs": [
        {
          "output_type": "execute_result",
          "data": {
            "text/html": [
              "<div>\n",
              "<style scoped>\n",
              "    .dataframe tbody tr th:only-of-type {\n",
              "        vertical-align: middle;\n",
              "    }\n",
              "\n",
              "    .dataframe tbody tr th {\n",
              "        vertical-align: top;\n",
              "    }\n",
              "\n",
              "    .dataframe thead th {\n",
              "        text-align: right;\n",
              "    }\n",
              "</style>\n",
              "<table border=\"1\" class=\"dataframe\">\n",
              "  <thead>\n",
              "    <tr style=\"text-align: right;\">\n",
              "      <th></th>\n",
              "      <th>blurb</th>\n",
              "      <th>spotlight</th>\n",
              "      <th>staff_pick</th>\n",
              "      <th>name</th>\n",
              "      <th>category</th>\n",
              "      <th>main_category</th>\n",
              "      <th>currency</th>\n",
              "      <th>goal</th>\n",
              "      <th>pledged</th>\n",
              "      <th>state</th>\n",
              "      <th>...</th>\n",
              "      <th>currency_5</th>\n",
              "      <th>currency_6</th>\n",
              "      <th>currency_7</th>\n",
              "      <th>currency_8</th>\n",
              "      <th>currency_9</th>\n",
              "      <th>currency_10</th>\n",
              "      <th>currency_11</th>\n",
              "      <th>currency_12</th>\n",
              "      <th>currency_13</th>\n",
              "      <th>duration</th>\n",
              "    </tr>\n",
              "  </thead>\n",
              "  <tbody>\n",
              "    <tr>\n",
              "      <th>0</th>\n",
              "      <td>If you've ever been disheartened by how some p...</td>\n",
              "      <td>1</td>\n",
              "      <td>0</td>\n",
              "      <td>\"How We've Changed Jesus\" - Neal Samudre's Deb...</td>\n",
              "      <td>Nonfiction</td>\n",
              "      <td>Publishing</td>\n",
              "      <td>USD</td>\n",
              "      <td>3500.0</td>\n",
              "      <td>3651.0</td>\n",
              "      <td>successful</td>\n",
              "      <td>...</td>\n",
              "      <td>0.0</td>\n",
              "      <td>0.0</td>\n",
              "      <td>0.0</td>\n",
              "      <td>0.0</td>\n",
              "      <td>0.0</td>\n",
              "      <td>0.0</td>\n",
              "      <td>0.0</td>\n",
              "      <td>0.0</td>\n",
              "      <td>1.0</td>\n",
              "      <td>7</td>\n",
              "    </tr>\n",
              "    <tr>\n",
              "      <th>1</th>\n",
              "      <td>This book will show you how to attract your id...</td>\n",
              "      <td>1</td>\n",
              "      <td>0</td>\n",
              "      <td>Your Client Vision (Book) - How to sell withou...</td>\n",
              "      <td>Nonfiction</td>\n",
              "      <td>Publishing</td>\n",
              "      <td>GBP</td>\n",
              "      <td>175.0</td>\n",
              "      <td>271.0</td>\n",
              "      <td>successful</td>\n",
              "      <td>...</td>\n",
              "      <td>1.0</td>\n",
              "      <td>0.0</td>\n",
              "      <td>0.0</td>\n",
              "      <td>0.0</td>\n",
              "      <td>0.0</td>\n",
              "      <td>0.0</td>\n",
              "      <td>0.0</td>\n",
              "      <td>0.0</td>\n",
              "      <td>0.0</td>\n",
              "      <td>28</td>\n",
              "    </tr>\n",
              "    <tr>\n",
              "      <th>2</th>\n",
              "      <td>I told my first lie when I was six and never s...</td>\n",
              "      <td>1</td>\n",
              "      <td>0</td>\n",
              "      <td>The Longest Lie I Ever Told</td>\n",
              "      <td>Nonfiction</td>\n",
              "      <td>Publishing</td>\n",
              "      <td>CAD</td>\n",
              "      <td>3000.0</td>\n",
              "      <td>3600.0</td>\n",
              "      <td>successful</td>\n",
              "      <td>...</td>\n",
              "      <td>0.0</td>\n",
              "      <td>0.0</td>\n",
              "      <td>0.0</td>\n",
              "      <td>0.0</td>\n",
              "      <td>0.0</td>\n",
              "      <td>0.0</td>\n",
              "      <td>0.0</td>\n",
              "      <td>0.0</td>\n",
              "      <td>0.0</td>\n",
              "      <td>29</td>\n",
              "    </tr>\n",
              "    <tr>\n",
              "      <th>3</th>\n",
              "      <td>Für die Finanzierung der Veröffentlichung mein...</td>\n",
              "      <td>1</td>\n",
              "      <td>0</td>\n",
              "      <td>Spurenlesen – Zur Philosophie der Human-Animal...</td>\n",
              "      <td>Nonfiction</td>\n",
              "      <td>Publishing</td>\n",
              "      <td>EUR</td>\n",
              "      <td>1000.0</td>\n",
              "      <td>1080.0</td>\n",
              "      <td>successful</td>\n",
              "      <td>...</td>\n",
              "      <td>0.0</td>\n",
              "      <td>0.0</td>\n",
              "      <td>0.0</td>\n",
              "      <td>0.0</td>\n",
              "      <td>0.0</td>\n",
              "      <td>0.0</td>\n",
              "      <td>0.0</td>\n",
              "      <td>0.0</td>\n",
              "      <td>0.0</td>\n",
              "      <td>29</td>\n",
              "    </tr>\n",
              "    <tr>\n",
              "      <th>4</th>\n",
              "      <td>Six teens (age 13-15) are hiking VT's 272-mile...</td>\n",
              "      <td>1</td>\n",
              "      <td>0</td>\n",
              "      <td>Teens Hike VT's Long Trail and Write How-To an...</td>\n",
              "      <td>Nonfiction</td>\n",
              "      <td>Publishing</td>\n",
              "      <td>USD</td>\n",
              "      <td>3700.0</td>\n",
              "      <td>4051.2</td>\n",
              "      <td>successful</td>\n",
              "      <td>...</td>\n",
              "      <td>0.0</td>\n",
              "      <td>0.0</td>\n",
              "      <td>0.0</td>\n",
              "      <td>0.0</td>\n",
              "      <td>0.0</td>\n",
              "      <td>0.0</td>\n",
              "      <td>0.0</td>\n",
              "      <td>0.0</td>\n",
              "      <td>1.0</td>\n",
              "      <td>36</td>\n",
              "    </tr>\n",
              "  </tbody>\n",
              "</table>\n",
              "<p>5 rows × 230 columns</p>\n",
              "</div>"
            ],
            "text/plain": [
              "                                               blurb  spotlight  staff_pick  \\\n",
              "0  If you've ever been disheartened by how some p...          1           0   \n",
              "1  This book will show you how to attract your id...          1           0   \n",
              "2  I told my first lie when I was six and never s...          1           0   \n",
              "3  Für die Finanzierung der Veröffentlichung mein...          1           0   \n",
              "4  Six teens (age 13-15) are hiking VT's 272-mile...          1           0   \n",
              "\n",
              "                                                name    category  \\\n",
              "0  \"How We've Changed Jesus\" - Neal Samudre's Deb...  Nonfiction   \n",
              "1  Your Client Vision (Book) - How to sell withou...  Nonfiction   \n",
              "2                        The Longest Lie I Ever Told  Nonfiction   \n",
              "3  Spurenlesen – Zur Philosophie der Human-Animal...  Nonfiction   \n",
              "4  Teens Hike VT's Long Trail and Write How-To an...  Nonfiction   \n",
              "\n",
              "  main_category currency    goal  pledged       state    ...     currency_5  \\\n",
              "0    Publishing      USD  3500.0   3651.0  successful    ...            0.0   \n",
              "1    Publishing      GBP   175.0    271.0  successful    ...            1.0   \n",
              "2    Publishing      CAD  3000.0   3600.0  successful    ...            0.0   \n",
              "3    Publishing      EUR  1000.0   1080.0  successful    ...            0.0   \n",
              "4    Publishing      USD  3700.0   4051.2  successful    ...            0.0   \n",
              "\n",
              "  currency_6  currency_7  currency_8  currency_9  currency_10  currency_11  \\\n",
              "0        0.0         0.0         0.0         0.0          0.0          0.0   \n",
              "1        0.0         0.0         0.0         0.0          0.0          0.0   \n",
              "2        0.0         0.0         0.0         0.0          0.0          0.0   \n",
              "3        0.0         0.0         0.0         0.0          0.0          0.0   \n",
              "4        0.0         0.0         0.0         0.0          0.0          0.0   \n",
              "\n",
              "   currency_12  currency_13  duration  \n",
              "0          0.0          1.0         7  \n",
              "1          0.0          0.0        28  \n",
              "2          0.0          0.0        29  \n",
              "3          0.0          0.0        29  \n",
              "4          0.0          1.0        36  \n",
              "\n",
              "[5 rows x 230 columns]"
            ]
          },
          "metadata": {
            "tags": []
          },
          "execution_count": 36
        }
      ]
    },
    {
      "metadata": {
        "id": "hp4u1RcdWzMb",
        "colab_type": "text"
      },
      "cell_type": "markdown",
      "source": [
        "### Clean text, only keep whitespaces and letters"
      ]
    },
    {
      "metadata": {
        "id": "tvq_3xZqLShH",
        "colab_type": "code",
        "colab": {}
      },
      "cell_type": "code",
      "source": [
        "import re"
      ],
      "execution_count": 0,
      "outputs": []
    },
    {
      "metadata": {
        "id": "pyyL2UqiRpYW",
        "colab_type": "code",
        "colab": {
          "base_uri": "https://localhost:8080/",
          "height": 272
        },
        "outputId": "592a041a-e38f-41fe-d837-13e9f2dc4c15"
      },
      "cell_type": "code",
      "source": [
        "regex = re.compile(r\"[^\\w\\d ]\", re.UNICODE | re.IGNORECASE)\n",
        "\n",
        "name = df.name\n",
        "blurb = df.blurb\n",
        "\n",
        "name = name.map(lambda x: regex.sub(' ', str(x)).lower())\n",
        "blurb = blurb.map(lambda x: regex.sub(' ', str(x)).lower())\n",
        "\n",
        "print(\"names:\")\n",
        "print(name.head())\n",
        "print(\"\\nblurbs:\")\n",
        "print(blurb.head())"
      ],
      "execution_count": 38,
      "outputs": [
        {
          "output_type": "stream",
          "text": [
            "names:\n",
            "0     how we ve changed jesus    neal samudre s deb...\n",
            "1    your client vision  book    how to sell withou...\n",
            "2                          the longest lie i ever told\n",
            "3    spurenlesen   zur philosophie der human animal...\n",
            "4    teens hike vt s long trail and write how to an...\n",
            "Name: name, dtype: object\n",
            "\n",
            "blurbs:\n",
            "0    if you ve ever been disheartened by how some p...\n",
            "1    this book will show you how to attract your id...\n",
            "2    i told my first lie when i was six and never s...\n",
            "3    für die finanzierung der veröffentlichung mein...\n",
            "4    six teens  age 13 15  are hiking vt s 272 mile...\n",
            "Name: blurb, dtype: object\n"
          ],
          "name": "stdout"
        }
      ]
    },
    {
      "metadata": {
        "id": "j5q7OYpiUGJZ",
        "colab_type": "code",
        "colab": {
          "base_uri": "https://localhost:8080/",
          "height": 272
        },
        "outputId": "d129764d-d94b-4f71-96f1-6fae386146d2"
      },
      "cell_type": "code",
      "source": [
        "name2 = name.apply(lambda x: x.split())\n",
        "blurb2 = blurb.apply(lambda x: x.split())\n",
        "\n",
        "print(\"names:\")\n",
        "print(name2.head())\n",
        "print(\"\\nblurbs:\")\n",
        "print(blurb2.head())"
      ],
      "execution_count": 39,
      "outputs": [
        {
          "output_type": "stream",
          "text": [
            "names:\n",
            "0    [how, we, ve, changed, jesus, neal, samudre, s...\n",
            "1    [your, client, vision, book, how, to, sell, wi...\n",
            "2                   [the, longest, lie, i, ever, told]\n",
            "3    [spurenlesen, zur, philosophie, der, human, an...\n",
            "4    [teens, hike, vt, s, long, trail, and, write, ...\n",
            "Name: name, dtype: object\n",
            "\n",
            "blurbs:\n",
            "0    [if, you, ve, ever, been, disheartened, by, ho...\n",
            "1    [this, book, will, show, you, how, to, attract...\n",
            "2    [i, told, my, first, lie, when, i, was, six, a...\n",
            "3    [für, die, finanzierung, der, veröffentlichung...\n",
            "4    [six, teens, age, 13, 15, are, hiking, vt, s, ...\n",
            "Name: blurb, dtype: object\n"
          ],
          "name": "stdout"
        }
      ]
    },
    {
      "metadata": {
        "id": "V4O96wS4W6MR",
        "colab_type": "text"
      },
      "cell_type": "markdown",
      "source": [
        "### Remove stop words -> might give better results"
      ]
    },
    {
      "metadata": {
        "id": "Aj7lZUP7V6qZ",
        "colab_type": "code",
        "colab": {
          "base_uri": "https://localhost:8080/",
          "height": 51
        },
        "outputId": "51c86fe6-2034-4f33-a20d-92e888c3ae5f"
      },
      "cell_type": "code",
      "source": [
        "import nltk\n",
        "nltk.download('stopwords')\n",
        "from nltk.corpus import stopwords"
      ],
      "execution_count": 40,
      "outputs": [
        {
          "output_type": "stream",
          "text": [
            "[nltk_data] Downloading package stopwords to /root/nltk_data...\n",
            "[nltk_data]   Package stopwords is already up-to-date!\n"
          ],
          "name": "stdout"
        }
      ]
    },
    {
      "metadata": {
        "id": "-wYDBPcUWKDq",
        "colab_type": "code",
        "colab": {}
      },
      "cell_type": "code",
      "source": [
        "stop_words = set(stopwords.words('english'))"
      ],
      "execution_count": 0,
      "outputs": []
    },
    {
      "metadata": {
        "id": "jU8TsOmTWMkT",
        "colab_type": "code",
        "colab": {
          "base_uri": "https://localhost:8080/",
          "height": 442
        },
        "outputId": "40f32ae5-9358-4eb0-aeb0-3a43e4d9b66e"
      },
      "cell_type": "code",
      "source": [
        "name2 = name2.apply(lambda lista: [szo for szo in lista if szo not in stop_words] )\n",
        "blurb2 = blurb2.apply(lambda lista: [szo for szo in lista if szo not in stop_words] )\n",
        "\n",
        "print(\"names:\")\n",
        "print(name2.head(10))\n",
        "print(\"\\nblurbs:\")\n",
        "print(blurb2.head(10))"
      ],
      "execution_count": 42,
      "outputs": [
        {
          "output_type": "stream",
          "text": [
            "names:\n",
            "0         [changed, jesus, neal, samudre, debut, book]\n",
            "1       [client, vision, book, sell, without, selling]\n",
            "2                           [longest, lie, ever, told]\n",
            "3    [spurenlesen, zur, philosophie, der, human, an...\n",
            "4    [teens, hike, vt, long, trail, write, guide, b...\n",
            "5             [ako, ay, pilipino, coffee, table, book]\n",
            "6                                        [truth, book]\n",
            "7    [forks, three, years, five, continents, one, m...\n",
            "8                                [mysterious, letters]\n",
            "9          [motorcycle, adventures, farlap, max, book]\n",
            "Name: name, dtype: object\n",
            "\n",
            "blurbs:\n",
            "0    [ever, disheartened, people, might, represent,...\n",
            "1    [book, show, attract, ideal, client, get, buy,...\n",
            "2    [told, first, lie, six, never, stopped, book, ...\n",
            "3    [für, die, finanzierung, der, veröffentlichung...\n",
            "4    [six, teens, age, 13, 15, hiking, vt, 272, mil...\n",
            "5    [ako, ay, pilipino, noon, ngayon, creative, co...\n",
            "6    [book, simple, action, resolved, life, long, q...\n",
            "7    [around, world, adventure, stunning, photos, t...\n",
            "8    [michael, crowe, lenka, clayton, writing, pers...\n",
            "9    [true, story, suburban, boy, crossed, world, a...\n",
            "Name: blurb, dtype: object\n"
          ],
          "name": "stdout"
        }
      ]
    },
    {
      "metadata": {
        "id": "eASsaMjsWusD",
        "colab_type": "text"
      },
      "cell_type": "markdown",
      "source": [
        "### Create bag of words\n",
        "Using HashingVectorizer, because there are a lot of words"
      ]
    },
    {
      "metadata": {
        "id": "NZrfxrV4IeDy",
        "colab_type": "code",
        "colab": {}
      },
      "cell_type": "code",
      "source": [
        "from sklearn.feature_extraction.text import HashingVectorizer"
      ],
      "execution_count": 0,
      "outputs": []
    },
    {
      "metadata": {
        "id": "NZyGaVhNXMXP",
        "colab_type": "code",
        "colab": {
          "base_uri": "https://localhost:8080/",
          "height": 340
        },
        "outputId": "c2843bab-4637-4678-ebd4-50c8cadd038b"
      },
      "cell_type": "code",
      "source": [
        "name_vectorizer = HashingVectorizer(n_features=2**8, lowercase=False, tokenizer = lambda doc: doc)\n",
        "blurb_vectorizer = HashingVectorizer(n_features=2**8, lowercase=False, tokenizer = lambda doc: doc)\n",
        "\n",
        "hashed_name = name_vectorizer.transform(name2)\n",
        "hashed_blurb = blurb_vectorizer.transform(blurb2)\n",
        "\n",
        "print(\"names:\")\n",
        "print(hashed_name.shape)\n",
        "print(hashed_name[0])\n",
        "print(\"\\nblurbs:\")\n",
        "print(hashed_blurb.shape)\n",
        "print(hashed_blurb[0])"
      ],
      "execution_count": 44,
      "outputs": [
        {
          "output_type": "stream",
          "text": [
            "names:\n",
            "(159339, 256)\n",
            "  (0, 14)\t0.4082482904638631\n",
            "  (0, 96)\t-0.4082482904638631\n",
            "  (0, 132)\t-0.4082482904638631\n",
            "  (0, 159)\t-0.4082482904638631\n",
            "  (0, 161)\t-0.4082482904638631\n",
            "  (0, 202)\t0.4082482904638631\n",
            "\n",
            "blurbs:\n",
            "(159339, 256)\n",
            "  (0, 4)\t0.35355339059327373\n",
            "  (0, 14)\t0.35355339059327373\n",
            "  (0, 25)\t0.35355339059327373\n",
            "  (0, 29)\t0.35355339059327373\n",
            "  (0, 103)\t0.35355339059327373\n",
            "  (0, 144)\t0.35355339059327373\n",
            "  (0, 157)\t-0.35355339059327373\n",
            "  (0, 166)\t0.35355339059327373\n"
          ],
          "name": "stdout"
        }
      ]
    },
    {
      "metadata": {
        "id": "Dank4m3ZXbvP",
        "colab_type": "code",
        "colab": {
          "base_uri": "https://localhost:8080/",
          "height": 306
        },
        "outputId": "f449a01a-e7ea-4553-e519-fc7d5f643991"
      },
      "cell_type": "code",
      "source": [
        "print(\"names:\")\n",
        "print(hashed_name[0])\n",
        "print(\"\\nblurbs:\")\n",
        "print(hashed_blurb[0])"
      ],
      "execution_count": 45,
      "outputs": [
        {
          "output_type": "stream",
          "text": [
            "names:\n",
            "  (0, 14)\t0.4082482904638631\n",
            "  (0, 96)\t-0.4082482904638631\n",
            "  (0, 132)\t-0.4082482904638631\n",
            "  (0, 159)\t-0.4082482904638631\n",
            "  (0, 161)\t-0.4082482904638631\n",
            "  (0, 202)\t0.4082482904638631\n",
            "\n",
            "blurbs:\n",
            "  (0, 4)\t0.35355339059327373\n",
            "  (0, 14)\t0.35355339059327373\n",
            "  (0, 25)\t0.35355339059327373\n",
            "  (0, 29)\t0.35355339059327373\n",
            "  (0, 103)\t0.35355339059327373\n",
            "  (0, 144)\t0.35355339059327373\n",
            "  (0, 157)\t-0.35355339059327373\n",
            "  (0, 166)\t0.35355339059327373\n"
          ],
          "name": "stdout"
        }
      ]
    },
    {
      "metadata": {
        "id": "BGWZDMuDa0sn",
        "colab_type": "code",
        "colab": {
          "base_uri": "https://localhost:8080/",
          "height": 51
        },
        "outputId": "eaa22fd9-54c7-4654-f6d5-33bae03d6979"
      },
      "cell_type": "code",
      "source": [
        "print(type(hashed_name))\n",
        "print(type(hashed_blurb))"
      ],
      "execution_count": 46,
      "outputs": [
        {
          "output_type": "stream",
          "text": [
            "<class 'scipy.sparse.csr.csr_matrix'>\n",
            "<class 'scipy.sparse.csr.csr_matrix'>\n"
          ],
          "name": "stdout"
        }
      ]
    },
    {
      "metadata": {
        "id": "z0sNM6PgbjkV",
        "colab_type": "code",
        "colab": {
          "base_uri": "https://localhost:8080/",
          "height": 51
        },
        "outputId": "0317a132-23aa-42e3-bbe0-8d5929e789d6"
      },
      "cell_type": "code",
      "source": [
        "print(hashed_name.todense().shape)\n",
        "print(hashed_blurb.todense().shape)"
      ],
      "execution_count": 47,
      "outputs": [
        {
          "output_type": "stream",
          "text": [
            "(159339, 256)\n",
            "(159339, 256)\n"
          ],
          "name": "stdout"
        }
      ]
    },
    {
      "metadata": {
        "id": "FLcjcD-tdJd-",
        "colab_type": "text"
      },
      "cell_type": "markdown",
      "source": [
        "### Create dataframe from scipy sparse matrix"
      ]
    },
    {
      "metadata": {
        "id": "0fpv9RXwcniV",
        "colab_type": "code",
        "colab": {
          "base_uri": "https://localhost:8080/",
          "height": 816
        },
        "outputId": "60555a0c-b9ea-4a4c-d55d-4a485801e713"
      },
      "cell_type": "code",
      "source": [
        "df_hashed_name = pd.DataFrame(hashed_name.todense())\n",
        "df_hashed_name = df_hashed_name.rename(columns=lambda x: 'name_' + str(x))\n",
        "df_hashed_blurb = pd.DataFrame(hashed_blurb.todense())\n",
        "df_hashed_blurb = df_hashed_blurb.rename(columns=lambda x: \"blurb_\" + str(x))\n",
        "\n",
        "print(\"names:\")\n",
        "print(df_hashed_name.head())\n",
        "print(\"\\nblurbs:\")\n",
        "print(df_hashed_blurb.head())"
      ],
      "execution_count": 48,
      "outputs": [
        {
          "output_type": "stream",
          "text": [
            "names:\n",
            "     name_0  name_1  name_2  name_3  name_4  name_5  name_6  name_7  name_8  \\\n",
            "0  0.000000     0.0     0.0     0.0     0.0     0.0     0.0     0.0     0.0   \n",
            "1  0.000000     0.0     0.0     0.0     0.0     0.0     0.0     0.0     0.0   \n",
            "2  0.000000     0.0     0.0     0.0     0.0     0.0     0.0     0.0     0.0   \n",
            "3 -0.377964     0.0     0.0     0.0     0.0     0.0     0.0     0.0     0.0   \n",
            "4  0.000000     0.0     0.0     0.0     0.0     0.0     0.0     0.0     0.0   \n",
            "\n",
            "   name_9    ...     name_246  name_247  name_248  name_249  name_250  \\\n",
            "0     0.0    ...          0.0       0.0       0.0       0.0       0.0   \n",
            "1     0.0    ...          0.0       0.0       0.0       0.0       0.0   \n",
            "2     0.0    ...          0.0       0.0       0.0       0.0       0.0   \n",
            "3     0.0    ...          0.0       0.0       0.0       0.0       0.0   \n",
            "4     0.0    ...          0.0       0.0       0.0       0.0       0.0   \n",
            "\n",
            "   name_251  name_252  name_253  name_254  name_255  \n",
            "0       0.0       0.0       0.0       0.0       0.0  \n",
            "1       0.0       0.0       0.0       0.0       0.0  \n",
            "2       0.0       0.0       0.0       0.0       0.0  \n",
            "3       0.0       0.0       0.0       0.0       0.0  \n",
            "4       0.0       0.0       0.0       0.0       0.0  \n",
            "\n",
            "[5 rows x 256 columns]\n",
            "\n",
            "blurbs:\n",
            "    blurb_0  blurb_1  blurb_2  blurb_3   blurb_4  blurb_5  blurb_6  blurb_7  \\\n",
            "0  0.000000      0.0      0.0      0.0  0.353553      0.0      0.0      0.0   \n",
            "1  0.000000      0.0      0.0      0.0  0.000000      0.0      0.0      0.0   \n",
            "2  0.301511      0.0      0.0      0.0  0.000000      0.0      0.0      0.0   \n",
            "3  0.000000      0.0      0.0      0.0  0.000000      0.0      0.0      0.0   \n",
            "4  0.000000      0.0      0.0      0.0 -0.223607      0.0      0.0      0.0   \n",
            "\n",
            "   blurb_8  blurb_9    ...      blurb_246  blurb_247  blurb_248  blurb_249  \\\n",
            "0      0.0      0.0    ...            0.0        0.0        0.0        0.0   \n",
            "1      0.0      0.0    ...            0.0        0.0        0.0        0.0   \n",
            "2      0.0      0.0    ...            0.0        0.0        0.0        0.0   \n",
            "3      0.0      0.0    ...            0.0        0.0        0.0        0.0   \n",
            "4      0.0      0.0    ...            0.0        0.0        0.0        0.0   \n",
            "\n",
            "   blurb_250  blurb_251  blurb_252  blurb_253  blurb_254  blurb_255  \n",
            "0   0.000000        0.0   0.000000        0.0        0.0        0.0  \n",
            "1   0.000000        0.0   0.000000        0.0        0.0        0.0  \n",
            "2   0.000000        0.0   0.000000        0.0        0.0        0.0  \n",
            "3   0.471405        0.0   0.235702        0.0        0.0        0.0  \n",
            "4   0.000000        0.0   0.000000        0.0        0.0        0.0  \n",
            "\n",
            "[5 rows x 256 columns]\n"
          ],
          "name": "stdout"
        }
      ]
    },
    {
      "metadata": {
        "id": "EPIlewE9dFcV",
        "colab_type": "text"
      },
      "cell_type": "markdown",
      "source": [
        "### Concat original matrix and hashed name matrix"
      ]
    },
    {
      "metadata": {
        "id": "DWc3oaNjdTmd",
        "colab_type": "code",
        "colab": {}
      },
      "cell_type": "code",
      "source": [
        "df = df.join(df_hashed_name)\n",
        "df = df.join(df_hashed_blurb)"
      ],
      "execution_count": 0,
      "outputs": []
    },
    {
      "metadata": {
        "id": "IENh7mKIemXG",
        "colab_type": "code",
        "colab": {
          "base_uri": "https://localhost:8080/",
          "height": 34
        },
        "outputId": "15e1382c-19fa-4d8b-cf4e-c1f7e87f2f4f"
      },
      "cell_type": "code",
      "source": [
        "print(df.shape)"
      ],
      "execution_count": 50,
      "outputs": [
        {
          "output_type": "stream",
          "text": [
            "(159339, 742)\n"
          ],
          "name": "stdout"
        }
      ]
    },
    {
      "metadata": {
        "id": "R8Gf3pGqgIgr",
        "colab_type": "text"
      },
      "cell_type": "markdown",
      "source": [
        "### Dropping name column, name is stored now in bag"
      ]
    },
    {
      "metadata": {
        "id": "XPVWbAlFgA3B",
        "colab_type": "code",
        "colab": {}
      },
      "cell_type": "code",
      "source": [
        "drop_columns = ['category', 'main_category', 'state', 'country', 'currency', 'goal', 'name', 'blurb']\n",
        "\n",
        "df = df.drop(drop_columns, axis=1)"
      ],
      "execution_count": 0,
      "outputs": []
    },
    {
      "metadata": {
        "id": "WAZDQIfbdbTE",
        "colab_type": "text"
      },
      "cell_type": "markdown",
      "source": [
        "### Split into input and output"
      ]
    },
    {
      "metadata": {
        "id": "d7L4zve_djcI",
        "colab_type": "code",
        "colab": {}
      },
      "cell_type": "code",
      "source": [
        "output_columns = ['backers', 'usd pledged']\n",
        "\n",
        "X = df.drop(output_columns, axis=1)\n",
        "Y = df[df.columns.intersection(output_columns)]"
      ],
      "execution_count": 0,
      "outputs": []
    },
    {
      "metadata": {
        "id": "bdQ7JPiWgP1b",
        "colab_type": "text"
      },
      "cell_type": "markdown",
      "source": [
        "## Preparation for teaching"
      ]
    },
    {
      "metadata": {
        "id": "xjX6D4a1lNJF",
        "colab_type": "text"
      },
      "cell_type": "markdown",
      "source": [
        "### Imports"
      ]
    },
    {
      "metadata": {
        "id": "vs-w035hlPdN",
        "colab_type": "code",
        "colab": {
          "base_uri": "https://localhost:8080/",
          "height": 34
        },
        "outputId": "8b540b28-f7db-4543-9516-505f127b2aac"
      },
      "cell_type": "code",
      "source": [
        "import numpy as np\n",
        "from keras.models import Sequential\n",
        "from keras.layers import Dense, Dropout, Activation\n",
        "from keras.callbacks import EarlyStopping, ModelCheckpoint\n",
        "import copy\n",
        "import pandas as pd\n",
        "from keras.optimizers import SGD\n",
        "from sklearn.preprocessing import StandardScaler\n",
        "from tensorflow import set_random_seed\n",
        "set_random_seed(123)\n",
        "np.random.seed(123)"
      ],
      "execution_count": 53,
      "outputs": [
        {
          "output_type": "stream",
          "text": [
            "Using TensorFlow backend.\n"
          ],
          "name": "stderr"
        }
      ]
    },
    {
      "metadata": {
        "id": "AtTHixhslJzl",
        "colab_type": "text"
      },
      "cell_type": "markdown",
      "source": [
        "### Splitting into train test valid"
      ]
    },
    {
      "metadata": {
        "id": "Xf-k9Ls-k8QU",
        "colab_type": "code",
        "colab": {
          "base_uri": "https://localhost:8080/",
          "height": 85
        },
        "outputId": "a2c9f4c6-ed97-49a9-ad0f-5038ba2ee0b8"
      },
      "cell_type": "code",
      "source": [
        "test_split = 0.1\n",
        "valid_split = 0.2\n",
        "\n",
        "v_index = int(X.shape[0] * (1-valid_split-test_split))\n",
        "t_index = int(X.shape[0] * (1-test_split))\n",
        "\n",
        "X_test = X[t_index:]\n",
        "Y_test = Y[t_index:]\n",
        "\n",
        "X_valid = X[v_index:t_index]\n",
        "Y_valid = Y[v_index:t_index]\n",
        "X_train = X[:v_index]\n",
        "Y_train = Y[:v_index]\n",
        "\n",
        "scaler = StandardScaler().fit(X_train)\n",
        "\n",
        "X_train = scaler.transform(X_train)\n",
        "X_valid = scaler.transform(X_valid)\n",
        "#X_test = scaler.transform(X_test)"
      ],
      "execution_count": 54,
      "outputs": [
        {
          "output_type": "stream",
          "text": [
            "/usr/local/lib/python3.6/dist-packages/sklearn/preprocessing/data.py:617: DataConversionWarning: Data with input dtype int64, float64 were all converted to float64 by StandardScaler.\n",
            "  return self.partial_fit(X, y)\n",
            "/usr/local/lib/python3.6/dist-packages/ipykernel_launcher.py:17: DataConversionWarning: Data with input dtype int64, float64 were all converted to float64 by StandardScaler.\n",
            "/usr/local/lib/python3.6/dist-packages/ipykernel_launcher.py:18: DataConversionWarning: Data with input dtype int64, float64 were all converted to float64 by StandardScaler.\n"
          ],
          "name": "stderr"
        }
      ]
    },
    {
      "metadata": {
        "id": "L6QmvjeolE5x",
        "colab_type": "text"
      },
      "cell_type": "markdown",
      "source": [
        "### Creating model"
      ]
    },
    {
      "metadata": {
        "id": "glS27lThlW80",
        "colab_type": "text"
      },
      "cell_type": "markdown",
      "source": [
        "es = EarlyStopping(patience=10)\n",
        "mcp = ModelCheckpoint(filepath='weights.hdf5', verbose=1, save_best_only=True)\n",
        "\n",
        "model = Sequential()\n",
        "model.add(Dense(276, input_shape=(X_train.shape[1],)))\n",
        "model.add(Activation('sigmoid'))\n",
        "model.add(Dropout(0.3))\n",
        "model.add(Dense(Y_train.shape[1], activation='linear'))\n",
        "\n",
        "sgd = SGD(lr=1e-3, decay=1e-6, momentum=0.9, nesterov=True)\n",
        "model.compile(loss='mse', optimizer=sgd)\n",
        "\n",
        "history = model.fit(X_train, Y_train, epochs=100000, batch_size=256,\n",
        "                    verbose=2, validation_data=(X_valid,Y_valid),\n",
        "                   callbacks=[mcp, es])"
      ]
    },
    {
      "metadata": {
        "id": "R6_c16zKlvlx",
        "colab_type": "text"
      },
      "cell_type": "markdown",
      "source": [
        "from keras.models import load_model\n",
        "\n",
        "model = load_model('weights.hdf5')"
      ]
    },
    {
      "metadata": {
        "id": "dGyGMk11wns5",
        "colab_type": "text"
      },
      "cell_type": "markdown",
      "source": [
        "from sklearn.metrics import mean_squared_error\n",
        "preds = model.predict(X_test)\n",
        "err = mean_squared_error(Y_test, preds)\n",
        "\n",
        "print(\"Error on test data: {}\".format(err))"
      ]
    },
    {
      "metadata": {
        "id": "g3u3zbU0wqFr",
        "colab_type": "text"
      },
      "cell_type": "markdown",
      "source": [
        "print(preds[0][:4])\n",
        "print(type(preds))\n",
        "print(type(Y_test))"
      ]
    },
    {
      "metadata": {
        "id": "w-GaNpjRxM5g",
        "colab_type": "text"
      },
      "cell_type": "markdown",
      "source": [
        "print(preds.shape)\n",
        "print(Y_test.shape)"
      ]
    },
    {
      "metadata": {
        "id": "4NFxZTZ4yUqb",
        "colab_type": "text"
      },
      "cell_type": "markdown",
      "source": [
        "pred_df = pd.DataFrame(data=preds)"
      ]
    },
    {
      "metadata": {
        "id": "XE1ibbbyysTi",
        "colab_type": "text"
      },
      "cell_type": "markdown",
      "source": [
        "pred_df.head()"
      ]
    },
    {
      "metadata": {
        "id": "0Ufv8XeFyvVM",
        "colab_type": "text"
      },
      "cell_type": "markdown",
      "source": [
        "Y_test.head()"
      ]
    },
    {
      "metadata": {
        "id": "mvRyqICM1pVF",
        "colab_type": "text"
      },
      "cell_type": "markdown",
      "source": [
        "Y_test.state = state_le.inverse_transform(Y_test.state)"
      ]
    },
    {
      "metadata": {
        "id": "kOPL1mvH161n",
        "colab_type": "text"
      },
      "cell_type": "markdown",
      "source": [
        "pred_df[0]"
      ]
    },
    {
      "metadata": {
        "id": "gcOXSrKY2Kcp",
        "colab_type": "text"
      },
      "cell_type": "markdown",
      "source": [
        "pred_df[0] = pred_df[0].apply(lambda x: int(np.round(x)) if x >= 0 else 0)"
      ]
    },
    {
      "metadata": {
        "id": "PVt0lajF2Vcq",
        "colab_type": "text"
      },
      "cell_type": "markdown",
      "source": [
        "pred_df"
      ]
    },
    {
      "metadata": {
        "id": "qJS0JSF42W8y",
        "colab_type": "text"
      },
      "cell_type": "markdown",
      "source": [
        "pred_df[0] = state_le.inverse_transform(pred_df[0])"
      ]
    },
    {
      "metadata": {
        "id": "R_20eNdr2iUw",
        "colab_type": "text"
      },
      "cell_type": "markdown",
      "source": [
        "print(pred_df.head())\n",
        "print(Y_test.head())"
      ]
    },
    {
      "metadata": {
        "id": "bbIf0su-3Hs9",
        "colab_type": "code",
        "colab": {}
      },
      "cell_type": "code",
      "source": [
        ""
      ],
      "execution_count": 0,
      "outputs": []
    }
  ]
}